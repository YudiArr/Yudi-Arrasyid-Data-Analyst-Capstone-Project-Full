{
 "cells": [
  {
   "cell_type": "markdown",
   "id": "2cbbb77d-d2eb-4766-ba38-762bd8aea63f",
   "metadata": {
    "jp-MarkdownHeadingCollapsed": true
   },
   "source": [
    "<h1>Introduction To Capstone Project</h1>"
   ]
  },
  {
   "cell_type": "markdown",
   "id": "528af7bf-1b20-4739-affe-78f7d59baea0",
   "metadata": {
    "execution": {
     "iopub.execute_input": "2024-05-28T23:57:32.504858Z",
     "iopub.status.busy": "2024-05-28T23:57:32.504858Z",
     "iopub.status.idle": "2024-05-28T23:57:32.539475Z",
     "shell.execute_reply": "2024-05-28T23:57:32.538468Z",
     "shell.execute_reply.started": "2024-05-28T23:57:32.504858Z"
    }
   },
   "source": [
    "You have recently been hired as a Data Analyst by a global IT and business consulting services firm that is known for their expertise in IT solutions and their team of highly experienced IT consultants. In order to keep pace with changing technologies and remain competitive, your organization regularly analyzes data to help identify future skill requirements.\n",
    "As a Data Analyst, you will be assisting with this initiative and have been tasked with collecting data from various sources and identifying trends for this year's report on emerging skills.\n",
    "\n",
    "Your first task is to collect the top programming skills that are most in demand from various sources including:\n",
    "\n",
    "**• Job postings**\n",
    "\n",
    "**• Training portals**\n",
    "\n",
    "**• Surveys**\n",
    "\n",
    "Once you have collected enough data, you will begin analyzing the data and identify insights and trends that may include the following:\n",
    "\n",
    "**• What are the top programming languages in demand?**\n",
    "\n",
    "**• What are the top database skills in demand?**\n",
    "\n",
    "**• What are the popular IDEs?**\n",
    "\n",
    "\n",
    "You will begin by scraping internet web sites and accessing APIs to collect data in various formats like .csv files, excel sheets, and databases.\n",
    "\n",
    "Once this is completed, you will make that data ready for analysis using data wrangling techniques.\n",
    "\n",
    "When the data is ready you will then want to apply statistical techniques to analyze the data. Then bring all of your information together by using IBM Cognos Analytics to create your dashboard. And finally, show off your storytelling skills by sharing your findings in a presentation.\n",
    "\n",
    "You will be evaluated using quizzes in each module as well as the final project presentation."
   ]
  },
  {
   "cell_type": "markdown",
   "id": "4acef463-a09a-4b59-9d25-710e1e3fe584",
   "metadata": {
    "execution": {
     "iopub.execute_input": "2024-05-24T13:37:31.798552Z",
     "iopub.status.busy": "2024-05-24T13:37:31.790541Z",
     "iopub.status.idle": "2024-05-24T13:37:31.832514Z",
     "shell.execute_reply": "2024-05-24T13:37:31.831081Z",
     "shell.execute_reply.started": "2024-05-24T13:37:31.798552Z"
    },
    "jp-MarkdownHeadingCollapsed": true
   },
   "source": [
    "<h1> Syllabus </h1>\n"
   ]
  },
  {
   "cell_type": "markdown",
   "id": "4b4e3047-0731-4c59-8fca-8f4293187ac5",
   "metadata": {
    "execution": {
     "iopub.execute_input": "2024-05-24T13:37:31.798552Z",
     "iopub.status.busy": "2024-05-24T13:37:31.790541Z",
     "iopub.status.idle": "2024-05-24T13:37:31.832514Z",
     "shell.execute_reply": "2024-05-24T13:37:31.831081Z",
     "shell.execute_reply.started": "2024-05-24T13:37:31.798552Z"
    },
    "jp-MarkdownHeadingCollapsed": true
   },
   "source": [
    "<h3>Module 1: Data Collection </h3>\n",
    "    <ol>\n",
    "<li>Collecting Data Using APIs </li>\n",
    "<li>Collecting Data Using Webscraping </li>\n",
    "<li>Exploring Data </li>\n",
    "    </ol>\n",
    "<h3>Module 2: Data Wrangling </h3>\n",
    "    <ol>\n",
    "<li>Finding Missing Values </li>\n",
    "<li>Determine Missing Values </li>\n",
    "<li>Finding Duplicates </li>\n",
    "<li>Removing Duplicates </li>\n",
    "<li>Normalizing Data</li>\n",
    "        </ol>\n",
    "<h3>Module 3: Exploratory Data Analysis </h3>\n",
    "    <ol>\n",
    "<li>Distribution </li>\n",
    "<li>Outliers </li>\n",
    "<li>Correlation</li>\n",
    "        </ol>\n",
    "<h3>Module 4: Data Visualization </h3>\n",
    "    <ol>\n",
    "<li>Visualizing Distribution of Data </li>\n",
    "<li>Relationship </li>\n",
    "<li>Composition </li>\n",
    "<li>Comparison</li>\n",
    "        </ol>\n",
    "<h3>Module 5: Dashboard Creation</h3>\n",
    "    <ol>\n",
    "<li>Dashboards</li>\n",
    "        </ol>\n",
    "<h3>Module 6: Presentation of Findings</h3>\n",
    "    <ol>\n",
    "<li>Final Presentation</li>\n",
    "</ol>\n"
   ]
  },
  {
   "cell_type": "markdown",
   "id": "fb74848e-e374-49a2-b3f4-90083225b0d7",
   "metadata": {
    "jp-MarkdownHeadingCollapsed": true
   },
   "source": [
    "# Module 1: Data Collection"
   ]
  },
  {
   "cell_type": "markdown",
   "id": "279068d7-b6bf-4d3a-987c-0ae13335dcca",
   "metadata": {
    "jp-MarkdownHeadingCollapsed": true
   },
   "source": [
    "## 1. Collecting Data Using APIs"
   ]
  },
  {
   "cell_type": "markdown",
   "id": "001025b9-a7ba-403b-89a6-7f7c6fbcd45c",
   "metadata": {},
   "source": [
    "### <li>Hands On Lab: 1</li>"
   ]
  },
  {
   "cell_type": "markdown",
   "id": "c2614718-4e98-4c2d-a105-28bb01d943b2",
   "metadata": {
    "execution": {
     "iopub.execute_input": "2024-05-24T13:48:03.572384Z",
     "iopub.status.busy": "2024-05-24T13:48:03.572384Z",
     "iopub.status.idle": "2024-05-24T13:48:03.594328Z",
     "shell.execute_reply": "2024-05-24T13:48:03.592614Z",
     "shell.execute_reply.started": "2024-05-24T13:48:03.572384Z"
    },
    "jp-MarkdownHeadingCollapsed": true
   },
   "source": [
    "#### HTTP and Requests\n",
    "\n",
    "#### Objectives\n",
    "\n",
    "After completing this lab you will be able to:\n",
    "\n",
    "*   Understand HTTP\n",
    "*   Handle HTTP Requests\n",
    "\n",
    "#### Overview of HTTP\n",
    "Ketika Anda, sebagai klien, menggunakan sebuah halaman web, browser Anda mengirimkan permintaan HTTP ke server di mana halaman tersebut di-host. Server mencoba untuk menemukan sumber daya yang diinginkan secara default dengan \"<code>index.html</code>\". Jika permintaan Anda berhasil, server akan mengirimkan objek ke klien dalam sebuah respons HTTP. Ini termasuk informasi seperti jenis sumber daya, panjang sumber daya, dan informasi lainnya.\n",
    "\n",
    "<p>\n",
    "Gambar di bawah ini menggambarkan proses tersebut. Lingkaran di kiri mewakili klien, lingkaran di kanan mewakili server Web. Tabel di bawah server Web mewakili daftar sumber daya yang disimpan di server web. Dalam kasus ini, sebuah file <code>HTML</code>, gambar <code>png</code>, dan file <code>txt</code>.\n",
    "</p>\n",
    "<p>\n",
    "Protokol <b>HTTP</b> memungkinkan Anda untuk mengirim dan menerima informasi melalui web termasuk halaman web, gambar, dan sumber daya web lainnya. Dalam lab ini, kami akan memberikan gambaran tentang library Requests untuk berinteraksi dengan protokol <code>HTTP</code>.\n",
    "</p>\n",
    "\n",
    "<div class=\"alert alert-block alert-info\" style=\"margin-top: 20px\">\n",
    "         <img src=\"https://cf-courses-data.s3.us.cloud-object-storage.appdomain.cloud/IBMDeveloperSkillsNetwork-PY0101EN-SkillsNetwork/labs/Module%205/images/reqest_basics.png\" width=\"750\" align=\"center\">\n",
    "\n",
    "</div>\n",
    "\n",
    "#### Uniform Resource Locator:URL\n",
    "Uniform resource locator (URL) is the most popular way to find resources on the web.  We can break the URL into three parts.\n",
    "\n",
    "<ul>\n",
    "    <li><b>Scheme</b>:- This is this protocol, for this lab it will always be <code>http://</code>  </li>\n",
    "    <li><b> Internet address or  Base URL </b>:- This will be used to find the location here are some examples: <code>www.ibm.com</code> and  <code> www.gitlab.com </code> </li>\n",
    "    <li><b>Route</b>:- Location on the web server for example: <code>/images/IDSNlogo.png</code> </li>\n",
    "</ul>\n",
    "\n",
    "#### Request\n",
    "\n",
    "Proses tersebut dapat dibagi menjadi proses Permintaan (Request) dan Respons (Response). Permintaan menggunakan metode get dan sebagian diilustrasikan di bawah ini. Pada baris awal, kita memiliki metode GET, ini adalah metode HTTP. Juga lokasi sumber daya /index.html dan versi HTTP. Header Permintaan melewati informasi tambahan dengan permintaan HTTP:\n",
    "<div class=\"alert alert-block alert-info\" style=\"margin-top: 20px\">\n",
    "         <img src=\"https://cf-courses-data.s3.us.cloud-object-storage.appdomain.cloud/IBMDeveloperSkillsNetwork-PY0101EN-SkillsNetwork/labs/Module%205/images/reqest_messege.png\" width=\"400\" align=\"center\">\n",
    "</div>\n",
    "Ketika sebuah permintaan <code>HTTP</code> dibuat, sebuah metode <code>HTTP</code> dikirim, ini memberi tahu server tindakan apa yang harus dilakukan. Daftar beberapa metode <code>HTTP</code> ditunjukkan di bawah ini. Kita akan membahas lebih banyak contoh nanti.\n",
    "<div class=\"alert alert-block alert-info\" style=\"margin-top: 20px\">\n",
    "         <img src=\"https://cf-courses-data.s3.us.cloud-object-storage.appdomain.cloud/IBMDeveloperSkillsNetwork-PY0101EN-SkillsNetwork/labs/Module%205/images/http_methods.png\" width=\"400\" align=\"center\">\n",
    "</div>\n",
    "\n",
    "#### Response\n",
    "Gambar di bawah ini mewakili respons; baris awal respons berisi nomor versi <code>HTTP/1.0</code>, sebuah kode status (200) yang berarti sukses, diikuti oleh frasa deskriptif (OK). Header respons berisi informasi yang berguna. Terakhir, kita memiliki badan respons yang berisi file yang diminta, sebuah dokumen <code>HTML</code>. Perlu dicatat bahwa beberapa permintaan memiliki header.\n",
    "<div class=\"alert alert-block alert-info\" style=\"margin-top: 20px\">\n",
    "         <img src=\"https://cf-courses-data.s3.us.cloud-object-storage.appdomain.cloud/IBMDeveloperSkillsNetwork-PY0101EN-SkillsNetwork/labs/Module%205/images/response_message.png\" width=\"400\" align=\"center\">\n",
    "</div>\n",
    "<div class=\"alert alert-block alert-info\" style=\"margin-top: 20px\">\n",
    "         <img src=\"https://cf-courses-data.s3.us.cloud-object-storage.appdomain.cloud/IBMDeveloperSkillsNetwork-PY0101EN-SkillsNetwork/labs/Module%205/images/status_code.png\" width=\"300\" align=\"center\">\n",
    "</div>"
   ]
  },
  {
   "cell_type": "markdown",
   "id": "f7b08d4a-f5e7-45ce-ba75-5b4dc4616875",
   "metadata": {},
   "source": [
    "#### Requests in Python\n",
    "Requests adalah sebuah Library Python yang memungkinkan Anda untuk mengirim permintaan <code>HTTP/1.1</code> dengan mudah. Kita dapat mengimpor library tersebut sebagai berikut:"
   ]
  },
  {
   "cell_type": "code",
   "execution_count": 1,
   "id": "07944802-2424-4f60-8b9e-7cd6cc65a644",
   "metadata": {
    "execution": {
     "iopub.execute_input": "2024-05-26T17:13:33.506821Z",
     "iopub.status.busy": "2024-05-26T17:13:33.506821Z",
     "iopub.status.idle": "2024-05-26T17:13:33.672797Z",
     "shell.execute_reply": "2024-05-26T17:13:33.669653Z",
     "shell.execute_reply.started": "2024-05-26T17:13:33.506821Z"
    }
   },
   "outputs": [],
   "source": [
    "import requests"
   ]
  },
  {
   "cell_type": "code",
   "execution_count": 2,
   "id": "327d249d-22bb-4986-8107-ae44ae57ab7f",
   "metadata": {
    "execution": {
     "iopub.execute_input": "2024-05-26T17:13:33.677932Z",
     "iopub.status.busy": "2024-05-26T17:13:33.676907Z",
     "iopub.status.idle": "2024-05-26T17:13:34.450114Z",
     "shell.execute_reply": "2024-05-26T17:13:34.450114Z",
     "shell.execute_reply.started": "2024-05-26T17:13:33.677932Z"
    }
   },
   "outputs": [],
   "source": [
    "import os\n",
    "from PIL import Image\n",
    "from IPython.display import IFrame\n",
    "url='https://www.ibm.com/'\n",
    "r=requests.get(url)"
   ]
  },
  {
   "cell_type": "code",
   "execution_count": 3,
   "id": "1f7bdfb8-160e-4e3f-968e-b97b50cb4c66",
   "metadata": {
    "execution": {
     "iopub.execute_input": "2024-05-26T17:13:34.457670Z",
     "iopub.status.busy": "2024-05-26T17:13:34.457670Z",
     "iopub.status.idle": "2024-05-26T17:13:34.499259Z",
     "shell.execute_reply": "2024-05-26T17:13:34.496318Z",
     "shell.execute_reply.started": "2024-05-26T17:13:34.457670Z"
    }
   },
   "outputs": [
    {
     "data": {
      "text/plain": [
       "200"
      ]
     },
     "execution_count": 3,
     "metadata": {},
     "output_type": "execute_result"
    }
   ],
   "source": [
    "r.status_code"
   ]
  },
  {
   "cell_type": "code",
   "execution_count": 4,
   "id": "f1b0a627-9f78-4fe0-8698-e069c98f144a",
   "metadata": {
    "execution": {
     "iopub.execute_input": "2024-05-26T17:13:34.502662Z",
     "iopub.status.busy": "2024-05-26T17:13:34.501271Z",
     "iopub.status.idle": "2024-05-26T17:13:34.524030Z",
     "shell.execute_reply": "2024-05-26T17:13:34.521272Z",
     "shell.execute_reply.started": "2024-05-26T17:13:34.502662Z"
    }
   },
   "outputs": [
    {
     "name": "stdout",
     "output_type": "stream",
     "text": [
      "{'User-Agent': 'python-requests/2.31.0', 'Accept-Encoding': 'gzip, deflate', 'Accept': '*/*', 'Connection': 'keep-alive', 'Cookie': '_abck=1E5E1A95CED361431DD4A297A91C1602~-1~YAAQrTLdF0HrzXqPAQAAfKvktQtoqEbwMjfNCDsjiYvhuu0YP5GLiJEEnLMHGeExp7SJlnlNV+S+tqP8E16RJ+5hvwKS0SfaVx+v/EOHCkjU7lHva0BDu1t27MBktKx28Ssv7rXA5kDF3eAgsORLgMTH0PNrc+KLUCFiZHO4FkGBqzrMSyf8wyXRybsBih1wqIjNL3plRV9goHY4YnNeV7uDDj7cMsUyvf2PeeJ21demfTEbFXR3GOc/CfMWWckthbW5ep7oxJoS9M27s+OxJVtFXtgZddXNVTR/QLwKY/c9jnuNoKpsJtD2ULpGVEpK+7T462P+LNo9JYS4wgmyfuUuuxBXV6V9eakGbc0JkDqZBmNFHVI=~-1~-1~-1; bm_sz=8EFE612764153DBA17A43541DE782874~YAAQrTLdF0LrzXqPAQAAfKvktRdVYW/2thvRKEbV07qqpWu+XfGhaL1K0Ob6Y6LuAsJYkEe6oddrdsU/KM86vHsKqzQFMeMwA2oncG1H33l9FZ5B+ZcTw6kL0jDEgloy0L2sq4pjgJQ7BIgGF/pjS2aQNbpzhzB43dCADBISD9HJbR9o/BHRvI63NELgjM1AvTfVUbcdhvl8SO//T4BRK20iitO5n4iHIc4LD4SnI0B7i5qibRNPsdbTsKyGt+EsSGMLpwMR0wXBO5r5aCICsb0mq6xdlMhx9G3MRAlMBTjZyroJvH6XA+/IU9szplYDcre31eHXMmTG/ZxoNxES52zo5njeEpk6G4E1~3163441~3684665'}\n"
     ]
    }
   ],
   "source": [
    "print(r.request.headers)"
   ]
  },
  {
   "cell_type": "markdown",
   "id": "51959519-26ed-43af-99b2-0011ed17f732",
   "metadata": {},
   "source": [
    "Anda dapat melihat header respons <code>HTTP</code> menggunakan atribut <code>headers</code>. Ini mengembalikan sebuah kamus Python dari header respons <code>HTTP</code>."
   ]
  },
  {
   "cell_type": "code",
   "execution_count": 5,
   "id": "348a301b-be88-426b-9e56-41bf15ba278c",
   "metadata": {
    "execution": {
     "iopub.execute_input": "2024-05-26T17:13:34.526572Z",
     "iopub.status.busy": "2024-05-26T17:13:34.526064Z",
     "iopub.status.idle": "2024-05-26T17:13:34.539025Z",
     "shell.execute_reply": "2024-05-26T17:13:34.537796Z",
     "shell.execute_reply.started": "2024-05-26T17:13:34.526572Z"
    }
   },
   "outputs": [
    {
     "name": "stdout",
     "output_type": "stream",
     "text": [
      "request body: None\n"
     ]
    }
   ],
   "source": [
    "print(\"request body:\", r.request.body)"
   ]
  },
  {
   "cell_type": "code",
   "execution_count": 6,
   "id": "bd8bdbfb-3f97-4e12-9ba1-582a9a3e48e9",
   "metadata": {
    "execution": {
     "iopub.execute_input": "2024-05-26T17:13:34.551571Z",
     "iopub.status.busy": "2024-05-26T17:13:34.550560Z",
     "iopub.status.idle": "2024-05-26T17:13:34.566516Z",
     "shell.execute_reply": "2024-05-26T17:13:34.564854Z",
     "shell.execute_reply.started": "2024-05-26T17:13:34.551571Z"
    }
   },
   "outputs": [
    {
     "name": "stdout",
     "output_type": "stream",
     "text": [
      "{'Content-Security-Policy': 'upgrade-insecure-requests', 'x-frame-options': 'SAMEORIGIN', 'Last-Modified': 'Sun, 26 May 2024 16:30:39 GMT', 'ETag': 'W/\"191b8-6195debcf0923-gzip\"', 'Accept-Ranges': 'bytes', 'Content-Type': 'text/html;charset=utf-8', 'X-Content-Type-Options': 'nosniff', 'Cache-Control': 'max-age=900', 'Expires': 'Sun, 26 May 2024 17:28:33 GMT', 'X-Akamai-Transformed': '9 13709 0 pmb=mTOE,2', 'Content-Encoding': 'gzip', 'Date': 'Sun, 26 May 2024 17:13:33 GMT', 'Content-Length': '13895', 'Connection': 'keep-alive', 'Vary': 'Accept-Encoding', 'Strict-Transport-Security': 'max-age=31536000'}\n"
     ]
    }
   ],
   "source": [
    "header=r.headers\n",
    "print(r.headers)"
   ]
  },
  {
   "cell_type": "code",
   "execution_count": 7,
   "id": "036e4b12-46c0-450a-9410-2cb446fa2903",
   "metadata": {
    "execution": {
     "iopub.execute_input": "2024-05-26T17:13:34.568025Z",
     "iopub.status.busy": "2024-05-26T17:13:34.568025Z",
     "iopub.status.idle": "2024-05-26T17:13:34.581601Z",
     "shell.execute_reply": "2024-05-26T17:13:34.580286Z",
     "shell.execute_reply.started": "2024-05-26T17:13:34.568025Z"
    }
   },
   "outputs": [
    {
     "data": {
      "text/plain": [
       "'Sun, 26 May 2024 17:13:33 GMT'"
      ]
     },
     "execution_count": 7,
     "metadata": {},
     "output_type": "execute_result"
    }
   ],
   "source": [
    "header['date']"
   ]
  },
  {
   "cell_type": "code",
   "execution_count": 8,
   "id": "fc54dba4-23b8-4651-91ae-76132196ac5f",
   "metadata": {
    "execution": {
     "iopub.execute_input": "2024-05-26T17:13:34.584288Z",
     "iopub.status.busy": "2024-05-26T17:13:34.584288Z",
     "iopub.status.idle": "2024-05-26T17:13:34.603474Z",
     "shell.execute_reply": "2024-05-26T17:13:34.602138Z",
     "shell.execute_reply.started": "2024-05-26T17:13:34.584288Z"
    }
   },
   "outputs": [
    {
     "data": {
      "text/plain": [
       "'text/html;charset=utf-8'"
      ]
     },
     "execution_count": 8,
     "metadata": {},
     "output_type": "execute_result"
    }
   ],
   "source": [
    "header['Content-Type']"
   ]
  },
  {
   "cell_type": "code",
   "execution_count": 9,
   "id": "0030b29c-b57f-4815-b285-0274336fd8dc",
   "metadata": {
    "execution": {
     "iopub.execute_input": "2024-05-26T17:13:34.604991Z",
     "iopub.status.busy": "2024-05-26T17:13:34.603474Z",
     "iopub.status.idle": "2024-05-26T17:13:34.621403Z",
     "shell.execute_reply": "2024-05-26T17:13:34.619894Z",
     "shell.execute_reply.started": "2024-05-26T17:13:34.604991Z"
    }
   },
   "outputs": [
    {
     "data": {
      "text/plain": [
       "'utf-8'"
      ]
     },
     "execution_count": 9,
     "metadata": {},
     "output_type": "execute_result"
    }
   ],
   "source": [
    "r.encoding"
   ]
  },
  {
   "cell_type": "code",
   "execution_count": 10,
   "id": "ec8b5160-81dc-4a70-b121-08491ec94ad0",
   "metadata": {
    "execution": {
     "iopub.execute_input": "2024-05-26T17:13:34.622545Z",
     "iopub.status.busy": "2024-05-26T17:13:34.622545Z",
     "iopub.status.idle": "2024-05-26T17:13:34.640624Z",
     "shell.execute_reply": "2024-05-26T17:13:34.639400Z",
     "shell.execute_reply.started": "2024-05-26T17:13:34.622545Z"
    }
   },
   "outputs": [
    {
     "data": {
      "text/plain": [
       "'\\n<!DOCTYPE HTML>\\n<html lang=\"id-id\">\\n<head>\\r\\n    \\r\\n    \\r\\n    \\r\\n    \\r\\n    \\r\\n    \\r\\n    <meta charset=\"'"
      ]
     },
     "execution_count": 10,
     "metadata": {},
     "output_type": "execute_result"
    }
   ],
   "source": [
    "r.text[0:100]"
   ]
  },
  {
   "cell_type": "markdown",
   "id": "2c5ca49c-0f3d-4f40-899f-0ad1b39a4c0d",
   "metadata": {},
   "source": [
    "You can load other types of data for non-text requests, like images. Consider the URL of the following image:"
   ]
  },
  {
   "cell_type": "code",
   "execution_count": 11,
   "id": "1877e0ff-3b5a-4df0-9fdd-b8b6de47e93b",
   "metadata": {
    "execution": {
     "iopub.execute_input": "2024-05-26T17:13:34.642775Z",
     "iopub.status.busy": "2024-05-26T17:13:34.641806Z",
     "iopub.status.idle": "2024-05-26T17:13:34.655821Z",
     "shell.execute_reply": "2024-05-26T17:13:34.654550Z",
     "shell.execute_reply.started": "2024-05-26T17:13:34.642775Z"
    }
   },
   "outputs": [],
   "source": [
    "# Use single quotation marks for defining string\n",
    "url='https://cf-courses-data.s3.us.cloud-object-storage.appdomain.cloud/IBMDeveloperSkillsNetwork-PY0101EN-SkillsNetwork/IDSNlogo.png'"
   ]
  },
  {
   "cell_type": "code",
   "execution_count": 12,
   "id": "b236f0bc-7113-4b54-9b39-c1cf5fcb477a",
   "metadata": {
    "execution": {
     "iopub.execute_input": "2024-05-26T17:13:34.656329Z",
     "iopub.status.busy": "2024-05-26T17:13:34.656329Z",
     "iopub.status.idle": "2024-05-26T17:13:36.751948Z",
     "shell.execute_reply": "2024-05-26T17:13:36.751948Z",
     "shell.execute_reply.started": "2024-05-26T17:13:34.656329Z"
    }
   },
   "outputs": [],
   "source": [
    "r=requests.get(url)"
   ]
  },
  {
   "cell_type": "code",
   "execution_count": 13,
   "id": "f3da07d6-b96a-46d2-9831-3167abd752f4",
   "metadata": {
    "execution": {
     "iopub.execute_input": "2024-05-26T17:13:36.751948Z",
     "iopub.status.busy": "2024-05-26T17:13:36.751948Z",
     "iopub.status.idle": "2024-05-26T17:13:36.790283Z",
     "shell.execute_reply": "2024-05-26T17:13:36.785328Z",
     "shell.execute_reply.started": "2024-05-26T17:13:36.751948Z"
    }
   },
   "outputs": [
    {
     "name": "stdout",
     "output_type": "stream",
     "text": [
      "{'Date': 'Sun, 26 May 2024 17:13:35 GMT', 'X-Clv-Request-Id': '58c8b089-719e-4f2d-9402-bb59f5599547', 'Server': 'Cleversafe', 'X-Clv-S3-Version': '2.5', 'Accept-Ranges': 'bytes', 'x-amz-request-id': '58c8b089-719e-4f2d-9402-bb59f5599547', 'ETag': '\"8bb44578fff8fdcc3d2972be9ece0164\"', 'Content-Type': 'image/png', 'Last-Modified': 'Wed, 16 Nov 2022 03:32:41 GMT', 'Content-Length': '78776'}\n"
     ]
    }
   ],
   "source": [
    "print(r.headers)"
   ]
  },
  {
   "cell_type": "code",
   "execution_count": 14,
   "id": "3a1448b0-9857-4f94-8348-1aed27a80ee9",
   "metadata": {
    "execution": {
     "iopub.execute_input": "2024-05-26T17:13:36.800751Z",
     "iopub.status.busy": "2024-05-26T17:13:36.797341Z",
     "iopub.status.idle": "2024-05-26T17:13:36.833915Z",
     "shell.execute_reply": "2024-05-26T17:13:36.828363Z",
     "shell.execute_reply.started": "2024-05-26T17:13:36.799735Z"
    }
   },
   "outputs": [
    {
     "data": {
      "text/plain": [
       "'image/png'"
      ]
     },
     "execution_count": 14,
     "metadata": {},
     "output_type": "execute_result"
    }
   ],
   "source": [
    "r.headers['Content-Type']"
   ]
  },
  {
   "cell_type": "markdown",
   "id": "b96c8ddf-3750-4ccb-b011-9cf89e9a60b0",
   "metadata": {},
   "source": [
    "Anda dapat melihat header respons <code>HTTP</code> menggunakan atribut <code>headers</code>. Ini mengembalikan sebuah kamus Python dari header respons <code>HTTP</code>."
   ]
  },
  {
   "cell_type": "code",
   "execution_count": 15,
   "id": "d239081f-c6bc-4ee5-8b05-7c3c70663210",
   "metadata": {
    "execution": {
     "iopub.execute_input": "2024-05-26T17:13:36.840334Z",
     "iopub.status.busy": "2024-05-26T17:13:36.839190Z",
     "iopub.status.idle": "2024-05-26T17:13:36.855206Z",
     "shell.execute_reply": "2024-05-26T17:13:36.852584Z",
     "shell.execute_reply.started": "2024-05-26T17:13:36.840334Z"
    }
   },
   "outputs": [],
   "source": [
    "path=os.path.join(os.getcwd(), 'image.png')"
   ]
  },
  {
   "cell_type": "markdown",
   "id": "63b2a4f6-3e0b-432e-9993-03f5bfb1bd40",
   "metadata": {},
   "source": [
    "Kita menyimpan file, untuk mengakses badan respons kita menggunakan atribut <code>content</code> kemudian menyimpannya menggunakan fungsi <code>open</code> dan metode <code>write</code>:"
   ]
  },
  {
   "cell_type": "code",
   "execution_count": 16,
   "id": "82a9a45a-1e71-4c6e-befc-f8ee2da0b45f",
   "metadata": {
    "execution": {
     "iopub.execute_input": "2024-05-26T17:13:36.860159Z",
     "iopub.status.busy": "2024-05-26T17:13:36.857962Z",
     "iopub.status.idle": "2024-05-26T17:13:36.875784Z",
     "shell.execute_reply": "2024-05-26T17:13:36.874001Z",
     "shell.execute_reply.started": "2024-05-26T17:13:36.860159Z"
    }
   },
   "outputs": [],
   "source": [
    "with open(path, 'wb') as f:\n",
    "    f.write(r.content)"
   ]
  },
  {
   "cell_type": "code",
   "execution_count": 17,
   "id": "b05b16f2-9727-43e6-b8d9-249e7474aa95",
   "metadata": {
    "execution": {
     "iopub.execute_input": "2024-05-26T17:13:36.881015Z",
     "iopub.status.busy": "2024-05-26T17:13:36.879928Z",
     "iopub.status.idle": "2024-05-26T17:13:37.011956Z",
     "shell.execute_reply": "2024-05-26T17:13:37.011956Z",
     "shell.execute_reply.started": "2024-05-26T17:13:36.881015Z"
    }
   },
   "outputs": [
    {
     "data": {
      "image/png": "[encoded data removed]",
      "text/plain": [
       "<PIL.PngImagePlugin.PngImageFile image mode=RGBA size=1880x656>"
      ]
     },
     "execution_count": 17,
     "metadata": {},
     "output_type": "execute_result"
    }
   ],
   "source": [
    "Image.open(path)"
   ]
  },
  {
   "cell_type": "markdown",
   "id": "45a2c662-ba94-4e6a-bcfc-4de24047cdac",
   "metadata": {},
   "source": [
    "#### Question: Download a file \n",
    "Consider the following URL.\n",
    "\n",
    "<code>URL = <https://cf-courses-data.s3.us.cloud-object-storage.appdomain.cloud/IBMDeveloperSkillsNetwork-PY0101EN-SkillsNetwork/labs/Module%205/data/Example1.txt</code>\n",
    "\n",
    "Write the commands to download the txt file in the given link.\n"
   ]
  },
  {
   "cell_type": "code",
   "execution_count": 18,
   "id": "072238d3-e71b-4000-881e-ebffbf6c70c0",
   "metadata": {
    "execution": {
     "iopub.execute_input": "2024-05-26T17:13:37.011956Z",
     "iopub.status.busy": "2024-05-26T17:13:37.011956Z",
     "iopub.status.idle": "2024-05-26T17:13:38.046287Z",
     "shell.execute_reply": "2024-05-26T17:13:38.046287Z",
     "shell.execute_reply.started": "2024-05-26T17:13:37.011956Z"
    }
   },
   "outputs": [],
   "source": [
    "url1 = 'https://cf-courses-data.s3.us.cloud-object-storage.appdomain.cloud/IBMDeveloperSkillsNetwork-PY0101EN-SkillsNetwork/labs/Module%205/data/Example1.txt'\n",
    "rs=requests.get(url1)"
   ]
  },
  {
   "cell_type": "code",
   "execution_count": 19,
   "id": "ce96c268-2a57-4d71-a1dd-bc3b2f841432",
   "metadata": {
    "execution": {
     "iopub.execute_input": "2024-05-26T17:13:38.046287Z",
     "iopub.status.busy": "2024-05-26T17:13:38.046287Z",
     "iopub.status.idle": "2024-05-26T17:13:38.090733Z",
     "shell.execute_reply": "2024-05-26T17:13:38.086559Z",
     "shell.execute_reply.started": "2024-05-26T17:13:38.046287Z"
    }
   },
   "outputs": [
    {
     "data": {
      "text/plain": [
       "200"
      ]
     },
     "execution_count": 19,
     "metadata": {},
     "output_type": "execute_result"
    }
   ],
   "source": [
    "rs.status_code"
   ]
  },
  {
   "cell_type": "code",
   "execution_count": 20,
   "id": "5f2eb7c4-5349-48d6-9de5-3d98836bde6b",
   "metadata": {
    "execution": {
     "iopub.execute_input": "2024-05-26T17:13:38.102607Z",
     "iopub.status.busy": "2024-05-26T17:13:38.098592Z",
     "iopub.status.idle": "2024-05-26T17:13:38.130020Z",
     "shell.execute_reply": "2024-05-26T17:13:38.127218Z",
     "shell.execute_reply.started": "2024-05-26T17:13:38.102607Z"
    }
   },
   "outputs": [
    {
     "name": "stdout",
     "output_type": "stream",
     "text": [
      "{'Date': 'Sun, 26 May 2024 17:13:37 GMT', 'X-Clv-Request-Id': '4585e25e-35b8-44b8-8caf-a882fb6794f7', 'Server': 'Cleversafe', 'X-Clv-S3-Version': '2.5', 'Accept-Ranges': 'bytes', 'x-amz-request-id': '4585e25e-35b8-44b8-8caf-a882fb6794f7', 'Cache-Control': 'max-age=0,public', 'ETag': '\"522bc63a850f3569b8924c51131d5fe4\"', 'Content-Type': 'text/plain', 'Last-Modified': 'Wed, 12 Oct 2022 22:36:17 GMT', 'Content-Length': '45'}\n"
     ]
    }
   ],
   "source": [
    "print(rs.headers)"
   ]
  },
  {
   "cell_type": "code",
   "execution_count": 21,
   "id": "11996efe-e972-402c-b801-f2883fd3c53b",
   "metadata": {
    "execution": {
     "iopub.execute_input": "2024-05-26T17:13:38.150358Z",
     "iopub.status.busy": "2024-05-26T17:13:38.150358Z",
     "iopub.status.idle": "2024-05-26T17:13:38.176005Z",
     "shell.execute_reply": "2024-05-26T17:13:38.174623Z",
     "shell.execute_reply.started": "2024-05-26T17:13:38.150358Z"
    }
   },
   "outputs": [
    {
     "data": {
      "text/plain": [
       "'text/plain'"
      ]
     },
     "execution_count": 21,
     "metadata": {},
     "output_type": "execute_result"
    }
   ],
   "source": [
    "rs.headers['Content-Type']"
   ]
  },
  {
   "cell_type": "code",
   "execution_count": 22,
   "id": "bd839de4-3f14-4091-8014-52328dcc6fbb",
   "metadata": {
    "execution": {
     "iopub.execute_input": "2024-05-26T17:13:38.176005Z",
     "iopub.status.busy": "2024-05-26T17:13:38.176005Z",
     "iopub.status.idle": "2024-05-26T17:13:38.185956Z",
     "shell.execute_reply": "2024-05-26T17:13:38.184324Z",
     "shell.execute_reply.started": "2024-05-26T17:13:38.176005Z"
    }
   },
   "outputs": [],
   "source": [
    "paths=os.path.join(os.getcwd(),'ex1.txt')"
   ]
  },
  {
   "cell_type": "code",
   "execution_count": 23,
   "id": "82baeda0-898f-4872-8e6a-a6d06ac96b33",
   "metadata": {
    "execution": {
     "iopub.execute_input": "2024-05-26T17:13:38.187733Z",
     "iopub.status.busy": "2024-05-26T17:13:38.187733Z",
     "iopub.status.idle": "2024-05-26T17:13:38.200993Z",
     "shell.execute_reply": "2024-05-26T17:13:38.199801Z",
     "shell.execute_reply.started": "2024-05-26T17:13:38.187733Z"
    }
   },
   "outputs": [],
   "source": [
    "with open(paths,'wb') as fr:\n",
    "    fr.write(rs.content)"
   ]
  },
  {
   "cell_type": "code",
   "execution_count": 24,
   "id": "14263eb4-1e74-4ed9-944d-bd0c8f3e9782",
   "metadata": {
    "execution": {
     "iopub.execute_input": "2024-05-26T17:13:38.203560Z",
     "iopub.status.busy": "2024-05-26T17:13:38.203560Z",
     "iopub.status.idle": "2024-05-26T17:13:38.215020Z",
     "shell.execute_reply": "2024-05-26T17:13:38.215020Z",
     "shell.execute_reply.started": "2024-05-26T17:13:38.203560Z"
    }
   },
   "outputs": [
    {
     "name": "stdout",
     "output_type": "stream",
     "text": [
      "This is line 1 \n",
      "This is line 2\n",
      "This is line 3\n"
     ]
    }
   ],
   "source": [
    "gf = open(\"ex1.txt\", \"r\")\n",
    "print(gf.read())"
   ]
  },
  {
   "cell_type": "markdown",
   "id": "b44451b1-9e1f-4182-a37d-aeab1ac66f6d",
   "metadata": {},
   "source": [
    "#### Get Request with URL Parameters\n",
    "Anda dapat menggunakan metode <b>GET</b> untuk memodifikasi hasil kueri Anda, misalnya mengambil data dari sebuah API. Kita mengirim permintaan <b>GET</b> ke server. Seperti sebelumnya, kita memiliki <b>Base URL</b>, pada <b>Route</b> kita menambahkan <code>/get</code>, ini menunjukkan bahwa kita ingin melakukan permintaan <code>GET</code>. Hal ini ditunjukkan dalam tabel berikut:\n",
    "\n",
    "The Base URL is for <code>[http://httpbin.org/](http://httpbin.org/?utm_medium=Exinfluencer&utm_source=Exinfluencer&utm_content=000026UJ&utm_term=10006555&utm_id=NA-SkillsNetwork-Channel-SkillsNetworkCoursesIBMDeveloperSkillsNetworkPY0101ENSkillsNetwork19487395-2021-01-01)</code> is a simple HTTP Request & Response Service. The <code>URL</code> in Python is given by:\n"
   ]
  },
  {
   "cell_type": "code",
   "execution_count": 25,
   "id": "6b785959-d6ee-4065-92bf-3af2b244f42f",
   "metadata": {
    "execution": {
     "iopub.execute_input": "2024-05-26T17:13:38.218180Z",
     "iopub.status.busy": "2024-05-26T17:13:38.216841Z",
     "iopub.status.idle": "2024-05-26T17:13:38.231477Z",
     "shell.execute_reply": "2024-05-26T17:13:38.229406Z",
     "shell.execute_reply.started": "2024-05-26T17:13:38.218180Z"
    }
   },
   "outputs": [],
   "source": [
    "url_get='http://httpbin.org/get'"
   ]
  },
  {
   "cell_type": "markdown",
   "id": "d393478f-07a5-4017-9498-21085cbbd662",
   "metadata": {},
   "source": [
    "Sebuah <a href=\"https://en.wikipedia.org/wiki/Query_string?utm_medium=Exinfluencer&utm_source=Exinfluencer&utm_content=000026UJ&utm_term=10006555&utm_id=NA-SkillsNetwork-Channel-SkillsNetworkCoursesIBMDeveloperSkillsNetworkPY0101ENSkillsNetwork19487395-2021-01-01\">query string</a> adalah bagian dari uniform resource locator (URL), ini mengirimkan informasi lain ke server web. Awal dari kueri adalah <code>?</code>, diikuti oleh serangkaian parameter dan pasangan nilai, seperti yang ditunjukkan dalam tabel di bawah ini. Parameter pertama bernama <code>name</code> dan nilainya adalah <code>Joseph</code>. Parameter kedua bernama <code>ID</code> dan nilainya adalah <code>123</code>. Setiap pasangan, parameter, dan nilai dipisahkan oleh tanda sama dengan, <code>=</code>. Serangkaian pasangan ini dipisahkan oleh tanda ampersand <code>&</code>."
   ]
  },
  {
   "cell_type": "markdown",
   "id": "a8ede444-37c8-4c12-a03c-7c932a31a893",
   "metadata": {},
   "source": [
    "<div class=\"alert alert-block alert-info\" style=\"margin-top: 20px\">\n",
    "         <img src=\"https://cf-courses-data.s3.us.cloud-object-storage.appdomain.cloud/IBMDeveloperSkillsNetwork-PY0101EN-SkillsNetwork/labs/Module%205/images/query_string.png\" width=\"500\" align=\"center\">\n",
    "</div>"
   ]
  },
  {
   "cell_type": "code",
   "execution_count": 26,
   "id": "d19b1e59-7187-4073-8cec-86925f1d815b",
   "metadata": {
    "execution": {
     "iopub.execute_input": "2024-05-26T17:13:38.233143Z",
     "iopub.status.busy": "2024-05-26T17:13:38.231477Z",
     "iopub.status.idle": "2024-05-26T17:13:38.243605Z",
     "shell.execute_reply": "2024-05-26T17:13:38.242091Z",
     "shell.execute_reply.started": "2024-05-26T17:13:38.233143Z"
    }
   },
   "outputs": [],
   "source": [
    "payload={\"name\":\"Joseph\",\"ID\":\"123\"}"
   ]
  },
  {
   "cell_type": "markdown",
   "id": "ece72a38-9c02-40df-9dee-4737a4853d3c",
   "metadata": {},
   "source": [
    "Then passing the dictionary <code>payload</code> to the <code>params</code> parameter of the <code> get()</code> function:"
   ]
  },
  {
   "cell_type": "code",
   "execution_count": 27,
   "id": "d4fdc210-5749-4914-ab70-edb1528bab73",
   "metadata": {
    "execution": {
     "iopub.execute_input": "2024-05-26T17:13:38.246805Z",
     "iopub.status.busy": "2024-05-26T17:13:38.245548Z",
     "iopub.status.idle": "2024-05-26T17:13:38.989508Z",
     "shell.execute_reply": "2024-05-26T17:13:38.989508Z",
     "shell.execute_reply.started": "2024-05-26T17:13:38.246805Z"
    }
   },
   "outputs": [],
   "source": [
    "r=requests.get(url_get,params=payload)"
   ]
  },
  {
   "cell_type": "code",
   "execution_count": 28,
   "id": "6b4f68f0-7688-42cb-b645-a2bf9e4f1f4a",
   "metadata": {
    "execution": {
     "iopub.execute_input": "2024-05-26T17:13:38.989508Z",
     "iopub.status.busy": "2024-05-26T17:13:38.989508Z",
     "iopub.status.idle": "2024-05-26T17:13:39.031990Z",
     "shell.execute_reply": "2024-05-26T17:13:39.025599Z",
     "shell.execute_reply.started": "2024-05-26T17:13:38.989508Z"
    }
   },
   "outputs": [
    {
     "data": {
      "text/plain": [
       "'http://httpbin.org/get?name=Joseph&ID=123'"
      ]
     },
     "execution_count": 28,
     "metadata": {},
     "output_type": "execute_result"
    }
   ],
   "source": [
    "r.url"
   ]
  },
  {
   "cell_type": "code",
   "execution_count": 29,
   "id": "dead94fd-7ed0-476c-935e-4ed28bc3fca0",
   "metadata": {
    "execution": {
     "iopub.execute_input": "2024-05-26T17:13:39.037899Z",
     "iopub.status.busy": "2024-05-26T17:13:39.036474Z",
     "iopub.status.idle": "2024-05-26T17:13:39.066212Z",
     "shell.execute_reply": "2024-05-26T17:13:39.066212Z",
     "shell.execute_reply.started": "2024-05-26T17:13:39.037899Z"
    }
   },
   "outputs": [
    {
     "name": "stdout",
     "output_type": "stream",
     "text": [
      "request body: None\n"
     ]
    }
   ],
   "source": [
    "print(\"request body:\", r.request.body)"
   ]
  },
  {
   "cell_type": "code",
   "execution_count": 30,
   "id": "1b0ed20f-e4ec-4272-9310-25b720464d11",
   "metadata": {
    "execution": {
     "iopub.execute_input": "2024-05-26T17:13:39.070625Z",
     "iopub.status.busy": "2024-05-26T17:13:39.070625Z",
     "iopub.status.idle": "2024-05-26T17:13:39.096505Z",
     "shell.execute_reply": "2024-05-26T17:13:39.093441Z",
     "shell.execute_reply.started": "2024-05-26T17:13:39.070625Z"
    }
   },
   "outputs": [
    {
     "name": "stdout",
     "output_type": "stream",
     "text": [
      "200\n"
     ]
    }
   ],
   "source": [
    "print(r.status_code)"
   ]
  },
  {
   "cell_type": "code",
   "execution_count": 31,
   "id": "f4d71a3b-4d1a-4da6-bb99-769470a04ce2",
   "metadata": {
    "execution": {
     "iopub.execute_input": "2024-05-26T17:13:39.099877Z",
     "iopub.status.busy": "2024-05-26T17:13:39.099877Z",
     "iopub.status.idle": "2024-05-26T17:13:39.119291Z",
     "shell.execute_reply": "2024-05-26T17:13:39.119291Z",
     "shell.execute_reply.started": "2024-05-26T17:13:39.099877Z"
    }
   },
   "outputs": [
    {
     "name": "stdout",
     "output_type": "stream",
     "text": [
      "{\n",
      "  \"args\": {\n",
      "    \"ID\": \"123\", \n",
      "    \"name\": \"Joseph\"\n",
      "  }, \n",
      "  \"headers\": {\n",
      "    \"Accept\": \"*/*\", \n",
      "    \"Accept-Encoding\": \"gzip, deflate\", \n",
      "    \"Host\": \"httpbin.org\", \n",
      "    \"User-Agent\": \"python-requests/2.31.0\", \n",
      "    \"X-Amzn-Trace-Id\": \"Root=1-66536dc1-17e4b0086e050c4a610d7b31\"\n",
      "  }, \n",
      "  \"origin\": \"140.213.4.46\", \n",
      "  \"url\": \"http://httpbin.org/get?name=Joseph&ID=123\"\n",
      "}\n",
      "\n"
     ]
    }
   ],
   "source": [
    "print(r.text)"
   ]
  },
  {
   "cell_type": "code",
   "execution_count": 32,
   "id": "9b6f5ab9-dd8e-4ff1-ac50-079dc1fe776e",
   "metadata": {
    "execution": {
     "iopub.execute_input": "2024-05-26T17:13:39.125016Z",
     "iopub.status.busy": "2024-05-26T17:13:39.125016Z",
     "iopub.status.idle": "2024-05-26T17:13:39.147073Z",
     "shell.execute_reply": "2024-05-26T17:13:39.147073Z",
     "shell.execute_reply.started": "2024-05-26T17:13:39.125016Z"
    }
   },
   "outputs": [
    {
     "data": {
      "text/plain": [
       "'application/json'"
      ]
     },
     "execution_count": 32,
     "metadata": {},
     "output_type": "execute_result"
    }
   ],
   "source": [
    "r.headers['Content-Type']"
   ]
  },
  {
   "cell_type": "code",
   "execution_count": 33,
   "id": "0d94aa24-caea-4fcb-9008-7f9a129c6c25",
   "metadata": {
    "execution": {
     "iopub.execute_input": "2024-05-26T17:13:39.155185Z",
     "iopub.status.busy": "2024-05-26T17:13:39.153811Z",
     "iopub.status.idle": "2024-05-26T17:13:39.169155Z",
     "shell.execute_reply": "2024-05-26T17:13:39.169155Z",
     "shell.execute_reply.started": "2024-05-26T17:13:39.155185Z"
    }
   },
   "outputs": [
    {
     "data": {
      "text/plain": [
       "<bound method Response.json of <Response [200]>>"
      ]
     },
     "execution_count": 33,
     "metadata": {},
     "output_type": "execute_result"
    }
   ],
   "source": [
    "r.json"
   ]
  },
  {
   "cell_type": "code",
   "execution_count": 34,
   "id": "a32dcd7b-a07f-4fd4-951b-d25fffbd4bbf",
   "metadata": {
    "execution": {
     "iopub.execute_input": "2024-05-26T17:13:39.174655Z",
     "iopub.status.busy": "2024-05-26T17:13:39.169155Z",
     "iopub.status.idle": "2024-05-26T17:13:39.193021Z",
     "shell.execute_reply": "2024-05-26T17:13:39.190368Z",
     "shell.execute_reply.started": "2024-05-26T17:13:39.174655Z"
    }
   },
   "outputs": [
    {
     "data": {
      "text/plain": [
       "{'ID': '123', 'name': 'Joseph'}"
      ]
     },
     "execution_count": 34,
     "metadata": {},
     "output_type": "execute_result"
    }
   ],
   "source": [
    "r.json()['args']"
   ]
  },
  {
   "cell_type": "markdown",
   "id": "62b1033d-3a40-42ef-9477-12310b82e7b3",
   "metadata": {},
   "source": [
    "#### Post Requests\n",
    "Seperti permintaan <code>GET</code>, <code>POST</code> digunakan untuk mengirim data ke server, tetapi permintaan <code>POST</code> mengirimkan data dalam badan permintaan. Untuk mengirim permintaan <code>POST</code> di Python, pada <code>URL</code> kita mengubah rute menjadi <code>POST</code>:"
   ]
  },
  {
   "cell_type": "code",
   "execution_count": 35,
   "id": "f686dae9-4a92-4eed-8100-1b57e494d561",
   "metadata": {
    "execution": {
     "iopub.execute_input": "2024-05-26T17:13:39.193021Z",
     "iopub.status.busy": "2024-05-26T17:13:39.193021Z",
     "iopub.status.idle": "2024-05-26T17:13:39.208029Z",
     "shell.execute_reply": "2024-05-26T17:13:39.205917Z",
     "shell.execute_reply.started": "2024-05-26T17:13:39.193021Z"
    }
   },
   "outputs": [],
   "source": [
    "url_post='http://httpbin.org/post'"
   ]
  },
  {
   "cell_type": "markdown",
   "id": "c713bfb5-66b8-4f2e-8654-f9a8769c26ea",
   "metadata": {},
   "source": [
    "To make a <code>POST</code> request we use the <code>post()</code> function, the variable <code>payload</code> is passed to the parameter <code> data </code>:"
   ]
  },
  {
   "cell_type": "code",
   "execution_count": 36,
   "id": "1c7d251d-af02-4ebe-a1d4-4dc094ebe737",
   "metadata": {
    "execution": {
     "iopub.execute_input": "2024-05-26T17:13:39.213021Z",
     "iopub.status.busy": "2024-05-26T17:13:39.209512Z",
     "iopub.status.idle": "2024-05-26T17:13:39.906892Z",
     "shell.execute_reply": "2024-05-26T17:13:39.906892Z",
     "shell.execute_reply.started": "2024-05-26T17:13:39.213021Z"
    }
   },
   "outputs": [],
   "source": [
    "r_post=requests.post(url_post, data=payload)"
   ]
  },
  {
   "cell_type": "markdown",
   "id": "f8f60904-eb24-4c93-bd9e-f5aa1335bced",
   "metadata": {},
   "source": [
    "Comparing the URL from the response object of the <code>GET</code> and <code>POST</code> request we see the <code>POST</code> request has no name or value pairs.\n"
   ]
  },
  {
   "cell_type": "code",
   "execution_count": 37,
   "id": "ee20cdec-9bce-420f-8878-5fadaa9d1754",
   "metadata": {
    "execution": {
     "iopub.execute_input": "2024-05-26T17:13:39.906892Z",
     "iopub.status.busy": "2024-05-26T17:13:39.906892Z",
     "iopub.status.idle": "2024-05-26T17:13:39.946093Z",
     "shell.execute_reply": "2024-05-26T17:13:39.942089Z",
     "shell.execute_reply.started": "2024-05-26T17:13:39.906892Z"
    }
   },
   "outputs": [
    {
     "name": "stdout",
     "output_type": "stream",
     "text": [
      "POST request URL: http://httpbin.org/post\n",
      "GET request URL: http://httpbin.org/get?name=Joseph&ID=123\n"
     ]
    }
   ],
   "source": [
    "print(\"POST request URL:\",r_post.url )\n",
    "print(\"GET request URL:\",r.url)"
   ]
  },
  {
   "cell_type": "markdown",
   "id": "b3cd5192-8b79-40a1-8c3f-50d9c3e8b1da",
   "metadata": {},
   "source": [
    "We can compare the <code>POST</code> and <code>GET</code> request body, we see only the <code>POST</code> request has a body:\n"
   ]
  },
  {
   "cell_type": "code",
   "execution_count": 38,
   "id": "43f59db4-95a5-4f24-bc72-4af8f72135a5",
   "metadata": {
    "execution": {
     "iopub.execute_input": "2024-05-26T17:13:39.955542Z",
     "iopub.status.busy": "2024-05-26T17:13:39.953795Z",
     "iopub.status.idle": "2024-05-26T17:13:39.976310Z",
     "shell.execute_reply": "2024-05-26T17:13:39.973609Z",
     "shell.execute_reply.started": "2024-05-26T17:13:39.955542Z"
    }
   },
   "outputs": [
    {
     "name": "stdout",
     "output_type": "stream",
     "text": [
      "POST request body: name=Joseph&ID=123\n",
      "GET request body: None\n"
     ]
    }
   ],
   "source": [
    "print(\"POST request body:\",r_post.request.body)\n",
    "print(\"GET request body:\",r.request.body)"
   ]
  },
  {
   "cell_type": "code",
   "execution_count": 39,
   "id": "1a9bd07e-dbef-493e-a3a0-c11138b1b974",
   "metadata": {
    "execution": {
     "iopub.execute_input": "2024-05-26T17:13:39.981924Z",
     "iopub.status.busy": "2024-05-26T17:13:39.978994Z",
     "iopub.status.idle": "2024-05-26T17:13:40.003090Z",
     "shell.execute_reply": "2024-05-26T17:13:40.002581Z",
     "shell.execute_reply.started": "2024-05-26T17:13:39.981924Z"
    }
   },
   "outputs": [
    {
     "data": {
      "text/plain": [
       "{'ID': '123', 'name': 'Joseph'}"
      ]
     },
     "execution_count": 39,
     "metadata": {},
     "output_type": "execute_result"
    }
   ],
   "source": [
    "r_post.json()['form']"
   ]
  },
  {
   "cell_type": "markdown",
   "id": "3e2f700b-da69-4c63-ab39-d77cd599dfef",
   "metadata": {
    "jp-MarkdownHeadingCollapsed": true
   },
   "source": [
    "### <li>Hands On Lab: 2</li>"
   ]
  },
  {
   "cell_type": "markdown",
   "id": "36954b18-6083-44c9-89f9-d2b6b5927e29",
   "metadata": {},
   "source": [
    "#### Collecting Job Data Using APIs\n",
    "\n",
    "#### Objectives\n",
    "After completing this lab, you will be able to:\n",
    "\n",
    "Collect job data from Jobs API\n",
    "Store the collected data into an excel spreadsheet.\n",
    "Note: Before starting with the assignment make sure to read all the instructions and then move ahead with the coding part.\n",
    "\n",
    "#### Instructions\n",
    "To run the actual lab, firstly you need to click on the Jobs_API notebook link. The file contains flask code which is required to run the Jobs API data.\n",
    "\n",
    "Now, to run the code in the file that opens up follow the below steps.\n",
    "\n",
    "<li> Step1: Download the file.</li>\n",
    "\n",
    "<li>Step2: Upload it on the IBM Watson studio. (If IBM Watson Cloud service does not work in your system, follow the alternate Step 2 below)</li>\n",
    "\n",
    "<li>Step2(alternate): Upload it in your SN labs environment using the upload button which is highlighted in red in the image below: Remember to upload this Jobs_API file in the same folder as your current .ipynb file</li>"
   ]
  },
  {
   "cell_type": "markdown",
   "id": "14854383-b16d-411d-9500-e6d194d69f43",
   "metadata": {},
   "source": [
    "#### Warm-Up Exercise\n",
    "\n",
    "Before you attempt the actual lab, here is a fully solved warmup exercise that will help you to learn how to access an API.\n",
    "Using an API, let us find out who currently are on the International Space Station (ISS).<br> The API at [http://api.open-notify.org/astros.json](http://api.open-notify.org/astros.json?utm_medium=Exinfluencer&utm_source=Exinfluencer&utm_content=000026UJ&utm_term=10006555&utm_id=NA-SkillsNetwork-Channel-SkillsNetworkCoursesIBMDA0321ENSkillsNetwork21426264-2021-01-01&cm_mmc=Email_Newsletter-_-Developer_Ed%2BTech-_-WW_WW-_-SkillsNetwork-Courses-IBM-DA0321EN-SkillsNetwork-21426264&cm_mmca1=000026UJ&cm_mmca2=10006555&cm_mmca3=M12345678&cvosrc=email.Newsletter.M12345678&cvo_campaign=000026UJ) gives us the information of astronauts currently on ISS in json format.<br>\n",
    "You can read more about this API at [http://open-notify.org/Open-Notify-API/People-In-Space/](http://open-notify.org/Open-Notify-API/People-In-Space?utm_medium=Exinfluencer&utm_source=Exinfluencer&utm_content=000026UJ&utm_term=10006555&utm_id=NA-SkillsNetwork-Channel-SkillsNetworkCoursesIBMDA0321ENSkillsNetwork21426264-2021-01-01&cm_mmc=Email_Newsletter-_-Developer_Ed%2BTech-_-WW_WW-_-SkillsNetwork-Courses-IBM-DA0321EN-SkillsNetwork-21426264&cm_mmca1=000026UJ&cm_mmca2=10006555&cm_mmca3=M12345678&cvosrc=email.Newsletter.M12345678&cvo_campaign=000026UJ)\n"
   ]
  },
  {
   "cell_type": "code",
   "execution_count": 40,
   "id": "12370274-25d9-48fe-a24e-0cf7c6da1300",
   "metadata": {
    "execution": {
     "iopub.execute_input": "2024-05-26T17:13:40.007664Z",
     "iopub.status.busy": "2024-05-26T17:13:40.006101Z",
     "iopub.status.idle": "2024-05-26T17:13:40.916096Z",
     "shell.execute_reply": "2024-05-26T17:13:40.914079Z",
     "shell.execute_reply.started": "2024-05-26T17:13:40.007664Z"
    }
   },
   "outputs": [],
   "source": [
    "import requests\n",
    "import pandas as pd"
   ]
  },
  {
   "cell_type": "code",
   "execution_count": 41,
   "id": "a9ebf2b1-4a42-49f7-a49b-f661ba9c2ba6",
   "metadata": {
    "execution": {
     "iopub.execute_input": "2024-05-26T17:13:40.916096Z",
     "iopub.status.busy": "2024-05-26T17:13:40.916096Z",
     "iopub.status.idle": "2024-05-26T17:13:40.943803Z",
     "shell.execute_reply": "2024-05-26T17:13:40.938512Z",
     "shell.execute_reply.started": "2024-05-26T17:13:40.916096Z"
    }
   },
   "outputs": [],
   "source": [
    "api_url = \"http://api.open-notify.org/astros.json\""
   ]
  },
  {
   "cell_type": "code",
   "execution_count": 42,
   "id": "e59421ad-fb8f-4b8d-a1d9-217b8cf6c8a3",
   "metadata": {
    "execution": {
     "iopub.execute_input": "2024-05-26T17:13:40.952085Z",
     "iopub.status.busy": "2024-05-26T17:13:40.950285Z",
     "iopub.status.idle": "2024-05-26T17:13:41.598981Z",
     "shell.execute_reply": "2024-05-26T17:13:41.598981Z",
     "shell.execute_reply.started": "2024-05-26T17:13:40.952085Z"
    }
   },
   "outputs": [],
   "source": [
    "response = requests.get(api_url)"
   ]
  },
  {
   "cell_type": "code",
   "execution_count": 43,
   "id": "5605d37a-d0ee-486f-adb7-4b5c834cadf4",
   "metadata": {
    "execution": {
     "iopub.execute_input": "2024-05-26T17:13:41.608490Z",
     "iopub.status.busy": "2024-05-26T17:13:41.607002Z",
     "iopub.status.idle": "2024-05-26T17:13:41.626791Z",
     "shell.execute_reply": "2024-05-26T17:13:41.622661Z",
     "shell.execute_reply.started": "2024-05-26T17:13:41.608490Z"
    }
   },
   "outputs": [],
   "source": [
    "if response.ok:\n",
    "    data = response.json()"
   ]
  },
  {
   "cell_type": "code",
   "execution_count": 44,
   "id": "de66a9e7-ced1-44c9-b531-674194f5bd2e",
   "metadata": {
    "execution": {
     "iopub.execute_input": "2024-05-26T17:13:41.635092Z",
     "iopub.status.busy": "2024-05-26T17:13:41.633704Z",
     "iopub.status.idle": "2024-05-26T17:13:41.675988Z",
     "shell.execute_reply": "2024-05-26T17:13:41.673702Z",
     "shell.execute_reply.started": "2024-05-26T17:13:41.635092Z"
    }
   },
   "outputs": [
    {
     "name": "stdout",
     "output_type": "stream",
     "text": [
      "{'message': 'success', 'people': [{'name': 'Jasmin Moghbeli', 'craft': 'ISS'}, {'name': 'Andreas Mogensen', 'craft': 'ISS'}, {'name': 'Satoshi Furukawa', 'craft': 'ISS'}, {'name': 'Konstantin Borisov', 'craft': 'ISS'}, {'name': 'Oleg Kononenko', 'craft': 'ISS'}, {'name': 'Nikolai Chub', 'craft': 'ISS'}, {'name': \"Loral O'Hara\", 'craft': 'ISS'}], 'number': 7}\n"
     ]
    }
   ],
   "source": [
    "print(data)"
   ]
  },
  {
   "cell_type": "code",
   "execution_count": 45,
   "id": "5449d5b4-caea-47e4-8972-0bd186275602",
   "metadata": {
    "execution": {
     "iopub.execute_input": "2024-05-26T17:13:41.679194Z",
     "iopub.status.busy": "2024-05-26T17:13:41.679194Z",
     "iopub.status.idle": "2024-05-26T17:13:41.694051Z",
     "shell.execute_reply": "2024-05-26T17:13:41.691612Z",
     "shell.execute_reply.started": "2024-05-26T17:13:41.679194Z"
    }
   },
   "outputs": [
    {
     "name": "stdout",
     "output_type": "stream",
     "text": [
      "7\n"
     ]
    }
   ],
   "source": [
    "print(data.get('number'))"
   ]
  },
  {
   "cell_type": "code",
   "execution_count": 46,
   "id": "34242f04-e037-4361-9d28-ee18fcbbadd8",
   "metadata": {
    "execution": {
     "iopub.execute_input": "2024-05-26T17:13:41.700048Z",
     "iopub.status.busy": "2024-05-26T17:13:41.698262Z",
     "iopub.status.idle": "2024-05-26T17:13:41.723414Z",
     "shell.execute_reply": "2024-05-26T17:13:41.722406Z",
     "shell.execute_reply.started": "2024-05-26T17:13:41.700048Z"
    }
   },
   "outputs": [
    {
     "name": "stdout",
     "output_type": "stream",
     "text": [
      "there are 7 astronot on iss\n",
      "and their name are :\n",
      "Jasmin Moghbeli\n",
      "Andreas Mogensen\n",
      "Satoshi Furukawa\n",
      "Konstantin Borisov\n",
      "Oleg Kononenko\n",
      "Nikolai Chub\n",
      "Loral O'Hara\n"
     ]
    }
   ],
   "source": [
    "astronot = data.get('people')\n",
    "print(\"there are {} astronot on iss\". format(len(astronot)))\n",
    "print(\"and their name are :\")\n",
    "for astronots in astronot:\n",
    "    print(astronots.get('name'))"
   ]
  },
  {
   "cell_type": "markdown",
   "id": "8f63f9ab-429d-4470-9ae5-f9886b8076c0",
   "metadata": {},
   "source": [
    "#### Lab: Collect Jobs Data using Jobs API\n",
    "#### Objective: Determine the number of jobs currently open for various technologies  and for various locations\n",
    "\n",
    "Collect the number of job postings for the following locations using the API:\n",
    "\n",
    "* Los Angeles\n",
    "* New York\n",
    "* San Francisco\n",
    "* Washington DC\n",
    "* Seattle\n",
    "* Austin\n",
    "* Detroit\n",
    "\n",
    "  ## **RUN PROGRAM BELOW BEFORE NEXT STAGE**\n",
    "  ### RUN JOBS_API.IPYNB BEFORE NEXT\n",
    "  ## **IF YOU HAVE ALREADY RUN PROGRAM ABOVE, PROCEED TO THE NEXT STAGE**"
   ]
  },
  {
   "cell_type": "code",
   "execution_count": 47,
   "id": "3b0bc94b-a2f5-405f-bf28-bd72bc6f6e24",
   "metadata": {
    "execution": {
     "iopub.execute_input": "2024-05-26T17:13:41.726337Z",
     "iopub.status.busy": "2024-05-26T17:13:41.725829Z",
     "iopub.status.idle": "2024-05-26T17:13:41.738822Z",
     "shell.execute_reply": "2024-05-26T17:13:41.737810Z",
     "shell.execute_reply.started": "2024-05-26T17:13:41.726337Z"
    }
   },
   "outputs": [],
   "source": [
    "import pandas as pd\n",
    "import json\n",
    "import requests"
   ]
  },
  {
   "cell_type": "markdown",
   "id": "7b1b8140-b23e-4e45-b2cb-7fba97ac5c2c",
   "metadata": {
    "execution": {
     "iopub.execute_input": "2024-05-25T00:33:14.682940Z",
     "iopub.status.busy": "2024-05-25T00:33:14.682940Z",
     "iopub.status.idle": "2024-05-25T00:33:14.704664Z",
     "shell.execute_reply": "2024-05-25T00:33:14.704664Z",
     "shell.execute_reply.started": "2024-05-25T00:33:14.682940Z"
    }
   },
   "source": [
    "#### Write a function to get the number of jobs for the Python technology.<br>\n",
    "\n",
    " ##### The keys in the json are \n",
    " * Job Title\n",
    " \n",
    " * Job Experience Required\n",
    " \n",
    " * Key Skills\n",
    " \n",
    " * Role Category\n",
    " \n",
    " * Location\n",
    " \n",
    " * Functional Area\n",
    " \n",
    " * Industry\n",
    " \n",
    " * Role \n",
    " "
   ]
  },
  {
   "cell_type": "code",
   "execution_count": 48,
   "id": "f00b4bf2-e47b-47be-88f6-aa201c847561",
   "metadata": {
    "execution": {
     "iopub.execute_input": "2024-05-26T17:13:41.741650Z",
     "iopub.status.busy": "2024-05-26T17:13:41.741650Z",
     "iopub.status.idle": "2024-05-26T17:13:41.754880Z",
     "shell.execute_reply": "2024-05-26T17:13:41.754880Z",
     "shell.execute_reply.started": "2024-05-26T17:13:41.741650Z"
    }
   },
   "outputs": [],
   "source": [
    "api_url=\"http://127.0.0.1:5000/data\"\n",
    "def get_number_of_jobs_T(technology):\n",
    "    \n",
    "    payload={\"Key Skills\": technology}\n",
    "    response=requests.get(api_url, params=payload)\n",
    "    if response.ok:\n",
    "        data=response.json()\n",
    "        #print(data)\n",
    "        number_of_jobs = len(data)\n",
    "        \n",
    "    return technology,number_of_jobs"
   ]
  },
  {
   "cell_type": "code",
   "execution_count": 49,
   "id": "36d2892c-e60b-43b4-8675-7f943b5bddfc",
   "metadata": {
    "execution": {
     "iopub.execute_input": "2024-05-26T17:13:41.759142Z",
     "iopub.status.busy": "2024-05-26T17:13:41.758109Z",
     "iopub.status.idle": "2024-05-26T17:13:41.875261Z",
     "shell.execute_reply": "2024-05-26T17:13:41.875261Z",
     "shell.execute_reply.started": "2024-05-26T17:13:41.759142Z"
    }
   },
   "outputs": [
    {
     "data": {
      "text/plain": [
       "('Python', 1173)"
      ]
     },
     "execution_count": 49,
     "metadata": {},
     "output_type": "execute_result"
    }
   ],
   "source": [
    "get_number_of_jobs_T(\"Python\")"
   ]
  },
  {
   "cell_type": "markdown",
   "id": "4a268f42-296b-4eb5-a11e-1386b60d9327",
   "metadata": {},
   "source": [
    "#### Write a function to find number of jobs in US for a location of your choice\n"
   ]
  },
  {
   "cell_type": "code",
   "execution_count": 50,
   "id": "acc7ecef-9117-4fa1-aa84-ba9782267472",
   "metadata": {
    "execution": {
     "iopub.execute_input": "2024-05-26T17:13:41.875261Z",
     "iopub.status.busy": "2024-05-26T17:13:41.875261Z",
     "iopub.status.idle": "2024-05-26T17:13:41.892613Z",
     "shell.execute_reply": "2024-05-26T17:13:41.892613Z",
     "shell.execute_reply.started": "2024-05-26T17:13:41.875261Z"
    }
   },
   "outputs": [],
   "source": [
    "def get_number_of_jobs_L(location):\n",
    "    \n",
    "    payload={\"Location\": location}\n",
    "    response=requests.get(api_url, params=payload)\n",
    "    if response.ok:\n",
    "        data=response.json()\n",
    "        #print(data)\n",
    "        number_of_jobs = len(data)\n",
    "        \n",
    "    return location,number_of_jobs"
   ]
  },
  {
   "cell_type": "code",
   "execution_count": 51,
   "id": "5f63bcad-988b-4f26-83f5-a6238bdef500",
   "metadata": {
    "execution": {
     "iopub.execute_input": "2024-05-26T17:13:41.897690Z",
     "iopub.status.busy": "2024-05-26T17:13:41.897690Z",
     "iopub.status.idle": "2024-05-26T17:13:42.013590Z",
     "shell.execute_reply": "2024-05-26T17:13:42.013590Z",
     "shell.execute_reply.started": "2024-05-26T17:13:41.897690Z"
    }
   },
   "outputs": [
    {
     "data": {
      "text/plain": [
       "('Los Angeles', 640)"
      ]
     },
     "execution_count": 51,
     "metadata": {},
     "output_type": "execute_result"
    }
   ],
   "source": [
    "get_number_of_jobs_L(\"Los Angeles\")"
   ]
  },
  {
   "cell_type": "markdown",
   "id": "4d897d6f-791d-478c-a4f1-c4ad8034cc08",
   "metadata": {},
   "source": [
    "#### MENDAPATKAN SEMUA NAMA LOKASI UNIK DALAM DATA"
   ]
  },
  {
   "cell_type": "code",
   "execution_count": 52,
   "id": "2e21abac-bdc4-476e-865c-42b0a7064c69",
   "metadata": {
    "execution": {
     "iopub.execute_input": "2024-05-26T17:13:42.013590Z",
     "iopub.status.busy": "2024-05-26T17:13:42.013590Z",
     "iopub.status.idle": "2024-05-26T17:13:42.637253Z",
     "shell.execute_reply": "2024-05-26T17:13:42.637253Z",
     "shell.execute_reply.started": "2024-05-26T17:13:42.013590Z"
    }
   },
   "outputs": [
    {
     "name": "stdout",
     "output_type": "stream",
     "text": [
      "['New Orleons', 'Washington DC', 'Boston', 'Dallas', 'Detroit', 'Houston', 'San Francisco', 'Seattle', 'Philadelphia', 'Baltimore', 'Los Angeles', 'Austin', 'New York']\n"
     ]
    }
   ],
   "source": [
    "api_url_all = \"http://127.0.0.1:5000/data/all\"\n",
    "\n",
    "def get_unique_locations():\n",
    "    response = requests.get(api_url_all)\n",
    "    if response.ok:\n",
    "        data = response.json()\n",
    "        # Gunakan set comprehension untuk mendapatkan lokasi unik\n",
    "        locations = {job['Location'] for job in data if 'Location' in job}\n",
    "        return list(locations)\n",
    "    else:\n",
    "        return []\n",
    "\n",
    "unique_locations = get_unique_locations()\n",
    "print(unique_locations)"
   ]
  },
  {
   "cell_type": "markdown",
   "id": "5af65d15-0172-4ee9-9a3c-aa5e5edfda5d",
   "metadata": {},
   "source": [
    "#### Store the results in an excel file\n",
    "Call the API for all the given technologies above and write the results in an excel spreadsheet.\n",
    "\n",
    "Create a python list of all locations for which you need to find the number of jobs postings.\n"
   ]
  },
  {
   "cell_type": "code",
   "execution_count": 53,
   "id": "e9b0dc08-e964-4303-bf75-054518327f2a",
   "metadata": {
    "execution": {
     "iopub.execute_input": "2024-05-26T17:13:42.637253Z",
     "iopub.status.busy": "2024-05-26T17:13:42.637253Z",
     "iopub.status.idle": "2024-05-26T17:13:42.658463Z",
     "shell.execute_reply": "2024-05-26T17:13:42.657817Z",
     "shell.execute_reply.started": "2024-05-26T17:13:42.637253Z"
    }
   },
   "outputs": [],
   "source": [
    "state = ['Los Angeles', 'New York', 'San Francisco', \n",
    "         'Washington DC', 'Seattle', 'Austin', 'Detroit']"
   ]
  },
  {
   "cell_type": "markdown",
   "id": "b422f7bf-12db-47de-ba66-3ac87f4ec22b",
   "metadata": {},
   "source": [
    "Import libraries required to create excel spreadsheet"
   ]
  },
  {
   "cell_type": "code",
   "execution_count": 54,
   "id": "24beff67-c69d-4cd3-9d32-6e72a267791b",
   "metadata": {
    "execution": {
     "iopub.execute_input": "2024-05-26T17:13:42.659488Z",
     "iopub.status.busy": "2024-05-26T17:13:42.659488Z",
     "iopub.status.idle": "2024-05-26T17:13:43.341978Z",
     "shell.execute_reply": "2024-05-26T17:13:43.341978Z",
     "shell.execute_reply.started": "2024-05-26T17:13:42.659488Z"
    }
   },
   "outputs": [],
   "source": [
    "from openpyxl import Workbook"
   ]
  },
  {
   "cell_type": "markdown",
   "id": "9b61ad09-acaa-473e-bd02-d3f7c2c43827",
   "metadata": {},
   "source": [
    "Create a workbook and select the active worksheet"
   ]
  },
  {
   "cell_type": "code",
   "execution_count": 55,
   "id": "b431aaa8-e55b-4484-a21f-836fe27c1559",
   "metadata": {
    "execution": {
     "iopub.execute_input": "2024-05-26T17:13:43.341978Z",
     "iopub.status.busy": "2024-05-26T17:13:43.341978Z",
     "iopub.status.idle": "2024-05-26T17:13:43.361294Z",
     "shell.execute_reply": "2024-05-26T17:13:43.359831Z",
     "shell.execute_reply.started": "2024-05-26T17:13:43.341978Z"
    }
   },
   "outputs": [],
   "source": [
    "wb = Workbook()\n",
    "ws = wb.active\n",
    "ws.append(state)"
   ]
  },
  {
   "cell_type": "markdown",
   "id": "c5682e3d-651d-42bb-bea4-eca870ca5664",
   "metadata": {
    "execution": {
     "iopub.execute_input": "2024-05-25T02:19:45.778471Z",
     "iopub.status.busy": "2024-05-25T02:19:45.776513Z",
     "iopub.status.idle": "2024-05-25T02:19:45.803214Z",
     "shell.execute_reply": "2024-05-25T02:19:45.800924Z",
     "shell.execute_reply.started": "2024-05-25T02:19:45.777941Z"
    }
   },
   "source": [
    "Find the number of jobs postings for each of the location in the above list.\n",
    "Write the Location name and the number of jobs postings into the excel spreadsheet.\n"
   ]
  },
  {
   "cell_type": "code",
   "execution_count": 56,
   "id": "1298f23b-eb41-4296-ad2f-a813f172879a",
   "metadata": {
    "execution": {
     "iopub.execute_input": "2024-05-26T17:13:43.363516Z",
     "iopub.status.busy": "2024-05-26T17:13:43.362498Z",
     "iopub.status.idle": "2024-05-26T17:13:43.835331Z",
     "shell.execute_reply": "2024-05-26T17:13:43.834823Z",
     "shell.execute_reply.started": "2024-05-26T17:13:43.363516Z"
    }
   },
   "outputs": [
    {
     "data": {
      "text/plain": [
       "[24, 143, 17, 258, 133, 15, 170]"
      ]
     },
     "execution_count": 56,
     "metadata": {},
     "output_type": "execute_result"
    }
   ],
   "source": [
    "def get_number_of_jobs_TL(technology, state):\n",
    "    \n",
    "    number_of_jobs_list = []\n",
    "    for location in state:\n",
    "        payload={\"Key Skills\":technology, \"Location\": location}\n",
    "        response=requests.get(api_url, params=payload)\n",
    "        if response.ok:\n",
    "            data=response.json()\n",
    "            number_of_jobs = len(data)\n",
    "            number_of_jobs_list.append(number_of_jobs)\n",
    "    return number_of_jobs_list\n",
    "    \n",
    "get_number_of_jobs_TL(\"Python\", state)"
   ]
  },
  {
   "cell_type": "markdown",
   "id": "128fb69a-1a08-41f6-928a-df5ba727a55d",
   "metadata": {},
   "source": [
    "Save into an excel spreadsheet named 'job-postings.xlsx'.\n"
   ]
  },
  {
   "cell_type": "code",
   "execution_count": 57,
   "id": "d762ed0c-a9e4-49ac-8659-90f3b1a78bdd",
   "metadata": {
    "execution": {
     "iopub.execute_input": "2024-05-26T17:13:43.835331Z",
     "iopub.status.busy": "2024-05-26T17:13:43.835331Z",
     "iopub.status.idle": "2024-05-26T17:13:43.859832Z",
     "shell.execute_reply": "2024-05-26T17:13:43.858675Z",
     "shell.execute_reply.started": "2024-05-26T17:13:43.835331Z"
    }
   },
   "outputs": [],
   "source": [
    "wb.save('job-postings.xlsx')"
   ]
  },
  {
   "cell_type": "code",
   "execution_count": 58,
   "id": "4b0a5bb1-f0da-4546-9067-73331cfb837c",
   "metadata": {
    "execution": {
     "iopub.execute_input": "2024-05-26T17:13:43.861066Z",
     "iopub.status.busy": "2024-05-26T17:13:43.861066Z",
     "iopub.status.idle": "2024-05-26T17:13:43.907925Z",
     "shell.execute_reply": "2024-05-26T17:13:43.906794Z",
     "shell.execute_reply.started": "2024-05-26T17:13:43.861066Z"
    }
   },
   "outputs": [
    {
     "data": {
      "text/html": [
       "<div>\n",
       "<style scoped>\n",
       "    .dataframe tbody tr th:only-of-type {\n",
       "        vertical-align: middle;\n",
       "    }\n",
       "\n",
       "    .dataframe tbody tr th {\n",
       "        vertical-align: top;\n",
       "    }\n",
       "\n",
       "    .dataframe thead th {\n",
       "        text-align: right;\n",
       "    }\n",
       "</style>\n",
       "<table border=\"1\" class=\"dataframe\">\n",
       "  <thead>\n",
       "    <tr style=\"text-align: right;\">\n",
       "      <th></th>\n",
       "      <th>Los Angeles</th>\n",
       "      <th>New York</th>\n",
       "      <th>San Francisco</th>\n",
       "      <th>Washington DC</th>\n",
       "      <th>Seattle</th>\n",
       "      <th>Austin</th>\n",
       "      <th>Detroit</th>\n",
       "    </tr>\n",
       "  </thead>\n",
       "  <tbody>\n",
       "  </tbody>\n",
       "</table>\n",
       "</div>"
      ],
      "text/plain": [
       "Empty DataFrame\n",
       "Columns: [Los Angeles, New York, San Francisco, Washington DC, Seattle, Austin, Detroit]\n",
       "Index: []"
      ]
     },
     "execution_count": 58,
     "metadata": {},
     "output_type": "execute_result"
    }
   ],
   "source": [
    "df = pd.read_excel('job-postings.xlsx')\n",
    "df.head()"
   ]
  },
  {
   "cell_type": "markdown",
   "id": "a2ed9647-5add-4262-b34f-756dea5dbc03",
   "metadata": {
    "execution": {
     "iopub.execute_input": "2024-05-25T04:21:16.085932Z",
     "iopub.status.busy": "2024-05-25T04:21:16.084934Z",
     "iopub.status.idle": "2024-05-25T04:21:16.111376Z",
     "shell.execute_reply": "2024-05-25T04:21:16.110377Z",
     "shell.execute_reply.started": "2024-05-25T04:21:16.085932Z"
    }
   },
   "source": [
    "#### In the similar way, you can try for below given technologies and results  can be stored in an excel sheet.\n"
   ]
  },
  {
   "cell_type": "markdown",
   "id": "19d635e2-6038-4083-a504-3abda9aefa47",
   "metadata": {
    "execution": {
     "iopub.execute_input": "2024-05-25T04:23:23.003436Z",
     "iopub.status.busy": "2024-05-25T04:23:23.002432Z",
     "iopub.status.idle": "2024-05-25T04:23:23.013409Z",
     "shell.execute_reply": "2024-05-25T04:23:23.011428Z",
     "shell.execute_reply.started": "2024-05-25T04:23:23.003436Z"
    }
   },
   "source": [
    "Collect the number of job postings for the following languages using the API:\n",
    "\n",
    "*   C\n",
    "*   C#\n",
    "*   C++\n",
    "*   Java\n",
    "*   JavaScript\n",
    "*   Python\n",
    "*   Scala\n",
    "*   Oracle\n",
    "*   SQL Server\n",
    "*   MySQL Server\n",
    "*   PostgreSQL\n",
    "*   MongoDB\n"
   ]
  },
  {
   "cell_type": "code",
   "execution_count": 59,
   "id": "c49356b7-37cb-4b8a-a90f-f68f71dda715",
   "metadata": {
    "execution": {
     "iopub.execute_input": "2024-05-26T17:13:43.914945Z",
     "iopub.status.busy": "2024-05-26T17:13:43.914945Z",
     "iopub.status.idle": "2024-05-26T17:13:48.710321Z",
     "shell.execute_reply": "2024-05-26T17:13:48.710321Z",
     "shell.execute_reply.started": "2024-05-26T17:13:43.914945Z"
    }
   },
   "outputs": [
    {
     "data": {
      "text/plain": [
       "[['C#', 5, 41, 3, 68, 49, 5, 60],\n",
       " ['C++', 3, 43, 3, 55, 41, 4, 32],\n",
       " ['Java', 43, 326, 38, 516, 354, 32, 353],\n",
       " ['JavaScript', 7, 51, 7, 61, 52, 5, 41],\n",
       " ['Python', 24, 143, 17, 258, 133, 15, 170],\n",
       " ['Scala', 0, 8, 0, 3, 4, 1, 5],\n",
       " ['Oracle', 17, 95, 19, 143, 110, 11, 115],\n",
       " ['SQL Server', 3, 36, 2, 53, 31, 5, 34],\n",
       " ['MySQL Server', 0, 0, 0, 0, 0, 0, 0],\n",
       " ['PostgreSQL', 0, 1, 0, 3, 1, 0, 2],\n",
       " ['MongoDB', 2, 25, 2, 32, 21, 1, 25]]"
      ]
     },
     "execution_count": 59,
     "metadata": {},
     "output_type": "execute_result"
    }
   ],
   "source": [
    "technologies = ['C#','C++','Java','JavaScript',\n",
    "                'Python','Scala','Oracle', 'SQL Server',\n",
    "                'MySQL Server','PostgreSQL','MongoDB']\n",
    "\n",
    "def get_number_of_jobs_TL(technology, state):\n",
    "    \n",
    "    total_list = []\n",
    "    for technology in technologies:\n",
    "        number_of_jobs_list = [technology]\n",
    "        for location in state:\n",
    "            payload={\"Key Skills\":technology, \"Location\": location}\n",
    "            response=requests.get(api_url, params=payload)\n",
    "            if response.ok:\n",
    "                data=response.json()\n",
    "                number_of_jobs = len(data)\n",
    "                number_of_jobs_list.append(number_of_jobs)\n",
    "        total_list.append(number_of_jobs_list)\n",
    "    return total_list\n",
    "    \n",
    "get_number_of_jobs_TL(technologies, state)"
   ]
  },
  {
   "cell_type": "code",
   "execution_count": 60,
   "id": "c1d45247-c355-4215-ad64-58ef0358ab13",
   "metadata": {
    "execution": {
     "iopub.execute_input": "2024-05-26T17:13:48.710321Z",
     "iopub.status.busy": "2024-05-26T17:13:48.710321Z",
     "iopub.status.idle": "2024-05-26T17:13:53.343097Z",
     "shell.execute_reply": "2024-05-26T17:13:53.343097Z",
     "shell.execute_reply.started": "2024-05-26T17:13:48.710321Z"
    }
   },
   "outputs": [
    {
     "data": {
      "text/html": [
       "<div>\n",
       "<style scoped>\n",
       "    .dataframe tbody tr th:only-of-type {\n",
       "        vertical-align: middle;\n",
       "    }\n",
       "\n",
       "    .dataframe tbody tr th {\n",
       "        vertical-align: top;\n",
       "    }\n",
       "\n",
       "    .dataframe thead th {\n",
       "        text-align: right;\n",
       "    }\n",
       "</style>\n",
       "<table border=\"1\" class=\"dataframe\">\n",
       "  <thead>\n",
       "    <tr style=\"text-align: right;\">\n",
       "      <th></th>\n",
       "      <th>Technology</th>\n",
       "      <th>Los Angeles</th>\n",
       "      <th>New York</th>\n",
       "      <th>San Francisco</th>\n",
       "      <th>Washington DC</th>\n",
       "      <th>Seattle</th>\n",
       "      <th>Austin</th>\n",
       "      <th>Detroit</th>\n",
       "    </tr>\n",
       "  </thead>\n",
       "  <tbody>\n",
       "    <tr>\n",
       "      <th>0</th>\n",
       "      <td>C#</td>\n",
       "      <td>5</td>\n",
       "      <td>41</td>\n",
       "      <td>3</td>\n",
       "      <td>68</td>\n",
       "      <td>49</td>\n",
       "      <td>5</td>\n",
       "      <td>60</td>\n",
       "    </tr>\n",
       "    <tr>\n",
       "      <th>1</th>\n",
       "      <td>C++</td>\n",
       "      <td>3</td>\n",
       "      <td>43</td>\n",
       "      <td>3</td>\n",
       "      <td>55</td>\n",
       "      <td>41</td>\n",
       "      <td>4</td>\n",
       "      <td>32</td>\n",
       "    </tr>\n",
       "    <tr>\n",
       "      <th>2</th>\n",
       "      <td>Java</td>\n",
       "      <td>43</td>\n",
       "      <td>326</td>\n",
       "      <td>38</td>\n",
       "      <td>516</td>\n",
       "      <td>354</td>\n",
       "      <td>32</td>\n",
       "      <td>353</td>\n",
       "    </tr>\n",
       "    <tr>\n",
       "      <th>3</th>\n",
       "      <td>JavaScript</td>\n",
       "      <td>7</td>\n",
       "      <td>51</td>\n",
       "      <td>7</td>\n",
       "      <td>61</td>\n",
       "      <td>52</td>\n",
       "      <td>5</td>\n",
       "      <td>41</td>\n",
       "    </tr>\n",
       "    <tr>\n",
       "      <th>4</th>\n",
       "      <td>Python</td>\n",
       "      <td>24</td>\n",
       "      <td>143</td>\n",
       "      <td>17</td>\n",
       "      <td>258</td>\n",
       "      <td>133</td>\n",
       "      <td>15</td>\n",
       "      <td>170</td>\n",
       "    </tr>\n",
       "    <tr>\n",
       "      <th>5</th>\n",
       "      <td>Scala</td>\n",
       "      <td>0</td>\n",
       "      <td>8</td>\n",
       "      <td>0</td>\n",
       "      <td>3</td>\n",
       "      <td>4</td>\n",
       "      <td>1</td>\n",
       "      <td>5</td>\n",
       "    </tr>\n",
       "    <tr>\n",
       "      <th>6</th>\n",
       "      <td>Oracle</td>\n",
       "      <td>17</td>\n",
       "      <td>95</td>\n",
       "      <td>19</td>\n",
       "      <td>143</td>\n",
       "      <td>110</td>\n",
       "      <td>11</td>\n",
       "      <td>115</td>\n",
       "    </tr>\n",
       "    <tr>\n",
       "      <th>7</th>\n",
       "      <td>SQL Server</td>\n",
       "      <td>3</td>\n",
       "      <td>36</td>\n",
       "      <td>2</td>\n",
       "      <td>53</td>\n",
       "      <td>31</td>\n",
       "      <td>5</td>\n",
       "      <td>34</td>\n",
       "    </tr>\n",
       "    <tr>\n",
       "      <th>8</th>\n",
       "      <td>MySQL Server</td>\n",
       "      <td>0</td>\n",
       "      <td>0</td>\n",
       "      <td>0</td>\n",
       "      <td>0</td>\n",
       "      <td>0</td>\n",
       "      <td>0</td>\n",
       "      <td>0</td>\n",
       "    </tr>\n",
       "    <tr>\n",
       "      <th>9</th>\n",
       "      <td>PostgreSQL</td>\n",
       "      <td>0</td>\n",
       "      <td>1</td>\n",
       "      <td>0</td>\n",
       "      <td>3</td>\n",
       "      <td>1</td>\n",
       "      <td>0</td>\n",
       "      <td>2</td>\n",
       "    </tr>\n",
       "    <tr>\n",
       "      <th>10</th>\n",
       "      <td>MongoDB</td>\n",
       "      <td>2</td>\n",
       "      <td>25</td>\n",
       "      <td>2</td>\n",
       "      <td>32</td>\n",
       "      <td>21</td>\n",
       "      <td>1</td>\n",
       "      <td>25</td>\n",
       "    </tr>\n",
       "  </tbody>\n",
       "</table>\n",
       "</div>"
      ],
      "text/plain": [
       "      Technology  Los Angeles  New York  San Francisco  Washington DC  \\\n",
       "0             C#            5        41              3             68   \n",
       "1            C++            3        43              3             55   \n",
       "2           Java           43       326             38            516   \n",
       "3     JavaScript            7        51              7             61   \n",
       "4         Python           24       143             17            258   \n",
       "5          Scala            0         8              0              3   \n",
       "6         Oracle           17        95             19            143   \n",
       "7     SQL Server            3        36              2             53   \n",
       "8   MySQL Server            0         0              0              0   \n",
       "9     PostgreSQL            0         1              0              3   \n",
       "10       MongoDB            2        25              2             32   \n",
       "\n",
       "    Seattle  Austin  Detroit  \n",
       "0        49       5       60  \n",
       "1        41       4       32  \n",
       "2       354      32      353  \n",
       "3        52       5       41  \n",
       "4       133      15      170  \n",
       "5         4       1        5  \n",
       "6       110      11      115  \n",
       "7        31       5       34  \n",
       "8         0       0        0  \n",
       "9         1       0        2  \n",
       "10       21       1       25  "
      ]
     },
     "execution_count": 60,
     "metadata": {},
     "output_type": "execute_result"
    }
   ],
   "source": [
    "data = get_number_of_jobs_TL(technologies, state)\n",
    "df = pd.DataFrame(data, columns = ['Technology', 'Los Angeles', 'New York', \n",
    "                                   'San Francisco', 'Washington DC', 'Seattle', \n",
    "                                   'Austin', 'Detroit'])\n",
    "df"
   ]
  },
  {
   "cell_type": "markdown",
   "id": "7151d112-7665-4906-8275-79fb9e3e84f7",
   "metadata": {},
   "source": [
    "#### Saved File To Excel"
   ]
  },
  {
   "cell_type": "code",
   "execution_count": 61,
   "id": "d2164ffd-6cc8-4392-bd97-ac1e6c27fbec",
   "metadata": {
    "execution": {
     "iopub.execute_input": "2024-05-26T17:13:53.343097Z",
     "iopub.status.busy": "2024-05-26T17:13:53.343097Z",
     "iopub.status.idle": "2024-05-26T17:13:53.405531Z",
     "shell.execute_reply": "2024-05-26T17:13:53.403524Z",
     "shell.execute_reply.started": "2024-05-26T17:13:53.343097Z"
    }
   },
   "outputs": [
    {
     "name": "stdout",
     "output_type": "stream",
     "text": [
      "Datafram has been saved to excel\n"
     ]
    }
   ],
   "source": [
    "df.to_excel('Tech_Jobs.xlsx', index=False)\n",
    "print(\"Datafram has been saved to excel\")"
   ]
  },
  {
   "cell_type": "markdown",
   "id": "866104ab-895e-4536-a598-5f20af1206e0",
   "metadata": {},
   "source": [
    "#### Load Excel To The Dataframe"
   ]
  },
  {
   "cell_type": "code",
   "execution_count": 62,
   "id": "b164ff52-1b77-4415-b40e-6e69b372ce78",
   "metadata": {
    "execution": {
     "iopub.execute_input": "2024-05-26T17:13:53.407133Z",
     "iopub.status.busy": "2024-05-26T17:13:53.407133Z",
     "iopub.status.idle": "2024-05-26T17:13:53.482001Z",
     "shell.execute_reply": "2024-05-26T17:13:53.481490Z",
     "shell.execute_reply.started": "2024-05-26T17:13:53.407133Z"
    }
   },
   "outputs": [
    {
     "data": {
      "text/html": [
       "<div>\n",
       "<style scoped>\n",
       "    .dataframe tbody tr th:only-of-type {\n",
       "        vertical-align: middle;\n",
       "    }\n",
       "\n",
       "    .dataframe tbody tr th {\n",
       "        vertical-align: top;\n",
       "    }\n",
       "\n",
       "    .dataframe thead th {\n",
       "        text-align: right;\n",
       "    }\n",
       "</style>\n",
       "<table border=\"1\" class=\"dataframe\">\n",
       "  <thead>\n",
       "    <tr style=\"text-align: right;\">\n",
       "      <th></th>\n",
       "      <th>Technology</th>\n",
       "      <th>Los Angeles</th>\n",
       "      <th>New York</th>\n",
       "      <th>San Francisco</th>\n",
       "      <th>Washington DC</th>\n",
       "      <th>Seattle</th>\n",
       "      <th>Austin</th>\n",
       "      <th>Detroit</th>\n",
       "    </tr>\n",
       "  </thead>\n",
       "  <tbody>\n",
       "    <tr>\n",
       "      <th>0</th>\n",
       "      <td>C#</td>\n",
       "      <td>5</td>\n",
       "      <td>41</td>\n",
       "      <td>3</td>\n",
       "      <td>68</td>\n",
       "      <td>49</td>\n",
       "      <td>5</td>\n",
       "      <td>60</td>\n",
       "    </tr>\n",
       "    <tr>\n",
       "      <th>1</th>\n",
       "      <td>C++</td>\n",
       "      <td>3</td>\n",
       "      <td>43</td>\n",
       "      <td>3</td>\n",
       "      <td>55</td>\n",
       "      <td>41</td>\n",
       "      <td>4</td>\n",
       "      <td>32</td>\n",
       "    </tr>\n",
       "    <tr>\n",
       "      <th>2</th>\n",
       "      <td>Java</td>\n",
       "      <td>43</td>\n",
       "      <td>326</td>\n",
       "      <td>38</td>\n",
       "      <td>516</td>\n",
       "      <td>354</td>\n",
       "      <td>32</td>\n",
       "      <td>353</td>\n",
       "    </tr>\n",
       "    <tr>\n",
       "      <th>3</th>\n",
       "      <td>JavaScript</td>\n",
       "      <td>7</td>\n",
       "      <td>51</td>\n",
       "      <td>7</td>\n",
       "      <td>61</td>\n",
       "      <td>52</td>\n",
       "      <td>5</td>\n",
       "      <td>41</td>\n",
       "    </tr>\n",
       "    <tr>\n",
       "      <th>4</th>\n",
       "      <td>Python</td>\n",
       "      <td>24</td>\n",
       "      <td>143</td>\n",
       "      <td>17</td>\n",
       "      <td>258</td>\n",
       "      <td>133</td>\n",
       "      <td>15</td>\n",
       "      <td>170</td>\n",
       "    </tr>\n",
       "  </tbody>\n",
       "</table>\n",
       "</div>"
      ],
      "text/plain": [
       "   Technology  Los Angeles  New York  San Francisco  Washington DC  Seattle  \\\n",
       "0          C#            5        41              3             68       49   \n",
       "1         C++            3        43              3             55       41   \n",
       "2        Java           43       326             38            516      354   \n",
       "3  JavaScript            7        51              7             61       52   \n",
       "4      Python           24       143             17            258      133   \n",
       "\n",
       "   Austin  Detroit  \n",
       "0       5       60  \n",
       "1       4       32  \n",
       "2      32      353  \n",
       "3       5       41  \n",
       "4      15      170  "
      ]
     },
     "execution_count": 62,
     "metadata": {},
     "output_type": "execute_result"
    }
   ],
   "source": [
    "df_save = pd.read_excel('Tech_Jobs.xlsx')\n",
    "df_save.head()"
   ]
  },
  {
   "cell_type": "markdown",
   "id": "2e2ab4bc-55d4-42b3-840c-084425558a1d",
   "metadata": {
    "jp-MarkdownHeadingCollapsed": true
   },
   "source": [
    "## 2. Collecting Data Using Web Scrapping"
   ]
  },
  {
   "cell_type": "markdown",
   "id": "9ddb27e0-36da-4d3f-b487-e080bebf5ac9",
   "metadata": {
    "jp-MarkdownHeadingCollapsed": true
   },
   "source": [
    "### <li>Hands On Lab: 3</li>"
   ]
  },
  {
   "cell_type": "markdown",
   "id": "27bfb302-a338-4594-8db5-8fc6594dba23",
   "metadata": {},
   "source": [
    "#### **Web Scraping Lab**\n",
    "\n",
    "#### Objectives\n",
    "* Download a webpage using requests module\n",
    "* Scrape all links from a web page\n",
    "* Scrape all image urls from a web page\n",
    "* Scrape data from html tables\n",
    "\n",
    "#### Scrape www.ibm.com\n"
   ]
  },
  {
   "cell_type": "markdown",
   "id": "b83615e8-8841-42ac-9e25-e4bb4b4e1bb6",
   "metadata": {},
   "source": [
    "Import Libraries First"
   ]
  },
  {
   "cell_type": "code",
   "execution_count": 63,
   "id": "d350cfe2-29c2-4acb-8960-55b7543d0fa3",
   "metadata": {
    "execution": {
     "iopub.execute_input": "2024-05-26T17:13:53.487014Z",
     "iopub.status.busy": "2024-05-26T17:13:53.482001Z",
     "iopub.status.idle": "2024-05-26T17:13:53.703988Z",
     "shell.execute_reply": "2024-05-26T17:13:53.703988Z",
     "shell.execute_reply.started": "2024-05-26T17:13:53.482001Z"
    }
   },
   "outputs": [],
   "source": [
    "from bs4 import BeautifulSoup\n",
    "import requests\n",
    "import pandas as pd"
   ]
  },
  {
   "cell_type": "markdown",
   "id": "da879354-fec5-4857-8449-e60609463cb0",
   "metadata": {},
   "source": [
    "Download the Contents Webs"
   ]
  },
  {
   "cell_type": "code",
   "execution_count": 64,
   "id": "f5ea6cb9-9bab-47bf-b9c2-cafa1b71928f",
   "metadata": {
    "execution": {
     "iopub.execute_input": "2024-05-26T17:13:53.703988Z",
     "iopub.status.busy": "2024-05-26T17:13:53.703988Z",
     "iopub.status.idle": "2024-05-26T17:13:55.816738Z",
     "shell.execute_reply": "2024-05-26T17:13:55.814771Z",
     "shell.execute_reply.started": "2024-05-26T17:13:53.703988Z"
    }
   },
   "outputs": [],
   "source": [
    "ibm_url = 'http://ibm.com'\n",
    "ibm_data = requests.get(ibm_url).text"
   ]
  },
  {
   "cell_type": "markdown",
   "id": "d25d9c6e-100d-43e0-b2c6-8b2d5468b8ff",
   "metadata": {},
   "source": [
    "Create BeautifulSoup Class"
   ]
  },
  {
   "cell_type": "code",
   "execution_count": 65,
   "id": "ceeda917-1909-474c-b889-0bb2d61a67cc",
   "metadata": {
    "execution": {
     "iopub.execute_input": "2024-05-26T17:13:55.816738Z",
     "iopub.status.busy": "2024-05-26T17:13:55.816738Z",
     "iopub.status.idle": "2024-05-26T17:13:56.022092Z",
     "shell.execute_reply": "2024-05-26T17:13:56.022092Z",
     "shell.execute_reply.started": "2024-05-26T17:13:55.816738Z"
    }
   },
   "outputs": [],
   "source": [
    "ibm_soup = BeautifulSoup(ibm_data, \"html5lib\")"
   ]
  },
  {
   "cell_type": "markdown",
   "id": "9ebf4e71-d97f-442b-930e-c9099fdd4dbb",
   "metadata": {},
   "source": [
    "Scrape all links"
   ]
  },
  {
   "cell_type": "code",
   "execution_count": 66,
   "id": "92c5c10e-39aa-41ed-bdb2-c24bfacc0574",
   "metadata": {
    "execution": {
     "iopub.execute_input": "2024-05-26T17:13:56.047607Z",
     "iopub.status.busy": "2024-05-26T17:13:56.046420Z",
     "iopub.status.idle": "2024-05-26T17:13:56.056914Z",
     "shell.execute_reply": "2024-05-26T17:13:56.055401Z",
     "shell.execute_reply.started": "2024-05-26T17:13:56.047607Z"
    }
   },
   "outputs": [
    {
     "name": "stdout",
     "output_type": "stream",
     "text": [
      "https://www.ibm.com/cloud?lnk=intro\n"
     ]
    }
   ],
   "source": [
    "for ibm_link in ibm_soup.find_all('a'):\n",
    "    print(ibm_link.get('href'))"
   ]
  },
  {
   "cell_type": "markdown",
   "id": "4da5ab0c-2a55-4955-9003-1a4428f0f248",
   "metadata": {},
   "source": [
    "Scrape All images"
   ]
  },
  {
   "cell_type": "code",
   "execution_count": 67,
   "id": "8c83d93f-e35b-4c55-91a6-4c25c2cd7269",
   "metadata": {
    "execution": {
     "iopub.execute_input": "2024-05-26T17:13:56.058775Z",
     "iopub.status.busy": "2024-05-26T17:13:56.057958Z",
     "iopub.status.idle": "2024-05-26T17:13:56.071919Z",
     "shell.execute_reply": "2024-05-26T17:13:56.071191Z",
     "shell.execute_reply.started": "2024-05-26T17:13:56.058775Z"
    }
   },
   "outputs": [
    {
     "name": "stdout",
     "output_type": "stream",
     "text": [
      "/content/dam/adobe-cms/default-images/home-consultants.component.crop-16by9-xl.ts=1695238692853.jpg/content/adobe-cms/id/id/homepage/_jcr_content/root/table_of_contents/simple_image\n"
     ]
    }
   ],
   "source": [
    "for ibm_link in ibm_soup.find_all('img'):\n",
    "    print(ibm_link.get('src'))"
   ]
  },
  {
   "cell_type": "markdown",
   "id": "b5eb7da1-7bfa-42d0-aed9-e541930d6fbc",
   "metadata": {},
   "source": [
    "#### **Scrape data from html tables**"
   ]
  },
  {
   "cell_type": "code",
   "execution_count": 68,
   "id": "8116ba63-778e-4178-8d90-c526b00a7c1c",
   "metadata": {
    "execution": {
     "iopub.execute_input": "2024-05-26T17:13:56.075738Z",
     "iopub.status.busy": "2024-05-26T17:13:56.074345Z",
     "iopub.status.idle": "2024-05-26T17:13:56.088514Z",
     "shell.execute_reply": "2024-05-26T17:13:56.087254Z",
     "shell.execute_reply.started": "2024-05-26T17:13:56.075738Z"
    }
   },
   "outputs": [],
   "source": [
    "html_url = \"https://cf-courses-data.s3.us.cloud-object-storage.appdomain.cloud/IBM-DA0321EN-SkillsNetwork/labs/datasets/HTMLColorCodes.html\""
   ]
  },
  {
   "cell_type": "markdown",
   "id": "26e03198-0945-4160-a1bf-95216f3e6edd",
   "metadata": {},
   "source": [
    "Sebelum melanjutkan untuk melakukan web scraping pada sebuah situs web, Anda perlu memeriksa kontennya dan cara data diatur di situs tersebut. Buka URL di atas di browser Anda dan periksa berapa banyak baris dan kolom yang ada di tabel warna."
   ]
  },
  {
   "cell_type": "code",
   "execution_count": 69,
   "id": "83f50093-17c3-4ab9-8fe4-2c1a8a04f8ff",
   "metadata": {
    "execution": {
     "iopub.execute_input": "2024-05-26T17:13:56.088514Z",
     "iopub.status.busy": "2024-05-26T17:13:56.088514Z",
     "iopub.status.idle": "2024-05-26T17:13:57.960905Z",
     "shell.execute_reply": "2024-05-26T17:13:57.960905Z",
     "shell.execute_reply.started": "2024-05-26T17:13:56.088514Z"
    }
   },
   "outputs": [],
   "source": [
    "html_data = requests.get(html_url).text"
   ]
  },
  {
   "cell_type": "code",
   "execution_count": 70,
   "id": "86ad1d7f-1dcc-4741-8e72-64976e81c5d4",
   "metadata": {
    "execution": {
     "iopub.execute_input": "2024-05-26T17:13:57.960905Z",
     "iopub.status.busy": "2024-05-26T17:13:57.960905Z",
     "iopub.status.idle": "2024-05-26T17:13:58.079263Z",
     "shell.execute_reply": "2024-05-26T17:13:58.079263Z",
     "shell.execute_reply.started": "2024-05-26T17:13:57.960905Z"
    }
   },
   "outputs": [],
   "source": [
    "html_soup = BeautifulSoup(html_data, 'html5lib')"
   ]
  },
  {
   "cell_type": "code",
   "execution_count": 71,
   "id": "0ee06d8a-c7f0-4a6b-9d18-885a942dd504",
   "metadata": {
    "execution": {
     "iopub.execute_input": "2024-05-26T17:13:58.085289Z",
     "iopub.status.busy": "2024-05-26T17:13:58.079263Z",
     "iopub.status.idle": "2024-05-26T17:13:58.107019Z",
     "shell.execute_reply": "2024-05-26T17:13:58.104889Z",
     "shell.execute_reply.started": "2024-05-26T17:13:58.085289Z"
    }
   },
   "outputs": [],
   "source": [
    "html_table = html_soup.find('table')"
   ]
  },
  {
   "cell_type": "code",
   "execution_count": 72,
   "id": "57ed4ac8-c8bc-4196-a2f6-2041d3048703",
   "metadata": {
    "execution": {
     "iopub.execute_input": "2024-05-26T17:13:58.110686Z",
     "iopub.status.busy": "2024-05-26T17:13:58.110686Z",
     "iopub.status.idle": "2024-05-26T17:13:58.140285Z",
     "shell.execute_reply": "2024-05-26T17:13:58.138508Z",
     "shell.execute_reply.started": "2024-05-26T17:13:58.110686Z"
    }
   },
   "outputs": [
    {
     "name": "stdout",
     "output_type": "stream",
     "text": [
      "Color Name---->Hex Code#RRGGBB----->Decimal Code(R,G,B)\n",
      "lightsalmon---->#FFA07A----->rgb(255,160,122)\n",
      "salmon---->#FA8072----->rgb(250,128,114)\n",
      "darksalmon---->#E9967A----->rgb(233,150,122)\n",
      "lightcoral---->#F08080----->rgb(240,128,128)\n",
      "coral---->#FF7F50----->rgb(255,127,80)\n",
      "tomato---->#FF6347----->rgb(255,99,71)\n",
      "orangered---->#FF4500----->rgb(255,69,0)\n",
      "gold---->#FFD700----->rgb(255,215,0)\n",
      "orange---->#FFA500----->rgb(255,165,0)\n",
      "darkorange---->#FF8C00----->rgb(255,140,0)\n",
      "lightyellow---->#FFFFE0----->rgb(255,255,224)\n",
      "lemonchiffon---->#FFFACD----->rgb(255,250,205)\n",
      "papayawhip---->#FFEFD5----->rgb(255,239,213)\n",
      "moccasin---->#FFE4B5----->rgb(255,228,181)\n",
      "peachpuff---->#FFDAB9----->rgb(255,218,185)\n",
      "palegoldenrod---->#EEE8AA----->rgb(238,232,170)\n",
      "khaki---->#F0E68C----->rgb(240,230,140)\n",
      "darkkhaki---->#BDB76B----->rgb(189,183,107)\n",
      "yellow---->#FFFF00----->rgb(255,255,0)\n",
      "lawngreen---->#7CFC00----->rgb(124,252,0)\n",
      "chartreuse---->#7FFF00----->rgb(127,255,0)\n",
      "limegreen---->#32CD32----->rgb(50,205,50)\n",
      "lime---->#00FF00----->rgb(0.255.0)\n",
      "forestgreen---->#228B22----->rgb(34,139,34)\n",
      "green---->#008000----->rgb(0,128,0)\n",
      "powderblue---->#B0E0E6----->rgb(176,224,230)\n",
      "lightblue---->#ADD8E6----->rgb(173,216,230)\n",
      "lightskyblue---->#87CEFA----->rgb(135,206,250)\n",
      "skyblue---->#87CEEB----->rgb(135,206,235)\n",
      "deepskyblue---->#00BFFF----->rgb(0,191,255)\n",
      "lightsteelblue---->#B0C4DE----->rgb(176,196,222)\n",
      "dodgerblue---->#1E90FF----->rgb(30,144,255)\n"
     ]
    }
   ],
   "source": [
    "for row in html_table.find_all('tr'):\n",
    "    cols = row.find_all('td')\n",
    "    color_name = cols[2].getText() #ROWS 2\n",
    "    color_code = cols[3].getText() #ROWS 3\n",
    "    decimal_code = cols[4].getText()\n",
    "    print(\"{}---->{}----->{}\".format(color_name, color_code, decimal_code))"
   ]
  },
  {
   "cell_type": "markdown",
   "id": "9959a3e8-dac8-44f0-8dc1-da0d3a6a6395",
   "metadata": {
    "execution": {
     "iopub.execute_input": "2024-05-26T02:32:52.998016Z",
     "iopub.status.busy": "2024-05-26T02:32:52.998016Z",
     "iopub.status.idle": "2024-05-26T02:32:53.014204Z",
     "shell.execute_reply": "2024-05-26T02:32:53.014204Z",
     "shell.execute_reply.started": "2024-05-26T02:32:52.998016Z"
    }
   },
   "source": [
    "Load Table Using Pandas"
   ]
  },
  {
   "cell_type": "code",
   "execution_count": 73,
   "id": "3d2a6065-e52c-42a7-aa85-1cb6e6ebda94",
   "metadata": {
    "execution": {
     "iopub.execute_input": "2024-05-26T17:13:58.140285Z",
     "iopub.status.busy": "2024-05-26T17:13:58.140285Z",
     "iopub.status.idle": "2024-05-26T17:13:59.335748Z",
     "shell.execute_reply": "2024-05-26T17:13:59.335748Z",
     "shell.execute_reply.started": "2024-05-26T17:13:58.140285Z"
    }
   },
   "outputs": [
    {
     "name": "stdout",
     "output_type": "stream",
     "text": [
      "    Number  Color      Color Name Hex Code #RRGGBB Decimal Code (R,G,B)\n",
      "0        1    NaN     lightsalmon          #FFA07A     rgb(255,160,122)\n",
      "1        2    NaN          salmon          #FA8072     rgb(250,128,114)\n",
      "2        3    NaN      darksalmon          #E9967A     rgb(233,150,122)\n",
      "3        4    NaN      lightcoral          #F08080     rgb(240,128,128)\n",
      "4        5    NaN           coral          #FF7F50      rgb(255,127,80)\n",
      "5        6    NaN          tomato          #FF6347       rgb(255,99,71)\n",
      "6        7    NaN       orangered          #FF4500        rgb(255,69,0)\n",
      "7        8    NaN            gold          #FFD700       rgb(255,215,0)\n",
      "8        9    NaN          orange          #FFA500       rgb(255,165,0)\n",
      "9       10    NaN      darkorange          #FF8C00       rgb(255,140,0)\n",
      "10      11    NaN     lightyellow          #FFFFE0     rgb(255,255,224)\n",
      "11      12    NaN    lemonchiffon          #FFFACD     rgb(255,250,205)\n",
      "12      13    NaN      papayawhip          #FFEFD5     rgb(255,239,213)\n",
      "13      14    NaN        moccasin          #FFE4B5     rgb(255,228,181)\n",
      "14      15    NaN       peachpuff          #FFDAB9     rgb(255,218,185)\n",
      "15      16    NaN   palegoldenrod          #EEE8AA     rgb(238,232,170)\n",
      "16      17    NaN           khaki          #F0E68C     rgb(240,230,140)\n",
      "17      18    NaN       darkkhaki          #BDB76B     rgb(189,183,107)\n",
      "18      19    NaN          yellow          #FFFF00       rgb(255,255,0)\n",
      "19      20    NaN       lawngreen          #7CFC00       rgb(124,252,0)\n",
      "20      21    NaN      chartreuse          #7FFF00       rgb(127,255,0)\n",
      "21      22    NaN       limegreen          #32CD32       rgb(50,205,50)\n",
      "22      23    NaN            lime          #00FF00         rgb(0.255.0)\n",
      "23      24    NaN     forestgreen          #228B22       rgb(34,139,34)\n",
      "24      25    NaN           green          #008000         rgb(0,128,0)\n",
      "25      26    NaN      powderblue          #B0E0E6     rgb(176,224,230)\n",
      "26      27    NaN       lightblue          #ADD8E6     rgb(173,216,230)\n",
      "27      28    NaN    lightskyblue          #87CEFA     rgb(135,206,250)\n",
      "28      29    NaN         skyblue          #87CEEB     rgb(135,206,235)\n",
      "29      30    NaN     deepskyblue          #00BFFF       rgb(0,191,255)\n",
      "30      31    NaN  lightsteelblue          #B0C4DE     rgb(176,196,222)\n",
      "31      32    NaN      dodgerblue          #1E90FF      rgb(30,144,255)\n"
     ]
    }
   ],
   "source": [
    "tables = pd.read_html(html_url, header=0)\n",
    "df = tables[0]\n",
    "data_read = pd.DataFrame(df)\n",
    "print(data_read)\n"
   ]
  },
  {
   "cell_type": "markdown",
   "id": "b17d0e1a-022d-4283-95d3-e47eecc2147e",
   "metadata": {},
   "source": [
    "Hapus Baris NaN Pada DataFrame"
   ]
  },
  {
   "cell_type": "code",
   "execution_count": 74,
   "id": "578cd0b2-e497-4209-8af4-94bee322af5f",
   "metadata": {
    "execution": {
     "iopub.execute_input": "2024-05-26T17:13:59.335748Z",
     "iopub.status.busy": "2024-05-26T17:13:59.335748Z",
     "iopub.status.idle": "2024-05-26T17:13:59.374251Z",
     "shell.execute_reply": "2024-05-26T17:13:59.371571Z",
     "shell.execute_reply.started": "2024-05-26T17:13:59.335748Z"
    }
   },
   "outputs": [
    {
     "name": "stdout",
     "output_type": "stream",
     "text": [
      "    Number      Color Name Hex Code #RRGGBB Decimal Code (R,G,B)\n",
      "0        1     lightsalmon          #FFA07A     rgb(255,160,122)\n",
      "1        2          salmon          #FA8072     rgb(250,128,114)\n",
      "2        3      darksalmon          #E9967A     rgb(233,150,122)\n",
      "3        4      lightcoral          #F08080     rgb(240,128,128)\n",
      "4        5           coral          #FF7F50      rgb(255,127,80)\n",
      "5        6          tomato          #FF6347       rgb(255,99,71)\n",
      "6        7       orangered          #FF4500        rgb(255,69,0)\n",
      "7        8            gold          #FFD700       rgb(255,215,0)\n",
      "8        9          orange          #FFA500       rgb(255,165,0)\n",
      "9       10      darkorange          #FF8C00       rgb(255,140,0)\n",
      "10      11     lightyellow          #FFFFE0     rgb(255,255,224)\n",
      "11      12    lemonchiffon          #FFFACD     rgb(255,250,205)\n",
      "12      13      papayawhip          #FFEFD5     rgb(255,239,213)\n",
      "13      14        moccasin          #FFE4B5     rgb(255,228,181)\n",
      "14      15       peachpuff          #FFDAB9     rgb(255,218,185)\n",
      "15      16   palegoldenrod          #EEE8AA     rgb(238,232,170)\n",
      "16      17           khaki          #F0E68C     rgb(240,230,140)\n",
      "17      18       darkkhaki          #BDB76B     rgb(189,183,107)\n",
      "18      19          yellow          #FFFF00       rgb(255,255,0)\n",
      "19      20       lawngreen          #7CFC00       rgb(124,252,0)\n",
      "20      21      chartreuse          #7FFF00       rgb(127,255,0)\n",
      "21      22       limegreen          #32CD32       rgb(50,205,50)\n",
      "22      23            lime          #00FF00         rgb(0.255.0)\n",
      "23      24     forestgreen          #228B22       rgb(34,139,34)\n",
      "24      25           green          #008000         rgb(0,128,0)\n",
      "25      26      powderblue          #B0E0E6     rgb(176,224,230)\n",
      "26      27       lightblue          #ADD8E6     rgb(173,216,230)\n",
      "27      28    lightskyblue          #87CEFA     rgb(135,206,250)\n",
      "28      29         skyblue          #87CEEB     rgb(135,206,235)\n",
      "29      30     deepskyblue          #00BFFF       rgb(0,191,255)\n",
      "30      31  lightsteelblue          #B0C4DE     rgb(176,196,222)\n",
      "31      32      dodgerblue          #1E90FF      rgb(30,144,255)\n"
     ]
    }
   ],
   "source": [
    "data_read = data_read.dropna(axis=1 , how='all')\n",
    "print(data_read) "
   ]
  },
  {
   "cell_type": "markdown",
   "id": "51def2e9-476d-40f1-a48e-46e75f244f0b",
   "metadata": {},
   "source": [
    "Saved File To Excel"
   ]
  },
  {
   "cell_type": "code",
   "execution_count": 75,
   "id": "6d56a3c4-bfa2-4e07-88d3-c2fb10de0cd9",
   "metadata": {
    "execution": {
     "iopub.execute_input": "2024-05-26T17:13:59.378020Z",
     "iopub.status.busy": "2024-05-26T17:13:59.376876Z",
     "iopub.status.idle": "2024-05-26T17:13:59.460345Z",
     "shell.execute_reply": "2024-05-26T17:13:59.460345Z",
     "shell.execute_reply.started": "2024-05-26T17:13:59.378020Z"
    }
   },
   "outputs": [
    {
     "name": "stdout",
     "output_type": "stream",
     "text": [
      "File Color Excel Has Been Saved\n"
     ]
    }
   ],
   "source": [
    "file_color = 'file_color.xlsx'\n",
    "data_read.to_excel(file_color, index=False)\n",
    "print('File Color Excel Has Been Saved')"
   ]
  },
  {
   "cell_type": "markdown",
   "id": "2f595802-8d8e-45e3-885c-2a7c73d3c911",
   "metadata": {},
   "source": [
    "Open Read Excel File_Color"
   ]
  },
  {
   "cell_type": "code",
   "execution_count": 76,
   "id": "ed7d44ca-9f15-4c7b-b56b-c8fee0e67ee2",
   "metadata": {
    "execution": {
     "iopub.execute_input": "2024-05-26T17:13:59.460345Z",
     "iopub.status.busy": "2024-05-26T17:13:59.460345Z",
     "iopub.status.idle": "2024-05-26T17:13:59.517193Z",
     "shell.execute_reply": "2024-05-26T17:13:59.516669Z",
     "shell.execute_reply.started": "2024-05-26T17:13:59.460345Z"
    }
   },
   "outputs": [
    {
     "data": {
      "text/html": [
       "<div>\n",
       "<style scoped>\n",
       "    .dataframe tbody tr th:only-of-type {\n",
       "        vertical-align: middle;\n",
       "    }\n",
       "\n",
       "    .dataframe tbody tr th {\n",
       "        vertical-align: top;\n",
       "    }\n",
       "\n",
       "    .dataframe thead th {\n",
       "        text-align: right;\n",
       "    }\n",
       "</style>\n",
       "<table border=\"1\" class=\"dataframe\">\n",
       "  <thead>\n",
       "    <tr style=\"text-align: right;\">\n",
       "      <th></th>\n",
       "      <th>Number</th>\n",
       "      <th>Color Name</th>\n",
       "      <th>Hex Code #RRGGBB</th>\n",
       "      <th>Decimal Code (R,G,B)</th>\n",
       "    </tr>\n",
       "  </thead>\n",
       "  <tbody>\n",
       "    <tr>\n",
       "      <th>0</th>\n",
       "      <td>1</td>\n",
       "      <td>lightsalmon</td>\n",
       "      <td>#FFA07A</td>\n",
       "      <td>rgb(255,160,122)</td>\n",
       "    </tr>\n",
       "    <tr>\n",
       "      <th>1</th>\n",
       "      <td>2</td>\n",
       "      <td>salmon</td>\n",
       "      <td>#FA8072</td>\n",
       "      <td>rgb(250,128,114)</td>\n",
       "    </tr>\n",
       "    <tr>\n",
       "      <th>2</th>\n",
       "      <td>3</td>\n",
       "      <td>darksalmon</td>\n",
       "      <td>#E9967A</td>\n",
       "      <td>rgb(233,150,122)</td>\n",
       "    </tr>\n",
       "    <tr>\n",
       "      <th>3</th>\n",
       "      <td>4</td>\n",
       "      <td>lightcoral</td>\n",
       "      <td>#F08080</td>\n",
       "      <td>rgb(240,128,128)</td>\n",
       "    </tr>\n",
       "    <tr>\n",
       "      <th>4</th>\n",
       "      <td>5</td>\n",
       "      <td>coral</td>\n",
       "      <td>#FF7F50</td>\n",
       "      <td>rgb(255,127,80)</td>\n",
       "    </tr>\n",
       "    <tr>\n",
       "      <th>5</th>\n",
       "      <td>6</td>\n",
       "      <td>tomato</td>\n",
       "      <td>#FF6347</td>\n",
       "      <td>rgb(255,99,71)</td>\n",
       "    </tr>\n",
       "    <tr>\n",
       "      <th>6</th>\n",
       "      <td>7</td>\n",
       "      <td>orangered</td>\n",
       "      <td>#FF4500</td>\n",
       "      <td>rgb(255,69,0)</td>\n",
       "    </tr>\n",
       "    <tr>\n",
       "      <th>7</th>\n",
       "      <td>8</td>\n",
       "      <td>gold</td>\n",
       "      <td>#FFD700</td>\n",
       "      <td>rgb(255,215,0)</td>\n",
       "    </tr>\n",
       "    <tr>\n",
       "      <th>8</th>\n",
       "      <td>9</td>\n",
       "      <td>orange</td>\n",
       "      <td>#FFA500</td>\n",
       "      <td>rgb(255,165,0)</td>\n",
       "    </tr>\n",
       "    <tr>\n",
       "      <th>9</th>\n",
       "      <td>10</td>\n",
       "      <td>darkorange</td>\n",
       "      <td>#FF8C00</td>\n",
       "      <td>rgb(255,140,0)</td>\n",
       "    </tr>\n",
       "    <tr>\n",
       "      <th>10</th>\n",
       "      <td>11</td>\n",
       "      <td>lightyellow</td>\n",
       "      <td>#FFFFE0</td>\n",
       "      <td>rgb(255,255,224)</td>\n",
       "    </tr>\n",
       "    <tr>\n",
       "      <th>11</th>\n",
       "      <td>12</td>\n",
       "      <td>lemonchiffon</td>\n",
       "      <td>#FFFACD</td>\n",
       "      <td>rgb(255,250,205)</td>\n",
       "    </tr>\n",
       "    <tr>\n",
       "      <th>12</th>\n",
       "      <td>13</td>\n",
       "      <td>papayawhip</td>\n",
       "      <td>#FFEFD5</td>\n",
       "      <td>rgb(255,239,213)</td>\n",
       "    </tr>\n",
       "    <tr>\n",
       "      <th>13</th>\n",
       "      <td>14</td>\n",
       "      <td>moccasin</td>\n",
       "      <td>#FFE4B5</td>\n",
       "      <td>rgb(255,228,181)</td>\n",
       "    </tr>\n",
       "    <tr>\n",
       "      <th>14</th>\n",
       "      <td>15</td>\n",
       "      <td>peachpuff</td>\n",
       "      <td>#FFDAB9</td>\n",
       "      <td>rgb(255,218,185)</td>\n",
       "    </tr>\n",
       "    <tr>\n",
       "      <th>15</th>\n",
       "      <td>16</td>\n",
       "      <td>palegoldenrod</td>\n",
       "      <td>#EEE8AA</td>\n",
       "      <td>rgb(238,232,170)</td>\n",
       "    </tr>\n",
       "    <tr>\n",
       "      <th>16</th>\n",
       "      <td>17</td>\n",
       "      <td>khaki</td>\n",
       "      <td>#F0E68C</td>\n",
       "      <td>rgb(240,230,140)</td>\n",
       "    </tr>\n",
       "    <tr>\n",
       "      <th>17</th>\n",
       "      <td>18</td>\n",
       "      <td>darkkhaki</td>\n",
       "      <td>#BDB76B</td>\n",
       "      <td>rgb(189,183,107)</td>\n",
       "    </tr>\n",
       "    <tr>\n",
       "      <th>18</th>\n",
       "      <td>19</td>\n",
       "      <td>yellow</td>\n",
       "      <td>#FFFF00</td>\n",
       "      <td>rgb(255,255,0)</td>\n",
       "    </tr>\n",
       "    <tr>\n",
       "      <th>19</th>\n",
       "      <td>20</td>\n",
       "      <td>lawngreen</td>\n",
       "      <td>#7CFC00</td>\n",
       "      <td>rgb(124,252,0)</td>\n",
       "    </tr>\n",
       "    <tr>\n",
       "      <th>20</th>\n",
       "      <td>21</td>\n",
       "      <td>chartreuse</td>\n",
       "      <td>#7FFF00</td>\n",
       "      <td>rgb(127,255,0)</td>\n",
       "    </tr>\n",
       "    <tr>\n",
       "      <th>21</th>\n",
       "      <td>22</td>\n",
       "      <td>limegreen</td>\n",
       "      <td>#32CD32</td>\n",
       "      <td>rgb(50,205,50)</td>\n",
       "    </tr>\n",
       "    <tr>\n",
       "      <th>22</th>\n",
       "      <td>23</td>\n",
       "      <td>lime</td>\n",
       "      <td>#00FF00</td>\n",
       "      <td>rgb(0.255.0)</td>\n",
       "    </tr>\n",
       "    <tr>\n",
       "      <th>23</th>\n",
       "      <td>24</td>\n",
       "      <td>forestgreen</td>\n",
       "      <td>#228B22</td>\n",
       "      <td>rgb(34,139,34)</td>\n",
       "    </tr>\n",
       "    <tr>\n",
       "      <th>24</th>\n",
       "      <td>25</td>\n",
       "      <td>green</td>\n",
       "      <td>#008000</td>\n",
       "      <td>rgb(0,128,0)</td>\n",
       "    </tr>\n",
       "    <tr>\n",
       "      <th>25</th>\n",
       "      <td>26</td>\n",
       "      <td>powderblue</td>\n",
       "      <td>#B0E0E6</td>\n",
       "      <td>rgb(176,224,230)</td>\n",
       "    </tr>\n",
       "    <tr>\n",
       "      <th>26</th>\n",
       "      <td>27</td>\n",
       "      <td>lightblue</td>\n",
       "      <td>#ADD8E6</td>\n",
       "      <td>rgb(173,216,230)</td>\n",
       "    </tr>\n",
       "    <tr>\n",
       "      <th>27</th>\n",
       "      <td>28</td>\n",
       "      <td>lightskyblue</td>\n",
       "      <td>#87CEFA</td>\n",
       "      <td>rgb(135,206,250)</td>\n",
       "    </tr>\n",
       "    <tr>\n",
       "      <th>28</th>\n",
       "      <td>29</td>\n",
       "      <td>skyblue</td>\n",
       "      <td>#87CEEB</td>\n",
       "      <td>rgb(135,206,235)</td>\n",
       "    </tr>\n",
       "    <tr>\n",
       "      <th>29</th>\n",
       "      <td>30</td>\n",
       "      <td>deepskyblue</td>\n",
       "      <td>#00BFFF</td>\n",
       "      <td>rgb(0,191,255)</td>\n",
       "    </tr>\n",
       "    <tr>\n",
       "      <th>30</th>\n",
       "      <td>31</td>\n",
       "      <td>lightsteelblue</td>\n",
       "      <td>#B0C4DE</td>\n",
       "      <td>rgb(176,196,222)</td>\n",
       "    </tr>\n",
       "    <tr>\n",
       "      <th>31</th>\n",
       "      <td>32</td>\n",
       "      <td>dodgerblue</td>\n",
       "      <td>#1E90FF</td>\n",
       "      <td>rgb(30,144,255)</td>\n",
       "    </tr>\n",
       "  </tbody>\n",
       "</table>\n",
       "</div>"
      ],
      "text/plain": [
       "    Number      Color Name Hex Code #RRGGBB Decimal Code (R,G,B)\n",
       "0        1     lightsalmon          #FFA07A     rgb(255,160,122)\n",
       "1        2          salmon          #FA8072     rgb(250,128,114)\n",
       "2        3      darksalmon          #E9967A     rgb(233,150,122)\n",
       "3        4      lightcoral          #F08080     rgb(240,128,128)\n",
       "4        5           coral          #FF7F50      rgb(255,127,80)\n",
       "5        6          tomato          #FF6347       rgb(255,99,71)\n",
       "6        7       orangered          #FF4500        rgb(255,69,0)\n",
       "7        8            gold          #FFD700       rgb(255,215,0)\n",
       "8        9          orange          #FFA500       rgb(255,165,0)\n",
       "9       10      darkorange          #FF8C00       rgb(255,140,0)\n",
       "10      11     lightyellow          #FFFFE0     rgb(255,255,224)\n",
       "11      12    lemonchiffon          #FFFACD     rgb(255,250,205)\n",
       "12      13      papayawhip          #FFEFD5     rgb(255,239,213)\n",
       "13      14        moccasin          #FFE4B5     rgb(255,228,181)\n",
       "14      15       peachpuff          #FFDAB9     rgb(255,218,185)\n",
       "15      16   palegoldenrod          #EEE8AA     rgb(238,232,170)\n",
       "16      17           khaki          #F0E68C     rgb(240,230,140)\n",
       "17      18       darkkhaki          #BDB76B     rgb(189,183,107)\n",
       "18      19          yellow          #FFFF00       rgb(255,255,0)\n",
       "19      20       lawngreen          #7CFC00       rgb(124,252,0)\n",
       "20      21      chartreuse          #7FFF00       rgb(127,255,0)\n",
       "21      22       limegreen          #32CD32       rgb(50,205,50)\n",
       "22      23            lime          #00FF00         rgb(0.255.0)\n",
       "23      24     forestgreen          #228B22       rgb(34,139,34)\n",
       "24      25           green          #008000         rgb(0,128,0)\n",
       "25      26      powderblue          #B0E0E6     rgb(176,224,230)\n",
       "26      27       lightblue          #ADD8E6     rgb(173,216,230)\n",
       "27      28    lightskyblue          #87CEFA     rgb(135,206,250)\n",
       "28      29         skyblue          #87CEEB     rgb(135,206,235)\n",
       "29      30     deepskyblue          #00BFFF       rgb(0,191,255)\n",
       "30      31  lightsteelblue          #B0C4DE     rgb(176,196,222)\n",
       "31      32      dodgerblue          #1E90FF      rgb(30,144,255)"
      ]
     },
     "execution_count": 76,
     "metadata": {},
     "output_type": "execute_result"
    }
   ],
   "source": [
    "save_color = pd.read_excel('file_color.xlsx')\n",
    "save_color"
   ]
  },
  {
   "cell_type": "markdown",
   "id": "e61ec715-93aa-4bfe-90b9-9ccd87abbd2a",
   "metadata": {
    "jp-MarkdownHeadingCollapsed": true
   },
   "source": [
    "### <li>Hands On Lab: 4</li>"
   ]
  },
  {
   "cell_type": "markdown",
   "id": "3d60fb56-7b49-4d78-b222-4d202397924c",
   "metadata": {},
   "source": [
    "#### **Hands-on Lab : Web Scraping**\n",
    "\n",
    "#### Objectives\n",
    "* Extract information from a given web site \n",
    "* Write the scraped data into a csv file.\n"
   ]
  },
  {
   "cell_type": "markdown",
   "id": "af29a693-6b5c-472c-b86b-913c7e19f825",
   "metadata": {
    "jp-MarkdownHeadingCollapsed": true
   },
   "source": [
    "#### Extract information from the given web site\n",
    "You will extract the data from the below web site: <br> "
   ]
  },
  {
   "cell_type": "code",
   "execution_count": 77,
   "id": "05c538a7-655f-4544-ad63-2496eb00b4e9",
   "metadata": {
    "execution": {
     "iopub.execute_input": "2024-05-26T17:13:59.519009Z",
     "iopub.status.busy": "2024-05-26T17:13:59.519009Z",
     "iopub.status.idle": "2024-05-26T17:13:59.526549Z",
     "shell.execute_reply": "2024-05-26T17:13:59.526549Z",
     "shell.execute_reply.started": "2024-05-26T17:13:59.519009Z"
    }
   },
   "outputs": [],
   "source": [
    "PL_url = \"https://cf-courses-data.s3.us.cloud-object-storage.appdomain.cloud/IBM-DA0321EN-SkillsNetwork/labs/datasets/Programming_Languages.html\""
   ]
  },
  {
   "cell_type": "markdown",
   "id": "7d057188-9b44-495b-aee3-005795dfa48a",
   "metadata": {},
   "source": [
    "Import the required libraries"
   ]
  },
  {
   "cell_type": "code",
   "execution_count": 78,
   "id": "cc0ee040-7af6-4ad0-aadc-b4048ad6c12a",
   "metadata": {
    "execution": {
     "iopub.execute_input": "2024-05-26T17:13:59.528046Z",
     "iopub.status.busy": "2024-05-26T17:13:59.528046Z",
     "iopub.status.idle": "2024-05-26T17:13:59.542035Z",
     "shell.execute_reply": "2024-05-26T17:13:59.540741Z",
     "shell.execute_reply.started": "2024-05-26T17:13:59.528046Z"
    }
   },
   "outputs": [],
   "source": [
    "import pandas as pd\n",
    "import requests\n",
    "from bs4 import BeautifulSoup"
   ]
  },
  {
   "cell_type": "markdown",
   "id": "5944e38f-99a0-4f1f-b3ba-e9f07717e13f",
   "metadata": {
    "execution": {
     "iopub.execute_input": "2024-05-26T04:08:52.223707Z",
     "iopub.status.busy": "2024-05-26T04:08:52.223707Z",
     "iopub.status.idle": "2024-05-26T04:08:52.245792Z",
     "shell.execute_reply": "2024-05-26T04:08:52.245792Z",
     "shell.execute_reply.started": "2024-05-26T04:08:52.223707Z"
    }
   },
   "source": [
    "Download the webpage at the url"
   ]
  },
  {
   "cell_type": "code",
   "execution_count": 79,
   "id": "1f2d4d72-3a37-4659-833d-3686f027864f",
   "metadata": {
    "execution": {
     "iopub.execute_input": "2024-05-26T17:13:59.544210Z",
     "iopub.status.busy": "2024-05-26T17:13:59.542035Z",
     "iopub.status.idle": "2024-05-26T17:14:00.759528Z",
     "shell.execute_reply": "2024-05-26T17:14:00.759528Z",
     "shell.execute_reply.started": "2024-05-26T17:13:59.544210Z"
    }
   },
   "outputs": [],
   "source": [
    "PL_data = requests.get(PL_url).text"
   ]
  },
  {
   "cell_type": "markdown",
   "id": "466c086d-7363-444b-a18c-a685bc46e93d",
   "metadata": {
    "execution": {
     "iopub.execute_input": "2024-05-26T04:09:06.878276Z",
     "iopub.status.busy": "2024-05-26T04:09:06.878276Z",
     "iopub.status.idle": "2024-05-26T04:09:06.889593Z",
     "shell.execute_reply": "2024-05-26T04:09:06.888320Z",
     "shell.execute_reply.started": "2024-05-26T04:09:06.878276Z"
    }
   },
   "source": [
    "Create a soup object"
   ]
  },
  {
   "cell_type": "code",
   "execution_count": 80,
   "id": "634e3f02-2621-468a-a305-209c2038b107",
   "metadata": {
    "execution": {
     "iopub.execute_input": "2024-05-26T17:14:00.759528Z",
     "iopub.status.busy": "2024-05-26T17:14:00.759528Z",
     "iopub.status.idle": "2024-05-26T17:14:00.792855Z",
     "shell.execute_reply": "2024-05-26T17:14:00.792855Z",
     "shell.execute_reply.started": "2024-05-26T17:14:00.759528Z"
    }
   },
   "outputs": [],
   "source": [
    "PL_soup = BeautifulSoup(PL_data, \"html5lib\")"
   ]
  },
  {
   "cell_type": "markdown",
   "id": "1a10f848-7911-48ae-95ed-99f119f2aca2",
   "metadata": {},
   "source": [
    "Scrape the Language name and annual average salary."
   ]
  },
  {
   "cell_type": "code",
   "execution_count": 81,
   "id": "bfdd5ea4-5d76-4c43-b9d5-2e01fb553297",
   "metadata": {
    "execution": {
     "iopub.execute_input": "2024-05-26T17:14:00.792855Z",
     "iopub.status.busy": "2024-05-26T17:14:00.792855Z",
     "iopub.status.idle": "2024-05-26T17:14:00.809704Z",
     "shell.execute_reply": "2024-05-26T17:14:00.808470Z",
     "shell.execute_reply.started": "2024-05-26T17:14:00.792855Z"
    }
   },
   "outputs": [],
   "source": [
    "PL_tables = PL_soup.find('table')"
   ]
  },
  {
   "cell_type": "code",
   "execution_count": 82,
   "id": "337d1a1d-0e00-4ece-be83-49c8518f34f3",
   "metadata": {
    "execution": {
     "iopub.execute_input": "2024-05-26T17:14:00.811475Z",
     "iopub.status.busy": "2024-05-26T17:14:00.811475Z",
     "iopub.status.idle": "2024-05-26T17:14:00.823013Z",
     "shell.execute_reply": "2024-05-26T17:14:00.821977Z",
     "shell.execute_reply.started": "2024-05-26T17:14:00.811475Z"
    }
   },
   "outputs": [
    {
     "name": "stdout",
     "output_type": "stream",
     "text": [
      "Language---->Average Annual Salary\n",
      "Python---->$114,383\n",
      "Java---->$101,013\n",
      "R---->$92,037\n",
      "Javascript---->$110,981\n",
      "Swift---->$130,801\n",
      "C++---->$113,865\n",
      "C#---->$88,726\n",
      "PHP---->$84,727\n",
      "SQL---->$84,793\n",
      "Go---->$94,082\n"
     ]
    }
   ],
   "source": [
    "data_PL =[]\n",
    "for row in PL_tables.find_all('tr'):\n",
    "    cols = row.find_all('td')\n",
    "    language_name = cols[1].getText()\n",
    "    annual_average_salary = cols[3].getText()\n",
    "    data_PL.append([language_name, annual_average_salary])\n",
    "    print(\"{}---->{}\".format(language_name, annual_average_salary))"
   ]
  },
  {
   "cell_type": "code",
   "execution_count": 83,
   "id": "7b345e1a-dcfc-4f53-b951-969463372bf7",
   "metadata": {
    "execution": {
     "iopub.execute_input": "2024-05-26T17:14:00.825397Z",
     "iopub.status.busy": "2024-05-26T17:14:00.825397Z",
     "iopub.status.idle": "2024-05-26T17:14:00.854456Z",
     "shell.execute_reply": "2024-05-26T17:14:00.852631Z",
     "shell.execute_reply.started": "2024-05-26T17:14:00.825397Z"
    }
   },
   "outputs": [
    {
     "data": {
      "text/html": [
       "<div>\n",
       "<style scoped>\n",
       "    .dataframe tbody tr th:only-of-type {\n",
       "        vertical-align: middle;\n",
       "    }\n",
       "\n",
       "    .dataframe tbody tr th {\n",
       "        vertical-align: top;\n",
       "    }\n",
       "\n",
       "    .dataframe thead th {\n",
       "        text-align: right;\n",
       "    }\n",
       "</style>\n",
       "<table border=\"1\" class=\"dataframe\">\n",
       "  <thead>\n",
       "    <tr style=\"text-align: right;\">\n",
       "      <th></th>\n",
       "      <th>Language</th>\n",
       "      <th>Average Annual Salary</th>\n",
       "    </tr>\n",
       "  </thead>\n",
       "  <tbody>\n",
       "    <tr>\n",
       "      <th>0</th>\n",
       "      <td>Language</td>\n",
       "      <td>Average Annual Salary</td>\n",
       "    </tr>\n",
       "    <tr>\n",
       "      <th>1</th>\n",
       "      <td>Python</td>\n",
       "      <td>$114,383</td>\n",
       "    </tr>\n",
       "    <tr>\n",
       "      <th>2</th>\n",
       "      <td>Java</td>\n",
       "      <td>$101,013</td>\n",
       "    </tr>\n",
       "    <tr>\n",
       "      <th>3</th>\n",
       "      <td>R</td>\n",
       "      <td>$92,037</td>\n",
       "    </tr>\n",
       "    <tr>\n",
       "      <th>4</th>\n",
       "      <td>Javascript</td>\n",
       "      <td>$110,981</td>\n",
       "    </tr>\n",
       "    <tr>\n",
       "      <th>5</th>\n",
       "      <td>Swift</td>\n",
       "      <td>$130,801</td>\n",
       "    </tr>\n",
       "    <tr>\n",
       "      <th>6</th>\n",
       "      <td>C++</td>\n",
       "      <td>$113,865</td>\n",
       "    </tr>\n",
       "    <tr>\n",
       "      <th>7</th>\n",
       "      <td>C#</td>\n",
       "      <td>$88,726</td>\n",
       "    </tr>\n",
       "    <tr>\n",
       "      <th>8</th>\n",
       "      <td>PHP</td>\n",
       "      <td>$84,727</td>\n",
       "    </tr>\n",
       "    <tr>\n",
       "      <th>9</th>\n",
       "      <td>SQL</td>\n",
       "      <td>$84,793</td>\n",
       "    </tr>\n",
       "    <tr>\n",
       "      <th>10</th>\n",
       "      <td>Go</td>\n",
       "      <td>$94,082</td>\n",
       "    </tr>\n",
       "  </tbody>\n",
       "</table>\n",
       "</div>"
      ],
      "text/plain": [
       "      Language  Average Annual Salary\n",
       "0     Language  Average Annual Salary\n",
       "1       Python               $114,383\n",
       "2         Java               $101,013\n",
       "3            R                $92,037\n",
       "4   Javascript               $110,981\n",
       "5        Swift               $130,801\n",
       "6          C++               $113,865\n",
       "7           C#                $88,726\n",
       "8          PHP                $84,727\n",
       "9          SQL                $84,793\n",
       "10          Go                $94,082"
      ]
     },
     "execution_count": 83,
     "metadata": {},
     "output_type": "execute_result"
    }
   ],
   "source": [
    "PL_df = pd.DataFrame(data_PL, columns=['Language', 'Average Annual Salary'])\n",
    "PL_df"
   ]
  },
  {
   "cell_type": "markdown",
   "id": "6fffe0d8-d15f-470d-85ba-a41bddac71e9",
   "metadata": {},
   "source": [
    "Save the scrapped data into a file named popular-languages.csv"
   ]
  },
  {
   "cell_type": "code",
   "execution_count": 84,
   "id": "ec033cd8-1c54-4acf-ba0b-392dcdcc14ea",
   "metadata": {
    "execution": {
     "iopub.execute_input": "2024-05-26T17:14:00.855499Z",
     "iopub.status.busy": "2024-05-26T17:14:00.855499Z",
     "iopub.status.idle": "2024-05-26T17:14:00.878654Z",
     "shell.execute_reply": "2024-05-26T17:14:00.877293Z",
     "shell.execute_reply.started": "2024-05-26T17:14:00.855499Z"
    }
   },
   "outputs": [
    {
     "name": "stdout",
     "output_type": "stream",
     "text": [
      "files has been saved\n"
     ]
    }
   ],
   "source": [
    "PL_File = 'popular-languages.csv'\n",
    "PL_df.to_csv(PL_File, index=False)\n",
    "print('files has been saved')"
   ]
  },
  {
   "cell_type": "markdown",
   "id": "7b9ebe8b-48cb-42ca-974f-68401f8a53b9",
   "metadata": {},
   "source": [
    "Load CSV Files"
   ]
  },
  {
   "cell_type": "code",
   "execution_count": 85,
   "id": "73f66a32-4712-401d-896c-c63adb5e24e1",
   "metadata": {
    "execution": {
     "iopub.execute_input": "2024-05-26T17:14:00.878654Z",
     "iopub.status.busy": "2024-05-26T17:14:00.878654Z",
     "iopub.status.idle": "2024-05-26T17:14:00.900922Z",
     "shell.execute_reply": "2024-05-26T17:14:00.900922Z",
     "shell.execute_reply.started": "2024-05-26T17:14:00.878654Z"
    }
   },
   "outputs": [
    {
     "data": {
      "text/html": [
       "<div>\n",
       "<style scoped>\n",
       "    .dataframe tbody tr th:only-of-type {\n",
       "        vertical-align: middle;\n",
       "    }\n",
       "\n",
       "    .dataframe tbody tr th {\n",
       "        vertical-align: top;\n",
       "    }\n",
       "\n",
       "    .dataframe thead th {\n",
       "        text-align: right;\n",
       "    }\n",
       "</style>\n",
       "<table border=\"1\" class=\"dataframe\">\n",
       "  <thead>\n",
       "    <tr style=\"text-align: right;\">\n",
       "      <th></th>\n",
       "      <th>Language</th>\n",
       "      <th>Average Annual Salary</th>\n",
       "    </tr>\n",
       "  </thead>\n",
       "  <tbody>\n",
       "    <tr>\n",
       "      <th>0</th>\n",
       "      <td>Language</td>\n",
       "      <td>Average Annual Salary</td>\n",
       "    </tr>\n",
       "    <tr>\n",
       "      <th>1</th>\n",
       "      <td>Python</td>\n",
       "      <td>$114,383</td>\n",
       "    </tr>\n",
       "    <tr>\n",
       "      <th>2</th>\n",
       "      <td>Java</td>\n",
       "      <td>$101,013</td>\n",
       "    </tr>\n",
       "    <tr>\n",
       "      <th>3</th>\n",
       "      <td>R</td>\n",
       "      <td>$92,037</td>\n",
       "    </tr>\n",
       "    <tr>\n",
       "      <th>4</th>\n",
       "      <td>Javascript</td>\n",
       "      <td>$110,981</td>\n",
       "    </tr>\n",
       "    <tr>\n",
       "      <th>5</th>\n",
       "      <td>Swift</td>\n",
       "      <td>$130,801</td>\n",
       "    </tr>\n",
       "    <tr>\n",
       "      <th>6</th>\n",
       "      <td>C++</td>\n",
       "      <td>$113,865</td>\n",
       "    </tr>\n",
       "    <tr>\n",
       "      <th>7</th>\n",
       "      <td>C#</td>\n",
       "      <td>$88,726</td>\n",
       "    </tr>\n",
       "    <tr>\n",
       "      <th>8</th>\n",
       "      <td>PHP</td>\n",
       "      <td>$84,727</td>\n",
       "    </tr>\n",
       "    <tr>\n",
       "      <th>9</th>\n",
       "      <td>SQL</td>\n",
       "      <td>$84,793</td>\n",
       "    </tr>\n",
       "    <tr>\n",
       "      <th>10</th>\n",
       "      <td>Go</td>\n",
       "      <td>$94,082</td>\n",
       "    </tr>\n",
       "  </tbody>\n",
       "</table>\n",
       "</div>"
      ],
      "text/plain": [
       "      Language  Average Annual Salary\n",
       "0     Language  Average Annual Salary\n",
       "1       Python               $114,383\n",
       "2         Java               $101,013\n",
       "3            R                $92,037\n",
       "4   Javascript               $110,981\n",
       "5        Swift               $130,801\n",
       "6          C++               $113,865\n",
       "7           C#                $88,726\n",
       "8          PHP                $84,727\n",
       "9          SQL                $84,793\n",
       "10          Go                $94,082"
      ]
     },
     "execution_count": 85,
     "metadata": {},
     "output_type": "execute_result"
    }
   ],
   "source": [
    "PL_save = pd.read_csv('popular-languages.csv')\n",
    "PL_save"
   ]
  },
  {
   "cell_type": "markdown",
   "id": "cba3c68d-00b4-4541-9fbd-705d376c7d46",
   "metadata": {
    "execution": {
     "iopub.execute_input": "2024-05-26T04:31:08.044859Z",
     "iopub.status.busy": "2024-05-26T04:31:08.044859Z",
     "iopub.status.idle": "2024-05-26T04:31:08.067768Z",
     "shell.execute_reply": "2024-05-26T04:31:08.067768Z",
     "shell.execute_reply.started": "2024-05-26T04:31:08.044859Z"
    }
   },
   "source": [
    "#### **Pandas Scrapping Methode**"
   ]
  },
  {
   "cell_type": "code",
   "execution_count": 86,
   "id": "f39fe13d-4ab3-472e-8d10-0627602486f9",
   "metadata": {
    "execution": {
     "iopub.execute_input": "2024-05-26T17:14:00.905429Z",
     "iopub.status.busy": "2024-05-26T17:14:00.900922Z",
     "iopub.status.idle": "2024-05-26T17:14:02.140295Z",
     "shell.execute_reply": "2024-05-26T17:14:02.140295Z",
     "shell.execute_reply.started": "2024-05-26T17:14:00.905429Z"
    }
   },
   "outputs": [
    {
     "name": "stdout",
     "output_type": "stream",
     "text": [
      "   No.    Language                                 Created By  \\\n",
      "0    1      Python                           Guido van Rossum   \n",
      "1    2        Java                              James Gosling   \n",
      "2    3           R               Robert Gentleman, Ross Ihaka   \n",
      "3    4  Javascript                                   Netscape   \n",
      "4    5       Swift                                      Apple   \n",
      "5    6         C++                          Bjarne Stroustrup   \n",
      "6    7          C#                                  Microsoft   \n",
      "7    8         PHP                             Rasmus Lerdorf   \n",
      "8    9         SQL    Donald D. Chamberlin, Raymond F. Boyce.   \n",
      "9   10          Go  Robert Griesemer, Ken Thompson, Rob Pike.   \n",
      "\n",
      "  Average Annual Salary Learning Difficulty  \n",
      "0              $114,383                Easy  \n",
      "1              $101,013                Easy  \n",
      "2               $92,037                Hard  \n",
      "3              $110,981                Easy  \n",
      "4              $130,801                Easy  \n",
      "5              $113,865                Hard  \n",
      "6               $88,726                Hard  \n",
      "7               $84,727                Easy  \n",
      "8               $84,793                Easy  \n",
      "9               $94,082           Difficult  \n"
     ]
    }
   ],
   "source": [
    "PL_tables = pd.read_html(PL_url, header=0)\n",
    "df_PL = PL_tables[0]\n",
    "data_PL = pd.DataFrame(df_PL)\n",
    "print(data_PL)"
   ]
  },
  {
   "cell_type": "markdown",
   "id": "a883e37a-0bd5-4095-a4c4-841d24719ed2",
   "metadata": {},
   "source": [
    "Hapus List Row Yang Tidak Dibutuhkan"
   ]
  },
  {
   "cell_type": "code",
   "execution_count": 87,
   "id": "a6e6fa88-be79-4e00-add3-42ed13556d99",
   "metadata": {
    "execution": {
     "iopub.execute_input": "2024-05-26T17:14:02.140295Z",
     "iopub.status.busy": "2024-05-26T17:14:02.140295Z",
     "iopub.status.idle": "2024-05-26T17:14:02.196044Z",
     "shell.execute_reply": "2024-05-26T17:14:02.191906Z",
     "shell.execute_reply.started": "2024-05-26T17:14:02.140295Z"
    }
   },
   "outputs": [
    {
     "data": {
      "text/html": [
       "<div>\n",
       "<style scoped>\n",
       "    .dataframe tbody tr th:only-of-type {\n",
       "        vertical-align: middle;\n",
       "    }\n",
       "\n",
       "    .dataframe tbody tr th {\n",
       "        vertical-align: top;\n",
       "    }\n",
       "\n",
       "    .dataframe thead th {\n",
       "        text-align: right;\n",
       "    }\n",
       "</style>\n",
       "<table border=\"1\" class=\"dataframe\">\n",
       "  <thead>\n",
       "    <tr style=\"text-align: right;\">\n",
       "      <th></th>\n",
       "      <th>Language</th>\n",
       "      <th>Average Annual Salary</th>\n",
       "    </tr>\n",
       "  </thead>\n",
       "  <tbody>\n",
       "    <tr>\n",
       "      <th>0</th>\n",
       "      <td>Python</td>\n",
       "      <td>$114,383</td>\n",
       "    </tr>\n",
       "    <tr>\n",
       "      <th>1</th>\n",
       "      <td>Java</td>\n",
       "      <td>$101,013</td>\n",
       "    </tr>\n",
       "    <tr>\n",
       "      <th>2</th>\n",
       "      <td>R</td>\n",
       "      <td>$92,037</td>\n",
       "    </tr>\n",
       "    <tr>\n",
       "      <th>3</th>\n",
       "      <td>Javascript</td>\n",
       "      <td>$110,981</td>\n",
       "    </tr>\n",
       "    <tr>\n",
       "      <th>4</th>\n",
       "      <td>Swift</td>\n",
       "      <td>$130,801</td>\n",
       "    </tr>\n",
       "    <tr>\n",
       "      <th>5</th>\n",
       "      <td>C++</td>\n",
       "      <td>$113,865</td>\n",
       "    </tr>\n",
       "    <tr>\n",
       "      <th>6</th>\n",
       "      <td>C#</td>\n",
       "      <td>$88,726</td>\n",
       "    </tr>\n",
       "    <tr>\n",
       "      <th>7</th>\n",
       "      <td>PHP</td>\n",
       "      <td>$84,727</td>\n",
       "    </tr>\n",
       "    <tr>\n",
       "      <th>8</th>\n",
       "      <td>SQL</td>\n",
       "      <td>$84,793</td>\n",
       "    </tr>\n",
       "    <tr>\n",
       "      <th>9</th>\n",
       "      <td>Go</td>\n",
       "      <td>$94,082</td>\n",
       "    </tr>\n",
       "  </tbody>\n",
       "</table>\n",
       "</div>"
      ],
      "text/plain": [
       "     Language Average Annual Salary\n",
       "0      Python              $114,383\n",
       "1        Java              $101,013\n",
       "2           R               $92,037\n",
       "3  Javascript              $110,981\n",
       "4       Swift              $130,801\n",
       "5         C++              $113,865\n",
       "6          C#               $88,726\n",
       "7         PHP               $84,727\n",
       "8         SQL               $84,793\n",
       "9          Go               $94,082"
      ]
     },
     "execution_count": 87,
     "metadata": {},
     "output_type": "execute_result"
    }
   ],
   "source": [
    "data_PL = data_PL.drop(['No.', 'Created By','Learning Difficulty'], axis=1)\n",
    "PL = pd.DataFrame(data_PL)\n",
    "PL"
   ]
  },
  {
   "cell_type": "markdown",
   "id": "37896779-cf12-4657-a613-0253e93706c9",
   "metadata": {},
   "source": [
    "Save File To Excel\n"
   ]
  },
  {
   "cell_type": "code",
   "execution_count": 88,
   "id": "89d46538-809f-4281-b7a3-529f53ea4e59",
   "metadata": {
    "execution": {
     "iopub.execute_input": "2024-05-26T17:14:02.196044Z",
     "iopub.status.busy": "2024-05-26T17:14:02.196044Z",
     "iopub.status.idle": "2024-05-26T17:14:02.268183Z",
     "shell.execute_reply": "2024-05-26T17:14:02.268183Z",
     "shell.execute_reply.started": "2024-05-26T17:14:02.196044Z"
    }
   },
   "outputs": [
    {
     "name": "stdout",
     "output_type": "stream",
     "text": [
      "files has been saved\n"
     ]
    }
   ],
   "source": [
    "PL_File = 'popular-languages.xlsx'\n",
    "PL_df.to_excel(PL_File, index=False)\n",
    "print('files has been saved')"
   ]
  },
  {
   "cell_type": "markdown",
   "id": "c0ae1326-a678-4756-8bb3-7480d82e7276",
   "metadata": {},
   "source": [
    "Load Excel Files"
   ]
  },
  {
   "cell_type": "code",
   "execution_count": 89,
   "id": "0797edec-47a7-4b8c-8661-b856a7915712",
   "metadata": {
    "execution": {
     "iopub.execute_input": "2024-05-26T17:14:02.270845Z",
     "iopub.status.busy": "2024-05-26T17:14:02.270845Z",
     "iopub.status.idle": "2024-05-26T17:14:02.332970Z",
     "shell.execute_reply": "2024-05-26T17:14:02.332970Z",
     "shell.execute_reply.started": "2024-05-26T17:14:02.270845Z"
    }
   },
   "outputs": [
    {
     "data": {
      "text/html": [
       "<div>\n",
       "<style scoped>\n",
       "    .dataframe tbody tr th:only-of-type {\n",
       "        vertical-align: middle;\n",
       "    }\n",
       "\n",
       "    .dataframe tbody tr th {\n",
       "        vertical-align: top;\n",
       "    }\n",
       "\n",
       "    .dataframe thead th {\n",
       "        text-align: right;\n",
       "    }\n",
       "</style>\n",
       "<table border=\"1\" class=\"dataframe\">\n",
       "  <thead>\n",
       "    <tr style=\"text-align: right;\">\n",
       "      <th></th>\n",
       "      <th>Language</th>\n",
       "      <th>Average Annual Salary</th>\n",
       "    </tr>\n",
       "  </thead>\n",
       "  <tbody>\n",
       "    <tr>\n",
       "      <th>0</th>\n",
       "      <td>Language</td>\n",
       "      <td>Average Annual Salary</td>\n",
       "    </tr>\n",
       "    <tr>\n",
       "      <th>1</th>\n",
       "      <td>Python</td>\n",
       "      <td>$114,383</td>\n",
       "    </tr>\n",
       "    <tr>\n",
       "      <th>2</th>\n",
       "      <td>Java</td>\n",
       "      <td>$101,013</td>\n",
       "    </tr>\n",
       "    <tr>\n",
       "      <th>3</th>\n",
       "      <td>R</td>\n",
       "      <td>$92,037</td>\n",
       "    </tr>\n",
       "    <tr>\n",
       "      <th>4</th>\n",
       "      <td>Javascript</td>\n",
       "      <td>$110,981</td>\n",
       "    </tr>\n",
       "    <tr>\n",
       "      <th>5</th>\n",
       "      <td>Swift</td>\n",
       "      <td>$130,801</td>\n",
       "    </tr>\n",
       "    <tr>\n",
       "      <th>6</th>\n",
       "      <td>C++</td>\n",
       "      <td>$113,865</td>\n",
       "    </tr>\n",
       "    <tr>\n",
       "      <th>7</th>\n",
       "      <td>C#</td>\n",
       "      <td>$88,726</td>\n",
       "    </tr>\n",
       "    <tr>\n",
       "      <th>8</th>\n",
       "      <td>PHP</td>\n",
       "      <td>$84,727</td>\n",
       "    </tr>\n",
       "    <tr>\n",
       "      <th>9</th>\n",
       "      <td>SQL</td>\n",
       "      <td>$84,793</td>\n",
       "    </tr>\n",
       "    <tr>\n",
       "      <th>10</th>\n",
       "      <td>Go</td>\n",
       "      <td>$94,082</td>\n",
       "    </tr>\n",
       "  </tbody>\n",
       "</table>\n",
       "</div>"
      ],
      "text/plain": [
       "      Language  Average Annual Salary\n",
       "0     Language  Average Annual Salary\n",
       "1       Python               $114,383\n",
       "2         Java               $101,013\n",
       "3            R                $92,037\n",
       "4   Javascript               $110,981\n",
       "5        Swift               $130,801\n",
       "6          C++               $113,865\n",
       "7           C#                $88,726\n",
       "8          PHP                $84,727\n",
       "9          SQL                $84,793\n",
       "10          Go                $94,082"
      ]
     },
     "execution_count": 89,
     "metadata": {},
     "output_type": "execute_result"
    }
   ],
   "source": [
    "PL_save = pd.read_excel('popular-languages.xlsx')\n",
    "PL_save"
   ]
  },
  {
   "cell_type": "markdown",
   "id": "c4f4c95e-7505-428a-a898-ad6736b80e0a",
   "metadata": {
    "jp-MarkdownHeadingCollapsed": true
   },
   "source": [
    "## 3. Exploring Data"
   ]
  },
  {
   "cell_type": "markdown",
   "id": "ead5d3a9-a87b-434f-a054-e9284344ea86",
   "metadata": {},
   "source": [
    "### <li>Hands On Lab: 5 ETL</li>"
   ]
  },
  {
   "cell_type": "markdown",
   "id": "7e4d55cf-0753-4882-8751-9add4f6f1a69",
   "metadata": {},
   "source": [
    "#### **Survey Dataset Exploration Lab**\n",
    "#### Objectives\n",
    "-   Load the dataset that will used thru the capstone project.\n",
    "-   Explore the dataset.\n",
    "-   Get familier with the data types."
   ]
  },
  {
   "cell_type": "markdown",
   "id": "0fc2a884-6055-4155-958b-ae1a832593fb",
   "metadata": {},
   "source": [
    "#### Load The Dataset"
   ]
  },
  {
   "cell_type": "code",
   "execution_count": 90,
   "id": "b9325493-5465-40f0-b559-1a3e9f08ba42",
   "metadata": {
    "execution": {
     "iopub.execute_input": "2024-05-26T17:14:02.332970Z",
     "iopub.status.busy": "2024-05-26T17:14:02.332970Z",
     "iopub.status.idle": "2024-05-26T17:14:02.347468Z",
     "shell.execute_reply": "2024-05-26T17:14:02.346959Z",
     "shell.execute_reply.started": "2024-05-26T17:14:02.332970Z"
    }
   },
   "outputs": [],
   "source": [
    "import pandas as pd"
   ]
  },
  {
   "cell_type": "markdown",
   "id": "54af2719-538f-4fa1-8227-315ad15317b5",
   "metadata": {},
   "source": [
    "The dataset is available on the IBM Cloud at the below url.\n"
   ]
  },
  {
   "cell_type": "code",
   "execution_count": 91,
   "id": "e431d3ef-2f37-4784-a00d-0dae7ab195f8",
   "metadata": {
    "execution": {
     "iopub.execute_input": "2024-05-26T17:14:02.348979Z",
     "iopub.status.busy": "2024-05-26T17:14:02.348979Z",
     "iopub.status.idle": "2024-05-26T17:14:02.359040Z",
     "shell.execute_reply": "2024-05-26T17:14:02.357846Z",
     "shell.execute_reply.started": "2024-05-26T17:14:02.348979Z"
    }
   },
   "outputs": [],
   "source": [
    "dataset_url = 'https://cf-courses-data.s3.us.cloud-object-storage.appdomain.cloud/IBM-DA0321EN-SkillsNetwork/LargeData/m1_survey_data.csv'"
   ]
  },
  {
   "cell_type": "markdown",
   "id": "cb2aeaf6-f76e-409c-97f5-97f6b2336557",
   "metadata": {},
   "source": [
    "Load the data available at dataset_url into a dataframe.\n"
   ]
  },
  {
   "cell_type": "code",
   "execution_count": 97,
   "id": "80152bc5-08ba-48e7-b171-c77982576615",
   "metadata": {
    "execution": {
     "iopub.execute_input": "2024-05-26T17:19:10.260968Z",
     "iopub.status.busy": "2024-05-26T17:19:10.259494Z",
     "iopub.status.idle": "2024-05-26T17:19:23.397994Z",
     "shell.execute_reply": "2024-05-26T17:19:23.397994Z",
     "shell.execute_reply.started": "2024-05-26T17:19:10.260968Z"
    }
   },
   "outputs": [],
   "source": [
    "df_set = pd.read_csv(dataset_url)"
   ]
  },
  {
   "cell_type": "markdown",
   "id": "05e19a76-7e39-4cc7-9a16-4f0115c2194a",
   "metadata": {},
   "source": [
    "#### Explore the data set\n",
    "It is a good idea to print the top 5 rows of the dataset to get a feel of how the dataset will look.\n"
   ]
  },
  {
   "cell_type": "markdown",
   "id": "19a48261-4856-42d0-add8-35f26273b728",
   "metadata": {},
   "source": [
    "Display the top 5 rows and columns from your dataset.\n"
   ]
  },
  {
   "cell_type": "code",
   "execution_count": 111,
   "id": "55c79176-9a4e-4ee4-88a2-e42fa0078ee1",
   "metadata": {
    "execution": {
     "iopub.execute_input": "2024-05-26T17:25:15.813895Z",
     "iopub.status.busy": "2024-05-26T17:25:15.812383Z",
     "iopub.status.idle": "2024-05-26T17:25:15.847080Z",
     "shell.execute_reply": "2024-05-26T17:25:15.846073Z",
     "shell.execute_reply.started": "2024-05-26T17:25:15.813895Z"
    }
   },
   "outputs": [
    {
     "data": {
      "text/html": [
       "<div>\n",
       "<style scoped>\n",
       "    .dataframe tbody tr th:only-of-type {\n",
       "        vertical-align: middle;\n",
       "    }\n",
       "\n",
       "    .dataframe tbody tr th {\n",
       "        vertical-align: top;\n",
       "    }\n",
       "\n",
       "    .dataframe thead th {\n",
       "        text-align: right;\n",
       "    }\n",
       "</style>\n",
       "<table border=\"1\" class=\"dataframe\">\n",
       "  <thead>\n",
       "    <tr style=\"text-align: right;\">\n",
       "      <th></th>\n",
       "      <th>Respondent</th>\n",
       "      <th>MainBranch</th>\n",
       "      <th>Hobbyist</th>\n",
       "      <th>OpenSourcer</th>\n",
       "      <th>OpenSource</th>\n",
       "      <th>Employment</th>\n",
       "      <th>Country</th>\n",
       "      <th>Student</th>\n",
       "      <th>EdLevel</th>\n",
       "      <th>UndergradMajor</th>\n",
       "      <th>...</th>\n",
       "      <th>WelcomeChange</th>\n",
       "      <th>SONewContent</th>\n",
       "      <th>Age</th>\n",
       "      <th>Gender</th>\n",
       "      <th>Trans</th>\n",
       "      <th>Sexuality</th>\n",
       "      <th>Ethnicity</th>\n",
       "      <th>Dependents</th>\n",
       "      <th>SurveyLength</th>\n",
       "      <th>SurveyEase</th>\n",
       "    </tr>\n",
       "  </thead>\n",
       "  <tbody>\n",
       "    <tr>\n",
       "      <th>0</th>\n",
       "      <td>4</td>\n",
       "      <td>I am a developer by profession</td>\n",
       "      <td>No</td>\n",
       "      <td>Never</td>\n",
       "      <td>The quality of OSS and closed source software ...</td>\n",
       "      <td>Employed full-time</td>\n",
       "      <td>United States</td>\n",
       "      <td>No</td>\n",
       "      <td>Bachelor’s degree (BA, BS, B.Eng., etc.)</td>\n",
       "      <td>Computer science, computer engineering, or sof...</td>\n",
       "      <td>...</td>\n",
       "      <td>Just as welcome now as I felt last year</td>\n",
       "      <td>Tech articles written by other developers;Indu...</td>\n",
       "      <td>22.0</td>\n",
       "      <td>Man</td>\n",
       "      <td>No</td>\n",
       "      <td>Straight / Heterosexual</td>\n",
       "      <td>White or of European descent</td>\n",
       "      <td>No</td>\n",
       "      <td>Appropriate in length</td>\n",
       "      <td>Easy</td>\n",
       "    </tr>\n",
       "    <tr>\n",
       "      <th>1</th>\n",
       "      <td>9</td>\n",
       "      <td>I am a developer by profession</td>\n",
       "      <td>Yes</td>\n",
       "      <td>Once a month or more often</td>\n",
       "      <td>The quality of OSS and closed source software ...</td>\n",
       "      <td>Employed full-time</td>\n",
       "      <td>New Zealand</td>\n",
       "      <td>No</td>\n",
       "      <td>Some college/university study without earning ...</td>\n",
       "      <td>Computer science, computer engineering, or sof...</td>\n",
       "      <td>...</td>\n",
       "      <td>Just as welcome now as I felt last year</td>\n",
       "      <td>NaN</td>\n",
       "      <td>23.0</td>\n",
       "      <td>Man</td>\n",
       "      <td>No</td>\n",
       "      <td>Bisexual</td>\n",
       "      <td>White or of European descent</td>\n",
       "      <td>No</td>\n",
       "      <td>Appropriate in length</td>\n",
       "      <td>Neither easy nor difficult</td>\n",
       "    </tr>\n",
       "    <tr>\n",
       "      <th>2</th>\n",
       "      <td>13</td>\n",
       "      <td>I am a developer by profession</td>\n",
       "      <td>Yes</td>\n",
       "      <td>Less than once a month but more than once per ...</td>\n",
       "      <td>OSS is, on average, of HIGHER quality than pro...</td>\n",
       "      <td>Employed full-time</td>\n",
       "      <td>United States</td>\n",
       "      <td>No</td>\n",
       "      <td>Master’s degree (MA, MS, M.Eng., MBA, etc.)</td>\n",
       "      <td>Computer science, computer engineering, or sof...</td>\n",
       "      <td>...</td>\n",
       "      <td>Somewhat more welcome now than last year</td>\n",
       "      <td>Tech articles written by other developers;Cour...</td>\n",
       "      <td>28.0</td>\n",
       "      <td>Man</td>\n",
       "      <td>No</td>\n",
       "      <td>Straight / Heterosexual</td>\n",
       "      <td>White or of European descent</td>\n",
       "      <td>Yes</td>\n",
       "      <td>Appropriate in length</td>\n",
       "      <td>Easy</td>\n",
       "    </tr>\n",
       "    <tr>\n",
       "      <th>3</th>\n",
       "      <td>16</td>\n",
       "      <td>I am a developer by profession</td>\n",
       "      <td>Yes</td>\n",
       "      <td>Never</td>\n",
       "      <td>The quality of OSS and closed source software ...</td>\n",
       "      <td>Employed full-time</td>\n",
       "      <td>United Kingdom</td>\n",
       "      <td>No</td>\n",
       "      <td>Master’s degree (MA, MS, M.Eng., MBA, etc.)</td>\n",
       "      <td>NaN</td>\n",
       "      <td>...</td>\n",
       "      <td>Just as welcome now as I felt last year</td>\n",
       "      <td>Tech articles written by other developers;Indu...</td>\n",
       "      <td>26.0</td>\n",
       "      <td>Man</td>\n",
       "      <td>No</td>\n",
       "      <td>Straight / Heterosexual</td>\n",
       "      <td>White or of European descent</td>\n",
       "      <td>No</td>\n",
       "      <td>Appropriate in length</td>\n",
       "      <td>Neither easy nor difficult</td>\n",
       "    </tr>\n",
       "    <tr>\n",
       "      <th>4</th>\n",
       "      <td>17</td>\n",
       "      <td>I am a developer by profession</td>\n",
       "      <td>Yes</td>\n",
       "      <td>Less than once a month but more than once per ...</td>\n",
       "      <td>The quality of OSS and closed source software ...</td>\n",
       "      <td>Employed full-time</td>\n",
       "      <td>Australia</td>\n",
       "      <td>No</td>\n",
       "      <td>Bachelor’s degree (BA, BS, B.Eng., etc.)</td>\n",
       "      <td>Computer science, computer engineering, or sof...</td>\n",
       "      <td>...</td>\n",
       "      <td>Just as welcome now as I felt last year</td>\n",
       "      <td>Tech articles written by other developers;Indu...</td>\n",
       "      <td>29.0</td>\n",
       "      <td>Man</td>\n",
       "      <td>No</td>\n",
       "      <td>Straight / Heterosexual</td>\n",
       "      <td>Hispanic or Latino/Latina;Multiracial</td>\n",
       "      <td>No</td>\n",
       "      <td>Appropriate in length</td>\n",
       "      <td>Easy</td>\n",
       "    </tr>\n",
       "  </tbody>\n",
       "</table>\n",
       "<p>5 rows × 85 columns</p>\n",
       "</div>"
      ],
      "text/plain": [
       "   Respondent                      MainBranch Hobbyist  \\\n",
       "0           4  I am a developer by profession       No   \n",
       "1           9  I am a developer by profession      Yes   \n",
       "2          13  I am a developer by profession      Yes   \n",
       "3          16  I am a developer by profession      Yes   \n",
       "4          17  I am a developer by profession      Yes   \n",
       "\n",
       "                                         OpenSourcer  \\\n",
       "0                                              Never   \n",
       "1                         Once a month or more often   \n",
       "2  Less than once a month but more than once per ...   \n",
       "3                                              Never   \n",
       "4  Less than once a month but more than once per ...   \n",
       "\n",
       "                                          OpenSource          Employment  \\\n",
       "0  The quality of OSS and closed source software ...  Employed full-time   \n",
       "1  The quality of OSS and closed source software ...  Employed full-time   \n",
       "2  OSS is, on average, of HIGHER quality than pro...  Employed full-time   \n",
       "3  The quality of OSS and closed source software ...  Employed full-time   \n",
       "4  The quality of OSS and closed source software ...  Employed full-time   \n",
       "\n",
       "          Country Student                                            EdLevel  \\\n",
       "0   United States      No           Bachelor’s degree (BA, BS, B.Eng., etc.)   \n",
       "1     New Zealand      No  Some college/university study without earning ...   \n",
       "2   United States      No        Master’s degree (MA, MS, M.Eng., MBA, etc.)   \n",
       "3  United Kingdom      No        Master’s degree (MA, MS, M.Eng., MBA, etc.)   \n",
       "4       Australia      No           Bachelor’s degree (BA, BS, B.Eng., etc.)   \n",
       "\n",
       "                                      UndergradMajor  ...  \\\n",
       "0  Computer science, computer engineering, or sof...  ...   \n",
       "1  Computer science, computer engineering, or sof...  ...   \n",
       "2  Computer science, computer engineering, or sof...  ...   \n",
       "3                                                NaN  ...   \n",
       "4  Computer science, computer engineering, or sof...  ...   \n",
       "\n",
       "                              WelcomeChange  \\\n",
       "0   Just as welcome now as I felt last year   \n",
       "1   Just as welcome now as I felt last year   \n",
       "2  Somewhat more welcome now than last year   \n",
       "3   Just as welcome now as I felt last year   \n",
       "4   Just as welcome now as I felt last year   \n",
       "\n",
       "                                        SONewContent   Age Gender Trans  \\\n",
       "0  Tech articles written by other developers;Indu...  22.0    Man    No   \n",
       "1                                                NaN  23.0    Man    No   \n",
       "2  Tech articles written by other developers;Cour...  28.0    Man    No   \n",
       "3  Tech articles written by other developers;Indu...  26.0    Man    No   \n",
       "4  Tech articles written by other developers;Indu...  29.0    Man    No   \n",
       "\n",
       "                 Sexuality                              Ethnicity Dependents  \\\n",
       "0  Straight / Heterosexual           White or of European descent         No   \n",
       "1                 Bisexual           White or of European descent         No   \n",
       "2  Straight / Heterosexual           White or of European descent        Yes   \n",
       "3  Straight / Heterosexual           White or of European descent         No   \n",
       "4  Straight / Heterosexual  Hispanic or Latino/Latina;Multiracial         No   \n",
       "\n",
       "            SurveyLength                  SurveyEase  \n",
       "0  Appropriate in length                        Easy  \n",
       "1  Appropriate in length  Neither easy nor difficult  \n",
       "2  Appropriate in length                        Easy  \n",
       "3  Appropriate in length  Neither easy nor difficult  \n",
       "4  Appropriate in length                        Easy  \n",
       "\n",
       "[5 rows x 85 columns]"
      ]
     },
     "execution_count": 111,
     "metadata": {},
     "output_type": "execute_result"
    }
   ],
   "source": [
    "df_set.head()"
   ]
  },
  {
   "cell_type": "markdown",
   "id": "af8c8bd7-db1f-4905-834f-5db98dfd26f6",
   "metadata": {},
   "source": [
    "#### Find out the number of rows and columns\n",
    "Start by exploring the numbers of rows and columns of data in the dataset."
   ]
  },
  {
   "cell_type": "markdown",
   "id": "66bcb79a-ca0c-41fb-a3c1-87f9551735e6",
   "metadata": {},
   "source": [
    "Print the number of rows in the dataset."
   ]
  },
  {
   "cell_type": "code",
   "execution_count": 112,
   "id": "39cae66f-1f47-4962-9f78-4f29c11a85e7",
   "metadata": {
    "execution": {
     "iopub.execute_input": "2024-05-26T17:25:16.910679Z",
     "iopub.status.busy": "2024-05-26T17:25:16.910679Z",
     "iopub.status.idle": "2024-05-26T17:25:16.936702Z",
     "shell.execute_reply": "2024-05-26T17:25:16.935388Z",
     "shell.execute_reply.started": "2024-05-26T17:25:16.910679Z"
    }
   },
   "outputs": [
    {
     "name": "stdout",
     "output_type": "stream",
     "text": [
      "Jumlah Row:  11552\n"
     ]
    }
   ],
   "source": [
    "print('Jumlah Row: ', df_set.shape[0])"
   ]
  },
  {
   "cell_type": "code",
   "execution_count": 113,
   "id": "e3e9550c-fc06-4c02-8d7d-9b1fab2c3fa3",
   "metadata": {
    "execution": {
     "iopub.execute_input": "2024-05-26T17:25:17.474377Z",
     "iopub.status.busy": "2024-05-26T17:25:17.474377Z",
     "iopub.status.idle": "2024-05-26T17:25:17.496142Z",
     "shell.execute_reply": "2024-05-26T17:25:17.496142Z",
     "shell.execute_reply.started": "2024-05-26T17:25:17.474377Z"
    }
   },
   "outputs": [
    {
     "name": "stdout",
     "output_type": "stream",
     "text": [
      "Jumlah columns:  85\n"
     ]
    }
   ],
   "source": [
    "print('Jumlah columns: ', df_set.shape[1])"
   ]
  },
  {
   "cell_type": "markdown",
   "id": "9c8b46b7-5cf7-492b-936f-d84b19d9cf28",
   "metadata": {},
   "source": [
    "#### Identify the data types of each column\n",
    "Explore the dataset and identify the data types of each column."
   ]
  },
  {
   "cell_type": "markdown",
   "id": "c0fb94c2-6ec9-4094-b18a-69a7bc655d0a",
   "metadata": {},
   "source": [
    "Print the datatype of all columns."
   ]
  },
  {
   "cell_type": "code",
   "execution_count": 117,
   "id": "840e4dd0-d47b-4417-b3e8-2ae462f15dbc",
   "metadata": {
    "execution": {
     "iopub.execute_input": "2024-05-26T17:28:11.986749Z",
     "iopub.status.busy": "2024-05-26T17:28:11.986749Z",
     "iopub.status.idle": "2024-05-26T17:28:12.003063Z",
     "shell.execute_reply": "2024-05-26T17:28:12.003063Z",
     "shell.execute_reply.started": "2024-05-26T17:28:11.986749Z"
    }
   },
   "outputs": [
    {
     "name": "stdout",
     "output_type": "stream",
     "text": [
      "Respondent       int64\n",
      "MainBranch      object\n",
      "Hobbyist        object\n",
      "OpenSourcer     object\n",
      "OpenSource      object\n",
      "                 ...  \n",
      "Sexuality       object\n",
      "Ethnicity       object\n",
      "Dependents      object\n",
      "SurveyLength    object\n",
      "SurveyEase      object\n",
      "Length: 85, dtype: object\n"
     ]
    }
   ],
   "source": [
    "print(df_set.dtypes)"
   ]
  },
  {
   "cell_type": "markdown",
   "id": "ef43e422-2981-49c0-8fd1-fb0ff1d234ca",
   "metadata": {},
   "source": [
    "Print the mean age of the survey participants."
   ]
  },
  {
   "cell_type": "code",
   "execution_count": 120,
   "id": "9cf6f2fb-0f81-4382-8755-c4a4a82f5908",
   "metadata": {
    "execution": {
     "iopub.execute_input": "2024-05-26T17:32:00.968514Z",
     "iopub.status.busy": "2024-05-26T17:32:00.968514Z",
     "iopub.status.idle": "2024-05-26T17:32:00.983966Z",
     "shell.execute_reply": "2024-05-26T17:32:00.982230Z",
     "shell.execute_reply.started": "2024-05-26T17:32:00.968514Z"
    }
   },
   "outputs": [
    {
     "name": "stdout",
     "output_type": "stream",
     "text": [
      "Rata-Rata Umur:  30.77239449133718\n"
     ]
    }
   ],
   "source": [
    "mean_age = df_set['Age'].mean()\n",
    "print('Rata-Rata Umur: ', mean_age)"
   ]
  },
  {
   "cell_type": "markdown",
   "id": "9c586d46-b348-4837-8ae6-7f70694ec01d",
   "metadata": {},
   "source": [
    "The dataset is the result of a world wide survey. Print how many unique countries are there in the Country column."
   ]
  },
  {
   "cell_type": "code",
   "execution_count": 121,
   "id": "9f7e160e-3792-48f5-8bfe-e377b91dd639",
   "metadata": {
    "execution": {
     "iopub.execute_input": "2024-05-26T17:33:07.790283Z",
     "iopub.status.busy": "2024-05-26T17:33:07.790283Z",
     "iopub.status.idle": "2024-05-26T17:33:07.804315Z",
     "shell.execute_reply": "2024-05-26T17:33:07.803306Z",
     "shell.execute_reply.started": "2024-05-26T17:33:07.790283Z"
    }
   },
   "outputs": [
    {
     "name": "stdout",
     "output_type": "stream",
     "text": [
      "Negara Unik:  135\n"
     ]
    }
   ],
   "source": [
    "unique_countries = df_set['Country'].nunique()\n",
    "print('Negara Unik: ', unique_countries)"
   ]
  },
  {
   "cell_type": "markdown",
   "id": "323618db-f882-4cfc-9fb9-68ae267d869c",
   "metadata": {
    "jp-MarkdownHeadingCollapsed": true
   },
   "source": [
    "# Module 2: Data Wrangling"
   ]
  },
  {
   "cell_type": "markdown",
   "id": "65f8c10c-6b43-4427-8ad9-0669b1f4b10e",
   "metadata": {
    "execution": {
     "iopub.execute_input": "2024-05-28T07:33:07.744156Z",
     "iopub.status.busy": "2024-05-28T07:33:07.744156Z",
     "iopub.status.idle": "2024-05-28T07:33:07.750751Z",
     "shell.execute_reply": "2024-05-28T07:33:07.750751Z",
     "shell.execute_reply.started": "2024-05-28T07:33:07.744156Z"
    }
   },
   "source": [
    "### Objectives\n",
    "-   Identify duplicate values in the dataset.\n",
    "\n",
    "-   Remove duplicate values from the dataset.\n",
    "\n",
    "-   Identify missing values in the dataset.\n",
    "\n",
    "-   Impute the missing values in the dataset.\n",
    "\n",
    "-   Normalize data in the dataset.\n"
   ]
  },
  {
   "cell_type": "markdown",
   "id": "15609a04-83e5-4c93-855b-5047757cb476",
   "metadata": {},
   "source": [
    "#### Import pandas module."
   ]
  },
  {
   "cell_type": "code",
   "execution_count": 1,
   "id": "e599c760-c755-42b8-b398-59a762f9ac3f",
   "metadata": {
    "execution": {
     "iopub.execute_input": "2024-05-28T23:16:04.696440Z",
     "iopub.status.busy": "2024-05-28T23:16:04.696440Z",
     "iopub.status.idle": "2024-05-28T23:16:06.342443Z",
     "shell.execute_reply": "2024-05-28T23:16:06.342443Z",
     "shell.execute_reply.started": "2024-05-28T23:16:04.696440Z"
    }
   },
   "outputs": [],
   "source": [
    "import pandas as pd"
   ]
  },
  {
   "cell_type": "markdown",
   "id": "9de3ecc6-592d-46b7-b695-81490bf070f6",
   "metadata": {},
   "source": [
    "#### Read Data"
   ]
  },
  {
   "cell_type": "code",
   "execution_count": 2,
   "id": "77417577-ee0c-44d9-a1b5-201e177499c8",
   "metadata": {
    "execution": {
     "iopub.execute_input": "2024-05-28T23:16:06.347926Z",
     "iopub.status.busy": "2024-05-28T23:16:06.347926Z",
     "iopub.status.idle": "2024-05-28T23:16:06.365153Z",
     "shell.execute_reply": "2024-05-28T23:16:06.365153Z",
     "shell.execute_reply.started": "2024-05-28T23:16:06.347926Z"
    }
   },
   "outputs": [],
   "source": [
    "pathfile = \"https://cf-courses-data.s3.us.cloud-object-storage.appdomain.cloud/IBM-DA0321EN-SkillsNetwork/LargeData/m1_survey_data.csv\""
   ]
  },
  {
   "cell_type": "code",
   "execution_count": 3,
   "id": "afcc7c89-a8b8-48fe-a454-f04141c6d196",
   "metadata": {
    "execution": {
     "iopub.execute_input": "2024-05-28T23:16:06.368878Z",
     "iopub.status.busy": "2024-05-28T23:16:06.366945Z",
     "iopub.status.idle": "2024-05-28T23:17:26.180629Z",
     "shell.execute_reply": "2024-05-28T23:17:26.178159Z",
     "shell.execute_reply.started": "2024-05-28T23:16:06.368878Z"
    }
   },
   "outputs": [],
   "source": [
    "open_path = pd.read_csv(pathfile)"
   ]
  },
  {
   "cell_type": "code",
   "execution_count": 4,
   "id": "07c80771-73b4-4c91-9b82-b80ee9a49c2f",
   "metadata": {
    "execution": {
     "iopub.execute_input": "2024-05-28T23:17:26.182579Z",
     "iopub.status.busy": "2024-05-28T23:17:26.182579Z",
     "iopub.status.idle": "2024-05-28T23:17:26.323794Z",
     "shell.execute_reply": "2024-05-28T23:17:26.323282Z",
     "shell.execute_reply.started": "2024-05-28T23:17:26.182579Z"
    }
   },
   "outputs": [
    {
     "data": {
      "text/html": [
       "<div>\n",
       "<style scoped>\n",
       "    .dataframe tbody tr th:only-of-type {\n",
       "        vertical-align: middle;\n",
       "    }\n",
       "\n",
       "    .dataframe tbody tr th {\n",
       "        vertical-align: top;\n",
       "    }\n",
       "\n",
       "    .dataframe thead th {\n",
       "        text-align: right;\n",
       "    }\n",
       "</style>\n",
       "<table border=\"1\" class=\"dataframe\">\n",
       "  <thead>\n",
       "    <tr style=\"text-align: right;\">\n",
       "      <th></th>\n",
       "      <th>Respondent</th>\n",
       "      <th>MainBranch</th>\n",
       "      <th>Hobbyist</th>\n",
       "      <th>OpenSourcer</th>\n",
       "      <th>OpenSource</th>\n",
       "      <th>Employment</th>\n",
       "      <th>Country</th>\n",
       "      <th>Student</th>\n",
       "      <th>EdLevel</th>\n",
       "      <th>UndergradMajor</th>\n",
       "      <th>...</th>\n",
       "      <th>WelcomeChange</th>\n",
       "      <th>SONewContent</th>\n",
       "      <th>Age</th>\n",
       "      <th>Gender</th>\n",
       "      <th>Trans</th>\n",
       "      <th>Sexuality</th>\n",
       "      <th>Ethnicity</th>\n",
       "      <th>Dependents</th>\n",
       "      <th>SurveyLength</th>\n",
       "      <th>SurveyEase</th>\n",
       "    </tr>\n",
       "  </thead>\n",
       "  <tbody>\n",
       "    <tr>\n",
       "      <th>0</th>\n",
       "      <td>4</td>\n",
       "      <td>I am a developer by profession</td>\n",
       "      <td>No</td>\n",
       "      <td>Never</td>\n",
       "      <td>The quality of OSS and closed source software ...</td>\n",
       "      <td>Employed full-time</td>\n",
       "      <td>United States</td>\n",
       "      <td>No</td>\n",
       "      <td>Bachelor’s degree (BA, BS, B.Eng., etc.)</td>\n",
       "      <td>Computer science, computer engineering, or sof...</td>\n",
       "      <td>...</td>\n",
       "      <td>Just as welcome now as I felt last year</td>\n",
       "      <td>Tech articles written by other developers;Indu...</td>\n",
       "      <td>22.0</td>\n",
       "      <td>Man</td>\n",
       "      <td>No</td>\n",
       "      <td>Straight / Heterosexual</td>\n",
       "      <td>White or of European descent</td>\n",
       "      <td>No</td>\n",
       "      <td>Appropriate in length</td>\n",
       "      <td>Easy</td>\n",
       "    </tr>\n",
       "    <tr>\n",
       "      <th>1</th>\n",
       "      <td>9</td>\n",
       "      <td>I am a developer by profession</td>\n",
       "      <td>Yes</td>\n",
       "      <td>Once a month or more often</td>\n",
       "      <td>The quality of OSS and closed source software ...</td>\n",
       "      <td>Employed full-time</td>\n",
       "      <td>New Zealand</td>\n",
       "      <td>No</td>\n",
       "      <td>Some college/university study without earning ...</td>\n",
       "      <td>Computer science, computer engineering, or sof...</td>\n",
       "      <td>...</td>\n",
       "      <td>Just as welcome now as I felt last year</td>\n",
       "      <td>NaN</td>\n",
       "      <td>23.0</td>\n",
       "      <td>Man</td>\n",
       "      <td>No</td>\n",
       "      <td>Bisexual</td>\n",
       "      <td>White or of European descent</td>\n",
       "      <td>No</td>\n",
       "      <td>Appropriate in length</td>\n",
       "      <td>Neither easy nor difficult</td>\n",
       "    </tr>\n",
       "    <tr>\n",
       "      <th>2</th>\n",
       "      <td>13</td>\n",
       "      <td>I am a developer by profession</td>\n",
       "      <td>Yes</td>\n",
       "      <td>Less than once a month but more than once per ...</td>\n",
       "      <td>OSS is, on average, of HIGHER quality than pro...</td>\n",
       "      <td>Employed full-time</td>\n",
       "      <td>United States</td>\n",
       "      <td>No</td>\n",
       "      <td>Master’s degree (MA, MS, M.Eng., MBA, etc.)</td>\n",
       "      <td>Computer science, computer engineering, or sof...</td>\n",
       "      <td>...</td>\n",
       "      <td>Somewhat more welcome now than last year</td>\n",
       "      <td>Tech articles written by other developers;Cour...</td>\n",
       "      <td>28.0</td>\n",
       "      <td>Man</td>\n",
       "      <td>No</td>\n",
       "      <td>Straight / Heterosexual</td>\n",
       "      <td>White or of European descent</td>\n",
       "      <td>Yes</td>\n",
       "      <td>Appropriate in length</td>\n",
       "      <td>Easy</td>\n",
       "    </tr>\n",
       "    <tr>\n",
       "      <th>3</th>\n",
       "      <td>16</td>\n",
       "      <td>I am a developer by profession</td>\n",
       "      <td>Yes</td>\n",
       "      <td>Never</td>\n",
       "      <td>The quality of OSS and closed source software ...</td>\n",
       "      <td>Employed full-time</td>\n",
       "      <td>United Kingdom</td>\n",
       "      <td>No</td>\n",
       "      <td>Master’s degree (MA, MS, M.Eng., MBA, etc.)</td>\n",
       "      <td>NaN</td>\n",
       "      <td>...</td>\n",
       "      <td>Just as welcome now as I felt last year</td>\n",
       "      <td>Tech articles written by other developers;Indu...</td>\n",
       "      <td>26.0</td>\n",
       "      <td>Man</td>\n",
       "      <td>No</td>\n",
       "      <td>Straight / Heterosexual</td>\n",
       "      <td>White or of European descent</td>\n",
       "      <td>No</td>\n",
       "      <td>Appropriate in length</td>\n",
       "      <td>Neither easy nor difficult</td>\n",
       "    </tr>\n",
       "    <tr>\n",
       "      <th>4</th>\n",
       "      <td>17</td>\n",
       "      <td>I am a developer by profession</td>\n",
       "      <td>Yes</td>\n",
       "      <td>Less than once a month but more than once per ...</td>\n",
       "      <td>The quality of OSS and closed source software ...</td>\n",
       "      <td>Employed full-time</td>\n",
       "      <td>Australia</td>\n",
       "      <td>No</td>\n",
       "      <td>Bachelor’s degree (BA, BS, B.Eng., etc.)</td>\n",
       "      <td>Computer science, computer engineering, or sof...</td>\n",
       "      <td>...</td>\n",
       "      <td>Just as welcome now as I felt last year</td>\n",
       "      <td>Tech articles written by other developers;Indu...</td>\n",
       "      <td>29.0</td>\n",
       "      <td>Man</td>\n",
       "      <td>No</td>\n",
       "      <td>Straight / Heterosexual</td>\n",
       "      <td>Hispanic or Latino/Latina;Multiracial</td>\n",
       "      <td>No</td>\n",
       "      <td>Appropriate in length</td>\n",
       "      <td>Easy</td>\n",
       "    </tr>\n",
       "    <tr>\n",
       "      <th>...</th>\n",
       "      <td>...</td>\n",
       "      <td>...</td>\n",
       "      <td>...</td>\n",
       "      <td>...</td>\n",
       "      <td>...</td>\n",
       "      <td>...</td>\n",
       "      <td>...</td>\n",
       "      <td>...</td>\n",
       "      <td>...</td>\n",
       "      <td>...</td>\n",
       "      <td>...</td>\n",
       "      <td>...</td>\n",
       "      <td>...</td>\n",
       "      <td>...</td>\n",
       "      <td>...</td>\n",
       "      <td>...</td>\n",
       "      <td>...</td>\n",
       "      <td>...</td>\n",
       "      <td>...</td>\n",
       "      <td>...</td>\n",
       "      <td>...</td>\n",
       "    </tr>\n",
       "    <tr>\n",
       "      <th>11547</th>\n",
       "      <td>25136</td>\n",
       "      <td>I am a developer by profession</td>\n",
       "      <td>Yes</td>\n",
       "      <td>Never</td>\n",
       "      <td>OSS is, on average, of HIGHER quality than pro...</td>\n",
       "      <td>Employed full-time</td>\n",
       "      <td>United States</td>\n",
       "      <td>No</td>\n",
       "      <td>Master’s degree (MA, MS, M.Eng., MBA, etc.)</td>\n",
       "      <td>Computer science, computer engineering, or sof...</td>\n",
       "      <td>...</td>\n",
       "      <td>Just as welcome now as I felt last year</td>\n",
       "      <td>Tech articles written by other developers;Cour...</td>\n",
       "      <td>36.0</td>\n",
       "      <td>Man</td>\n",
       "      <td>No</td>\n",
       "      <td>Straight / Heterosexual</td>\n",
       "      <td>White or of European descent</td>\n",
       "      <td>No</td>\n",
       "      <td>Appropriate in length</td>\n",
       "      <td>Difficult</td>\n",
       "    </tr>\n",
       "    <tr>\n",
       "      <th>11548</th>\n",
       "      <td>25137</td>\n",
       "      <td>I am a developer by profession</td>\n",
       "      <td>Yes</td>\n",
       "      <td>Never</td>\n",
       "      <td>The quality of OSS and closed source software ...</td>\n",
       "      <td>Employed full-time</td>\n",
       "      <td>Poland</td>\n",
       "      <td>No</td>\n",
       "      <td>Master’s degree (MA, MS, M.Eng., MBA, etc.)</td>\n",
       "      <td>Computer science, computer engineering, or sof...</td>\n",
       "      <td>...</td>\n",
       "      <td>A lot more welcome now than last year</td>\n",
       "      <td>Tech articles written by other developers;Tech...</td>\n",
       "      <td>25.0</td>\n",
       "      <td>Man</td>\n",
       "      <td>No</td>\n",
       "      <td>Straight / Heterosexual</td>\n",
       "      <td>White or of European descent</td>\n",
       "      <td>No</td>\n",
       "      <td>Appropriate in length</td>\n",
       "      <td>Neither easy nor difficult</td>\n",
       "    </tr>\n",
       "    <tr>\n",
       "      <th>11549</th>\n",
       "      <td>25138</td>\n",
       "      <td>I am a developer by profession</td>\n",
       "      <td>Yes</td>\n",
       "      <td>Less than once per year</td>\n",
       "      <td>The quality of OSS and closed source software ...</td>\n",
       "      <td>Employed full-time</td>\n",
       "      <td>United States</td>\n",
       "      <td>No</td>\n",
       "      <td>Master’s degree (MA, MS, M.Eng., MBA, etc.)</td>\n",
       "      <td>Computer science, computer engineering, or sof...</td>\n",
       "      <td>...</td>\n",
       "      <td>A lot more welcome now than last year</td>\n",
       "      <td>Tech articles written by other developers;Indu...</td>\n",
       "      <td>34.0</td>\n",
       "      <td>Man</td>\n",
       "      <td>No</td>\n",
       "      <td>Straight / Heterosexual</td>\n",
       "      <td>White or of European descent</td>\n",
       "      <td>Yes</td>\n",
       "      <td>Too long</td>\n",
       "      <td>Easy</td>\n",
       "    </tr>\n",
       "    <tr>\n",
       "      <th>11550</th>\n",
       "      <td>25141</td>\n",
       "      <td>I am a developer by profession</td>\n",
       "      <td>Yes</td>\n",
       "      <td>Less than once a month but more than once per ...</td>\n",
       "      <td>OSS is, on average, of LOWER quality than prop...</td>\n",
       "      <td>Employed full-time</td>\n",
       "      <td>Switzerland</td>\n",
       "      <td>No</td>\n",
       "      <td>Secondary school (e.g. American high school, G...</td>\n",
       "      <td>NaN</td>\n",
       "      <td>...</td>\n",
       "      <td>Somewhat less welcome now than last year</td>\n",
       "      <td>NaN</td>\n",
       "      <td>25.0</td>\n",
       "      <td>Man</td>\n",
       "      <td>No</td>\n",
       "      <td>Straight / Heterosexual</td>\n",
       "      <td>White or of European descent</td>\n",
       "      <td>No</td>\n",
       "      <td>Appropriate in length</td>\n",
       "      <td>Easy</td>\n",
       "    </tr>\n",
       "    <tr>\n",
       "      <th>11551</th>\n",
       "      <td>25142</td>\n",
       "      <td>I am a developer by profession</td>\n",
       "      <td>Yes</td>\n",
       "      <td>Less than once a month but more than once per ...</td>\n",
       "      <td>OSS is, on average, of HIGHER quality than pro...</td>\n",
       "      <td>Employed full-time</td>\n",
       "      <td>United Kingdom</td>\n",
       "      <td>No</td>\n",
       "      <td>Other doctoral degree (Ph.D, Ed.D., etc.)</td>\n",
       "      <td>A natural science (ex. biology, chemistry, phy...</td>\n",
       "      <td>...</td>\n",
       "      <td>Just as welcome now as I felt last year</td>\n",
       "      <td>Tech articles written by other developers;Tech...</td>\n",
       "      <td>30.0</td>\n",
       "      <td>Man</td>\n",
       "      <td>No</td>\n",
       "      <td>Bisexual</td>\n",
       "      <td>White or of European descent</td>\n",
       "      <td>No</td>\n",
       "      <td>Appropriate in length</td>\n",
       "      <td>Easy</td>\n",
       "    </tr>\n",
       "  </tbody>\n",
       "</table>\n",
       "<p>11552 rows × 85 columns</p>\n",
       "</div>"
      ],
      "text/plain": [
       "       Respondent                      MainBranch Hobbyist  \\\n",
       "0               4  I am a developer by profession       No   \n",
       "1               9  I am a developer by profession      Yes   \n",
       "2              13  I am a developer by profession      Yes   \n",
       "3              16  I am a developer by profession      Yes   \n",
       "4              17  I am a developer by profession      Yes   \n",
       "...           ...                             ...      ...   \n",
       "11547       25136  I am a developer by profession      Yes   \n",
       "11548       25137  I am a developer by profession      Yes   \n",
       "11549       25138  I am a developer by profession      Yes   \n",
       "11550       25141  I am a developer by profession      Yes   \n",
       "11551       25142  I am a developer by profession      Yes   \n",
       "\n",
       "                                             OpenSourcer  \\\n",
       "0                                                  Never   \n",
       "1                             Once a month or more often   \n",
       "2      Less than once a month but more than once per ...   \n",
       "3                                                  Never   \n",
       "4      Less than once a month but more than once per ...   \n",
       "...                                                  ...   \n",
       "11547                                              Never   \n",
       "11548                                              Never   \n",
       "11549                            Less than once per year   \n",
       "11550  Less than once a month but more than once per ...   \n",
       "11551  Less than once a month but more than once per ...   \n",
       "\n",
       "                                              OpenSource          Employment  \\\n",
       "0      The quality of OSS and closed source software ...  Employed full-time   \n",
       "1      The quality of OSS and closed source software ...  Employed full-time   \n",
       "2      OSS is, on average, of HIGHER quality than pro...  Employed full-time   \n",
       "3      The quality of OSS and closed source software ...  Employed full-time   \n",
       "4      The quality of OSS and closed source software ...  Employed full-time   \n",
       "...                                                  ...                 ...   \n",
       "11547  OSS is, on average, of HIGHER quality than pro...  Employed full-time   \n",
       "11548  The quality of OSS and closed source software ...  Employed full-time   \n",
       "11549  The quality of OSS and closed source software ...  Employed full-time   \n",
       "11550  OSS is, on average, of LOWER quality than prop...  Employed full-time   \n",
       "11551  OSS is, on average, of HIGHER quality than pro...  Employed full-time   \n",
       "\n",
       "              Country Student  \\\n",
       "0       United States      No   \n",
       "1         New Zealand      No   \n",
       "2       United States      No   \n",
       "3      United Kingdom      No   \n",
       "4           Australia      No   \n",
       "...               ...     ...   \n",
       "11547   United States      No   \n",
       "11548          Poland      No   \n",
       "11549   United States      No   \n",
       "11550     Switzerland      No   \n",
       "11551  United Kingdom      No   \n",
       "\n",
       "                                                 EdLevel  \\\n",
       "0               Bachelor’s degree (BA, BS, B.Eng., etc.)   \n",
       "1      Some college/university study without earning ...   \n",
       "2            Master’s degree (MA, MS, M.Eng., MBA, etc.)   \n",
       "3            Master’s degree (MA, MS, M.Eng., MBA, etc.)   \n",
       "4               Bachelor’s degree (BA, BS, B.Eng., etc.)   \n",
       "...                                                  ...   \n",
       "11547        Master’s degree (MA, MS, M.Eng., MBA, etc.)   \n",
       "11548        Master’s degree (MA, MS, M.Eng., MBA, etc.)   \n",
       "11549        Master’s degree (MA, MS, M.Eng., MBA, etc.)   \n",
       "11550  Secondary school (e.g. American high school, G...   \n",
       "11551          Other doctoral degree (Ph.D, Ed.D., etc.)   \n",
       "\n",
       "                                          UndergradMajor  ...  \\\n",
       "0      Computer science, computer engineering, or sof...  ...   \n",
       "1      Computer science, computer engineering, or sof...  ...   \n",
       "2      Computer science, computer engineering, or sof...  ...   \n",
       "3                                                    NaN  ...   \n",
       "4      Computer science, computer engineering, or sof...  ...   \n",
       "...                                                  ...  ...   \n",
       "11547  Computer science, computer engineering, or sof...  ...   \n",
       "11548  Computer science, computer engineering, or sof...  ...   \n",
       "11549  Computer science, computer engineering, or sof...  ...   \n",
       "11550                                                NaN  ...   \n",
       "11551  A natural science (ex. biology, chemistry, phy...  ...   \n",
       "\n",
       "                                  WelcomeChange  \\\n",
       "0       Just as welcome now as I felt last year   \n",
       "1       Just as welcome now as I felt last year   \n",
       "2      Somewhat more welcome now than last year   \n",
       "3       Just as welcome now as I felt last year   \n",
       "4       Just as welcome now as I felt last year   \n",
       "...                                         ...   \n",
       "11547   Just as welcome now as I felt last year   \n",
       "11548     A lot more welcome now than last year   \n",
       "11549     A lot more welcome now than last year   \n",
       "11550  Somewhat less welcome now than last year   \n",
       "11551   Just as welcome now as I felt last year   \n",
       "\n",
       "                                            SONewContent   Age Gender Trans  \\\n",
       "0      Tech articles written by other developers;Indu...  22.0    Man    No   \n",
       "1                                                    NaN  23.0    Man    No   \n",
       "2      Tech articles written by other developers;Cour...  28.0    Man    No   \n",
       "3      Tech articles written by other developers;Indu...  26.0    Man    No   \n",
       "4      Tech articles written by other developers;Indu...  29.0    Man    No   \n",
       "...                                                  ...   ...    ...   ...   \n",
       "11547  Tech articles written by other developers;Cour...  36.0    Man    No   \n",
       "11548  Tech articles written by other developers;Tech...  25.0    Man    No   \n",
       "11549  Tech articles written by other developers;Indu...  34.0    Man    No   \n",
       "11550                                                NaN  25.0    Man    No   \n",
       "11551  Tech articles written by other developers;Tech...  30.0    Man    No   \n",
       "\n",
       "                     Sexuality                              Ethnicity  \\\n",
       "0      Straight / Heterosexual           White or of European descent   \n",
       "1                     Bisexual           White or of European descent   \n",
       "2      Straight / Heterosexual           White or of European descent   \n",
       "3      Straight / Heterosexual           White or of European descent   \n",
       "4      Straight / Heterosexual  Hispanic or Latino/Latina;Multiracial   \n",
       "...                        ...                                    ...   \n",
       "11547  Straight / Heterosexual           White or of European descent   \n",
       "11548  Straight / Heterosexual           White or of European descent   \n",
       "11549  Straight / Heterosexual           White or of European descent   \n",
       "11550  Straight / Heterosexual           White or of European descent   \n",
       "11551                 Bisexual           White or of European descent   \n",
       "\n",
       "      Dependents           SurveyLength                  SurveyEase  \n",
       "0             No  Appropriate in length                        Easy  \n",
       "1             No  Appropriate in length  Neither easy nor difficult  \n",
       "2            Yes  Appropriate in length                        Easy  \n",
       "3             No  Appropriate in length  Neither easy nor difficult  \n",
       "4             No  Appropriate in length                        Easy  \n",
       "...          ...                    ...                         ...  \n",
       "11547         No  Appropriate in length                   Difficult  \n",
       "11548         No  Appropriate in length  Neither easy nor difficult  \n",
       "11549        Yes               Too long                        Easy  \n",
       "11550         No  Appropriate in length                        Easy  \n",
       "11551         No  Appropriate in length                        Easy  \n",
       "\n",
       "[11552 rows x 85 columns]"
      ]
     },
     "execution_count": 4,
     "metadata": {},
     "output_type": "execute_result"
    }
   ],
   "source": [
    "open_path"
   ]
  },
  {
   "cell_type": "markdown",
   "id": "56a9aa16-5a71-4894-916a-2787ad726ac1",
   "metadata": {
    "jp-MarkdownHeadingCollapsed": true
   },
   "source": [
    "## 1. Finding Missing Values"
   ]
  },
  {
   "cell_type": "markdown",
   "id": "718e6a59-e9c0-43ac-8896-dfa36416e4cd",
   "metadata": {
    "jp-MarkdownHeadingCollapsed": true
   },
   "source": [
    "#### Find the missing values for all columns."
   ]
  },
  {
   "cell_type": "code",
   "execution_count": 5,
   "id": "d6a969f2-5ec8-4155-9dce-bfa2c0824e92",
   "metadata": {
    "execution": {
     "iopub.execute_input": "2024-05-28T23:17:26.329411Z",
     "iopub.status.busy": "2024-05-28T23:17:26.323794Z",
     "iopub.status.idle": "2024-05-28T23:17:26.696099Z",
     "shell.execute_reply": "2024-05-28T23:17:26.691435Z",
     "shell.execute_reply.started": "2024-05-28T23:17:26.329411Z"
    }
   },
   "outputs": [
    {
     "name": "stdout",
     "output_type": "stream",
     "text": [
      "   Respondent  MainBranch  Hobbyist  OpenSourcer  OpenSource  Employment  \\\n",
      "0       False       False     False        False       False       False   \n",
      "1       False       False     False        False       False       False   \n",
      "2       False       False     False        False       False       False   \n",
      "3       False       False     False        False       False       False   \n",
      "4       False       False     False        False       False       False   \n",
      "\n",
      "   Country  Student  EdLevel  UndergradMajor  ...  WelcomeChange  \\\n",
      "0    False    False    False           False  ...          False   \n",
      "1    False    False    False           False  ...          False   \n",
      "2    False    False    False           False  ...          False   \n",
      "3    False    False    False            True  ...          False   \n",
      "4    False    False    False           False  ...          False   \n",
      "\n",
      "   SONewContent    Age  Gender  Trans  Sexuality  Ethnicity  Dependents  \\\n",
      "0         False  False   False  False      False      False       False   \n",
      "1          True  False   False  False      False      False       False   \n",
      "2         False  False   False  False      False      False       False   \n",
      "3         False  False   False  False      False      False       False   \n",
      "4         False  False   False  False      False      False       False   \n",
      "\n",
      "   SurveyLength  SurveyEase  \n",
      "0         False       False  \n",
      "1         False       False  \n",
      "2         False       False  \n",
      "3         False       False  \n",
      "4         False       False  \n",
      "\n",
      "[5 rows x 85 columns]\n",
      "Respondent\n",
      "Respondent\n",
      "False    11552\n",
      "Name: count, dtype: int64\n",
      "\n",
      "MainBranch\n",
      "MainBranch\n",
      "False    11552\n",
      "Name: count, dtype: int64\n",
      "\n",
      "Hobbyist\n",
      "Hobbyist\n",
      "False    11552\n",
      "Name: count, dtype: int64\n",
      "\n",
      "OpenSourcer\n",
      "OpenSourcer\n",
      "False    11552\n",
      "Name: count, dtype: int64\n",
      "\n",
      "OpenSource\n",
      "OpenSource\n",
      "False    11471\n",
      "True        81\n",
      "Name: count, dtype: int64\n",
      "\n",
      "Employment\n",
      "Employment\n",
      "False    11552\n",
      "Name: count, dtype: int64\n",
      "\n",
      "Country\n",
      "Country\n",
      "False    11552\n",
      "Name: count, dtype: int64\n",
      "\n",
      "Student\n",
      "Student\n",
      "False    11499\n",
      "True        53\n",
      "Name: count, dtype: int64\n",
      "\n",
      "EdLevel\n",
      "EdLevel\n",
      "False    11436\n",
      "True       116\n",
      "Name: count, dtype: int64\n",
      "\n",
      "UndergradMajor\n",
      "UndergradMajor\n",
      "False    10812\n",
      "True       740\n",
      "Name: count, dtype: int64\n",
      "\n",
      "EduOther\n",
      "EduOther\n",
      "False    11388\n",
      "True       164\n",
      "Name: count, dtype: int64\n",
      "\n",
      "OrgSize\n",
      "OrgSize\n",
      "False    11454\n",
      "True        98\n",
      "Name: count, dtype: int64\n",
      "\n",
      "DevType\n",
      "DevType\n",
      "False    11485\n",
      "True        67\n",
      "Name: count, dtype: int64\n",
      "\n",
      "YearsCode\n",
      "YearsCode\n",
      "False    11543\n",
      "True         9\n",
      "Name: count, dtype: int64\n",
      "\n",
      "Age1stCode\n",
      "Age1stCode\n",
      "False    11539\n",
      "True        13\n",
      "Name: count, dtype: int64\n",
      "\n",
      "YearsCodePro\n",
      "YearsCodePro\n",
      "False    11536\n",
      "True        16\n",
      "Name: count, dtype: int64\n",
      "\n",
      "CareerSat\n",
      "CareerSat\n",
      "False    11552\n",
      "Name: count, dtype: int64\n",
      "\n",
      "JobSat\n",
      "JobSat\n",
      "False    11551\n",
      "True         1\n",
      "Name: count, dtype: int64\n",
      "\n",
      "MgrIdiot\n",
      "MgrIdiot\n",
      "False    11054\n",
      "True       498\n",
      "Name: count, dtype: int64\n",
      "\n",
      "MgrMoney\n",
      "MgrMoney\n",
      "False    11050\n",
      "True       502\n",
      "Name: count, dtype: int64\n",
      "\n",
      "MgrWant\n",
      "MgrWant\n",
      "False    11054\n",
      "True       498\n",
      "Name: count, dtype: int64\n",
      "\n",
      "JobSeek\n",
      "JobSeek\n",
      "False    11552\n",
      "Name: count, dtype: int64\n",
      "\n",
      "LastHireDate\n",
      "LastHireDate\n",
      "False    11552\n",
      "Name: count, dtype: int64\n",
      "\n",
      "LastInt\n",
      "LastInt\n",
      "False    11129\n",
      "True       423\n",
      "Name: count, dtype: int64\n",
      "\n",
      "FizzBuzz\n",
      "FizzBuzz\n",
      "False    11515\n",
      "True        37\n",
      "Name: count, dtype: int64\n",
      "\n",
      "JobFactors\n",
      "JobFactors\n",
      "False    11549\n",
      "True         3\n",
      "Name: count, dtype: int64\n",
      "\n",
      "ResumeUpdate\n",
      "ResumeUpdate\n",
      "False    11511\n",
      "True        41\n",
      "Name: count, dtype: int64\n",
      "\n",
      "CurrencySymbol\n",
      "CurrencySymbol\n",
      "False    11552\n",
      "Name: count, dtype: int64\n",
      "\n",
      "CurrencyDesc\n",
      "CurrencyDesc\n",
      "False    11552\n",
      "Name: count, dtype: int64\n",
      "\n",
      "CompTotal\n",
      "CompTotal\n",
      "False    10737\n",
      "True       815\n",
      "Name: count, dtype: int64\n",
      "\n",
      "CompFreq\n",
      "CompFreq\n",
      "False    11346\n",
      "True       206\n",
      "Name: count, dtype: int64\n",
      "\n",
      "ConvertedComp\n",
      "ConvertedComp\n",
      "False    10730\n",
      "True       822\n",
      "Name: count, dtype: int64\n",
      "\n",
      "WorkWeekHrs\n",
      "WorkWeekHrs\n",
      "False    11427\n",
      "True       125\n",
      "Name: count, dtype: int64\n",
      "\n",
      "WorkPlan\n",
      "WorkPlan\n",
      "False    11429\n",
      "True       123\n",
      "Name: count, dtype: int64\n",
      "\n",
      "WorkChallenge\n",
      "WorkChallenge\n",
      "False    11384\n",
      "True       168\n",
      "Name: count, dtype: int64\n",
      "\n",
      "WorkRemote\n",
      "WorkRemote\n",
      "False    11544\n",
      "True         8\n",
      "Name: count, dtype: int64\n",
      "\n",
      "WorkLoc\n",
      "WorkLoc\n",
      "False    11520\n",
      "True        32\n",
      "Name: count, dtype: int64\n",
      "\n",
      "ImpSyn\n",
      "ImpSyn\n",
      "False    11547\n",
      "True         5\n",
      "Name: count, dtype: int64\n",
      "\n",
      "CodeRev\n",
      "CodeRev\n",
      "False    11551\n",
      "True         1\n",
      "Name: count, dtype: int64\n",
      "\n",
      "CodeRevHrs\n",
      "CodeRevHrs\n",
      "False    9083\n",
      "True     2469\n",
      "Name: count, dtype: int64\n",
      "\n",
      "UnitTests\n",
      "UnitTests\n",
      "False    11523\n",
      "True        29\n",
      "Name: count, dtype: int64\n",
      "\n",
      "PurchaseHow\n",
      "PurchaseHow\n",
      "False    11354\n",
      "True       198\n",
      "Name: count, dtype: int64\n",
      "\n",
      "PurchaseWhat\n",
      "PurchaseWhat\n",
      "False    11514\n",
      "True        38\n",
      "Name: count, dtype: int64\n",
      "\n",
      "LanguageWorkedWith\n",
      "LanguageWorkedWith\n",
      "False    11541\n",
      "True        11\n",
      "Name: count, dtype: int64\n",
      "\n",
      "LanguageDesireNextYear\n",
      "LanguageDesireNextYear\n",
      "False    11415\n",
      "True       137\n",
      "Name: count, dtype: int64\n",
      "\n",
      "DatabaseWorkedWith\n",
      "DatabaseWorkedWith\n",
      "False    11096\n",
      "True       456\n",
      "Name: count, dtype: int64\n",
      "\n",
      "DatabaseDesireNextYear\n",
      "DatabaseDesireNextYear\n",
      "False    10497\n",
      "True      1055\n",
      "Name: count, dtype: int64\n",
      "\n",
      "PlatformWorkedWith\n",
      "PlatformWorkedWith\n",
      "False    11130\n",
      "True       422\n",
      "Name: count, dtype: int64\n",
      "\n",
      "PlatformDesireNextYear\n",
      "PlatformDesireNextYear\n",
      "False    10991\n",
      "True       561\n",
      "Name: count, dtype: int64\n",
      "\n",
      "WebFrameWorkedWith\n",
      "WebFrameWorkedWith\n",
      "False    10139\n",
      "True      1413\n",
      "Name: count, dtype: int64\n",
      "\n",
      "WebFrameDesireNextYear\n",
      "WebFrameDesireNextYear\n",
      "False    9918\n",
      "True     1634\n",
      "Name: count, dtype: int64\n",
      "\n",
      "MiscTechWorkedWith\n",
      "MiscTechWorkedWith\n",
      "False    9343\n",
      "True     2209\n",
      "Name: count, dtype: int64\n",
      "\n",
      "MiscTechDesireNextYear\n",
      "MiscTechDesireNextYear\n",
      "False    10078\n",
      "True      1474\n",
      "Name: count, dtype: int64\n",
      "\n",
      "DevEnviron\n",
      "DevEnviron\n",
      "False    11523\n",
      "True        29\n",
      "Name: count, dtype: int64\n",
      "\n",
      "OpSys\n",
      "OpSys\n",
      "False    11518\n",
      "True        34\n",
      "Name: count, dtype: int64\n",
      "\n",
      "Containers\n",
      "Containers\n",
      "False    11470\n",
      "True        82\n",
      "Name: count, dtype: int64\n",
      "\n",
      "BlockchainOrg\n",
      "BlockchainOrg\n",
      "False    9198\n",
      "True     2354\n",
      "Name: count, dtype: int64\n",
      "\n",
      "BlockchainIs\n",
      "BlockchainIs\n",
      "False    8915\n",
      "True     2637\n",
      "Name: count, dtype: int64\n",
      "\n",
      "BetterLife\n",
      "BetterLife\n",
      "False    11452\n",
      "True       100\n",
      "Name: count, dtype: int64\n",
      "\n",
      "ITperson\n",
      "ITperson\n",
      "False    11517\n",
      "True        35\n",
      "Name: count, dtype: int64\n",
      "\n",
      "OffOn\n",
      "OffOn\n",
      "False    11514\n",
      "True        38\n",
      "Name: count, dtype: int64\n",
      "\n",
      "SocialMedia\n",
      "SocialMedia\n",
      "False    11251\n",
      "True       301\n",
      "Name: count, dtype: int64\n",
      "\n",
      "Extraversion\n",
      "Extraversion\n",
      "False    11532\n",
      "True        20\n",
      "Name: count, dtype: int64\n",
      "\n",
      "ScreenName\n",
      "ScreenName\n",
      "False    11039\n",
      "True       513\n",
      "Name: count, dtype: int64\n",
      "\n",
      "SOVisit1st\n",
      "SOVisit1st\n",
      "False    11227\n",
      "True       325\n",
      "Name: count, dtype: int64\n",
      "\n",
      "SOVisitFreq\n",
      "SOVisitFreq\n",
      "False    11547\n",
      "True         5\n",
      "Name: count, dtype: int64\n",
      "\n",
      "SOVisitTo\n",
      "SOVisitTo\n",
      "False    11551\n",
      "True         1\n",
      "Name: count, dtype: int64\n",
      "\n",
      "SOFindAnswer\n",
      "SOFindAnswer\n",
      "False    11549\n",
      "True         3\n",
      "Name: count, dtype: int64\n",
      "\n",
      "SOTimeSaved\n",
      "SOTimeSaved\n",
      "False    11501\n",
      "True        51\n",
      "Name: count, dtype: int64\n",
      "\n",
      "SOHowMuchTime\n",
      "SOHowMuchTime\n",
      "False    9616\n",
      "True     1936\n",
      "Name: count, dtype: int64\n",
      "\n",
      "SOAccount\n",
      "SOAccount\n",
      "False    11551\n",
      "True         1\n",
      "Name: count, dtype: int64\n",
      "\n",
      "SOPartFreq\n",
      "SOPartFreq\n",
      "False    10404\n",
      "True      1148\n",
      "Name: count, dtype: int64\n",
      "\n",
      "SOJobs\n",
      "SOJobs\n",
      "False    11546\n",
      "True         6\n",
      "Name: count, dtype: int64\n",
      "\n",
      "EntTeams\n",
      "EntTeams\n",
      "False    11547\n",
      "True         5\n",
      "Name: count, dtype: int64\n",
      "\n",
      "SOComm\n",
      "SOComm\n",
      "False    11552\n",
      "Name: count, dtype: int64\n",
      "\n",
      "WelcomeChange\n",
      "WelcomeChange\n",
      "False    11463\n",
      "True        89\n",
      "Name: count, dtype: int64\n",
      "\n",
      "SONewContent\n",
      "SONewContent\n",
      "False    9557\n",
      "True     1995\n",
      "Name: count, dtype: int64\n",
      "\n",
      "Age\n",
      "Age\n",
      "False    11255\n",
      "True       297\n",
      "Name: count, dtype: int64\n",
      "\n",
      "Gender\n",
      "Gender\n",
      "False    11477\n",
      "True        75\n",
      "Name: count, dtype: int64\n",
      "\n",
      "Trans\n",
      "Trans\n",
      "False    11429\n",
      "True       123\n",
      "Name: count, dtype: int64\n",
      "\n",
      "Sexuality\n",
      "Sexuality\n",
      "False    11005\n",
      "True       547\n",
      "Name: count, dtype: int64\n",
      "\n",
      "Ethnicity\n",
      "Ethnicity\n",
      "False    10869\n",
      "True       683\n",
      "Name: count, dtype: int64\n",
      "\n",
      "Dependents\n",
      "Dependents\n",
      "False    11408\n",
      "True       144\n",
      "Name: count, dtype: int64\n",
      "\n",
      "SurveyLength\n",
      "SurveyLength\n",
      "False    11533\n",
      "True        19\n",
      "Name: count, dtype: int64\n",
      "\n",
      "SurveyEase\n",
      "SurveyEase\n",
      "False    11538\n",
      "True        14\n",
      "Name: count, dtype: int64\n",
      "\n"
     ]
    }
   ],
   "source": [
    "missing_data = open_path.isnull()\n",
    "print(missing_data.head())\n",
    "for column in missing_data.columns.values.tolist():\n",
    "    print(column)\n",
    "    print(missing_data[column].value_counts())\n",
    "    print(\"\")"
   ]
  },
  {
   "cell_type": "markdown",
   "id": "37d2fd45-4eb8-444f-9637-19037d97252d",
   "metadata": {},
   "source": [
    "#### Find out how many rows are missing in the column 'WorkLoc'"
   ]
  },
  {
   "cell_type": "code",
   "execution_count": 6,
   "id": "ee45f48b-2ad0-4889-ba60-af8513d9410a",
   "metadata": {
    "execution": {
     "iopub.execute_input": "2024-05-28T23:17:26.702108Z",
     "iopub.status.busy": "2024-05-28T23:17:26.702108Z",
     "iopub.status.idle": "2024-05-28T23:17:26.731781Z",
     "shell.execute_reply": "2024-05-28T23:17:26.731781Z",
     "shell.execute_reply.started": "2024-05-28T23:17:26.702108Z"
    }
   },
   "outputs": [
    {
     "name": "stdout",
     "output_type": "stream",
     "text": [
      "Jumlah baris yang hilang di 'WorkLoc': 32\n"
     ]
    }
   ],
   "source": [
    "missing_workloc = open_path['WorkLoc'].isna().sum()\n",
    "print(f\"Jumlah baris yang hilang di 'WorkLoc': {missing_workloc}\")"
   ]
  },
  {
   "cell_type": "markdown",
   "id": "da0036ba-a4df-43dc-bac5-cdbd16c76280",
   "metadata": {
    "jp-MarkdownHeadingCollapsed": true
   },
   "source": [
    "## 2. Determine Missing Values"
   ]
  },
  {
   "cell_type": "markdown",
   "id": "9247f6fe-0c02-4d23-b890-8efd9e0f84ee",
   "metadata": {},
   "source": [
    "#### Find Out And Count Missing Values"
   ]
  },
  {
   "cell_type": "code",
   "execution_count": 7,
   "id": "510dbb62-3864-47ad-b687-d1e6427f6fed",
   "metadata": {
    "execution": {
     "iopub.execute_input": "2024-05-28T23:17:26.738066Z",
     "iopub.status.busy": "2024-05-28T23:17:26.735446Z",
     "iopub.status.idle": "2024-05-28T23:17:26.863933Z",
     "shell.execute_reply": "2024-05-28T23:17:26.859684Z",
     "shell.execute_reply.started": "2024-05-28T23:17:26.738066Z"
    }
   },
   "outputs": [
    {
     "name": "stdout",
     "output_type": "stream",
     "text": [
      "Missing values in each column:\n",
      "Respondent        0\n",
      "MainBranch        0\n",
      "Hobbyist          0\n",
      "OpenSourcer       0\n",
      "OpenSource       81\n",
      "               ... \n",
      "Sexuality       547\n",
      "Ethnicity       683\n",
      "Dependents      144\n",
      "SurveyLength     19\n",
      "SurveyEase       14\n",
      "Length: 85, dtype: int64\n"
     ]
    }
   ],
   "source": [
    "missing_values = open_path.isna().sum()\n",
    "print(\"Missing values in each column:\")\n",
    "print(missing_values)"
   ]
  },
  {
   "cell_type": "markdown",
   "id": "77efcd30-a6f1-412b-8d51-5d3d715b1606",
   "metadata": {
    "jp-MarkdownHeadingCollapsed": true
   },
   "source": [
    "## 3. Finding Duplicates"
   ]
  },
  {
   "cell_type": "markdown",
   "id": "36b143b9-36e5-49f4-b978-1e3d468d15fe",
   "metadata": {},
   "source": [
    "#### Find how many duplicate rows exist in the dataframe."
   ]
  },
  {
   "cell_type": "code",
   "execution_count": 8,
   "id": "135d9064-6991-42f7-ab19-6621ecb01975",
   "metadata": {
    "execution": {
     "iopub.execute_input": "2024-05-28T23:17:26.871304Z",
     "iopub.status.busy": "2024-05-28T23:17:26.870380Z",
     "iopub.status.idle": "2024-05-28T23:17:27.231575Z",
     "shell.execute_reply": "2024-05-28T23:17:27.229057Z",
     "shell.execute_reply.started": "2024-05-28T23:17:26.871304Z"
    }
   },
   "outputs": [
    {
     "name": "stdout",
     "output_type": "stream",
     "text": [
      "Jumlah baris duplikat dalam dataset: 154\n"
     ]
    }
   ],
   "source": [
    "num_duplicates = open_path.duplicated().sum()\n",
    "print(f\"Jumlah baris duplikat dalam dataset: {num_duplicates}\")"
   ]
  },
  {
   "cell_type": "markdown",
   "id": "55da097e-f6b1-4bde-9348-e2af7fbe1b28",
   "metadata": {
    "jp-MarkdownHeadingCollapsed": true
   },
   "source": [
    "## 4. Removing Duplicates"
   ]
  },
  {
   "cell_type": "markdown",
   "id": "fd0704f8-082b-4408-9f50-44ea71dcf810",
   "metadata": {},
   "source": [
    "#### Remove the duplicate rows from the dataframe."
   ]
  },
  {
   "cell_type": "code",
   "execution_count": 9,
   "id": "cfa0ae3c-fc6a-482f-a983-64d34587c617",
   "metadata": {
    "execution": {
     "iopub.execute_input": "2024-05-28T23:17:27.236299Z",
     "iopub.status.busy": "2024-05-28T23:17:27.234473Z",
     "iopub.status.idle": "2024-05-28T23:17:27.435839Z",
     "shell.execute_reply": "2024-05-28T23:17:27.434455Z",
     "shell.execute_reply.started": "2024-05-28T23:17:27.236299Z"
    }
   },
   "outputs": [
    {
     "name": "stdout",
     "output_type": "stream",
     "text": [
      "DataFrame setelah menghapus duplikat:\n"
     ]
    },
    {
     "data": {
      "text/html": [
       "<div>\n",
       "<style scoped>\n",
       "    .dataframe tbody tr th:only-of-type {\n",
       "        vertical-align: middle;\n",
       "    }\n",
       "\n",
       "    .dataframe tbody tr th {\n",
       "        vertical-align: top;\n",
       "    }\n",
       "\n",
       "    .dataframe thead th {\n",
       "        text-align: right;\n",
       "    }\n",
       "</style>\n",
       "<table border=\"1\" class=\"dataframe\">\n",
       "  <thead>\n",
       "    <tr style=\"text-align: right;\">\n",
       "      <th></th>\n",
       "      <th>Respondent</th>\n",
       "      <th>MainBranch</th>\n",
       "      <th>Hobbyist</th>\n",
       "      <th>OpenSourcer</th>\n",
       "      <th>OpenSource</th>\n",
       "      <th>Employment</th>\n",
       "      <th>Country</th>\n",
       "      <th>Student</th>\n",
       "      <th>EdLevel</th>\n",
       "      <th>UndergradMajor</th>\n",
       "      <th>...</th>\n",
       "      <th>WelcomeChange</th>\n",
       "      <th>SONewContent</th>\n",
       "      <th>Age</th>\n",
       "      <th>Gender</th>\n",
       "      <th>Trans</th>\n",
       "      <th>Sexuality</th>\n",
       "      <th>Ethnicity</th>\n",
       "      <th>Dependents</th>\n",
       "      <th>SurveyLength</th>\n",
       "      <th>SurveyEase</th>\n",
       "    </tr>\n",
       "  </thead>\n",
       "  <tbody>\n",
       "    <tr>\n",
       "      <th>0</th>\n",
       "      <td>4</td>\n",
       "      <td>I am a developer by profession</td>\n",
       "      <td>No</td>\n",
       "      <td>Never</td>\n",
       "      <td>The quality of OSS and closed source software ...</td>\n",
       "      <td>Employed full-time</td>\n",
       "      <td>United States</td>\n",
       "      <td>No</td>\n",
       "      <td>Bachelor’s degree (BA, BS, B.Eng., etc.)</td>\n",
       "      <td>Computer science, computer engineering, or sof...</td>\n",
       "      <td>...</td>\n",
       "      <td>Just as welcome now as I felt last year</td>\n",
       "      <td>Tech articles written by other developers;Indu...</td>\n",
       "      <td>22.0</td>\n",
       "      <td>Man</td>\n",
       "      <td>No</td>\n",
       "      <td>Straight / Heterosexual</td>\n",
       "      <td>White or of European descent</td>\n",
       "      <td>No</td>\n",
       "      <td>Appropriate in length</td>\n",
       "      <td>Easy</td>\n",
       "    </tr>\n",
       "    <tr>\n",
       "      <th>1</th>\n",
       "      <td>9</td>\n",
       "      <td>I am a developer by profession</td>\n",
       "      <td>Yes</td>\n",
       "      <td>Once a month or more often</td>\n",
       "      <td>The quality of OSS and closed source software ...</td>\n",
       "      <td>Employed full-time</td>\n",
       "      <td>New Zealand</td>\n",
       "      <td>No</td>\n",
       "      <td>Some college/university study without earning ...</td>\n",
       "      <td>Computer science, computer engineering, or sof...</td>\n",
       "      <td>...</td>\n",
       "      <td>Just as welcome now as I felt last year</td>\n",
       "      <td>NaN</td>\n",
       "      <td>23.0</td>\n",
       "      <td>Man</td>\n",
       "      <td>No</td>\n",
       "      <td>Bisexual</td>\n",
       "      <td>White or of European descent</td>\n",
       "      <td>No</td>\n",
       "      <td>Appropriate in length</td>\n",
       "      <td>Neither easy nor difficult</td>\n",
       "    </tr>\n",
       "    <tr>\n",
       "      <th>2</th>\n",
       "      <td>13</td>\n",
       "      <td>I am a developer by profession</td>\n",
       "      <td>Yes</td>\n",
       "      <td>Less than once a month but more than once per ...</td>\n",
       "      <td>OSS is, on average, of HIGHER quality than pro...</td>\n",
       "      <td>Employed full-time</td>\n",
       "      <td>United States</td>\n",
       "      <td>No</td>\n",
       "      <td>Master’s degree (MA, MS, M.Eng., MBA, etc.)</td>\n",
       "      <td>Computer science, computer engineering, or sof...</td>\n",
       "      <td>...</td>\n",
       "      <td>Somewhat more welcome now than last year</td>\n",
       "      <td>Tech articles written by other developers;Cour...</td>\n",
       "      <td>28.0</td>\n",
       "      <td>Man</td>\n",
       "      <td>No</td>\n",
       "      <td>Straight / Heterosexual</td>\n",
       "      <td>White or of European descent</td>\n",
       "      <td>Yes</td>\n",
       "      <td>Appropriate in length</td>\n",
       "      <td>Easy</td>\n",
       "    </tr>\n",
       "    <tr>\n",
       "      <th>3</th>\n",
       "      <td>16</td>\n",
       "      <td>I am a developer by profession</td>\n",
       "      <td>Yes</td>\n",
       "      <td>Never</td>\n",
       "      <td>The quality of OSS and closed source software ...</td>\n",
       "      <td>Employed full-time</td>\n",
       "      <td>United Kingdom</td>\n",
       "      <td>No</td>\n",
       "      <td>Master’s degree (MA, MS, M.Eng., MBA, etc.)</td>\n",
       "      <td>NaN</td>\n",
       "      <td>...</td>\n",
       "      <td>Just as welcome now as I felt last year</td>\n",
       "      <td>Tech articles written by other developers;Indu...</td>\n",
       "      <td>26.0</td>\n",
       "      <td>Man</td>\n",
       "      <td>No</td>\n",
       "      <td>Straight / Heterosexual</td>\n",
       "      <td>White or of European descent</td>\n",
       "      <td>No</td>\n",
       "      <td>Appropriate in length</td>\n",
       "      <td>Neither easy nor difficult</td>\n",
       "    </tr>\n",
       "    <tr>\n",
       "      <th>4</th>\n",
       "      <td>17</td>\n",
       "      <td>I am a developer by profession</td>\n",
       "      <td>Yes</td>\n",
       "      <td>Less than once a month but more than once per ...</td>\n",
       "      <td>The quality of OSS and closed source software ...</td>\n",
       "      <td>Employed full-time</td>\n",
       "      <td>Australia</td>\n",
       "      <td>No</td>\n",
       "      <td>Bachelor’s degree (BA, BS, B.Eng., etc.)</td>\n",
       "      <td>Computer science, computer engineering, or sof...</td>\n",
       "      <td>...</td>\n",
       "      <td>Just as welcome now as I felt last year</td>\n",
       "      <td>Tech articles written by other developers;Indu...</td>\n",
       "      <td>29.0</td>\n",
       "      <td>Man</td>\n",
       "      <td>No</td>\n",
       "      <td>Straight / Heterosexual</td>\n",
       "      <td>Hispanic or Latino/Latina;Multiracial</td>\n",
       "      <td>No</td>\n",
       "      <td>Appropriate in length</td>\n",
       "      <td>Easy</td>\n",
       "    </tr>\n",
       "  </tbody>\n",
       "</table>\n",
       "<p>5 rows × 85 columns</p>\n",
       "</div>"
      ],
      "text/plain": [
       "   Respondent                      MainBranch Hobbyist  \\\n",
       "0           4  I am a developer by profession       No   \n",
       "1           9  I am a developer by profession      Yes   \n",
       "2          13  I am a developer by profession      Yes   \n",
       "3          16  I am a developer by profession      Yes   \n",
       "4          17  I am a developer by profession      Yes   \n",
       "\n",
       "                                         OpenSourcer  \\\n",
       "0                                              Never   \n",
       "1                         Once a month or more often   \n",
       "2  Less than once a month but more than once per ...   \n",
       "3                                              Never   \n",
       "4  Less than once a month but more than once per ...   \n",
       "\n",
       "                                          OpenSource          Employment  \\\n",
       "0  The quality of OSS and closed source software ...  Employed full-time   \n",
       "1  The quality of OSS and closed source software ...  Employed full-time   \n",
       "2  OSS is, on average, of HIGHER quality than pro...  Employed full-time   \n",
       "3  The quality of OSS and closed source software ...  Employed full-time   \n",
       "4  The quality of OSS and closed source software ...  Employed full-time   \n",
       "\n",
       "          Country Student                                            EdLevel  \\\n",
       "0   United States      No           Bachelor’s degree (BA, BS, B.Eng., etc.)   \n",
       "1     New Zealand      No  Some college/university study without earning ...   \n",
       "2   United States      No        Master’s degree (MA, MS, M.Eng., MBA, etc.)   \n",
       "3  United Kingdom      No        Master’s degree (MA, MS, M.Eng., MBA, etc.)   \n",
       "4       Australia      No           Bachelor’s degree (BA, BS, B.Eng., etc.)   \n",
       "\n",
       "                                      UndergradMajor  ...  \\\n",
       "0  Computer science, computer engineering, or sof...  ...   \n",
       "1  Computer science, computer engineering, or sof...  ...   \n",
       "2  Computer science, computer engineering, or sof...  ...   \n",
       "3                                                NaN  ...   \n",
       "4  Computer science, computer engineering, or sof...  ...   \n",
       "\n",
       "                              WelcomeChange  \\\n",
       "0   Just as welcome now as I felt last year   \n",
       "1   Just as welcome now as I felt last year   \n",
       "2  Somewhat more welcome now than last year   \n",
       "3   Just as welcome now as I felt last year   \n",
       "4   Just as welcome now as I felt last year   \n",
       "\n",
       "                                        SONewContent   Age Gender Trans  \\\n",
       "0  Tech articles written by other developers;Indu...  22.0    Man    No   \n",
       "1                                                NaN  23.0    Man    No   \n",
       "2  Tech articles written by other developers;Cour...  28.0    Man    No   \n",
       "3  Tech articles written by other developers;Indu...  26.0    Man    No   \n",
       "4  Tech articles written by other developers;Indu...  29.0    Man    No   \n",
       "\n",
       "                 Sexuality                              Ethnicity Dependents  \\\n",
       "0  Straight / Heterosexual           White or of European descent         No   \n",
       "1                 Bisexual           White or of European descent         No   \n",
       "2  Straight / Heterosexual           White or of European descent        Yes   \n",
       "3  Straight / Heterosexual           White or of European descent         No   \n",
       "4  Straight / Heterosexual  Hispanic or Latino/Latina;Multiracial         No   \n",
       "\n",
       "            SurveyLength                  SurveyEase  \n",
       "0  Appropriate in length                        Easy  \n",
       "1  Appropriate in length  Neither easy nor difficult  \n",
       "2  Appropriate in length                        Easy  \n",
       "3  Appropriate in length  Neither easy nor difficult  \n",
       "4  Appropriate in length                        Easy  \n",
       "\n",
       "[5 rows x 85 columns]"
      ]
     },
     "execution_count": 9,
     "metadata": {},
     "output_type": "execute_result"
    }
   ],
   "source": [
    "df_cleaned = open_path.drop_duplicates()\n",
    "print(\"DataFrame setelah menghapus duplikat:\")\n",
    "df_cleaned.head()"
   ]
  },
  {
   "cell_type": "markdown",
   "id": "1ff05c10-f323-4aa6-8953-1d2412366444",
   "metadata": {
    "execution": {
     "iopub.execute_input": "2024-05-28T12:13:57.431034Z",
     "iopub.status.busy": "2024-05-28T12:13:57.430036Z",
     "iopub.status.idle": "2024-05-28T12:13:57.450533Z",
     "shell.execute_reply": "2024-05-28T12:13:57.449540Z",
     "shell.execute_reply.started": "2024-05-28T12:13:57.431034Z"
    }
   },
   "source": [
    "#### Verify if duplicates were actually dropped"
   ]
  },
  {
   "cell_type": "code",
   "execution_count": 10,
   "id": "922a7ce4-f934-4775-8de5-e2dafd693a55",
   "metadata": {
    "execution": {
     "iopub.execute_input": "2024-05-28T23:17:27.441145Z",
     "iopub.status.busy": "2024-05-28T23:17:27.439535Z",
     "iopub.status.idle": "2024-05-28T23:17:27.726040Z",
     "shell.execute_reply": "2024-05-28T23:17:27.726040Z",
     "shell.execute_reply.started": "2024-05-28T23:17:27.441145Z"
    }
   },
   "outputs": [
    {
     "name": "stdout",
     "output_type": "stream",
     "text": [
      "Jumlah baris duplikat dalam dataset: 0\n"
     ]
    }
   ],
   "source": [
    "clean_duplicates = df_cleaned.duplicated().sum()\n",
    "print(f\"Jumlah baris duplikat dalam dataset: {clean_duplicates}\")"
   ]
  },
  {
   "cell_type": "markdown",
   "id": "c53e6579-c8c3-4832-9e30-9189340e8a71",
   "metadata": {
    "jp-MarkdownHeadingCollapsed": true
   },
   "source": [
    "## 5. Imputing Missing Values"
   ]
  },
  {
   "cell_type": "markdown",
   "id": "7c53d133-aecd-40c1-9dd1-db9e5193d901",
   "metadata": {},
   "source": [
    "#### Find the value counts for the column WorkLoc."
   ]
  },
  {
   "cell_type": "code",
   "execution_count": 11,
   "id": "fe131729-62e9-4190-a8b5-975aa5967286",
   "metadata": {
    "execution": {
     "iopub.execute_input": "2024-05-28T23:17:27.731940Z",
     "iopub.status.busy": "2024-05-28T23:17:27.730083Z",
     "iopub.status.idle": "2024-05-28T23:17:27.742823Z",
     "shell.execute_reply": "2024-05-28T23:17:27.741803Z",
     "shell.execute_reply.started": "2024-05-28T23:17:27.731940Z"
    }
   },
   "outputs": [
    {
     "name": "stdout",
     "output_type": "stream",
     "text": [
      "Value counts for the 'WorkLoc' column:\n",
      "WorkLoc\n",
      "Office                                            6806\n",
      "Home                                              3589\n",
      "Other place, such as a coworking space or cafe     971\n",
      "Name: count, dtype: int64\n"
     ]
    }
   ],
   "source": [
    "workloc_counts = df_cleaned['WorkLoc'].value_counts()\n",
    "print(\"Value counts for the 'WorkLoc' column:\")\n",
    "print(workloc_counts)"
   ]
  },
  {
   "cell_type": "markdown",
   "id": "f4eb201b-d4bb-4821-8777-701021eee3d0",
   "metadata": {},
   "source": [
    "\n",
    "#### Identify the value that is most frequent (majority) in the WorkLoc column."
   ]
  },
  {
   "cell_type": "code",
   "execution_count": 12,
   "id": "d20ab8ec-0cdd-4a8d-bb6a-ec7584e94441",
   "metadata": {
    "execution": {
     "iopub.execute_input": "2024-05-28T23:17:27.745613Z",
     "iopub.status.busy": "2024-05-28T23:17:27.742823Z",
     "iopub.status.idle": "2024-05-28T23:17:27.758523Z",
     "shell.execute_reply": "2024-05-28T23:17:27.757464Z",
     "shell.execute_reply.started": "2024-05-28T23:17:27.745613Z"
    }
   },
   "outputs": [
    {
     "name": "stdout",
     "output_type": "stream",
     "text": [
      "The most frequent value in the 'WorkLoc' column is: Office\n"
     ]
    }
   ],
   "source": [
    "workloc_counts = df_cleaned['WorkLoc'].value_counts()\n",
    "most_frequent_workloc = workloc_counts.idxmax()\n",
    "\n",
    "print(f\"The most frequent value in the 'WorkLoc' column is: {most_frequent_workloc}\")"
   ]
  },
  {
   "cell_type": "markdown",
   "id": "e7cbb695-9fcd-4f95-918c-1a760bcada6a",
   "metadata": {},
   "source": [
    "#### Impute (replace) all the empty rows in the column WorkLoc with the value that you have identified as majority."
   ]
  },
  {
   "cell_type": "code",
   "execution_count": 13,
   "id": "2cb79b86-be45-4382-b5ff-878a32313db9",
   "metadata": {
    "execution": {
     "iopub.execute_input": "2024-05-28T23:17:27.758523Z",
     "iopub.status.busy": "2024-05-28T23:17:27.758523Z",
     "iopub.status.idle": "2024-05-28T23:17:27.778955Z",
     "shell.execute_reply": "2024-05-28T23:17:27.778955Z",
     "shell.execute_reply.started": "2024-05-28T23:17:27.758523Z"
    }
   },
   "outputs": [],
   "source": [
    "df_cleaned.loc[:, 'WorkLoc'] = df_cleaned['WorkLoc'].fillna(most_frequent_workloc)"
   ]
  },
  {
   "cell_type": "markdown",
   "id": "365af3c0-e37d-4177-ba2c-2b59bfa42ef0",
   "metadata": {},
   "source": [
    "#### Verify if imputing was successful."
   ]
  },
  {
   "cell_type": "code",
   "execution_count": 18,
   "id": "c13e9025-32ed-48df-ab28-c897c51ae437",
   "metadata": {
    "execution": {
     "iopub.execute_input": "2024-05-28T23:18:10.792046Z",
     "iopub.status.busy": "2024-05-28T23:18:10.792046Z",
     "iopub.status.idle": "2024-05-28T23:18:10.813585Z",
     "shell.execute_reply": "2024-05-28T23:18:10.813585Z",
     "shell.execute_reply.started": "2024-05-28T23:18:10.792046Z"
    }
   },
   "outputs": [
    {
     "name": "stdout",
     "output_type": "stream",
     "text": [
      "Missing values after imputation:\n",
      "0\n"
     ]
    }
   ],
   "source": [
    "missing_values_after_imputation = df_cleaned['WorkLoc'].isna().sum()\n",
    "print(\"Missing values after imputation:\")\n",
    "print(missing_values_after_imputation)"
   ]
  },
  {
   "cell_type": "markdown",
   "id": "d72bc4fa-8123-4a86-9c74-c7827ac86439",
   "metadata": {},
   "source": [
    "## 6. Normalizing data"
   ]
  },
  {
   "cell_type": "markdown",
   "id": "8b6ccd62-a151-4460-9c60-bcbec7b9d350",
   "metadata": {},
   "source": [
    "Berikut adalah dua kolom dalam dataset yang membahas tentang kompensasi.\n",
    "\n",
    "Satu adalah \"CompFreq\". Kolom ini menunjukkan seberapa sering seorang pengembang dibayar (Tahunan, Bulanan, Mingguan).\n",
    "\n",
    "Yang lainnya adalah \"CompTotal\". Kolom ini berbicara tentang berapa banyak seorang pengembang dibayar per Tahun, Bulan, atau Minggu tergantung pada \"CompFreq\"-nya.\n",
    "\n",
    "Ini membuat sulit untuk membandingkan total kompensasi dari para pengembang.\n",
    "\n",
    "Di bagian ini, kamu akan membuat kolom baru yang disebut 'NormalizedAnnualCompensation' yang berisi 'Kompensasi Tahunan' tanpa memperhatikan 'CompFreq'.\n",
    "\n",
    "Setelah kolom ini siap, membandingkan gaji menjadi mudah."
   ]
  },
  {
   "cell_type": "markdown",
   "id": "b218405b-0997-4f04-94c1-0c56520d7415",
   "metadata": {},
   "source": [
    "#### List out the various categories in the column 'CompFreq'"
   ]
  },
  {
   "cell_type": "code",
   "execution_count": 21,
   "id": "5f5abdc3-42f2-4803-80c7-d47975ab3323",
   "metadata": {
    "execution": {
     "iopub.execute_input": "2024-05-28T23:22:11.349178Z",
     "iopub.status.busy": "2024-05-28T23:22:11.349178Z",
     "iopub.status.idle": "2024-05-28T23:22:11.365315Z",
     "shell.execute_reply": "2024-05-28T23:22:11.364266Z",
     "shell.execute_reply.started": "2024-05-28T23:22:11.349178Z"
    }
   },
   "outputs": [
    {
     "name": "stdout",
     "output_type": "stream",
     "text": [
      "['Yearly' 'Monthly' 'Weekly' nan]\n"
     ]
    }
   ],
   "source": [
    "unique_categories = df_cleaned['CompFreq'].unique()\n",
    "print(unique_categories)"
   ]
  },
  {
   "cell_type": "markdown",
   "id": "eaedf784-1b7c-4a21-b162-0b735e4f4a70",
   "metadata": {},
   "source": [
    "#### Create a new column named 'NormalizedAnnualCompensation'. Use the hint given below if needed."
   ]
  },
  {
   "cell_type": "code",
   "execution_count": 31,
   "id": "cbe88fc5-3c18-4298-9e67-20b278c4628f",
   "metadata": {
    "execution": {
     "iopub.execute_input": "2024-05-28T23:26:42.079286Z",
     "iopub.status.busy": "2024-05-28T23:26:42.079286Z",
     "iopub.status.idle": "2024-05-28T23:26:42.374956Z",
     "shell.execute_reply": "2024-05-28T23:26:42.372438Z",
     "shell.execute_reply.started": "2024-05-28T23:26:42.079286Z"
    }
   },
   "outputs": [
    {
     "name": "stdout",
     "output_type": "stream",
     "text": [
      "  CompFreq  CompTotal  NormalizedAnnualCompensation\n",
      "0   Yearly    61000.0                       61000.0\n",
      "1   Yearly   138000.0                      138000.0\n",
      "2   Yearly    90000.0                       90000.0\n",
      "3  Monthly    29000.0                      348000.0\n",
      "4   Yearly    90000.0                       90000.0\n"
     ]
    }
   ],
   "source": [
    "def normalize_compensation(row):\n",
    "    if row['CompFreq'] == 'Yearly':\n",
    "        return row['CompTotal']\n",
    "    elif row['CompFreq'] == 'Monthly':\n",
    "        return row['CompTotal'] * 12\n",
    "    elif row['CompFreq'] == 'Weekly':\n",
    "        return row['CompTotal'] * 52\n",
    "    else:\n",
    "        return None  \n",
    "\n",
    "df_cleaned.loc[:, 'NormalizedAnnualCompensation'] = df_cleaned.apply(normalize_compensation, axis=1)\n",
    "print(df_cleaned[['CompFreq', 'CompTotal', 'NormalizedAnnualCompensation']].head())"
   ]
  },
  {
   "cell_type": "markdown",
   "id": "f111130e-bc20-4c0e-a9ab-f9115fb4ba06",
   "metadata": {},
   "source": [
    "#### Verfy Missing Values Again"
   ]
  },
  {
   "cell_type": "code",
   "execution_count": 34,
   "id": "906871fb-7c57-4637-b847-000763baed47",
   "metadata": {
    "execution": {
     "iopub.execute_input": "2024-05-28T23:29:41.630906Z",
     "iopub.status.busy": "2024-05-28T23:29:41.629328Z",
     "iopub.status.idle": "2024-05-28T23:29:41.701465Z",
     "shell.execute_reply": "2024-05-28T23:29:41.701465Z",
     "shell.execute_reply.started": "2024-05-28T23:29:41.630906Z"
    }
   },
   "outputs": [
    {
     "name": "stdout",
     "output_type": "stream",
     "text": [
      "Missing values in each column:\n",
      "Respondent                        0\n",
      "MainBranch                        0\n",
      "Hobbyist                          0\n",
      "OpenSourcer                       0\n",
      "OpenSource                       81\n",
      "                               ... \n",
      "Ethnicity                       675\n",
      "Dependents                      140\n",
      "SurveyLength                     19\n",
      "SurveyEase                       14\n",
      "NormalizedAnnualCompensation    815\n",
      "Length: 86, dtype: int64\n"
     ]
    }
   ],
   "source": [
    "missing_values_comp = df_cleaned.isna().sum()\n",
    "print(\"Missing values in each column:\")\n",
    "print(missing_values_comp)"
   ]
  },
  {
   "cell_type": "markdown",
   "id": "9c0d547d-cf77-43fd-8b0c-9214444baea3",
   "metadata": {},
   "source": [
    "#### Fill Missing Values with Modus and median"
   ]
  },
  {
   "cell_type": "code",
   "execution_count": 39,
   "id": "12a9f990-66d6-4012-8d2e-3ee07e5a0f58",
   "metadata": {
    "execution": {
     "iopub.execute_input": "2024-05-28T23:32:21.526755Z",
     "iopub.status.busy": "2024-05-28T23:32:21.526755Z",
     "iopub.status.idle": "2024-05-28T23:32:21.879691Z",
     "shell.execute_reply": "2024-05-28T23:32:21.879168Z",
     "shell.execute_reply.started": "2024-05-28T23:32:21.526755Z"
    }
   },
   "outputs": [
    {
     "name": "stdout",
     "output_type": "stream",
     "text": [
      "Respondent                      0\n",
      "MainBranch                      0\n",
      "Hobbyist                        0\n",
      "OpenSourcer                     0\n",
      "OpenSource                      0\n",
      "                               ..\n",
      "Ethnicity                       0\n",
      "Dependents                      0\n",
      "SurveyLength                    0\n",
      "SurveyEase                      0\n",
      "NormalizedAnnualCompensation    0\n",
      "Length: 86, dtype: int64\n"
     ]
    }
   ],
   "source": [
    "for column in df_cleaned.columns:\n",
    "    if df_cleaned[column].dtype == 'object':\n",
    "        # Mengisi kolom kategori dengan modus (nilai yang paling sering muncul)\n",
    "        mode_value = df_cleaned[column].mode()[0]\n",
    "        df_cleaned.loc[:, column] = df_cleaned.loc[:, column].fillna(mode_value)\n",
    "        \n",
    "    else:\n",
    "        # Mengisi kolom numerik dengan median\n",
    "        median_value = df_cleaned[column].median()\n",
    "        df_cleaned.loc[:, column] = df_cleaned.loc[:, column].fillna(median_value)\n",
    "\n",
    "missing_values_after = df_cleaned.isnull().sum()\n",
    "print(missing_values_after)"
   ]
  },
  {
   "cell_type": "markdown",
   "id": "bcdf79ad-e5cd-4d4c-8a58-bd4a735e1977",
   "metadata": {},
   "source": [
    "### DataFrame After Wrangling and Cleaning"
   ]
  },
  {
   "cell_type": "code",
   "execution_count": 53,
   "id": "f2611d08-5d0c-491b-8c5b-95cb6052f35f",
   "metadata": {
    "execution": {
     "iopub.execute_input": "2024-05-29T01:29:34.310920Z",
     "iopub.status.busy": "2024-05-29T01:29:34.310920Z",
     "iopub.status.idle": "2024-05-29T01:29:34.384583Z",
     "shell.execute_reply": "2024-05-29T01:29:34.383549Z",
     "shell.execute_reply.started": "2024-05-29T01:29:34.310920Z"
    }
   },
   "outputs": [
    {
     "data": {
      "text/html": [
       "<div>\n",
       "<style scoped>\n",
       "    .dataframe tbody tr th:only-of-type {\n",
       "        vertical-align: middle;\n",
       "    }\n",
       "\n",
       "    .dataframe tbody tr th {\n",
       "        vertical-align: top;\n",
       "    }\n",
       "\n",
       "    .dataframe thead th {\n",
       "        text-align: right;\n",
       "    }\n",
       "</style>\n",
       "<table border=\"1\" class=\"dataframe\">\n",
       "  <thead>\n",
       "    <tr style=\"text-align: right;\">\n",
       "      <th></th>\n",
       "      <th>Respondent</th>\n",
       "      <th>MainBranch</th>\n",
       "      <th>Hobbyist</th>\n",
       "      <th>OpenSourcer</th>\n",
       "      <th>OpenSource</th>\n",
       "      <th>Employment</th>\n",
       "      <th>Country</th>\n",
       "      <th>Student</th>\n",
       "      <th>EdLevel</th>\n",
       "      <th>UndergradMajor</th>\n",
       "      <th>...</th>\n",
       "      <th>SONewContent</th>\n",
       "      <th>Age</th>\n",
       "      <th>Gender</th>\n",
       "      <th>Trans</th>\n",
       "      <th>Sexuality</th>\n",
       "      <th>Ethnicity</th>\n",
       "      <th>Dependents</th>\n",
       "      <th>SurveyLength</th>\n",
       "      <th>SurveyEase</th>\n",
       "      <th>NormalizedAnnualCompensation</th>\n",
       "    </tr>\n",
       "  </thead>\n",
       "  <tbody>\n",
       "    <tr>\n",
       "      <th>0</th>\n",
       "      <td>4</td>\n",
       "      <td>I am a developer by profession</td>\n",
       "      <td>No</td>\n",
       "      <td>Never</td>\n",
       "      <td>The quality of OSS and closed source software ...</td>\n",
       "      <td>Employed full-time</td>\n",
       "      <td>United States</td>\n",
       "      <td>No</td>\n",
       "      <td>Bachelor’s degree (BA, BS, B.Eng., etc.)</td>\n",
       "      <td>Computer science, computer engineering, or sof...</td>\n",
       "      <td>...</td>\n",
       "      <td>Tech articles written by other developers;Indu...</td>\n",
       "      <td>22.0</td>\n",
       "      <td>Man</td>\n",
       "      <td>No</td>\n",
       "      <td>Straight / Heterosexual</td>\n",
       "      <td>White or of European descent</td>\n",
       "      <td>No</td>\n",
       "      <td>Appropriate in length</td>\n",
       "      <td>Easy</td>\n",
       "      <td>61000.0</td>\n",
       "    </tr>\n",
       "    <tr>\n",
       "      <th>1</th>\n",
       "      <td>9</td>\n",
       "      <td>I am a developer by profession</td>\n",
       "      <td>Yes</td>\n",
       "      <td>Once a month or more often</td>\n",
       "      <td>The quality of OSS and closed source software ...</td>\n",
       "      <td>Employed full-time</td>\n",
       "      <td>New Zealand</td>\n",
       "      <td>No</td>\n",
       "      <td>Some college/university study without earning ...</td>\n",
       "      <td>Computer science, computer engineering, or sof...</td>\n",
       "      <td>...</td>\n",
       "      <td>Tech articles written by other developers;Indu...</td>\n",
       "      <td>23.0</td>\n",
       "      <td>Man</td>\n",
       "      <td>No</td>\n",
       "      <td>Bisexual</td>\n",
       "      <td>White or of European descent</td>\n",
       "      <td>No</td>\n",
       "      <td>Appropriate in length</td>\n",
       "      <td>Neither easy nor difficult</td>\n",
       "      <td>138000.0</td>\n",
       "    </tr>\n",
       "    <tr>\n",
       "      <th>2</th>\n",
       "      <td>13</td>\n",
       "      <td>I am a developer by profession</td>\n",
       "      <td>Yes</td>\n",
       "      <td>Less than once a month but more than once per ...</td>\n",
       "      <td>OSS is, on average, of HIGHER quality than pro...</td>\n",
       "      <td>Employed full-time</td>\n",
       "      <td>United States</td>\n",
       "      <td>No</td>\n",
       "      <td>Master’s degree (MA, MS, M.Eng., MBA, etc.)</td>\n",
       "      <td>Computer science, computer engineering, or sof...</td>\n",
       "      <td>...</td>\n",
       "      <td>Tech articles written by other developers;Cour...</td>\n",
       "      <td>28.0</td>\n",
       "      <td>Man</td>\n",
       "      <td>No</td>\n",
       "      <td>Straight / Heterosexual</td>\n",
       "      <td>White or of European descent</td>\n",
       "      <td>Yes</td>\n",
       "      <td>Appropriate in length</td>\n",
       "      <td>Easy</td>\n",
       "      <td>90000.0</td>\n",
       "    </tr>\n",
       "    <tr>\n",
       "      <th>3</th>\n",
       "      <td>16</td>\n",
       "      <td>I am a developer by profession</td>\n",
       "      <td>Yes</td>\n",
       "      <td>Never</td>\n",
       "      <td>The quality of OSS and closed source software ...</td>\n",
       "      <td>Employed full-time</td>\n",
       "      <td>United Kingdom</td>\n",
       "      <td>No</td>\n",
       "      <td>Master’s degree (MA, MS, M.Eng., MBA, etc.)</td>\n",
       "      <td>Computer science, computer engineering, or sof...</td>\n",
       "      <td>...</td>\n",
       "      <td>Tech articles written by other developers;Indu...</td>\n",
       "      <td>26.0</td>\n",
       "      <td>Man</td>\n",
       "      <td>No</td>\n",
       "      <td>Straight / Heterosexual</td>\n",
       "      <td>White or of European descent</td>\n",
       "      <td>No</td>\n",
       "      <td>Appropriate in length</td>\n",
       "      <td>Neither easy nor difficult</td>\n",
       "      <td>348000.0</td>\n",
       "    </tr>\n",
       "    <tr>\n",
       "      <th>4</th>\n",
       "      <td>17</td>\n",
       "      <td>I am a developer by profession</td>\n",
       "      <td>Yes</td>\n",
       "      <td>Less than once a month but more than once per ...</td>\n",
       "      <td>The quality of OSS and closed source software ...</td>\n",
       "      <td>Employed full-time</td>\n",
       "      <td>Australia</td>\n",
       "      <td>No</td>\n",
       "      <td>Bachelor’s degree (BA, BS, B.Eng., etc.)</td>\n",
       "      <td>Computer science, computer engineering, or sof...</td>\n",
       "      <td>...</td>\n",
       "      <td>Tech articles written by other developers;Indu...</td>\n",
       "      <td>29.0</td>\n",
       "      <td>Man</td>\n",
       "      <td>No</td>\n",
       "      <td>Straight / Heterosexual</td>\n",
       "      <td>Hispanic or Latino/Latina;Multiracial</td>\n",
       "      <td>No</td>\n",
       "      <td>Appropriate in length</td>\n",
       "      <td>Easy</td>\n",
       "      <td>90000.0</td>\n",
       "    </tr>\n",
       "    <tr>\n",
       "      <th>...</th>\n",
       "      <td>...</td>\n",
       "      <td>...</td>\n",
       "      <td>...</td>\n",
       "      <td>...</td>\n",
       "      <td>...</td>\n",
       "      <td>...</td>\n",
       "      <td>...</td>\n",
       "      <td>...</td>\n",
       "      <td>...</td>\n",
       "      <td>...</td>\n",
       "      <td>...</td>\n",
       "      <td>...</td>\n",
       "      <td>...</td>\n",
       "      <td>...</td>\n",
       "      <td>...</td>\n",
       "      <td>...</td>\n",
       "      <td>...</td>\n",
       "      <td>...</td>\n",
       "      <td>...</td>\n",
       "      <td>...</td>\n",
       "      <td>...</td>\n",
       "    </tr>\n",
       "    <tr>\n",
       "      <th>11547</th>\n",
       "      <td>25136</td>\n",
       "      <td>I am a developer by profession</td>\n",
       "      <td>Yes</td>\n",
       "      <td>Never</td>\n",
       "      <td>OSS is, on average, of HIGHER quality than pro...</td>\n",
       "      <td>Employed full-time</td>\n",
       "      <td>United States</td>\n",
       "      <td>No</td>\n",
       "      <td>Master’s degree (MA, MS, M.Eng., MBA, etc.)</td>\n",
       "      <td>Computer science, computer engineering, or sof...</td>\n",
       "      <td>...</td>\n",
       "      <td>Tech articles written by other developers;Cour...</td>\n",
       "      <td>36.0</td>\n",
       "      <td>Man</td>\n",
       "      <td>No</td>\n",
       "      <td>Straight / Heterosexual</td>\n",
       "      <td>White or of European descent</td>\n",
       "      <td>No</td>\n",
       "      <td>Appropriate in length</td>\n",
       "      <td>Difficult</td>\n",
       "      <td>130000.0</td>\n",
       "    </tr>\n",
       "    <tr>\n",
       "      <th>11548</th>\n",
       "      <td>25137</td>\n",
       "      <td>I am a developer by profession</td>\n",
       "      <td>Yes</td>\n",
       "      <td>Never</td>\n",
       "      <td>The quality of OSS and closed source software ...</td>\n",
       "      <td>Employed full-time</td>\n",
       "      <td>Poland</td>\n",
       "      <td>No</td>\n",
       "      <td>Master’s degree (MA, MS, M.Eng., MBA, etc.)</td>\n",
       "      <td>Computer science, computer engineering, or sof...</td>\n",
       "      <td>...</td>\n",
       "      <td>Tech articles written by other developers;Tech...</td>\n",
       "      <td>25.0</td>\n",
       "      <td>Man</td>\n",
       "      <td>No</td>\n",
       "      <td>Straight / Heterosexual</td>\n",
       "      <td>White or of European descent</td>\n",
       "      <td>No</td>\n",
       "      <td>Appropriate in length</td>\n",
       "      <td>Neither easy nor difficult</td>\n",
       "      <td>74400.0</td>\n",
       "    </tr>\n",
       "    <tr>\n",
       "      <th>11549</th>\n",
       "      <td>25138</td>\n",
       "      <td>I am a developer by profession</td>\n",
       "      <td>Yes</td>\n",
       "      <td>Less than once per year</td>\n",
       "      <td>The quality of OSS and closed source software ...</td>\n",
       "      <td>Employed full-time</td>\n",
       "      <td>United States</td>\n",
       "      <td>No</td>\n",
       "      <td>Master’s degree (MA, MS, M.Eng., MBA, etc.)</td>\n",
       "      <td>Computer science, computer engineering, or sof...</td>\n",
       "      <td>...</td>\n",
       "      <td>Tech articles written by other developers;Indu...</td>\n",
       "      <td>34.0</td>\n",
       "      <td>Man</td>\n",
       "      <td>No</td>\n",
       "      <td>Straight / Heterosexual</td>\n",
       "      <td>White or of European descent</td>\n",
       "      <td>Yes</td>\n",
       "      <td>Too long</td>\n",
       "      <td>Easy</td>\n",
       "      <td>105000.0</td>\n",
       "    </tr>\n",
       "    <tr>\n",
       "      <th>11550</th>\n",
       "      <td>25141</td>\n",
       "      <td>I am a developer by profession</td>\n",
       "      <td>Yes</td>\n",
       "      <td>Less than once a month but more than once per ...</td>\n",
       "      <td>OSS is, on average, of LOWER quality than prop...</td>\n",
       "      <td>Employed full-time</td>\n",
       "      <td>Switzerland</td>\n",
       "      <td>No</td>\n",
       "      <td>Secondary school (e.g. American high school, G...</td>\n",
       "      <td>Computer science, computer engineering, or sof...</td>\n",
       "      <td>...</td>\n",
       "      <td>Tech articles written by other developers;Indu...</td>\n",
       "      <td>25.0</td>\n",
       "      <td>Man</td>\n",
       "      <td>No</td>\n",
       "      <td>Straight / Heterosexual</td>\n",
       "      <td>White or of European descent</td>\n",
       "      <td>No</td>\n",
       "      <td>Appropriate in length</td>\n",
       "      <td>Easy</td>\n",
       "      <td>80000.0</td>\n",
       "    </tr>\n",
       "    <tr>\n",
       "      <th>11551</th>\n",
       "      <td>25142</td>\n",
       "      <td>I am a developer by profession</td>\n",
       "      <td>Yes</td>\n",
       "      <td>Less than once a month but more than once per ...</td>\n",
       "      <td>OSS is, on average, of HIGHER quality than pro...</td>\n",
       "      <td>Employed full-time</td>\n",
       "      <td>United Kingdom</td>\n",
       "      <td>No</td>\n",
       "      <td>Other doctoral degree (Ph.D, Ed.D., etc.)</td>\n",
       "      <td>A natural science (ex. biology, chemistry, phy...</td>\n",
       "      <td>...</td>\n",
       "      <td>Tech articles written by other developers;Tech...</td>\n",
       "      <td>30.0</td>\n",
       "      <td>Man</td>\n",
       "      <td>No</td>\n",
       "      <td>Bisexual</td>\n",
       "      <td>White or of European descent</td>\n",
       "      <td>No</td>\n",
       "      <td>Appropriate in length</td>\n",
       "      <td>Easy</td>\n",
       "      <td>100000.0</td>\n",
       "    </tr>\n",
       "  </tbody>\n",
       "</table>\n",
       "<p>11398 rows × 86 columns</p>\n",
       "</div>"
      ],
      "text/plain": [
       "       Respondent                      MainBranch Hobbyist  \\\n",
       "0               4  I am a developer by profession       No   \n",
       "1               9  I am a developer by profession      Yes   \n",
       "2              13  I am a developer by profession      Yes   \n",
       "3              16  I am a developer by profession      Yes   \n",
       "4              17  I am a developer by profession      Yes   \n",
       "...           ...                             ...      ...   \n",
       "11547       25136  I am a developer by profession      Yes   \n",
       "11548       25137  I am a developer by profession      Yes   \n",
       "11549       25138  I am a developer by profession      Yes   \n",
       "11550       25141  I am a developer by profession      Yes   \n",
       "11551       25142  I am a developer by profession      Yes   \n",
       "\n",
       "                                             OpenSourcer  \\\n",
       "0                                                  Never   \n",
       "1                             Once a month or more often   \n",
       "2      Less than once a month but more than once per ...   \n",
       "3                                                  Never   \n",
       "4      Less than once a month but more than once per ...   \n",
       "...                                                  ...   \n",
       "11547                                              Never   \n",
       "11548                                              Never   \n",
       "11549                            Less than once per year   \n",
       "11550  Less than once a month but more than once per ...   \n",
       "11551  Less than once a month but more than once per ...   \n",
       "\n",
       "                                              OpenSource          Employment  \\\n",
       "0      The quality of OSS and closed source software ...  Employed full-time   \n",
       "1      The quality of OSS and closed source software ...  Employed full-time   \n",
       "2      OSS is, on average, of HIGHER quality than pro...  Employed full-time   \n",
       "3      The quality of OSS and closed source software ...  Employed full-time   \n",
       "4      The quality of OSS and closed source software ...  Employed full-time   \n",
       "...                                                  ...                 ...   \n",
       "11547  OSS is, on average, of HIGHER quality than pro...  Employed full-time   \n",
       "11548  The quality of OSS and closed source software ...  Employed full-time   \n",
       "11549  The quality of OSS and closed source software ...  Employed full-time   \n",
       "11550  OSS is, on average, of LOWER quality than prop...  Employed full-time   \n",
       "11551  OSS is, on average, of HIGHER quality than pro...  Employed full-time   \n",
       "\n",
       "              Country Student  \\\n",
       "0       United States      No   \n",
       "1         New Zealand      No   \n",
       "2       United States      No   \n",
       "3      United Kingdom      No   \n",
       "4           Australia      No   \n",
       "...               ...     ...   \n",
       "11547   United States      No   \n",
       "11548          Poland      No   \n",
       "11549   United States      No   \n",
       "11550     Switzerland      No   \n",
       "11551  United Kingdom      No   \n",
       "\n",
       "                                                 EdLevel  \\\n",
       "0               Bachelor’s degree (BA, BS, B.Eng., etc.)   \n",
       "1      Some college/university study without earning ...   \n",
       "2            Master’s degree (MA, MS, M.Eng., MBA, etc.)   \n",
       "3            Master’s degree (MA, MS, M.Eng., MBA, etc.)   \n",
       "4               Bachelor’s degree (BA, BS, B.Eng., etc.)   \n",
       "...                                                  ...   \n",
       "11547        Master’s degree (MA, MS, M.Eng., MBA, etc.)   \n",
       "11548        Master’s degree (MA, MS, M.Eng., MBA, etc.)   \n",
       "11549        Master’s degree (MA, MS, M.Eng., MBA, etc.)   \n",
       "11550  Secondary school (e.g. American high school, G...   \n",
       "11551          Other doctoral degree (Ph.D, Ed.D., etc.)   \n",
       "\n",
       "                                          UndergradMajor  ...  \\\n",
       "0      Computer science, computer engineering, or sof...  ...   \n",
       "1      Computer science, computer engineering, or sof...  ...   \n",
       "2      Computer science, computer engineering, or sof...  ...   \n",
       "3      Computer science, computer engineering, or sof...  ...   \n",
       "4      Computer science, computer engineering, or sof...  ...   \n",
       "...                                                  ...  ...   \n",
       "11547  Computer science, computer engineering, or sof...  ...   \n",
       "11548  Computer science, computer engineering, or sof...  ...   \n",
       "11549  Computer science, computer engineering, or sof...  ...   \n",
       "11550  Computer science, computer engineering, or sof...  ...   \n",
       "11551  A natural science (ex. biology, chemistry, phy...  ...   \n",
       "\n",
       "                                            SONewContent   Age Gender Trans  \\\n",
       "0      Tech articles written by other developers;Indu...  22.0    Man    No   \n",
       "1      Tech articles written by other developers;Indu...  23.0    Man    No   \n",
       "2      Tech articles written by other developers;Cour...  28.0    Man    No   \n",
       "3      Tech articles written by other developers;Indu...  26.0    Man    No   \n",
       "4      Tech articles written by other developers;Indu...  29.0    Man    No   \n",
       "...                                                  ...   ...    ...   ...   \n",
       "11547  Tech articles written by other developers;Cour...  36.0    Man    No   \n",
       "11548  Tech articles written by other developers;Tech...  25.0    Man    No   \n",
       "11549  Tech articles written by other developers;Indu...  34.0    Man    No   \n",
       "11550  Tech articles written by other developers;Indu...  25.0    Man    No   \n",
       "11551  Tech articles written by other developers;Tech...  30.0    Man    No   \n",
       "\n",
       "                     Sexuality                              Ethnicity  \\\n",
       "0      Straight / Heterosexual           White or of European descent   \n",
       "1                     Bisexual           White or of European descent   \n",
       "2      Straight / Heterosexual           White or of European descent   \n",
       "3      Straight / Heterosexual           White or of European descent   \n",
       "4      Straight / Heterosexual  Hispanic or Latino/Latina;Multiracial   \n",
       "...                        ...                                    ...   \n",
       "11547  Straight / Heterosexual           White or of European descent   \n",
       "11548  Straight / Heterosexual           White or of European descent   \n",
       "11549  Straight / Heterosexual           White or of European descent   \n",
       "11550  Straight / Heterosexual           White or of European descent   \n",
       "11551                 Bisexual           White or of European descent   \n",
       "\n",
       "      Dependents           SurveyLength                  SurveyEase  \\\n",
       "0             No  Appropriate in length                        Easy   \n",
       "1             No  Appropriate in length  Neither easy nor difficult   \n",
       "2            Yes  Appropriate in length                        Easy   \n",
       "3             No  Appropriate in length  Neither easy nor difficult   \n",
       "4             No  Appropriate in length                        Easy   \n",
       "...          ...                    ...                         ...   \n",
       "11547         No  Appropriate in length                   Difficult   \n",
       "11548         No  Appropriate in length  Neither easy nor difficult   \n",
       "11549        Yes               Too long                        Easy   \n",
       "11550         No  Appropriate in length                        Easy   \n",
       "11551         No  Appropriate in length                        Easy   \n",
       "\n",
       "      NormalizedAnnualCompensation  \n",
       "0                          61000.0  \n",
       "1                         138000.0  \n",
       "2                          90000.0  \n",
       "3                         348000.0  \n",
       "4                          90000.0  \n",
       "...                            ...  \n",
       "11547                     130000.0  \n",
       "11548                      74400.0  \n",
       "11549                     105000.0  \n",
       "11550                      80000.0  \n",
       "11551                     100000.0  \n",
       "\n",
       "[11398 rows x 86 columns]"
      ]
     },
     "execution_count": 53,
     "metadata": {},
     "output_type": "execute_result"
    }
   ],
   "source": [
    "df_cleaned"
   ]
  },
  {
   "cell_type": "markdown",
   "id": "af0e2e82-9e4a-4dc3-99d8-9cc6fdac8093",
   "metadata": {
    "jp-MarkdownHeadingCollapsed": true
   },
   "source": [
    "# Module 3: Exploratory Data Analysis "
   ]
  },
  {
   "cell_type": "markdown",
   "id": "15209ab8-de29-4265-80d0-185e99f79680",
   "metadata": {},
   "source": [
    "## Objectives\n",
    "\n",
    "- Identify the distribution of data in the dataset.\n",
    "\n",
    "- Identify outliers in the dataset.\n",
    "\n",
    "- Remove outliers from the dataset.\n",
    "\n",
    "- Identify correlation between features in the dataset."
   ]
  },
  {
   "cell_type": "markdown",
   "id": "7f6115b4-0bbd-4814-aa48-65cb2d726d9c",
   "metadata": {},
   "source": [
    "#### Import the pandas module."
   ]
  },
  {
   "cell_type": "code",
   "execution_count": 63,
   "id": "db2a70a5-190f-4681-b4c8-3d386a08f469",
   "metadata": {
    "execution": {
     "iopub.execute_input": "2024-05-29T09:42:19.961493Z",
     "iopub.status.busy": "2024-05-29T09:42:19.960489Z",
     "iopub.status.idle": "2024-05-29T09:42:19.968487Z",
     "shell.execute_reply": "2024-05-29T09:42:19.967488Z",
     "shell.execute_reply.started": "2024-05-29T09:42:19.960489Z"
    }
   },
   "outputs": [],
   "source": [
    "import pandas as pd"
   ]
  },
  {
   "cell_type": "markdown",
   "id": "e14ee385-fe46-4cff-906c-3dbedc1248b2",
   "metadata": {
    "execution": {
     "iopub.execute_input": "2024-05-29T01:26:56.885296Z",
     "iopub.status.busy": "2024-05-29T01:26:56.885296Z",
     "iopub.status.idle": "2024-05-29T01:26:56.908320Z",
     "shell.execute_reply": "2024-05-29T01:26:56.908320Z",
     "shell.execute_reply.started": "2024-05-29T01:26:56.885296Z"
    }
   },
   "source": [
    "\n",
    "<p>\n",
    "Kami menggunakan fungsi <code>pandas.read_csv()</code> untuk membaca file CSV. Namun, dalam versi lab ini, yang beroperasi di JupyterLite, dataset perlu diunduh ke antarmuka menggunakan kode yang disediakan di bawah ini.\n",
    "</p>"
   ]
  },
  {
   "cell_type": "code",
   "execution_count": 64,
   "id": "ba4fb18a-2fbb-4b14-b6c3-8d8d74e8df96",
   "metadata": {
    "execution": {
     "iopub.execute_input": "2024-05-29T09:42:20.368839Z",
     "iopub.status.busy": "2024-05-29T09:42:20.368839Z",
     "iopub.status.idle": "2024-05-29T09:42:20.388561Z",
     "shell.execute_reply": "2024-05-29T09:42:20.387563Z",
     "shell.execute_reply.started": "2024-05-29T09:42:20.368839Z"
    }
   },
   "outputs": [],
   "source": [
    "survey_path = \"https://cf-courses-data.s3.us.cloud-object-storage.appdomain.cloud/IBM-DA0321EN-SkillsNetwork/LargeData/m2_survey_data.csv\""
   ]
  },
  {
   "cell_type": "code",
   "execution_count": 65,
   "id": "7816359c-8440-47b7-8e67-bd03b22da545",
   "metadata": {
    "execution": {
     "iopub.execute_input": "2024-05-29T09:42:20.616086Z",
     "iopub.status.busy": "2024-05-29T09:42:20.614683Z",
     "iopub.status.idle": "2024-05-29T09:42:34.987138Z",
     "shell.execute_reply": "2024-05-29T09:42:34.986151Z",
     "shell.execute_reply.started": "2024-05-29T09:42:20.614683Z"
    }
   },
   "outputs": [
    {
     "data": {
      "text/html": [
       "<div>\n",
       "<style scoped>\n",
       "    .dataframe tbody tr th:only-of-type {\n",
       "        vertical-align: middle;\n",
       "    }\n",
       "\n",
       "    .dataframe tbody tr th {\n",
       "        vertical-align: top;\n",
       "    }\n",
       "\n",
       "    .dataframe thead th {\n",
       "        text-align: right;\n",
       "    }\n",
       "</style>\n",
       "<table border=\"1\" class=\"dataframe\">\n",
       "  <thead>\n",
       "    <tr style=\"text-align: right;\">\n",
       "      <th></th>\n",
       "      <th>Respondent</th>\n",
       "      <th>MainBranch</th>\n",
       "      <th>Hobbyist</th>\n",
       "      <th>OpenSourcer</th>\n",
       "      <th>OpenSource</th>\n",
       "      <th>Employment</th>\n",
       "      <th>Country</th>\n",
       "      <th>Student</th>\n",
       "      <th>EdLevel</th>\n",
       "      <th>UndergradMajor</th>\n",
       "      <th>...</th>\n",
       "      <th>WelcomeChange</th>\n",
       "      <th>SONewContent</th>\n",
       "      <th>Age</th>\n",
       "      <th>Gender</th>\n",
       "      <th>Trans</th>\n",
       "      <th>Sexuality</th>\n",
       "      <th>Ethnicity</th>\n",
       "      <th>Dependents</th>\n",
       "      <th>SurveyLength</th>\n",
       "      <th>SurveyEase</th>\n",
       "    </tr>\n",
       "  </thead>\n",
       "  <tbody>\n",
       "    <tr>\n",
       "      <th>0</th>\n",
       "      <td>4</td>\n",
       "      <td>I am a developer by profession</td>\n",
       "      <td>No</td>\n",
       "      <td>Never</td>\n",
       "      <td>The quality of OSS and closed source software ...</td>\n",
       "      <td>Employed full-time</td>\n",
       "      <td>United States</td>\n",
       "      <td>No</td>\n",
       "      <td>Bachelor’s degree (BA, BS, B.Eng., etc.)</td>\n",
       "      <td>Computer science, computer engineering, or sof...</td>\n",
       "      <td>...</td>\n",
       "      <td>Just as welcome now as I felt last year</td>\n",
       "      <td>Tech articles written by other developers;Indu...</td>\n",
       "      <td>22.0</td>\n",
       "      <td>Man</td>\n",
       "      <td>No</td>\n",
       "      <td>Straight / Heterosexual</td>\n",
       "      <td>White or of European descent</td>\n",
       "      <td>No</td>\n",
       "      <td>Appropriate in length</td>\n",
       "      <td>Easy</td>\n",
       "    </tr>\n",
       "    <tr>\n",
       "      <th>1</th>\n",
       "      <td>9</td>\n",
       "      <td>I am a developer by profession</td>\n",
       "      <td>Yes</td>\n",
       "      <td>Once a month or more often</td>\n",
       "      <td>The quality of OSS and closed source software ...</td>\n",
       "      <td>Employed full-time</td>\n",
       "      <td>New Zealand</td>\n",
       "      <td>No</td>\n",
       "      <td>Some college/university study without earning ...</td>\n",
       "      <td>Computer science, computer engineering, or sof...</td>\n",
       "      <td>...</td>\n",
       "      <td>Just as welcome now as I felt last year</td>\n",
       "      <td>NaN</td>\n",
       "      <td>23.0</td>\n",
       "      <td>Man</td>\n",
       "      <td>No</td>\n",
       "      <td>Bisexual</td>\n",
       "      <td>White or of European descent</td>\n",
       "      <td>No</td>\n",
       "      <td>Appropriate in length</td>\n",
       "      <td>Neither easy nor difficult</td>\n",
       "    </tr>\n",
       "    <tr>\n",
       "      <th>2</th>\n",
       "      <td>13</td>\n",
       "      <td>I am a developer by profession</td>\n",
       "      <td>Yes</td>\n",
       "      <td>Less than once a month but more than once per ...</td>\n",
       "      <td>OSS is, on average, of HIGHER quality than pro...</td>\n",
       "      <td>Employed full-time</td>\n",
       "      <td>United States</td>\n",
       "      <td>No</td>\n",
       "      <td>Master’s degree (MA, MS, M.Eng., MBA, etc.)</td>\n",
       "      <td>Computer science, computer engineering, or sof...</td>\n",
       "      <td>...</td>\n",
       "      <td>Somewhat more welcome now than last year</td>\n",
       "      <td>Tech articles written by other developers;Cour...</td>\n",
       "      <td>28.0</td>\n",
       "      <td>Man</td>\n",
       "      <td>No</td>\n",
       "      <td>Straight / Heterosexual</td>\n",
       "      <td>White or of European descent</td>\n",
       "      <td>Yes</td>\n",
       "      <td>Appropriate in length</td>\n",
       "      <td>Easy</td>\n",
       "    </tr>\n",
       "    <tr>\n",
       "      <th>3</th>\n",
       "      <td>16</td>\n",
       "      <td>I am a developer by profession</td>\n",
       "      <td>Yes</td>\n",
       "      <td>Never</td>\n",
       "      <td>The quality of OSS and closed source software ...</td>\n",
       "      <td>Employed full-time</td>\n",
       "      <td>United Kingdom</td>\n",
       "      <td>No</td>\n",
       "      <td>Master’s degree (MA, MS, M.Eng., MBA, etc.)</td>\n",
       "      <td>NaN</td>\n",
       "      <td>...</td>\n",
       "      <td>Just as welcome now as I felt last year</td>\n",
       "      <td>Tech articles written by other developers;Indu...</td>\n",
       "      <td>26.0</td>\n",
       "      <td>Man</td>\n",
       "      <td>No</td>\n",
       "      <td>Straight / Heterosexual</td>\n",
       "      <td>White or of European descent</td>\n",
       "      <td>No</td>\n",
       "      <td>Appropriate in length</td>\n",
       "      <td>Neither easy nor difficult</td>\n",
       "    </tr>\n",
       "    <tr>\n",
       "      <th>4</th>\n",
       "      <td>17</td>\n",
       "      <td>I am a developer by profession</td>\n",
       "      <td>Yes</td>\n",
       "      <td>Less than once a month but more than once per ...</td>\n",
       "      <td>The quality of OSS and closed source software ...</td>\n",
       "      <td>Employed full-time</td>\n",
       "      <td>Australia</td>\n",
       "      <td>No</td>\n",
       "      <td>Bachelor’s degree (BA, BS, B.Eng., etc.)</td>\n",
       "      <td>Computer science, computer engineering, or sof...</td>\n",
       "      <td>...</td>\n",
       "      <td>Just as welcome now as I felt last year</td>\n",
       "      <td>Tech articles written by other developers;Indu...</td>\n",
       "      <td>29.0</td>\n",
       "      <td>Man</td>\n",
       "      <td>No</td>\n",
       "      <td>Straight / Heterosexual</td>\n",
       "      <td>Hispanic or Latino/Latina;Multiracial</td>\n",
       "      <td>No</td>\n",
       "      <td>Appropriate in length</td>\n",
       "      <td>Easy</td>\n",
       "    </tr>\n",
       "    <tr>\n",
       "      <th>...</th>\n",
       "      <td>...</td>\n",
       "      <td>...</td>\n",
       "      <td>...</td>\n",
       "      <td>...</td>\n",
       "      <td>...</td>\n",
       "      <td>...</td>\n",
       "      <td>...</td>\n",
       "      <td>...</td>\n",
       "      <td>...</td>\n",
       "      <td>...</td>\n",
       "      <td>...</td>\n",
       "      <td>...</td>\n",
       "      <td>...</td>\n",
       "      <td>...</td>\n",
       "      <td>...</td>\n",
       "      <td>...</td>\n",
       "      <td>...</td>\n",
       "      <td>...</td>\n",
       "      <td>...</td>\n",
       "      <td>...</td>\n",
       "      <td>...</td>\n",
       "    </tr>\n",
       "    <tr>\n",
       "      <th>11393</th>\n",
       "      <td>25136</td>\n",
       "      <td>I am a developer by profession</td>\n",
       "      <td>Yes</td>\n",
       "      <td>Never</td>\n",
       "      <td>OSS is, on average, of HIGHER quality than pro...</td>\n",
       "      <td>Employed full-time</td>\n",
       "      <td>United States</td>\n",
       "      <td>No</td>\n",
       "      <td>Master’s degree (MA, MS, M.Eng., MBA, etc.)</td>\n",
       "      <td>Computer science, computer engineering, or sof...</td>\n",
       "      <td>...</td>\n",
       "      <td>Just as welcome now as I felt last year</td>\n",
       "      <td>Tech articles written by other developers;Cour...</td>\n",
       "      <td>36.0</td>\n",
       "      <td>Man</td>\n",
       "      <td>No</td>\n",
       "      <td>Straight / Heterosexual</td>\n",
       "      <td>White or of European descent</td>\n",
       "      <td>No</td>\n",
       "      <td>Appropriate in length</td>\n",
       "      <td>Difficult</td>\n",
       "    </tr>\n",
       "    <tr>\n",
       "      <th>11394</th>\n",
       "      <td>25137</td>\n",
       "      <td>I am a developer by profession</td>\n",
       "      <td>Yes</td>\n",
       "      <td>Never</td>\n",
       "      <td>The quality of OSS and closed source software ...</td>\n",
       "      <td>Employed full-time</td>\n",
       "      <td>Poland</td>\n",
       "      <td>No</td>\n",
       "      <td>Master’s degree (MA, MS, M.Eng., MBA, etc.)</td>\n",
       "      <td>Computer science, computer engineering, or sof...</td>\n",
       "      <td>...</td>\n",
       "      <td>A lot more welcome now than last year</td>\n",
       "      <td>Tech articles written by other developers;Tech...</td>\n",
       "      <td>25.0</td>\n",
       "      <td>Man</td>\n",
       "      <td>No</td>\n",
       "      <td>Straight / Heterosexual</td>\n",
       "      <td>White or of European descent</td>\n",
       "      <td>No</td>\n",
       "      <td>Appropriate in length</td>\n",
       "      <td>Neither easy nor difficult</td>\n",
       "    </tr>\n",
       "    <tr>\n",
       "      <th>11395</th>\n",
       "      <td>25138</td>\n",
       "      <td>I am a developer by profession</td>\n",
       "      <td>Yes</td>\n",
       "      <td>Less than once per year</td>\n",
       "      <td>The quality of OSS and closed source software ...</td>\n",
       "      <td>Employed full-time</td>\n",
       "      <td>United States</td>\n",
       "      <td>No</td>\n",
       "      <td>Master’s degree (MA, MS, M.Eng., MBA, etc.)</td>\n",
       "      <td>Computer science, computer engineering, or sof...</td>\n",
       "      <td>...</td>\n",
       "      <td>A lot more welcome now than last year</td>\n",
       "      <td>Tech articles written by other developers;Indu...</td>\n",
       "      <td>34.0</td>\n",
       "      <td>Man</td>\n",
       "      <td>No</td>\n",
       "      <td>Straight / Heterosexual</td>\n",
       "      <td>White or of European descent</td>\n",
       "      <td>Yes</td>\n",
       "      <td>Too long</td>\n",
       "      <td>Easy</td>\n",
       "    </tr>\n",
       "    <tr>\n",
       "      <th>11396</th>\n",
       "      <td>25141</td>\n",
       "      <td>I am a developer by profession</td>\n",
       "      <td>Yes</td>\n",
       "      <td>Less than once a month but more than once per ...</td>\n",
       "      <td>OSS is, on average, of LOWER quality than prop...</td>\n",
       "      <td>Employed full-time</td>\n",
       "      <td>Switzerland</td>\n",
       "      <td>No</td>\n",
       "      <td>Secondary school (e.g. American high school, G...</td>\n",
       "      <td>NaN</td>\n",
       "      <td>...</td>\n",
       "      <td>Somewhat less welcome now than last year</td>\n",
       "      <td>NaN</td>\n",
       "      <td>25.0</td>\n",
       "      <td>Man</td>\n",
       "      <td>No</td>\n",
       "      <td>Straight / Heterosexual</td>\n",
       "      <td>White or of European descent</td>\n",
       "      <td>No</td>\n",
       "      <td>Appropriate in length</td>\n",
       "      <td>Easy</td>\n",
       "    </tr>\n",
       "    <tr>\n",
       "      <th>11397</th>\n",
       "      <td>25142</td>\n",
       "      <td>I am a developer by profession</td>\n",
       "      <td>Yes</td>\n",
       "      <td>Less than once a month but more than once per ...</td>\n",
       "      <td>OSS is, on average, of HIGHER quality than pro...</td>\n",
       "      <td>Employed full-time</td>\n",
       "      <td>United Kingdom</td>\n",
       "      <td>No</td>\n",
       "      <td>Other doctoral degree (Ph.D, Ed.D., etc.)</td>\n",
       "      <td>A natural science (ex. biology, chemistry, phy...</td>\n",
       "      <td>...</td>\n",
       "      <td>Just as welcome now as I felt last year</td>\n",
       "      <td>Tech articles written by other developers;Tech...</td>\n",
       "      <td>30.0</td>\n",
       "      <td>Man</td>\n",
       "      <td>No</td>\n",
       "      <td>Bisexual</td>\n",
       "      <td>White or of European descent</td>\n",
       "      <td>No</td>\n",
       "      <td>Appropriate in length</td>\n",
       "      <td>Easy</td>\n",
       "    </tr>\n",
       "  </tbody>\n",
       "</table>\n",
       "<p>11398 rows × 85 columns</p>\n",
       "</div>"
      ],
      "text/plain": [
       "       Respondent                      MainBranch Hobbyist  \\\n",
       "0               4  I am a developer by profession       No   \n",
       "1               9  I am a developer by profession      Yes   \n",
       "2              13  I am a developer by profession      Yes   \n",
       "3              16  I am a developer by profession      Yes   \n",
       "4              17  I am a developer by profession      Yes   \n",
       "...           ...                             ...      ...   \n",
       "11393       25136  I am a developer by profession      Yes   \n",
       "11394       25137  I am a developer by profession      Yes   \n",
       "11395       25138  I am a developer by profession      Yes   \n",
       "11396       25141  I am a developer by profession      Yes   \n",
       "11397       25142  I am a developer by profession      Yes   \n",
       "\n",
       "                                             OpenSourcer  \\\n",
       "0                                                  Never   \n",
       "1                             Once a month or more often   \n",
       "2      Less than once a month but more than once per ...   \n",
       "3                                                  Never   \n",
       "4      Less than once a month but more than once per ...   \n",
       "...                                                  ...   \n",
       "11393                                              Never   \n",
       "11394                                              Never   \n",
       "11395                            Less than once per year   \n",
       "11396  Less than once a month but more than once per ...   \n",
       "11397  Less than once a month but more than once per ...   \n",
       "\n",
       "                                              OpenSource          Employment  \\\n",
       "0      The quality of OSS and closed source software ...  Employed full-time   \n",
       "1      The quality of OSS and closed source software ...  Employed full-time   \n",
       "2      OSS is, on average, of HIGHER quality than pro...  Employed full-time   \n",
       "3      The quality of OSS and closed source software ...  Employed full-time   \n",
       "4      The quality of OSS and closed source software ...  Employed full-time   \n",
       "...                                                  ...                 ...   \n",
       "11393  OSS is, on average, of HIGHER quality than pro...  Employed full-time   \n",
       "11394  The quality of OSS and closed source software ...  Employed full-time   \n",
       "11395  The quality of OSS and closed source software ...  Employed full-time   \n",
       "11396  OSS is, on average, of LOWER quality than prop...  Employed full-time   \n",
       "11397  OSS is, on average, of HIGHER quality than pro...  Employed full-time   \n",
       "\n",
       "              Country Student  \\\n",
       "0       United States      No   \n",
       "1         New Zealand      No   \n",
       "2       United States      No   \n",
       "3      United Kingdom      No   \n",
       "4           Australia      No   \n",
       "...               ...     ...   \n",
       "11393   United States      No   \n",
       "11394          Poland      No   \n",
       "11395   United States      No   \n",
       "11396     Switzerland      No   \n",
       "11397  United Kingdom      No   \n",
       "\n",
       "                                                 EdLevel  \\\n",
       "0               Bachelor’s degree (BA, BS, B.Eng., etc.)   \n",
       "1      Some college/university study without earning ...   \n",
       "2            Master’s degree (MA, MS, M.Eng., MBA, etc.)   \n",
       "3            Master’s degree (MA, MS, M.Eng., MBA, etc.)   \n",
       "4               Bachelor’s degree (BA, BS, B.Eng., etc.)   \n",
       "...                                                  ...   \n",
       "11393        Master’s degree (MA, MS, M.Eng., MBA, etc.)   \n",
       "11394        Master’s degree (MA, MS, M.Eng., MBA, etc.)   \n",
       "11395        Master’s degree (MA, MS, M.Eng., MBA, etc.)   \n",
       "11396  Secondary school (e.g. American high school, G...   \n",
       "11397          Other doctoral degree (Ph.D, Ed.D., etc.)   \n",
       "\n",
       "                                          UndergradMajor  ...  \\\n",
       "0      Computer science, computer engineering, or sof...  ...   \n",
       "1      Computer science, computer engineering, or sof...  ...   \n",
       "2      Computer science, computer engineering, or sof...  ...   \n",
       "3                                                    NaN  ...   \n",
       "4      Computer science, computer engineering, or sof...  ...   \n",
       "...                                                  ...  ...   \n",
       "11393  Computer science, computer engineering, or sof...  ...   \n",
       "11394  Computer science, computer engineering, or sof...  ...   \n",
       "11395  Computer science, computer engineering, or sof...  ...   \n",
       "11396                                                NaN  ...   \n",
       "11397  A natural science (ex. biology, chemistry, phy...  ...   \n",
       "\n",
       "                                  WelcomeChange  \\\n",
       "0       Just as welcome now as I felt last year   \n",
       "1       Just as welcome now as I felt last year   \n",
       "2      Somewhat more welcome now than last year   \n",
       "3       Just as welcome now as I felt last year   \n",
       "4       Just as welcome now as I felt last year   \n",
       "...                                         ...   \n",
       "11393   Just as welcome now as I felt last year   \n",
       "11394     A lot more welcome now than last year   \n",
       "11395     A lot more welcome now than last year   \n",
       "11396  Somewhat less welcome now than last year   \n",
       "11397   Just as welcome now as I felt last year   \n",
       "\n",
       "                                            SONewContent   Age Gender Trans  \\\n",
       "0      Tech articles written by other developers;Indu...  22.0    Man    No   \n",
       "1                                                    NaN  23.0    Man    No   \n",
       "2      Tech articles written by other developers;Cour...  28.0    Man    No   \n",
       "3      Tech articles written by other developers;Indu...  26.0    Man    No   \n",
       "4      Tech articles written by other developers;Indu...  29.0    Man    No   \n",
       "...                                                  ...   ...    ...   ...   \n",
       "11393  Tech articles written by other developers;Cour...  36.0    Man    No   \n",
       "11394  Tech articles written by other developers;Tech...  25.0    Man    No   \n",
       "11395  Tech articles written by other developers;Indu...  34.0    Man    No   \n",
       "11396                                                NaN  25.0    Man    No   \n",
       "11397  Tech articles written by other developers;Tech...  30.0    Man    No   \n",
       "\n",
       "                     Sexuality                              Ethnicity  \\\n",
       "0      Straight / Heterosexual           White or of European descent   \n",
       "1                     Bisexual           White or of European descent   \n",
       "2      Straight / Heterosexual           White or of European descent   \n",
       "3      Straight / Heterosexual           White or of European descent   \n",
       "4      Straight / Heterosexual  Hispanic or Latino/Latina;Multiracial   \n",
       "...                        ...                                    ...   \n",
       "11393  Straight / Heterosexual           White or of European descent   \n",
       "11394  Straight / Heterosexual           White or of European descent   \n",
       "11395  Straight / Heterosexual           White or of European descent   \n",
       "11396  Straight / Heterosexual           White or of European descent   \n",
       "11397                 Bisexual           White or of European descent   \n",
       "\n",
       "      Dependents           SurveyLength                  SurveyEase  \n",
       "0             No  Appropriate in length                        Easy  \n",
       "1             No  Appropriate in length  Neither easy nor difficult  \n",
       "2            Yes  Appropriate in length                        Easy  \n",
       "3             No  Appropriate in length  Neither easy nor difficult  \n",
       "4             No  Appropriate in length                        Easy  \n",
       "...          ...                    ...                         ...  \n",
       "11393         No  Appropriate in length                   Difficult  \n",
       "11394         No  Appropriate in length  Neither easy nor difficult  \n",
       "11395        Yes               Too long                        Easy  \n",
       "11396         No  Appropriate in length                        Easy  \n",
       "11397         No  Appropriate in length                        Easy  \n",
       "\n",
       "[11398 rows x 85 columns]"
      ]
     },
     "execution_count": 65,
     "metadata": {},
     "output_type": "execute_result"
    }
   ],
   "source": [
    "#df_cleaned\n",
    "survey_df = pd.read_csv(survey_path)\n",
    "survey_df"
   ]
  },
  {
   "cell_type": "markdown",
   "id": "8599a2b2-8a3d-48fc-bcb8-0c8fc1b7374c",
   "metadata": {},
   "source": [
    "## 1. Distribution"
   ]
  },
  {
   "cell_type": "markdown",
   "id": "99966c4d-6f40-42a1-95ba-2bf36dee0043",
   "metadata": {
    "execution": {
     "iopub.execute_input": "2024-05-29T01:31:53.532306Z",
     "iopub.status.busy": "2024-05-29T01:31:53.532306Z",
     "iopub.status.idle": "2024-05-29T01:31:53.548607Z",
     "shell.execute_reply": "2024-05-29T01:31:53.548607Z",
     "shell.execute_reply.started": "2024-05-29T01:31:53.532306Z"
    }
   },
   "source": [
    "#### Determine how the data is distributed\n",
    "Kolom ConvertedComp berisi Gaji yang dikonversi menjadi gaji tahunan dalam USD menggunakan nilai tukar pada 2019-02-01.\n",
    "\n",
    "Ini mengasumsikan 12 bulan kerja dan 50 minggu kerja.\n",
    "Plot kurva distribusi untuk kolom ConvertedComp."
   ]
  },
  {
   "cell_type": "code",
   "execution_count": 66,
   "id": "d6fa4463-a235-432a-97d5-48e6bc0132a9",
   "metadata": {
    "execution": {
     "iopub.execute_input": "2024-05-29T09:42:34.988613Z",
     "iopub.status.busy": "2024-05-29T09:42:34.987616Z",
     "iopub.status.idle": "2024-05-29T09:42:35.255218Z",
     "shell.execute_reply": "2024-05-29T09:42:35.254144Z",
     "shell.execute_reply.started": "2024-05-29T09:42:34.988613Z"
    }
   },
   "outputs": [],
   "source": [
    "import seaborn as sns\n",
    "import matplotlib.pyplot as plt"
   ]
  },
  {
   "cell_type": "markdown",
   "id": "3ff8cde8-cfec-481b-8518-379b5ec0e06e",
   "metadata": {},
   "source": [
    "#### Plot the distribution curve for the column ConvertedComp."
   ]
  },
  {
   "cell_type": "code",
   "execution_count": 67,
   "id": "e72da697-3ed0-4860-b797-1ee60a437bcd",
   "metadata": {
    "execution": {
     "iopub.execute_input": "2024-05-29T09:42:35.255218Z",
     "iopub.status.busy": "2024-05-29T09:42:35.255218Z",
     "iopub.status.idle": "2024-05-29T09:42:35.906534Z",
     "shell.execute_reply": "2024-05-29T09:42:35.905405Z",
     "shell.execute_reply.started": "2024-05-29T09:42:35.255218Z"
    }
   },
   "outputs": [
    {
     "data": {
      "image/png": "[encoded data removed]",
      "text/plain": [
       "<Figure size 1000x600 with 1 Axes>"
      ]
     },
     "metadata": {},
     "output_type": "display_data"
    }
   ],
   "source": [
    "plt.figure(figsize=(10, 6))\n",
    "sns.histplot(survey_df['ConvertedComp'], kde=True)\n",
    "plt.title('Distribution of ConvertedComp')\n",
    "plt.xlabel('Annual Salary in USD')\n",
    "plt.ylabel('Frequency')\n",
    "plt.show()"
   ]
  },
  {
   "cell_type": "markdown",
   "id": "717278a0-b02f-411f-83f8-18761a0cabf3",
   "metadata": {
    "execution": {
     "iopub.execute_input": "2024-05-29T01:42:41.882479Z",
     "iopub.status.busy": "2024-05-29T01:42:41.882479Z",
     "iopub.status.idle": "2024-05-29T01:42:41.897586Z",
     "shell.execute_reply": "2024-05-29T01:42:41.897586Z",
     "shell.execute_reply.started": "2024-05-29T01:42:41.882479Z"
    }
   },
   "source": [
    "#### Plot the histogram for the column ConvertedComp."
   ]
  },
  {
   "cell_type": "code",
   "execution_count": 68,
   "id": "c97197e3-7e22-4696-985a-f8b272f9caf1",
   "metadata": {
    "execution": {
     "iopub.execute_input": "2024-05-29T09:42:35.907532Z",
     "iopub.status.busy": "2024-05-29T09:42:35.907532Z",
     "iopub.status.idle": "2024-05-29T09:42:36.562228Z",
     "shell.execute_reply": "2024-05-29T09:42:36.560869Z",
     "shell.execute_reply.started": "2024-05-29T09:42:35.907532Z"
    }
   },
   "outputs": [
    {
     "data": {
      "text/plain": [
       "Text(0, 0.5, 'Frequency')"
      ]
     },
     "execution_count": 68,
     "metadata": {},
     "output_type": "execute_result"
    },
    {
     "data": {
      "image/png": "[encoded data removed]",
      "text/plain": [
       "<Figure size 1000x600 with 1 Axes>"
      ]
     },
     "metadata": {},
     "output_type": "display_data"
    }
   ],
   "source": [
    "plt.figure(figsize=(10, 6))\n",
    "sns.histplot(survey_df['ConvertedComp'], bins=30, kde=False)\n",
    "plt.title('Histogram of Converted Compensation')\n",
    "plt.xlabel('Converted Compensation')\n",
    "plt.ylabel('Frequency')"
   ]
  },
  {
   "cell_type": "markdown",
   "id": "8128e900-4f73-44be-bc4a-49b2d47c101d",
   "metadata": {},
   "source": [
    "#### What is the median of the column ConvertedComp?"
   ]
  },
  {
   "cell_type": "code",
   "execution_count": 69,
   "id": "3325fb7e-1272-41ea-9b9f-2b8678faa02b",
   "metadata": {
    "execution": {
     "iopub.execute_input": "2024-05-29T09:42:36.564731Z",
     "iopub.status.busy": "2024-05-29T09:42:36.564223Z",
     "iopub.status.idle": "2024-05-29T09:42:36.577703Z",
     "shell.execute_reply": "2024-05-29T09:42:36.576710Z",
     "shell.execute_reply.started": "2024-05-29T09:42:36.564731Z"
    }
   },
   "outputs": [
    {
     "name": "stdout",
     "output_type": "stream",
     "text": [
      "Median of ConvertedComp: 57745.0\n"
     ]
    }
   ],
   "source": [
    "median_converted_comp = survey_df['ConvertedComp'].median()\n",
    "print(\"Median of ConvertedComp:\", median_converted_comp)"
   ]
  },
  {
   "cell_type": "markdown",
   "id": "c0845935-4185-407d-8509-8588fb530522",
   "metadata": {},
   "source": [
    "#### How many responders identified themselves only as a Man?"
   ]
  },
  {
   "cell_type": "code",
   "execution_count": 70,
   "id": "44368ee6-16c2-4fd0-af97-24738c3e2f93",
   "metadata": {
    "execution": {
     "iopub.execute_input": "2024-05-29T09:42:36.580700Z",
     "iopub.status.busy": "2024-05-29T09:42:36.579702Z",
     "iopub.status.idle": "2024-05-29T09:42:36.625246Z",
     "shell.execute_reply": "2024-05-29T09:42:36.624214Z",
     "shell.execute_reply.started": "2024-05-29T09:42:36.580700Z"
    }
   },
   "outputs": [
    {
     "name": "stdout",
     "output_type": "stream",
     "text": [
      "Number of responders who identified themselves only as a Man: 10480\n"
     ]
    }
   ],
   "source": [
    "num_men = survey_df[survey_df['Gender'] == 'Man'].shape[0]\n",
    "print(\"Number of responders who identified themselves only as a Man:\", num_men)"
   ]
  },
  {
   "cell_type": "markdown",
   "id": "4ae8726e-f0ac-42b3-b604-f2d855eeca57",
   "metadata": {},
   "source": [
    "#### Give the five number summary for the column Age?"
   ]
  },
  {
   "cell_type": "code",
   "execution_count": 71,
   "id": "1db45da8-99c7-4922-8526-a1a3e9a85bae",
   "metadata": {
    "execution": {
     "iopub.execute_input": "2024-05-29T09:42:36.628603Z",
     "iopub.status.busy": "2024-05-29T09:42:36.627606Z",
     "iopub.status.idle": "2024-05-29T09:42:36.657313Z",
     "shell.execute_reply": "2024-05-29T09:42:36.656317Z",
     "shell.execute_reply.started": "2024-05-29T09:42:36.628603Z"
    }
   },
   "outputs": [
    {
     "name": "stdout",
     "output_type": "stream",
     "text": [
      "Five-number summary for Age:\n",
      "Minimum: 16.0\n",
      "First Quartile (Q1): 25.0\n",
      "Median (Q2): 29.0\n",
      "Third Quartile (Q3): 35.0\n",
      "Maximum: 99.0\n"
     ]
    }
   ],
   "source": [
    "minimum = survey_df['Age'].min()\n",
    "first_quartile = survey_df['Age'].quantile(0.25)\n",
    "median = survey_df['Age'].median()\n",
    "third_quartile = survey_df['Age'].quantile(0.75)\n",
    "maximum = survey_df['Age'].max()\n",
    "\n",
    "# Menampilkan lima angka ringkasan\n",
    "print(\"Five-number summary for Age:\")\n",
    "print(\"Minimum:\", minimum)\n",
    "print(\"First Quartile (Q1):\", first_quartile)\n",
    "print(\"Median (Q2):\", median)\n",
    "print(\"Third Quartile (Q3):\", third_quartile)\n",
    "print(\"Maximum:\", maximum)"
   ]
  },
  {
   "cell_type": "markdown",
   "id": "8dd08d4c-d0d3-4a96-a43c-3660aa7d5d02",
   "metadata": {},
   "source": [
    "#### Plot a histogram of the column `Age`.\n"
   ]
  },
  {
   "cell_type": "code",
   "execution_count": 72,
   "id": "7ff70cd6-2432-4137-97a5-862efe647414",
   "metadata": {
    "execution": {
     "iopub.execute_input": "2024-05-29T09:42:36.661302Z",
     "iopub.status.busy": "2024-05-29T09:42:36.660306Z",
     "iopub.status.idle": "2024-05-29T09:42:37.219111Z",
     "shell.execute_reply": "2024-05-29T09:42:37.217117Z",
     "shell.execute_reply.started": "2024-05-29T09:42:36.660306Z"
    }
   },
   "outputs": [
    {
     "data": {
      "text/plain": [
       "Text(0, 0.5, 'Frequency')"
      ]
     },
     "execution_count": 72,
     "metadata": {},
     "output_type": "execute_result"
    },
    {
     "data": {
      "image/png": "[encoded data removed]",
      "text/plain": [
       "<Figure size 1000x600 with 1 Axes>"
      ]
     },
     "metadata": {},
     "output_type": "display_data"
    }
   ],
   "source": [
    "plt.figure(figsize=(10, 6))\n",
    "sns.histplot(survey_df['Age'], bins=30, kde=False)\n",
    "plt.title('Histogram of Age')\n",
    "plt.xlabel('Age')\n",
    "plt.ylabel('Frequency')"
   ]
  },
  {
   "cell_type": "markdown",
   "id": "9a16bf53-fb86-41f1-bb1c-0e74a35b6fbb",
   "metadata": {
    "execution": {
     "iopub.execute_input": "2024-05-29T01:58:09.118208Z",
     "iopub.status.busy": "2024-05-29T01:58:09.118208Z",
     "iopub.status.idle": "2024-05-29T01:58:09.126800Z",
     "shell.execute_reply": "2024-05-29T01:58:09.126800Z",
     "shell.execute_reply.started": "2024-05-29T01:58:09.118208Z"
    }
   },
   "source": [
    "## 2. Outliers"
   ]
  },
  {
   "cell_type": "markdown",
   "id": "551838dd-48ea-4694-bbc9-c9eecc47449e",
   "metadata": {},
   "source": [
    "#### Find out if outliers exist in the column ConvertedComp using a box plot?"
   ]
  },
  {
   "cell_type": "code",
   "execution_count": 73,
   "id": "3e60607d-78e8-424b-a8a9-2b619feca64b",
   "metadata": {
    "execution": {
     "iopub.execute_input": "2024-05-29T09:42:37.221105Z",
     "iopub.status.busy": "2024-05-29T09:42:37.221105Z",
     "iopub.status.idle": "2024-05-29T09:42:37.695728Z",
     "shell.execute_reply": "2024-05-29T09:42:37.694391Z",
     "shell.execute_reply.started": "2024-05-29T09:42:37.221105Z"
    }
   },
   "outputs": [
    {
     "data": {
      "text/plain": [
       "Text(0.5, 0, 'Converted Compensation')"
      ]
     },
     "execution_count": 73,
     "metadata": {},
     "output_type": "execute_result"
    },
    {
     "data": {
      "image/png": "[encoded data removed]",
      "text/plain": [
       "<Figure size 1000x600 with 1 Axes>"
      ]
     },
     "metadata": {},
     "output_type": "display_data"
    }
   ],
   "source": [
    "plt.figure(figsize=(10, 6))\n",
    "sns.boxplot(x=survey_df['ConvertedComp'])\n",
    "plt.title('Box Plot of Converted Compensation')\n",
    "plt.xlabel('Converted Compensation')"
   ]
  },
  {
   "cell_type": "markdown",
   "id": "bd050948-b57a-4c2c-b175-f38e18c5ea1a",
   "metadata": {},
   "source": [
    "#### Find out the Inter Quartile Range for the column ConvertedComp."
   ]
  },
  {
   "cell_type": "code",
   "execution_count": 74,
   "id": "17de8cdb-52c3-453e-8d4b-fc5244f9f171",
   "metadata": {
    "execution": {
     "iopub.execute_input": "2024-05-29T09:42:37.702715Z",
     "iopub.status.busy": "2024-05-29T09:42:37.702715Z",
     "iopub.status.idle": "2024-05-29T09:42:37.726681Z",
     "shell.execute_reply": "2024-05-29T09:42:37.724499Z",
     "shell.execute_reply.started": "2024-05-29T09:42:37.702715Z"
    }
   },
   "outputs": [
    {
     "name": "stdout",
     "output_type": "stream",
     "text": [
      "Q1: 26868.0\n",
      "Q3: 100000.0\n",
      "Interquartile Range (IQR): 73132.0\n"
     ]
    }
   ],
   "source": [
    "Q1 = survey_df['ConvertedComp'].quantile(0.25)\n",
    "Q3 = survey_df['ConvertedComp'].quantile(0.75)\n",
    "IQR = Q3 - Q1\n",
    "\n",
    "print(\"Q1:\", Q1)\n",
    "print(\"Q3:\", Q3)\n",
    "print(\"Interquartile Range (IQR):\", IQR)"
   ]
  },
  {
   "cell_type": "markdown",
   "id": "6ee87075-7ed9-424e-9407-9fe169067010",
   "metadata": {},
   "source": [
    "#### Find out the upper and lower bounds."
   ]
  },
  {
   "cell_type": "code",
   "execution_count": 75,
   "id": "efbf10c6-ab89-4d66-ace2-6c0afdc2ca6d",
   "metadata": {
    "execution": {
     "iopub.execute_input": "2024-05-29T09:42:37.728676Z",
     "iopub.status.busy": "2024-05-29T09:42:37.728676Z",
     "iopub.status.idle": "2024-05-29T09:42:37.757723Z",
     "shell.execute_reply": "2024-05-29T09:42:37.755309Z",
     "shell.execute_reply.started": "2024-05-29T09:42:37.728676Z"
    }
   },
   "outputs": [
    {
     "name": "stdout",
     "output_type": "stream",
     "text": [
      "Upper Bound: 209698.0\n",
      "Lower Bound: -82830.0\n"
     ]
    }
   ],
   "source": [
    "upper_bound = Q3 + 1.5 * IQR\n",
    "lower_bound = Q1 - 1.5 * IQR\n",
    "\n",
    "# Display the upper bound and lower bound\n",
    "print(\"Upper Bound:\", upper_bound)\n",
    "print(\"Lower Bound:\", lower_bound)"
   ]
  },
  {
   "cell_type": "markdown",
   "id": "38a559f6-809e-483b-953b-bd41aa4e7c41",
   "metadata": {},
   "source": [
    "#### Identify how many outliers are there in the `ConvertedComp` column.\n"
   ]
  },
  {
   "cell_type": "code",
   "execution_count": 76,
   "id": "c069a778-d96d-4604-b786-982c8d87f93f",
   "metadata": {
    "execution": {
     "iopub.execute_input": "2024-05-29T09:42:37.761696Z",
     "iopub.status.busy": "2024-05-29T09:42:37.759703Z",
     "iopub.status.idle": "2024-05-29T09:42:37.789445Z",
     "shell.execute_reply": "2024-05-29T09:42:37.787448Z",
     "shell.execute_reply.started": "2024-05-29T09:42:37.761696Z"
    }
   },
   "outputs": [
    {
     "name": "stdout",
     "output_type": "stream",
     "text": [
      "Number of outliers in ConvertedComp column: 879\n"
     ]
    }
   ],
   "source": [
    "outliers_upper = survey_df[survey_df['ConvertedComp'] > upper_bound]\n",
    "outliers_lower = survey_df[survey_df['ConvertedComp'] < lower_bound]\n",
    "num_outliers = len(outliers_upper) + len(outliers_lower)\n",
    "\n",
    "# Menampilkan jumlah outlier\n",
    "print(\"Number of outliers in ConvertedComp column:\", num_outliers)"
   ]
  },
  {
   "cell_type": "markdown",
   "id": "4540e939-6fd2-46af-aa88-4c1c16cc1021",
   "metadata": {},
   "source": [
    "#### Create a new dataframe by removing the outliers from the `ConvertedComp` column.\n"
   ]
  },
  {
   "cell_type": "code",
   "execution_count": 77,
   "id": "3e42f030-1534-49a7-b732-4d09ff6163f4",
   "metadata": {
    "execution": {
     "iopub.execute_input": "2024-05-29T09:42:37.792436Z",
     "iopub.status.busy": "2024-05-29T09:42:37.791438Z",
     "iopub.status.idle": "2024-05-29T09:42:37.881546Z",
     "shell.execute_reply": "2024-05-29T09:42:37.880550Z",
     "shell.execute_reply.started": "2024-05-29T09:42:37.792436Z"
    }
   },
   "outputs": [
    {
     "name": "stdout",
     "output_type": "stream",
     "text": [
      "Shape of original DataFrame: (11398, 85)\n",
      "Shape of DataFrame without outliers: (9703, 85)\n"
     ]
    },
    {
     "data": {
      "text/html": [
       "<div>\n",
       "<style scoped>\n",
       "    .dataframe tbody tr th:only-of-type {\n",
       "        vertical-align: middle;\n",
       "    }\n",
       "\n",
       "    .dataframe tbody tr th {\n",
       "        vertical-align: top;\n",
       "    }\n",
       "\n",
       "    .dataframe thead th {\n",
       "        text-align: right;\n",
       "    }\n",
       "</style>\n",
       "<table border=\"1\" class=\"dataframe\">\n",
       "  <thead>\n",
       "    <tr style=\"text-align: right;\">\n",
       "      <th></th>\n",
       "      <th>Respondent</th>\n",
       "      <th>MainBranch</th>\n",
       "      <th>Hobbyist</th>\n",
       "      <th>OpenSourcer</th>\n",
       "      <th>OpenSource</th>\n",
       "      <th>Employment</th>\n",
       "      <th>Country</th>\n",
       "      <th>Student</th>\n",
       "      <th>EdLevel</th>\n",
       "      <th>UndergradMajor</th>\n",
       "      <th>...</th>\n",
       "      <th>WelcomeChange</th>\n",
       "      <th>SONewContent</th>\n",
       "      <th>Age</th>\n",
       "      <th>Gender</th>\n",
       "      <th>Trans</th>\n",
       "      <th>Sexuality</th>\n",
       "      <th>Ethnicity</th>\n",
       "      <th>Dependents</th>\n",
       "      <th>SurveyLength</th>\n",
       "      <th>SurveyEase</th>\n",
       "    </tr>\n",
       "  </thead>\n",
       "  <tbody>\n",
       "    <tr>\n",
       "      <th>0</th>\n",
       "      <td>4</td>\n",
       "      <td>I am a developer by profession</td>\n",
       "      <td>No</td>\n",
       "      <td>Never</td>\n",
       "      <td>The quality of OSS and closed source software ...</td>\n",
       "      <td>Employed full-time</td>\n",
       "      <td>United States</td>\n",
       "      <td>No</td>\n",
       "      <td>Bachelor’s degree (BA, BS, B.Eng., etc.)</td>\n",
       "      <td>Computer science, computer engineering, or sof...</td>\n",
       "      <td>...</td>\n",
       "      <td>Just as welcome now as I felt last year</td>\n",
       "      <td>Tech articles written by other developers;Indu...</td>\n",
       "      <td>22.0</td>\n",
       "      <td>Man</td>\n",
       "      <td>No</td>\n",
       "      <td>Straight / Heterosexual</td>\n",
       "      <td>White or of European descent</td>\n",
       "      <td>No</td>\n",
       "      <td>Appropriate in length</td>\n",
       "      <td>Easy</td>\n",
       "    </tr>\n",
       "    <tr>\n",
       "      <th>1</th>\n",
       "      <td>9</td>\n",
       "      <td>I am a developer by profession</td>\n",
       "      <td>Yes</td>\n",
       "      <td>Once a month or more often</td>\n",
       "      <td>The quality of OSS and closed source software ...</td>\n",
       "      <td>Employed full-time</td>\n",
       "      <td>New Zealand</td>\n",
       "      <td>No</td>\n",
       "      <td>Some college/university study without earning ...</td>\n",
       "      <td>Computer science, computer engineering, or sof...</td>\n",
       "      <td>...</td>\n",
       "      <td>Just as welcome now as I felt last year</td>\n",
       "      <td>NaN</td>\n",
       "      <td>23.0</td>\n",
       "      <td>Man</td>\n",
       "      <td>No</td>\n",
       "      <td>Bisexual</td>\n",
       "      <td>White or of European descent</td>\n",
       "      <td>No</td>\n",
       "      <td>Appropriate in length</td>\n",
       "      <td>Neither easy nor difficult</td>\n",
       "    </tr>\n",
       "    <tr>\n",
       "      <th>2</th>\n",
       "      <td>13</td>\n",
       "      <td>I am a developer by profession</td>\n",
       "      <td>Yes</td>\n",
       "      <td>Less than once a month but more than once per ...</td>\n",
       "      <td>OSS is, on average, of HIGHER quality than pro...</td>\n",
       "      <td>Employed full-time</td>\n",
       "      <td>United States</td>\n",
       "      <td>No</td>\n",
       "      <td>Master’s degree (MA, MS, M.Eng., MBA, etc.)</td>\n",
       "      <td>Computer science, computer engineering, or sof...</td>\n",
       "      <td>...</td>\n",
       "      <td>Somewhat more welcome now than last year</td>\n",
       "      <td>Tech articles written by other developers;Cour...</td>\n",
       "      <td>28.0</td>\n",
       "      <td>Man</td>\n",
       "      <td>No</td>\n",
       "      <td>Straight / Heterosexual</td>\n",
       "      <td>White or of European descent</td>\n",
       "      <td>Yes</td>\n",
       "      <td>Appropriate in length</td>\n",
       "      <td>Easy</td>\n",
       "    </tr>\n",
       "    <tr>\n",
       "      <th>4</th>\n",
       "      <td>17</td>\n",
       "      <td>I am a developer by profession</td>\n",
       "      <td>Yes</td>\n",
       "      <td>Less than once a month but more than once per ...</td>\n",
       "      <td>The quality of OSS and closed source software ...</td>\n",
       "      <td>Employed full-time</td>\n",
       "      <td>Australia</td>\n",
       "      <td>No</td>\n",
       "      <td>Bachelor’s degree (BA, BS, B.Eng., etc.)</td>\n",
       "      <td>Computer science, computer engineering, or sof...</td>\n",
       "      <td>...</td>\n",
       "      <td>Just as welcome now as I felt last year</td>\n",
       "      <td>Tech articles written by other developers;Indu...</td>\n",
       "      <td>29.0</td>\n",
       "      <td>Man</td>\n",
       "      <td>No</td>\n",
       "      <td>Straight / Heterosexual</td>\n",
       "      <td>Hispanic or Latino/Latina;Multiracial</td>\n",
       "      <td>No</td>\n",
       "      <td>Appropriate in length</td>\n",
       "      <td>Easy</td>\n",
       "    </tr>\n",
       "    <tr>\n",
       "      <th>5</th>\n",
       "      <td>19</td>\n",
       "      <td>I am a developer by profession</td>\n",
       "      <td>Yes</td>\n",
       "      <td>Never</td>\n",
       "      <td>The quality of OSS and closed source software ...</td>\n",
       "      <td>Employed full-time</td>\n",
       "      <td>Brazil</td>\n",
       "      <td>No</td>\n",
       "      <td>Some college/university study without earning ...</td>\n",
       "      <td>Computer science, computer engineering, or sof...</td>\n",
       "      <td>...</td>\n",
       "      <td>Just as welcome now as I felt last year</td>\n",
       "      <td>Tech articles written by other developers;Indu...</td>\n",
       "      <td>31.0</td>\n",
       "      <td>Man</td>\n",
       "      <td>No</td>\n",
       "      <td>Straight / Heterosexual</td>\n",
       "      <td>Hispanic or Latino/Latina</td>\n",
       "      <td>Yes</td>\n",
       "      <td>Too long</td>\n",
       "      <td>Easy</td>\n",
       "    </tr>\n",
       "    <tr>\n",
       "      <th>...</th>\n",
       "      <td>...</td>\n",
       "      <td>...</td>\n",
       "      <td>...</td>\n",
       "      <td>...</td>\n",
       "      <td>...</td>\n",
       "      <td>...</td>\n",
       "      <td>...</td>\n",
       "      <td>...</td>\n",
       "      <td>...</td>\n",
       "      <td>...</td>\n",
       "      <td>...</td>\n",
       "      <td>...</td>\n",
       "      <td>...</td>\n",
       "      <td>...</td>\n",
       "      <td>...</td>\n",
       "      <td>...</td>\n",
       "      <td>...</td>\n",
       "      <td>...</td>\n",
       "      <td>...</td>\n",
       "      <td>...</td>\n",
       "      <td>...</td>\n",
       "    </tr>\n",
       "    <tr>\n",
       "      <th>11392</th>\n",
       "      <td>25134</td>\n",
       "      <td>I am a developer by profession</td>\n",
       "      <td>Yes</td>\n",
       "      <td>Less than once a month but more than once per ...</td>\n",
       "      <td>OSS is, on average, of HIGHER quality than pro...</td>\n",
       "      <td>Employed full-time</td>\n",
       "      <td>Ecuador</td>\n",
       "      <td>No</td>\n",
       "      <td>Bachelor’s degree (BA, BS, B.Eng., etc.)</td>\n",
       "      <td>Computer science, computer engineering, or sof...</td>\n",
       "      <td>...</td>\n",
       "      <td>Somewhat less welcome now than last year</td>\n",
       "      <td>Tech articles written by other developers</td>\n",
       "      <td>32.0</td>\n",
       "      <td>Man</td>\n",
       "      <td>No</td>\n",
       "      <td>Straight / Heterosexual</td>\n",
       "      <td>Hispanic or Latino/Latina</td>\n",
       "      <td>No</td>\n",
       "      <td>Appropriate in length</td>\n",
       "      <td>Easy</td>\n",
       "    </tr>\n",
       "    <tr>\n",
       "      <th>11393</th>\n",
       "      <td>25136</td>\n",
       "      <td>I am a developer by profession</td>\n",
       "      <td>Yes</td>\n",
       "      <td>Never</td>\n",
       "      <td>OSS is, on average, of HIGHER quality than pro...</td>\n",
       "      <td>Employed full-time</td>\n",
       "      <td>United States</td>\n",
       "      <td>No</td>\n",
       "      <td>Master’s degree (MA, MS, M.Eng., MBA, etc.)</td>\n",
       "      <td>Computer science, computer engineering, or sof...</td>\n",
       "      <td>...</td>\n",
       "      <td>Just as welcome now as I felt last year</td>\n",
       "      <td>Tech articles written by other developers;Cour...</td>\n",
       "      <td>36.0</td>\n",
       "      <td>Man</td>\n",
       "      <td>No</td>\n",
       "      <td>Straight / Heterosexual</td>\n",
       "      <td>White or of European descent</td>\n",
       "      <td>No</td>\n",
       "      <td>Appropriate in length</td>\n",
       "      <td>Difficult</td>\n",
       "    </tr>\n",
       "    <tr>\n",
       "      <th>11394</th>\n",
       "      <td>25137</td>\n",
       "      <td>I am a developer by profession</td>\n",
       "      <td>Yes</td>\n",
       "      <td>Never</td>\n",
       "      <td>The quality of OSS and closed source software ...</td>\n",
       "      <td>Employed full-time</td>\n",
       "      <td>Poland</td>\n",
       "      <td>No</td>\n",
       "      <td>Master’s degree (MA, MS, M.Eng., MBA, etc.)</td>\n",
       "      <td>Computer science, computer engineering, or sof...</td>\n",
       "      <td>...</td>\n",
       "      <td>A lot more welcome now than last year</td>\n",
       "      <td>Tech articles written by other developers;Tech...</td>\n",
       "      <td>25.0</td>\n",
       "      <td>Man</td>\n",
       "      <td>No</td>\n",
       "      <td>Straight / Heterosexual</td>\n",
       "      <td>White or of European descent</td>\n",
       "      <td>No</td>\n",
       "      <td>Appropriate in length</td>\n",
       "      <td>Neither easy nor difficult</td>\n",
       "    </tr>\n",
       "    <tr>\n",
       "      <th>11395</th>\n",
       "      <td>25138</td>\n",
       "      <td>I am a developer by profession</td>\n",
       "      <td>Yes</td>\n",
       "      <td>Less than once per year</td>\n",
       "      <td>The quality of OSS and closed source software ...</td>\n",
       "      <td>Employed full-time</td>\n",
       "      <td>United States</td>\n",
       "      <td>No</td>\n",
       "      <td>Master’s degree (MA, MS, M.Eng., MBA, etc.)</td>\n",
       "      <td>Computer science, computer engineering, or sof...</td>\n",
       "      <td>...</td>\n",
       "      <td>A lot more welcome now than last year</td>\n",
       "      <td>Tech articles written by other developers;Indu...</td>\n",
       "      <td>34.0</td>\n",
       "      <td>Man</td>\n",
       "      <td>No</td>\n",
       "      <td>Straight / Heterosexual</td>\n",
       "      <td>White or of European descent</td>\n",
       "      <td>Yes</td>\n",
       "      <td>Too long</td>\n",
       "      <td>Easy</td>\n",
       "    </tr>\n",
       "    <tr>\n",
       "      <th>11396</th>\n",
       "      <td>25141</td>\n",
       "      <td>I am a developer by profession</td>\n",
       "      <td>Yes</td>\n",
       "      <td>Less than once a month but more than once per ...</td>\n",
       "      <td>OSS is, on average, of LOWER quality than prop...</td>\n",
       "      <td>Employed full-time</td>\n",
       "      <td>Switzerland</td>\n",
       "      <td>No</td>\n",
       "      <td>Secondary school (e.g. American high school, G...</td>\n",
       "      <td>NaN</td>\n",
       "      <td>...</td>\n",
       "      <td>Somewhat less welcome now than last year</td>\n",
       "      <td>NaN</td>\n",
       "      <td>25.0</td>\n",
       "      <td>Man</td>\n",
       "      <td>No</td>\n",
       "      <td>Straight / Heterosexual</td>\n",
       "      <td>White or of European descent</td>\n",
       "      <td>No</td>\n",
       "      <td>Appropriate in length</td>\n",
       "      <td>Easy</td>\n",
       "    </tr>\n",
       "  </tbody>\n",
       "</table>\n",
       "<p>9703 rows × 85 columns</p>\n",
       "</div>"
      ],
      "text/plain": [
       "       Respondent                      MainBranch Hobbyist  \\\n",
       "0               4  I am a developer by profession       No   \n",
       "1               9  I am a developer by profession      Yes   \n",
       "2              13  I am a developer by profession      Yes   \n",
       "4              17  I am a developer by profession      Yes   \n",
       "5              19  I am a developer by profession      Yes   \n",
       "...           ...                             ...      ...   \n",
       "11392       25134  I am a developer by profession      Yes   \n",
       "11393       25136  I am a developer by profession      Yes   \n",
       "11394       25137  I am a developer by profession      Yes   \n",
       "11395       25138  I am a developer by profession      Yes   \n",
       "11396       25141  I am a developer by profession      Yes   \n",
       "\n",
       "                                             OpenSourcer  \\\n",
       "0                                                  Never   \n",
       "1                             Once a month or more often   \n",
       "2      Less than once a month but more than once per ...   \n",
       "4      Less than once a month but more than once per ...   \n",
       "5                                                  Never   \n",
       "...                                                  ...   \n",
       "11392  Less than once a month but more than once per ...   \n",
       "11393                                              Never   \n",
       "11394                                              Never   \n",
       "11395                            Less than once per year   \n",
       "11396  Less than once a month but more than once per ...   \n",
       "\n",
       "                                              OpenSource          Employment  \\\n",
       "0      The quality of OSS and closed source software ...  Employed full-time   \n",
       "1      The quality of OSS and closed source software ...  Employed full-time   \n",
       "2      OSS is, on average, of HIGHER quality than pro...  Employed full-time   \n",
       "4      The quality of OSS and closed source software ...  Employed full-time   \n",
       "5      The quality of OSS and closed source software ...  Employed full-time   \n",
       "...                                                  ...                 ...   \n",
       "11392  OSS is, on average, of HIGHER quality than pro...  Employed full-time   \n",
       "11393  OSS is, on average, of HIGHER quality than pro...  Employed full-time   \n",
       "11394  The quality of OSS and closed source software ...  Employed full-time   \n",
       "11395  The quality of OSS and closed source software ...  Employed full-time   \n",
       "11396  OSS is, on average, of LOWER quality than prop...  Employed full-time   \n",
       "\n",
       "             Country Student  \\\n",
       "0      United States      No   \n",
       "1        New Zealand      No   \n",
       "2      United States      No   \n",
       "4          Australia      No   \n",
       "5             Brazil      No   \n",
       "...              ...     ...   \n",
       "11392        Ecuador      No   \n",
       "11393  United States      No   \n",
       "11394         Poland      No   \n",
       "11395  United States      No   \n",
       "11396    Switzerland      No   \n",
       "\n",
       "                                                 EdLevel  \\\n",
       "0               Bachelor’s degree (BA, BS, B.Eng., etc.)   \n",
       "1      Some college/university study without earning ...   \n",
       "2            Master’s degree (MA, MS, M.Eng., MBA, etc.)   \n",
       "4               Bachelor’s degree (BA, BS, B.Eng., etc.)   \n",
       "5      Some college/university study without earning ...   \n",
       "...                                                  ...   \n",
       "11392           Bachelor’s degree (BA, BS, B.Eng., etc.)   \n",
       "11393        Master’s degree (MA, MS, M.Eng., MBA, etc.)   \n",
       "11394        Master’s degree (MA, MS, M.Eng., MBA, etc.)   \n",
       "11395        Master’s degree (MA, MS, M.Eng., MBA, etc.)   \n",
       "11396  Secondary school (e.g. American high school, G...   \n",
       "\n",
       "                                          UndergradMajor  ...  \\\n",
       "0      Computer science, computer engineering, or sof...  ...   \n",
       "1      Computer science, computer engineering, or sof...  ...   \n",
       "2      Computer science, computer engineering, or sof...  ...   \n",
       "4      Computer science, computer engineering, or sof...  ...   \n",
       "5      Computer science, computer engineering, or sof...  ...   \n",
       "...                                                  ...  ...   \n",
       "11392  Computer science, computer engineering, or sof...  ...   \n",
       "11393  Computer science, computer engineering, or sof...  ...   \n",
       "11394  Computer science, computer engineering, or sof...  ...   \n",
       "11395  Computer science, computer engineering, or sof...  ...   \n",
       "11396                                                NaN  ...   \n",
       "\n",
       "                                  WelcomeChange  \\\n",
       "0       Just as welcome now as I felt last year   \n",
       "1       Just as welcome now as I felt last year   \n",
       "2      Somewhat more welcome now than last year   \n",
       "4       Just as welcome now as I felt last year   \n",
       "5       Just as welcome now as I felt last year   \n",
       "...                                         ...   \n",
       "11392  Somewhat less welcome now than last year   \n",
       "11393   Just as welcome now as I felt last year   \n",
       "11394     A lot more welcome now than last year   \n",
       "11395     A lot more welcome now than last year   \n",
       "11396  Somewhat less welcome now than last year   \n",
       "\n",
       "                                            SONewContent   Age Gender Trans  \\\n",
       "0      Tech articles written by other developers;Indu...  22.0    Man    No   \n",
       "1                                                    NaN  23.0    Man    No   \n",
       "2      Tech articles written by other developers;Cour...  28.0    Man    No   \n",
       "4      Tech articles written by other developers;Indu...  29.0    Man    No   \n",
       "5      Tech articles written by other developers;Indu...  31.0    Man    No   \n",
       "...                                                  ...   ...    ...   ...   \n",
       "11392          Tech articles written by other developers  32.0    Man    No   \n",
       "11393  Tech articles written by other developers;Cour...  36.0    Man    No   \n",
       "11394  Tech articles written by other developers;Tech...  25.0    Man    No   \n",
       "11395  Tech articles written by other developers;Indu...  34.0    Man    No   \n",
       "11396                                                NaN  25.0    Man    No   \n",
       "\n",
       "                     Sexuality                              Ethnicity  \\\n",
       "0      Straight / Heterosexual           White or of European descent   \n",
       "1                     Bisexual           White or of European descent   \n",
       "2      Straight / Heterosexual           White or of European descent   \n",
       "4      Straight / Heterosexual  Hispanic or Latino/Latina;Multiracial   \n",
       "5      Straight / Heterosexual              Hispanic or Latino/Latina   \n",
       "...                        ...                                    ...   \n",
       "11392  Straight / Heterosexual              Hispanic or Latino/Latina   \n",
       "11393  Straight / Heterosexual           White or of European descent   \n",
       "11394  Straight / Heterosexual           White or of European descent   \n",
       "11395  Straight / Heterosexual           White or of European descent   \n",
       "11396  Straight / Heterosexual           White or of European descent   \n",
       "\n",
       "      Dependents           SurveyLength                  SurveyEase  \n",
       "0             No  Appropriate in length                        Easy  \n",
       "1             No  Appropriate in length  Neither easy nor difficult  \n",
       "2            Yes  Appropriate in length                        Easy  \n",
       "4             No  Appropriate in length                        Easy  \n",
       "5            Yes               Too long                        Easy  \n",
       "...          ...                    ...                         ...  \n",
       "11392         No  Appropriate in length                        Easy  \n",
       "11393         No  Appropriate in length                   Difficult  \n",
       "11394         No  Appropriate in length  Neither easy nor difficult  \n",
       "11395        Yes               Too long                        Easy  \n",
       "11396         No  Appropriate in length                        Easy  \n",
       "\n",
       "[9703 rows x 85 columns]"
      ]
     },
     "execution_count": 77,
     "metadata": {},
     "output_type": "execute_result"
    }
   ],
   "source": [
    "df_no_outliers = survey_df[(survey_df['ConvertedComp'] >= lower_bound) & (survey_df['ConvertedComp'] <= upper_bound)]\n",
    "\n",
    "# Menampilkan DataFrame baru\n",
    "print(\"Shape of original DataFrame:\", survey_df.shape)\n",
    "print(\"Shape of DataFrame without outliers:\", df_no_outliers.shape)\n",
    "df_no_outliers"
   ]
  },
  {
   "cell_type": "markdown",
   "id": "b09437d6-5b7b-4875-8f9e-5ef92db9804f",
   "metadata": {},
   "source": [
    "## 3. Correlation"
   ]
  },
  {
   "cell_type": "markdown",
   "id": "dfc4a13d-bef8-457e-aa5b-9b31faebd85b",
   "metadata": {},
   "source": [
    "#### Find the correlation between Age and all other numerical columns."
   ]
  },
  {
   "cell_type": "code",
   "execution_count": 78,
   "id": "c5ea0026-88f2-4d80-b4a7-50624a88eeec",
   "metadata": {
    "execution": {
     "iopub.execute_input": "2024-05-29T09:42:37.888375Z",
     "iopub.status.busy": "2024-05-29T09:42:37.885378Z",
     "iopub.status.idle": "2024-05-29T09:42:37.912625Z",
     "shell.execute_reply": "2024-05-29T09:42:37.911626Z",
     "shell.execute_reply.started": "2024-05-29T09:42:37.887380Z"
    }
   },
   "outputs": [
    {
     "name": "stdout",
     "output_type": "stream",
     "text": [
      "Respondent       0.002180\n",
      "CompTotal        0.006337\n",
      "ConvertedComp    0.401821\n",
      "WorkWeekHrs      0.032032\n",
      "CodeRevHrs      -0.012878\n",
      "Age              1.000000\n",
      "Name: Age, dtype: float64\n"
     ]
    }
   ],
   "source": [
    "df_no_outliers_numeric = df_no_outliers.select_dtypes(include='number')\n",
    "\n",
    "# Menghitung korelasi antara 'Age' dan semua kolom numerik lainnya\n",
    "correlation = df_no_outliers_numeric.corr()['Age']\n",
    "print(correlation)"
   ]
  },
  {
   "cell_type": "code",
   "execution_count": null,
   "id": "4a351625-68ab-468f-80ae-3cd7609422d4",
   "metadata": {},
   "outputs": [],
   "source": []
  },
  {
   "cell_type": "markdown",
   "id": "5a4b2130-8d79-4ce4-9c35-4323e3956539",
   "metadata": {},
   "source": [
    "# Module 4: Data Visualization "
   ]
  },
  {
   "cell_type": "markdown",
   "id": "178b0313-5464-4f10-8fb1-b0e1b0e34f44",
   "metadata": {},
   "source": [
    "## 1. Visualizing Distribution of Data"
   ]
  },
  {
   "cell_type": "markdown",
   "id": "2c9740b6-6ca5-47dd-9983-fbd0970785c0",
   "metadata": {},
   "source": [
    "In this assignment you will be focusing on the visualization of data.\n",
    "\n",
    "The data set will be presented to you in the form of a RDBMS.\n",
    "\n",
    "You will have to use SQL queries to extract the data."
   ]
  },
  {
   "cell_type": "markdown",
   "id": "f61a9753-aea1-42da-aa01-90747cd62578",
   "metadata": {},
   "source": [
    "### Objectives\n",
    "In this lab you will perform the following:\n",
    "- Visualize the distribution of data.\n",
    "\n",
    "- Visualize the relationship between two features.\n",
    "\n",
    "- Visualize composition of data.\n",
    "\n",
    "- Visualize comparison of data."
   ]
  },
  {
   "cell_type": "markdown",
   "id": "4f2af476-bb38-43ab-9c2f-b828f3255c33",
   "metadata": {},
   "source": [
    "### Demo: How to work with database\n"
   ]
  },
  {
   "cell_type": "markdown",
   "id": "892a7f9b-040c-41ba-b344-68f006b6c309",
   "metadata": {},
   "source": [
    "#### Library Import"
   ]
  },
  {
   "cell_type": "code",
   "execution_count": 24,
   "id": "42cf87cc-8779-44fb-9ebb-c2d8aac48ecb",
   "metadata": {
    "execution": {
     "iopub.execute_input": "2024-05-29T09:01:27.925423Z",
     "iopub.status.busy": "2024-05-29T09:01:27.924425Z",
     "iopub.status.idle": "2024-05-29T09:01:28.400521Z",
     "shell.execute_reply": "2024-05-29T09:01:28.399201Z",
     "shell.execute_reply.started": "2024-05-29T09:01:27.925423Z"
    }
   },
   "outputs": [],
   "source": [
    "import requests\n",
    "import sqlite3\n",
    "import pandas as pd\n",
    "import matplotlib.pyplot as plt"
   ]
  },
  {
   "cell_type": "markdown",
   "id": "091a5bea-2e29-42d7-b4a1-53251e797e8f",
   "metadata": {
    "execution": {
     "iopub.execute_input": "2024-05-29T08:50:36.713145Z",
     "iopub.status.busy": "2024-05-29T08:50:36.713145Z",
     "iopub.status.idle": "2024-05-29T08:50:36.725458Z",
     "shell.execute_reply": "2024-05-29T08:50:36.725293Z",
     "shell.execute_reply.started": "2024-05-29T08:50:36.713145Z"
    }
   },
   "source": [
    "#### Download database file."
   ]
  },
  {
   "cell_type": "code",
   "execution_count": 2,
   "id": "408ffd0d-4475-4aa7-853f-454b1df290c3",
   "metadata": {
    "execution": {
     "iopub.execute_input": "2024-05-29T08:46:42.906554Z",
     "iopub.status.busy": "2024-05-29T08:46:42.905559Z",
     "iopub.status.idle": "2024-05-29T08:47:14.870772Z",
     "shell.execute_reply": "2024-05-29T08:47:14.869765Z",
     "shell.execute_reply.started": "2024-05-29T08:46:42.906554Z"
    }
   },
   "outputs": [],
   "source": [
    "demo = 'https://cf-courses-data.s3.us.cloud-object-storage.appdomain.cloud/IBM-DA0321EN-SkillsNetwork/LargeData/m4_survey_data.sqlite'\n",
    "demo_req=requests.get(demo)\n"
   ]
  },
  {
   "cell_type": "markdown",
   "id": "5720c89b-41f2-4455-9737-267f498fd6c4",
   "metadata": {},
   "source": [
    "#### Saved Data After Download"
   ]
  },
  {
   "cell_type": "code",
   "execution_count": 3,
   "id": "15294629-7587-4b53-8e46-f279126fc2d7",
   "metadata": {
    "execution": {
     "iopub.execute_input": "2024-05-29T08:47:14.870772Z",
     "iopub.status.busy": "2024-05-29T08:47:14.870772Z",
     "iopub.status.idle": "2024-05-29T08:47:14.965180Z",
     "shell.execute_reply": "2024-05-29T08:47:14.964178Z",
     "shell.execute_reply.started": "2024-05-29T08:47:14.870772Z"
    }
   },
   "outputs": [],
   "source": [
    "# Nama file yang akan diunduh\n",
    "file_name = 'm4_survey_data.sqlite'\n",
    "with open(file_name, 'wb') as file:\n",
    "    file.write(demo_req.content)"
   ]
  },
  {
   "cell_type": "markdown",
   "id": "949a77ed-beb9-4cc0-87cb-d58e9b7ead78",
   "metadata": {},
   "source": [
    "#### Connect to the database."
   ]
  },
  {
   "cell_type": "code",
   "execution_count": 4,
   "id": "e0817f16-98c4-42ac-aedb-321684832fff",
   "metadata": {
    "execution": {
     "iopub.execute_input": "2024-05-29T08:47:14.966176Z",
     "iopub.status.busy": "2024-05-29T08:47:14.966176Z",
     "iopub.status.idle": "2024-05-29T08:47:14.980650Z",
     "shell.execute_reply": "2024-05-29T08:47:14.979653Z",
     "shell.execute_reply.started": "2024-05-29T08:47:14.966176Z"
    }
   },
   "outputs": [],
   "source": [
    "conn = sqlite3.connect(\"m4_survey_data.sqlite\") "
   ]
  },
  {
   "cell_type": "markdown",
   "id": "b4d23247-3db4-4857-a451-bfcec7881970",
   "metadata": {},
   "source": [
    "#### Demo: How to run an sql query"
   ]
  },
  {
   "cell_type": "code",
   "execution_count": 17,
   "id": "60aa66cc-45a6-49a1-b2df-4babc944d81c",
   "metadata": {
    "execution": {
     "iopub.execute_input": "2024-05-29T09:00:14.058275Z",
     "iopub.status.busy": "2024-05-29T09:00:14.058275Z",
     "iopub.status.idle": "2024-05-29T09:00:14.471613Z",
     "shell.execute_reply": "2024-05-29T09:00:14.470616Z",
     "shell.execute_reply.started": "2024-05-29T09:00:14.058275Z"
    }
   },
   "outputs": [
    {
     "data": {
      "text/html": [
       "<div>\n",
       "<style scoped>\n",
       "    .dataframe tbody tr th:only-of-type {\n",
       "        vertical-align: middle;\n",
       "    }\n",
       "\n",
       "    .dataframe tbody tr th {\n",
       "        vertical-align: top;\n",
       "    }\n",
       "\n",
       "    .dataframe thead th {\n",
       "        text-align: right;\n",
       "    }\n",
       "</style>\n",
       "<table border=\"1\" class=\"dataframe\">\n",
       "  <thead>\n",
       "    <tr style=\"text-align: right;\">\n",
       "      <th></th>\n",
       "      <th>index</th>\n",
       "      <th>Respondent</th>\n",
       "      <th>MainBranch</th>\n",
       "      <th>Hobbyist</th>\n",
       "      <th>OpenSourcer</th>\n",
       "      <th>OpenSource</th>\n",
       "      <th>Employment</th>\n",
       "      <th>Country</th>\n",
       "      <th>Student</th>\n",
       "      <th>EdLevel</th>\n",
       "      <th>...</th>\n",
       "      <th>SOPartFreq</th>\n",
       "      <th>SOJobs</th>\n",
       "      <th>EntTeams</th>\n",
       "      <th>SOComm</th>\n",
       "      <th>WelcomeChange</th>\n",
       "      <th>Age</th>\n",
       "      <th>Trans</th>\n",
       "      <th>Dependents</th>\n",
       "      <th>SurveyLength</th>\n",
       "      <th>SurveyEase</th>\n",
       "    </tr>\n",
       "  </thead>\n",
       "  <tbody>\n",
       "    <tr>\n",
       "      <th>0</th>\n",
       "      <td>0</td>\n",
       "      <td>4</td>\n",
       "      <td>I am a developer by profession</td>\n",
       "      <td>No</td>\n",
       "      <td>Never</td>\n",
       "      <td>The quality of OSS and closed source software ...</td>\n",
       "      <td>Employed full-time</td>\n",
       "      <td>United States</td>\n",
       "      <td>No</td>\n",
       "      <td>Bachelor’s degree (BA, BS, B.Eng., etc.)</td>\n",
       "      <td>...</td>\n",
       "      <td>Less than once per month or monthly</td>\n",
       "      <td>Yes</td>\n",
       "      <td>No, and I don't know what those are</td>\n",
       "      <td>No, not really</td>\n",
       "      <td>Just as welcome now as I felt last year</td>\n",
       "      <td>22.0</td>\n",
       "      <td>No</td>\n",
       "      <td>No</td>\n",
       "      <td>Appropriate in length</td>\n",
       "      <td>Easy</td>\n",
       "    </tr>\n",
       "    <tr>\n",
       "      <th>1</th>\n",
       "      <td>1</td>\n",
       "      <td>9</td>\n",
       "      <td>I am a developer by profession</td>\n",
       "      <td>Yes</td>\n",
       "      <td>Once a month or more often</td>\n",
       "      <td>The quality of OSS and closed source software ...</td>\n",
       "      <td>Employed full-time</td>\n",
       "      <td>New Zealand</td>\n",
       "      <td>No</td>\n",
       "      <td>Some college/university study without earning ...</td>\n",
       "      <td>...</td>\n",
       "      <td>Less than once per month or monthly</td>\n",
       "      <td>No, I knew that Stack Overflow had a job board...</td>\n",
       "      <td>No, and I don't know what those are</td>\n",
       "      <td>Yes, somewhat</td>\n",
       "      <td>Just as welcome now as I felt last year</td>\n",
       "      <td>23.0</td>\n",
       "      <td>No</td>\n",
       "      <td>No</td>\n",
       "      <td>Appropriate in length</td>\n",
       "      <td>Neither easy nor difficult</td>\n",
       "    </tr>\n",
       "    <tr>\n",
       "      <th>2</th>\n",
       "      <td>2</td>\n",
       "      <td>13</td>\n",
       "      <td>I am a developer by profession</td>\n",
       "      <td>Yes</td>\n",
       "      <td>Less than once a month but more than once per ...</td>\n",
       "      <td>OSS is, on average, of HIGHER quality than pro...</td>\n",
       "      <td>Employed full-time</td>\n",
       "      <td>United States</td>\n",
       "      <td>No</td>\n",
       "      <td>Master’s degree (MA, MS, M.Eng., MBA, etc.)</td>\n",
       "      <td>...</td>\n",
       "      <td>Less than once per month or monthly</td>\n",
       "      <td>Yes</td>\n",
       "      <td>No, I've heard of them, but I am not part of a...</td>\n",
       "      <td>Neutral</td>\n",
       "      <td>Somewhat more welcome now than last year</td>\n",
       "      <td>28.0</td>\n",
       "      <td>No</td>\n",
       "      <td>Yes</td>\n",
       "      <td>Appropriate in length</td>\n",
       "      <td>Easy</td>\n",
       "    </tr>\n",
       "    <tr>\n",
       "      <th>3</th>\n",
       "      <td>3</td>\n",
       "      <td>16</td>\n",
       "      <td>I am a developer by profession</td>\n",
       "      <td>Yes</td>\n",
       "      <td>Never</td>\n",
       "      <td>The quality of OSS and closed source software ...</td>\n",
       "      <td>Employed full-time</td>\n",
       "      <td>United Kingdom</td>\n",
       "      <td>No</td>\n",
       "      <td>Master’s degree (MA, MS, M.Eng., MBA, etc.)</td>\n",
       "      <td>...</td>\n",
       "      <td>Less than once per month or monthly</td>\n",
       "      <td>Yes</td>\n",
       "      <td>No, I've heard of them, but I am not part of a...</td>\n",
       "      <td>Yes, somewhat</td>\n",
       "      <td>Just as welcome now as I felt last year</td>\n",
       "      <td>26.0</td>\n",
       "      <td>No</td>\n",
       "      <td>No</td>\n",
       "      <td>Appropriate in length</td>\n",
       "      <td>Neither easy nor difficult</td>\n",
       "    </tr>\n",
       "    <tr>\n",
       "      <th>4</th>\n",
       "      <td>4</td>\n",
       "      <td>17</td>\n",
       "      <td>I am a developer by profession</td>\n",
       "      <td>Yes</td>\n",
       "      <td>Less than once a month but more than once per ...</td>\n",
       "      <td>The quality of OSS and closed source software ...</td>\n",
       "      <td>Employed full-time</td>\n",
       "      <td>Australia</td>\n",
       "      <td>No</td>\n",
       "      <td>Bachelor’s degree (BA, BS, B.Eng., etc.)</td>\n",
       "      <td>...</td>\n",
       "      <td>A few times per week</td>\n",
       "      <td>No, I didn't know that Stack Overflow had a jo...</td>\n",
       "      <td>No, I've heard of them, but I am not part of a...</td>\n",
       "      <td>Yes, somewhat</td>\n",
       "      <td>Just as welcome now as I felt last year</td>\n",
       "      <td>29.0</td>\n",
       "      <td>No</td>\n",
       "      <td>No</td>\n",
       "      <td>Appropriate in length</td>\n",
       "      <td>Easy</td>\n",
       "    </tr>\n",
       "  </tbody>\n",
       "</table>\n",
       "<p>5 rows × 63 columns</p>\n",
       "</div>"
      ],
      "text/plain": [
       "   index  Respondent                      MainBranch Hobbyist  \\\n",
       "0      0           4  I am a developer by profession       No   \n",
       "1      1           9  I am a developer by profession      Yes   \n",
       "2      2          13  I am a developer by profession      Yes   \n",
       "3      3          16  I am a developer by profession      Yes   \n",
       "4      4          17  I am a developer by profession      Yes   \n",
       "\n",
       "                                         OpenSourcer  \\\n",
       "0                                              Never   \n",
       "1                         Once a month or more often   \n",
       "2  Less than once a month but more than once per ...   \n",
       "3                                              Never   \n",
       "4  Less than once a month but more than once per ...   \n",
       "\n",
       "                                          OpenSource          Employment  \\\n",
       "0  The quality of OSS and closed source software ...  Employed full-time   \n",
       "1  The quality of OSS and closed source software ...  Employed full-time   \n",
       "2  OSS is, on average, of HIGHER quality than pro...  Employed full-time   \n",
       "3  The quality of OSS and closed source software ...  Employed full-time   \n",
       "4  The quality of OSS and closed source software ...  Employed full-time   \n",
       "\n",
       "          Country Student                                            EdLevel  \\\n",
       "0   United States      No           Bachelor’s degree (BA, BS, B.Eng., etc.)   \n",
       "1     New Zealand      No  Some college/university study without earning ...   \n",
       "2   United States      No        Master’s degree (MA, MS, M.Eng., MBA, etc.)   \n",
       "3  United Kingdom      No        Master’s degree (MA, MS, M.Eng., MBA, etc.)   \n",
       "4       Australia      No           Bachelor’s degree (BA, BS, B.Eng., etc.)   \n",
       "\n",
       "   ...                           SOPartFreq  \\\n",
       "0  ...  Less than once per month or monthly   \n",
       "1  ...  Less than once per month or monthly   \n",
       "2  ...  Less than once per month or monthly   \n",
       "3  ...  Less than once per month or monthly   \n",
       "4  ...                 A few times per week   \n",
       "\n",
       "                                              SOJobs  \\\n",
       "0                                                Yes   \n",
       "1  No, I knew that Stack Overflow had a job board...   \n",
       "2                                                Yes   \n",
       "3                                                Yes   \n",
       "4  No, I didn't know that Stack Overflow had a jo...   \n",
       "\n",
       "                                            EntTeams          SOComm  \\\n",
       "0                No, and I don't know what those are  No, not really   \n",
       "1                No, and I don't know what those are   Yes, somewhat   \n",
       "2  No, I've heard of them, but I am not part of a...         Neutral   \n",
       "3  No, I've heard of them, but I am not part of a...   Yes, somewhat   \n",
       "4  No, I've heard of them, but I am not part of a...   Yes, somewhat   \n",
       "\n",
       "                              WelcomeChange   Age Trans Dependents  \\\n",
       "0   Just as welcome now as I felt last year  22.0    No         No   \n",
       "1   Just as welcome now as I felt last year  23.0    No         No   \n",
       "2  Somewhat more welcome now than last year  28.0    No        Yes   \n",
       "3   Just as welcome now as I felt last year  26.0    No         No   \n",
       "4   Just as welcome now as I felt last year  29.0    No         No   \n",
       "\n",
       "            SurveyLength                  SurveyEase  \n",
       "0  Appropriate in length                        Easy  \n",
       "1  Appropriate in length  Neither easy nor difficult  \n",
       "2  Appropriate in length                        Easy  \n",
       "3  Appropriate in length  Neither easy nor difficult  \n",
       "4  Appropriate in length                        Easy  \n",
       "\n",
       "[5 rows x 63 columns]"
      ]
     },
     "execution_count": 17,
     "metadata": {},
     "output_type": "execute_result"
    }
   ],
   "source": [
    "# print how many rows are there in the table named 'master'\n",
    "QUERY = \"\"\"\n",
    "SELECT *\n",
    "FROM master\n",
    "\"\"\"\n",
    "\n",
    "# the read_sql_query runs the sql query and returns the data as a dataframe\n",
    "db_df = pd.read_sql_query(QUERY,conn)\n",
    "db_df.head()"
   ]
  },
  {
   "cell_type": "markdown",
   "id": "f72e18d3-ef95-4114-9ee2-e75705074b92",
   "metadata": {},
   "source": [
    "#### Demo: How to list all tables¶"
   ]
  },
  {
   "cell_type": "code",
   "execution_count": 18,
   "id": "ee998d16-426b-4724-acdc-30e09541189d",
   "metadata": {
    "execution": {
     "iopub.execute_input": "2024-05-29T09:00:16.030674Z",
     "iopub.status.busy": "2024-05-29T09:00:16.030674Z",
     "iopub.status.idle": "2024-05-29T09:00:16.041208Z",
     "shell.execute_reply": "2024-05-29T09:00:16.041208Z",
     "shell.execute_reply.started": "2024-05-29T09:00:16.030674Z"
    }
   },
   "outputs": [
    {
     "data": {
      "text/html": [
       "<div>\n",
       "<style scoped>\n",
       "    .dataframe tbody tr th:only-of-type {\n",
       "        vertical-align: middle;\n",
       "    }\n",
       "\n",
       "    .dataframe tbody tr th {\n",
       "        vertical-align: top;\n",
       "    }\n",
       "\n",
       "    .dataframe thead th {\n",
       "        text-align: right;\n",
       "    }\n",
       "</style>\n",
       "<table border=\"1\" class=\"dataframe\">\n",
       "  <thead>\n",
       "    <tr style=\"text-align: right;\">\n",
       "      <th></th>\n",
       "      <th>Table_Name</th>\n",
       "    </tr>\n",
       "  </thead>\n",
       "  <tbody>\n",
       "    <tr>\n",
       "      <th>0</th>\n",
       "      <td>EduOther</td>\n",
       "    </tr>\n",
       "    <tr>\n",
       "      <th>1</th>\n",
       "      <td>DevType</td>\n",
       "    </tr>\n",
       "    <tr>\n",
       "      <th>2</th>\n",
       "      <td>LastInt</td>\n",
       "    </tr>\n",
       "    <tr>\n",
       "      <th>3</th>\n",
       "      <td>JobFactors</td>\n",
       "    </tr>\n",
       "    <tr>\n",
       "      <th>4</th>\n",
       "      <td>WorkPlan</td>\n",
       "    </tr>\n",
       "    <tr>\n",
       "      <th>5</th>\n",
       "      <td>WorkChallenge</td>\n",
       "    </tr>\n",
       "    <tr>\n",
       "      <th>6</th>\n",
       "      <td>LanguageWorkedWith</td>\n",
       "    </tr>\n",
       "    <tr>\n",
       "      <th>7</th>\n",
       "      <td>LanguageDesireNextYear</td>\n",
       "    </tr>\n",
       "    <tr>\n",
       "      <th>8</th>\n",
       "      <td>DatabaseWorkedWith</td>\n",
       "    </tr>\n",
       "    <tr>\n",
       "      <th>9</th>\n",
       "      <td>DatabaseDesireNextYear</td>\n",
       "    </tr>\n",
       "    <tr>\n",
       "      <th>10</th>\n",
       "      <td>PlatformWorkedWith</td>\n",
       "    </tr>\n",
       "    <tr>\n",
       "      <th>11</th>\n",
       "      <td>PlatformDesireNextYear</td>\n",
       "    </tr>\n",
       "    <tr>\n",
       "      <th>12</th>\n",
       "      <td>WebFrameWorkedWith</td>\n",
       "    </tr>\n",
       "    <tr>\n",
       "      <th>13</th>\n",
       "      <td>WebFrameDesireNextYear</td>\n",
       "    </tr>\n",
       "    <tr>\n",
       "      <th>14</th>\n",
       "      <td>MiscTechWorkedWith</td>\n",
       "    </tr>\n",
       "    <tr>\n",
       "      <th>15</th>\n",
       "      <td>MiscTechDesireNextYear</td>\n",
       "    </tr>\n",
       "    <tr>\n",
       "      <th>16</th>\n",
       "      <td>DevEnviron</td>\n",
       "    </tr>\n",
       "    <tr>\n",
       "      <th>17</th>\n",
       "      <td>Containers</td>\n",
       "    </tr>\n",
       "    <tr>\n",
       "      <th>18</th>\n",
       "      <td>SOVisitTo</td>\n",
       "    </tr>\n",
       "    <tr>\n",
       "      <th>19</th>\n",
       "      <td>SONewContent</td>\n",
       "    </tr>\n",
       "    <tr>\n",
       "      <th>20</th>\n",
       "      <td>Gender</td>\n",
       "    </tr>\n",
       "    <tr>\n",
       "      <th>21</th>\n",
       "      <td>Sexuality</td>\n",
       "    </tr>\n",
       "    <tr>\n",
       "      <th>22</th>\n",
       "      <td>Ethnicity</td>\n",
       "    </tr>\n",
       "    <tr>\n",
       "      <th>23</th>\n",
       "      <td>master</td>\n",
       "    </tr>\n",
       "  </tbody>\n",
       "</table>\n",
       "</div>"
      ],
      "text/plain": [
       "                Table_Name\n",
       "0                 EduOther\n",
       "1                  DevType\n",
       "2                  LastInt\n",
       "3               JobFactors\n",
       "4                 WorkPlan\n",
       "5            WorkChallenge\n",
       "6       LanguageWorkedWith\n",
       "7   LanguageDesireNextYear\n",
       "8       DatabaseWorkedWith\n",
       "9   DatabaseDesireNextYear\n",
       "10      PlatformWorkedWith\n",
       "11  PlatformDesireNextYear\n",
       "12      WebFrameWorkedWith\n",
       "13  WebFrameDesireNextYear\n",
       "14      MiscTechWorkedWith\n",
       "15  MiscTechDesireNextYear\n",
       "16              DevEnviron\n",
       "17              Containers\n",
       "18               SOVisitTo\n",
       "19            SONewContent\n",
       "20                  Gender\n",
       "21               Sexuality\n",
       "22               Ethnicity\n",
       "23                  master"
      ]
     },
     "execution_count": 18,
     "metadata": {},
     "output_type": "execute_result"
    }
   ],
   "source": [
    "# print all the tables names in the database\n",
    "QUERY = \"\"\"\n",
    "SELECT name as Table_Name FROM\n",
    "sqlite_master WHERE\n",
    "type = 'table'\n",
    "\"\"\"\n",
    "# the read_sql_query runs the sql query and returns the data as a dataframe\n",
    "pd.read_sql_query(QUERY,conn)"
   ]
  },
  {
   "cell_type": "markdown",
   "id": "fffbd440-a0c2-4cff-ad28-9aafddc8e4de",
   "metadata": {},
   "source": [
    "#### Demo: How to run a group by query"
   ]
  },
  {
   "cell_type": "code",
   "execution_count": 35,
   "id": "4faaa526-01b6-4f84-a433-6f22b92d0d89",
   "metadata": {
    "execution": {
     "iopub.execute_input": "2024-05-29T09:12:50.434728Z",
     "iopub.status.busy": "2024-05-29T09:12:50.434728Z",
     "iopub.status.idle": "2024-05-29T09:12:50.479223Z",
     "shell.execute_reply": "2024-05-29T09:12:50.478020Z",
     "shell.execute_reply.started": "2024-05-29T09:12:50.434728Z"
    }
   },
   "outputs": [
    {
     "data": {
      "text/html": [
       "<div>\n",
       "<style scoped>\n",
       "    .dataframe tbody tr th:only-of-type {\n",
       "        vertical-align: middle;\n",
       "    }\n",
       "\n",
       "    .dataframe tbody tr th {\n",
       "        vertical-align: top;\n",
       "    }\n",
       "\n",
       "    .dataframe thead th {\n",
       "        text-align: right;\n",
       "    }\n",
       "</style>\n",
       "<table border=\"1\" class=\"dataframe\">\n",
       "  <thead>\n",
       "    <tr style=\"text-align: right;\">\n",
       "      <th></th>\n",
       "      <th>Age</th>\n",
       "      <th>count</th>\n",
       "    </tr>\n",
       "  </thead>\n",
       "  <tbody>\n",
       "    <tr>\n",
       "      <th>0</th>\n",
       "      <td>NaN</td>\n",
       "      <td>287</td>\n",
       "    </tr>\n",
       "    <tr>\n",
       "      <th>1</th>\n",
       "      <td>16.0</td>\n",
       "      <td>3</td>\n",
       "    </tr>\n",
       "    <tr>\n",
       "      <th>2</th>\n",
       "      <td>17.0</td>\n",
       "      <td>6</td>\n",
       "    </tr>\n",
       "    <tr>\n",
       "      <th>3</th>\n",
       "      <td>18.0</td>\n",
       "      <td>29</td>\n",
       "    </tr>\n",
       "    <tr>\n",
       "      <th>4</th>\n",
       "      <td>19.0</td>\n",
       "      <td>78</td>\n",
       "    </tr>\n",
       "    <tr>\n",
       "      <th>5</th>\n",
       "      <td>20.0</td>\n",
       "      <td>109</td>\n",
       "    </tr>\n",
       "    <tr>\n",
       "      <th>6</th>\n",
       "      <td>21.0</td>\n",
       "      <td>203</td>\n",
       "    </tr>\n",
       "    <tr>\n",
       "      <th>7</th>\n",
       "      <td>22.0</td>\n",
       "      <td>406</td>\n",
       "    </tr>\n",
       "    <tr>\n",
       "      <th>8</th>\n",
       "      <td>23.0</td>\n",
       "      <td>581</td>\n",
       "    </tr>\n",
       "    <tr>\n",
       "      <th>9</th>\n",
       "      <td>24.0</td>\n",
       "      <td>679</td>\n",
       "    </tr>\n",
       "    <tr>\n",
       "      <th>10</th>\n",
       "      <td>25.0</td>\n",
       "      <td>738</td>\n",
       "    </tr>\n",
       "    <tr>\n",
       "      <th>11</th>\n",
       "      <td>26.0</td>\n",
       "      <td>720</td>\n",
       "    </tr>\n",
       "    <tr>\n",
       "      <th>12</th>\n",
       "      <td>27.0</td>\n",
       "      <td>724</td>\n",
       "    </tr>\n",
       "    <tr>\n",
       "      <th>13</th>\n",
       "      <td>28.0</td>\n",
       "      <td>787</td>\n",
       "    </tr>\n",
       "    <tr>\n",
       "      <th>14</th>\n",
       "      <td>29.0</td>\n",
       "      <td>697</td>\n",
       "    </tr>\n",
       "    <tr>\n",
       "      <th>15</th>\n",
       "      <td>30.0</td>\n",
       "      <td>651</td>\n",
       "    </tr>\n",
       "    <tr>\n",
       "      <th>16</th>\n",
       "      <td>31.0</td>\n",
       "      <td>531</td>\n",
       "    </tr>\n",
       "    <tr>\n",
       "      <th>17</th>\n",
       "      <td>32.0</td>\n",
       "      <td>489</td>\n",
       "    </tr>\n",
       "    <tr>\n",
       "      <th>18</th>\n",
       "      <td>33.0</td>\n",
       "      <td>483</td>\n",
       "    </tr>\n",
       "    <tr>\n",
       "      <th>19</th>\n",
       "      <td>34.0</td>\n",
       "      <td>395</td>\n",
       "    </tr>\n",
       "    <tr>\n",
       "      <th>20</th>\n",
       "      <td>35.0</td>\n",
       "      <td>393</td>\n",
       "    </tr>\n",
       "    <tr>\n",
       "      <th>21</th>\n",
       "      <td>36.0</td>\n",
       "      <td>308</td>\n",
       "    </tr>\n",
       "    <tr>\n",
       "      <th>22</th>\n",
       "      <td>37.0</td>\n",
       "      <td>280</td>\n",
       "    </tr>\n",
       "    <tr>\n",
       "      <th>23</th>\n",
       "      <td>38.0</td>\n",
       "      <td>279</td>\n",
       "    </tr>\n",
       "    <tr>\n",
       "      <th>24</th>\n",
       "      <td>39.0</td>\n",
       "      <td>232</td>\n",
       "    </tr>\n",
       "    <tr>\n",
       "      <th>25</th>\n",
       "      <td>40.0</td>\n",
       "      <td>187</td>\n",
       "    </tr>\n",
       "    <tr>\n",
       "      <th>26</th>\n",
       "      <td>41.0</td>\n",
       "      <td>136</td>\n",
       "    </tr>\n",
       "    <tr>\n",
       "      <th>27</th>\n",
       "      <td>42.0</td>\n",
       "      <td>162</td>\n",
       "    </tr>\n",
       "    <tr>\n",
       "      <th>28</th>\n",
       "      <td>43.0</td>\n",
       "      <td>100</td>\n",
       "    </tr>\n",
       "    <tr>\n",
       "      <th>29</th>\n",
       "      <td>44.0</td>\n",
       "      <td>95</td>\n",
       "    </tr>\n",
       "    <tr>\n",
       "      <th>30</th>\n",
       "      <td>45.0</td>\n",
       "      <td>85</td>\n",
       "    </tr>\n",
       "    <tr>\n",
       "      <th>31</th>\n",
       "      <td>46.0</td>\n",
       "      <td>66</td>\n",
       "    </tr>\n",
       "    <tr>\n",
       "      <th>32</th>\n",
       "      <td>47.0</td>\n",
       "      <td>68</td>\n",
       "    </tr>\n",
       "    <tr>\n",
       "      <th>33</th>\n",
       "      <td>48.0</td>\n",
       "      <td>64</td>\n",
       "    </tr>\n",
       "    <tr>\n",
       "      <th>34</th>\n",
       "      <td>49.0</td>\n",
       "      <td>66</td>\n",
       "    </tr>\n",
       "    <tr>\n",
       "      <th>35</th>\n",
       "      <td>50.0</td>\n",
       "      <td>57</td>\n",
       "    </tr>\n",
       "    <tr>\n",
       "      <th>36</th>\n",
       "      <td>51.0</td>\n",
       "      <td>29</td>\n",
       "    </tr>\n",
       "    <tr>\n",
       "      <th>37</th>\n",
       "      <td>52.0</td>\n",
       "      <td>41</td>\n",
       "    </tr>\n",
       "    <tr>\n",
       "      <th>38</th>\n",
       "      <td>53.0</td>\n",
       "      <td>32</td>\n",
       "    </tr>\n",
       "    <tr>\n",
       "      <th>39</th>\n",
       "      <td>54.0</td>\n",
       "      <td>26</td>\n",
       "    </tr>\n",
       "    <tr>\n",
       "      <th>40</th>\n",
       "      <td>55.0</td>\n",
       "      <td>13</td>\n",
       "    </tr>\n",
       "    <tr>\n",
       "      <th>41</th>\n",
       "      <td>56.0</td>\n",
       "      <td>16</td>\n",
       "    </tr>\n",
       "    <tr>\n",
       "      <th>42</th>\n",
       "      <td>57.0</td>\n",
       "      <td>11</td>\n",
       "    </tr>\n",
       "    <tr>\n",
       "      <th>43</th>\n",
       "      <td>58.0</td>\n",
       "      <td>12</td>\n",
       "    </tr>\n",
       "    <tr>\n",
       "      <th>44</th>\n",
       "      <td>59.0</td>\n",
       "      <td>11</td>\n",
       "    </tr>\n",
       "    <tr>\n",
       "      <th>45</th>\n",
       "      <td>60.0</td>\n",
       "      <td>2</td>\n",
       "    </tr>\n",
       "    <tr>\n",
       "      <th>46</th>\n",
       "      <td>61.0</td>\n",
       "      <td>10</td>\n",
       "    </tr>\n",
       "    <tr>\n",
       "      <th>47</th>\n",
       "      <td>62.0</td>\n",
       "      <td>5</td>\n",
       "    </tr>\n",
       "    <tr>\n",
       "      <th>48</th>\n",
       "      <td>63.0</td>\n",
       "      <td>7</td>\n",
       "    </tr>\n",
       "    <tr>\n",
       "      <th>49</th>\n",
       "      <td>65.0</td>\n",
       "      <td>2</td>\n",
       "    </tr>\n",
       "    <tr>\n",
       "      <th>50</th>\n",
       "      <td>66.0</td>\n",
       "      <td>1</td>\n",
       "    </tr>\n",
       "    <tr>\n",
       "      <th>51</th>\n",
       "      <td>67.0</td>\n",
       "      <td>1</td>\n",
       "    </tr>\n",
       "    <tr>\n",
       "      <th>52</th>\n",
       "      <td>69.0</td>\n",
       "      <td>1</td>\n",
       "    </tr>\n",
       "    <tr>\n",
       "      <th>53</th>\n",
       "      <td>71.0</td>\n",
       "      <td>2</td>\n",
       "    </tr>\n",
       "    <tr>\n",
       "      <th>54</th>\n",
       "      <td>72.0</td>\n",
       "      <td>1</td>\n",
       "    </tr>\n",
       "    <tr>\n",
       "      <th>55</th>\n",
       "      <td>99.0</td>\n",
       "      <td>1</td>\n",
       "    </tr>\n",
       "  </tbody>\n",
       "</table>\n",
       "</div>"
      ],
      "text/plain": [
       "     Age  count\n",
       "0    NaN    287\n",
       "1   16.0      3\n",
       "2   17.0      6\n",
       "3   18.0     29\n",
       "4   19.0     78\n",
       "5   20.0    109\n",
       "6   21.0    203\n",
       "7   22.0    406\n",
       "8   23.0    581\n",
       "9   24.0    679\n",
       "10  25.0    738\n",
       "11  26.0    720\n",
       "12  27.0    724\n",
       "13  28.0    787\n",
       "14  29.0    697\n",
       "15  30.0    651\n",
       "16  31.0    531\n",
       "17  32.0    489\n",
       "18  33.0    483\n",
       "19  34.0    395\n",
       "20  35.0    393\n",
       "21  36.0    308\n",
       "22  37.0    280\n",
       "23  38.0    279\n",
       "24  39.0    232\n",
       "25  40.0    187\n",
       "26  41.0    136\n",
       "27  42.0    162\n",
       "28  43.0    100\n",
       "29  44.0     95\n",
       "30  45.0     85\n",
       "31  46.0     66\n",
       "32  47.0     68\n",
       "33  48.0     64\n",
       "34  49.0     66\n",
       "35  50.0     57\n",
       "36  51.0     29\n",
       "37  52.0     41\n",
       "38  53.0     32\n",
       "39  54.0     26\n",
       "40  55.0     13\n",
       "41  56.0     16\n",
       "42  57.0     11\n",
       "43  58.0     12\n",
       "44  59.0     11\n",
       "45  60.0      2\n",
       "46  61.0     10\n",
       "47  62.0      5\n",
       "48  63.0      7\n",
       "49  65.0      2\n",
       "50  66.0      1\n",
       "51  67.0      1\n",
       "52  69.0      1\n",
       "53  71.0      2\n",
       "54  72.0      1\n",
       "55  99.0      1"
      ]
     },
     "execution_count": 35,
     "metadata": {},
     "output_type": "execute_result"
    }
   ],
   "source": [
    "QUERY = \"\"\"\n",
    "SELECT Age,COUNT(*) as count\n",
    "FROM master\n",
    "group by age\n",
    "order by age\n",
    "\"\"\"\n",
    "pd.read_sql_query(QUERY,conn)"
   ]
  },
  {
   "cell_type": "markdown",
   "id": "3dc2967a-b1f9-4098-9db0-22f0817ce9a1",
   "metadata": {},
   "source": [
    "#### Demo: How to describe a table"
   ]
  },
  {
   "cell_type": "code",
   "execution_count": 36,
   "id": "32bf9d63-b27b-486c-aa50-e9c5118c654a",
   "metadata": {
    "execution": {
     "iopub.execute_input": "2024-05-29T09:12:53.005811Z",
     "iopub.status.busy": "2024-05-29T09:12:53.005811Z",
     "iopub.status.idle": "2024-05-29T09:12:53.046161Z",
     "shell.execute_reply": "2024-05-29T09:12:53.046161Z",
     "shell.execute_reply.started": "2024-05-29T09:12:53.005811Z"
    }
   },
   "outputs": [
    {
     "name": "stdout",
     "output_type": "stream",
     "text": [
      "CREATE TABLE \"master\" (\n",
      "\"index\" INTEGER,\n",
      "  \"Respondent\" INTEGER,\n",
      "  \"MainBranch\" TEXT,\n",
      "  \"Hobbyist\" TEXT,\n",
      "  \"OpenSourcer\" TEXT,\n",
      "  \"OpenSource\" TEXT,\n",
      "  \"Employment\" TEXT,\n",
      "  \"Country\" TEXT,\n",
      "  \"Student\" TEXT,\n",
      "  \"EdLevel\" TEXT,\n",
      "  \"UndergradMajor\" TEXT,\n",
      "  \"OrgSize\" TEXT,\n",
      "  \"YearsCode\" TEXT,\n",
      "  \"Age1stCode\" TEXT,\n",
      "  \"YearsCodePro\" TEXT,\n",
      "  \"CareerSat\" TEXT,\n",
      "  \"JobSat\" TEXT,\n",
      "  \"MgrIdiot\" TEXT,\n",
      "  \"MgrMoney\" TEXT,\n",
      "  \"MgrWant\" TEXT,\n",
      "  \"JobSeek\" TEXT,\n",
      "  \"LastHireDate\" TEXT,\n",
      "  \"FizzBuzz\" TEXT,\n",
      "  \"ResumeUpdate\" TEXT,\n",
      "  \"CurrencySymbol\" TEXT,\n",
      "  \"CurrencyDesc\" TEXT,\n",
      "  \"CompTotal\" REAL,\n",
      "  \"CompFreq\" TEXT,\n",
      "  \"ConvertedComp\" REAL,\n",
      "  \"WorkWeekHrs\" REAL,\n",
      "  \"WorkRemote\" TEXT,\n",
      "  \"WorkLoc\" TEXT,\n",
      "  \"ImpSyn\" TEXT,\n",
      "  \"CodeRev\" TEXT,\n",
      "  \"CodeRevHrs\" REAL,\n",
      "  \"UnitTests\" TEXT,\n",
      "  \"PurchaseHow\" TEXT,\n",
      "  \"PurchaseWhat\" TEXT,\n",
      "  \"OpSys\" TEXT,\n",
      "  \"BlockchainOrg\" TEXT,\n",
      "  \"BlockchainIs\" TEXT,\n",
      "  \"BetterLife\" TEXT,\n",
      "  \"ITperson\" TEXT,\n",
      "  \"OffOn\" TEXT,\n",
      "  \"SocialMedia\" TEXT,\n",
      "  \"Extraversion\" TEXT,\n",
      "  \"ScreenName\" TEXT,\n",
      "  \"SOVisit1st\" TEXT,\n",
      "  \"SOVisitFreq\" TEXT,\n",
      "  \"SOFindAnswer\" TEXT,\n",
      "  \"SOTimeSaved\" TEXT,\n",
      "  \"SOHowMuchTime\" TEXT,\n",
      "  \"SOAccount\" TEXT,\n",
      "  \"SOPartFreq\" TEXT,\n",
      "  \"SOJobs\" TEXT,\n",
      "  \"EntTeams\" TEXT,\n",
      "  \"SOComm\" TEXT,\n",
      "  \"WelcomeChange\" TEXT,\n",
      "  \"Age\" REAL,\n",
      "  \"Trans\" TEXT,\n",
      "  \"Dependents\" TEXT,\n",
      "  \"SurveyLength\" TEXT,\n",
      "  \"SurveyEase\" TEXT\n",
      ")\n"
     ]
    }
   ],
   "source": [
    "table_name = 'master'  # the table you wish to describe\n",
    "\n",
    "QUERY = \"\"\"\n",
    "SELECT sql FROM sqlite_master\n",
    "WHERE name= '{}'\n",
    "\"\"\".format(table_name)\n",
    "\n",
    "db_df = pd.read_sql_query(QUERY,conn)\n",
    "print(db_df.iat[0,0])"
   ]
  },
  {
   "cell_type": "markdown",
   "id": "a4bc02d6-2f67-4b27-be48-f9c6e0514aff",
   "metadata": {},
   "source": [
    "### Visualizing distribution of data"
   ]
  },
  {
   "cell_type": "markdown",
   "id": "0ed54f52-a683-49b0-bf1e-6d248411a2d3",
   "metadata": {},
   "source": [
    "#### Histograms"
   ]
  },
  {
   "cell_type": "code",
   "execution_count": 41,
   "id": "63d0079b-c4d9-4580-92e5-d946db3bc2d6",
   "metadata": {
    "execution": {
     "iopub.execute_input": "2024-05-29T09:13:39.202083Z",
     "iopub.status.busy": "2024-05-29T09:13:39.201085Z",
     "iopub.status.idle": "2024-05-29T09:13:39.807878Z",
     "shell.execute_reply": "2024-05-29T09:13:39.806055Z",
     "shell.execute_reply.started": "2024-05-29T09:13:39.202083Z"
    }
   },
   "outputs": [
    {
     "data": {
      "image/png": "[encoded data removed]",
      "text/plain": [
       "<Figure size 1000x600 with 1 Axes>"
      ]
     },
     "metadata": {},
     "output_type": "display_data"
    }
   ],
   "source": [
    "# Membaca tabel database ke dalam DataFrame\n",
    "db_df = pd.read_sql_query(\"SELECT * FROM master\", conn)\n",
    "\n",
    "# Membuat histogram dari kolom 'ConvertedComp'\n",
    "plt.figure(figsize=(10, 6))\n",
    "plt.hist(db_df['ConvertedComp'], bins=50, color='blue', edgecolor='black')\n",
    "plt.title('Histogram of ConvertedComp')\n",
    "plt.xlabel('ConvertedComp')\n",
    "plt.ylabel('Frequency')\n",
    "plt.grid(True)\n",
    "plt.show()"
   ]
  },
  {
   "cell_type": "markdown",
   "id": "dcc855a2-25ef-4690-92fc-4a7869f6c23f",
   "metadata": {},
   "source": [
    "#### Box Plots"
   ]
  },
  {
   "cell_type": "code",
   "execution_count": 45,
   "id": "11dc9b44-cabe-49a5-90d4-a4a9b2f2415e",
   "metadata": {
    "execution": {
     "iopub.execute_input": "2024-05-29T09:27:20.709625Z",
     "iopub.status.busy": "2024-05-29T09:27:20.708628Z",
     "iopub.status.idle": "2024-05-29T09:27:20.894174Z",
     "shell.execute_reply": "2024-05-29T09:27:20.893160Z",
     "shell.execute_reply.started": "2024-05-29T09:27:20.709625Z"
    }
   },
   "outputs": [
    {
     "data": {
      "image/png": "[encoded data removed]",
      "text/plain": [
       "<Figure size 1000x600 with 1 Axes>"
      ]
     },
     "metadata": {},
     "output_type": "display_data"
    }
   ],
   "source": [
    "# Convert the 'Age' column to numeric if not already\n",
    "db_df['Age'] = pd.to_numeric(db_df['Age'], errors='coerce')\n",
    "\n",
    "# Create a box plot of the 'Age' column\n",
    "plt.figure(figsize=(10, 6))\n",
    "plt.boxplot(db_df['Age'], vert=False, patch_artist=True, boxprops=dict(facecolor='lightblue'))\n",
    "plt.title('Box Plot of Age')\n",
    "plt.xlabel('Age')\n",
    "plt.grid(True)\n",
    "plt.show()"
   ]
  },
  {
   "cell_type": "markdown",
   "id": "5e409eda-221e-4325-a85d-5b4296e24136",
   "metadata": {
    "execution": {
     "iopub.execute_input": "2024-05-29T01:59:45.228103Z",
     "iopub.status.busy": "2024-05-29T01:59:45.228103Z",
     "iopub.status.idle": "2024-05-29T01:59:45.238677Z",
     "shell.execute_reply": "2024-05-29T01:59:45.238677Z",
     "shell.execute_reply.started": "2024-05-29T01:59:45.228103Z"
    }
   },
   "source": [
    "## 2. Relationship"
   ]
  },
  {
   "cell_type": "markdown",
   "id": "e1e557d9-bac0-4cbd-8038-3777d8c7ee63",
   "metadata": {},
   "source": [
    "#### Scatter Plots"
   ]
  },
  {
   "cell_type": "code",
   "execution_count": 52,
   "id": "38ac5f96-85f3-48b0-a79d-76968dcd5a5f",
   "metadata": {
    "execution": {
     "iopub.execute_input": "2024-05-29T09:31:58.791063Z",
     "iopub.status.busy": "2024-05-29T09:31:58.791063Z",
     "iopub.status.idle": "2024-05-29T09:31:59.005023Z",
     "shell.execute_reply": "2024-05-29T09:31:59.004021Z",
     "shell.execute_reply.started": "2024-05-29T09:31:58.791063Z"
    }
   },
   "outputs": [
    {
     "data": {
      "image/png": "[encoded data removed]",
      "text/plain": [
       "<Figure size 1000x600 with 1 Axes>"
      ]
     },
     "metadata": {},
     "output_type": "display_data"
    }
   ],
   "source": [
    "# Konversi kolom 'Age' dan 'WorkWeekHrs' menjadi tipe numerik jika belum\n",
    "db_df['WorkWeekHrs'] = pd.to_numeric(db_df['WorkWeekHrs'], errors='coerce')\n",
    "\n",
    "# Membuat scatter plot dari kolom 'Age' dan 'WorkWeekHrs'\n",
    "plt.figure(figsize=(10, 6))\n",
    "plt.scatter(db_df['Age'], db_df['WorkWeekHrs'], alpha=0.5, color='blue')\n",
    "plt.title('Scatter Plot of Age and WorkWeekHrs')\n",
    "plt.xlabel('Age')\n",
    "plt.ylabel('WorkWeekHrs')\n",
    "plt.grid(True)\n",
    "plt.show()"
   ]
  },
  {
   "cell_type": "markdown",
   "id": "82e47777-8f08-469a-a689-8f9949a888a1",
   "metadata": {},
   "source": [
    "#### Bubble Plots"
   ]
  },
  {
   "cell_type": "code",
   "execution_count": 53,
   "id": "cd327f0d-6365-455a-8fce-a0f2f3fb721d",
   "metadata": {
    "execution": {
     "iopub.execute_input": "2024-05-29T09:32:10.387907Z",
     "iopub.status.busy": "2024-05-29T09:32:10.386809Z",
     "iopub.status.idle": "2024-05-29T09:32:10.726766Z",
     "shell.execute_reply": "2024-05-29T09:32:10.726766Z",
     "shell.execute_reply.started": "2024-05-29T09:32:10.387907Z"
    }
   },
   "outputs": [
    {
     "data": {
      "image/png": "[encoded data removed]",
      "text/plain": [
       "<Figure size 1200x800 with 1 Axes>"
      ]
     },
     "metadata": {},
     "output_type": "display_data"
    }
   ],
   "source": [
    "# Membuat bubble plot dari kolom 'WorkWeekHrs' dan 'CodeRevHrs' dengan ukuran bubble berdasarkan 'Age'\n",
    "plt.figure(figsize=(12, 8))\n",
    "plt.scatter(db_df['WorkWeekHrs'], db_df['CodeRevHrs'], s=db_df['Age'], alpha=0.5, color='blue')\n",
    "plt.title('Bubble Plot of WorkWeekHrs and CodeRevHrs with Age as Bubble Size')\n",
    "plt.xlabel('WorkWeekHrs')\n",
    "plt.ylabel('CodeRevHrs')\n",
    "plt.grid(True)\n",
    "plt.show()"
   ]
  },
  {
   "cell_type": "markdown",
   "id": "69cd033d-c78c-4e4c-83af-b41c94e2983e",
   "metadata": {},
   "source": [
    "## 3. Composition"
   ]
  },
  {
   "cell_type": "markdown",
   "id": "7eab1ea3-b35d-401c-9d0c-a0f0d6d9d33a",
   "metadata": {},
   "source": [
    "#### Pie Charts"
   ]
  },
  {
   "cell_type": "code",
   "execution_count": 81,
   "id": "db74b97e-2b9d-460c-ba04-02010c0307e5",
   "metadata": {
    "execution": {
     "iopub.execute_input": "2024-05-29T09:45:51.880614Z",
     "iopub.status.busy": "2024-05-29T09:45:51.879388Z",
     "iopub.status.idle": "2024-05-29T09:45:52.057411Z",
     "shell.execute_reply": "2024-05-29T09:45:52.057411Z",
     "shell.execute_reply.started": "2024-05-29T09:45:51.880614Z"
    }
   },
   "outputs": [
    {
     "data": {
      "image/png": "[encoded data removed]",
      "text/plain": [
       "<Figure size 1000x600 with 1 Axes>"
      ]
     },
     "metadata": {},
     "output_type": "display_data"
    }
   ],
   "source": [
    "query = \"\"\"\n",
    "SELECT * FROM DatabaseDesireNextYear\n",
    "\"\"\"\n",
    "db_desire_next_year_df = pd.read_sql_query(query, conn)\n",
    "\n",
    "# Menghitung jumlah responden yang ingin mempelajari setiap database\n",
    "database_counts = db_desire_next_year_df['DatabaseDesireNextYear'].value_counts()\n",
    "\n",
    "# Mengambil 5 database teratas\n",
    "top_databases = database_counts.head()\n",
    "\n",
    "# Membuat pie chart\n",
    "plt.figure(figsize=(10, 6))\n",
    "top_databases.plot(kind='pie', autopct='%1.1f%%', startangle=140)\n",
    "plt.title('Top 5 Databases Respondents Wish to Learn Next Year')\n",
    "plt.ylabel('')  # Menyembunyikan label y untuk pie chart\n",
    "plt.show()"
   ]
  },
  {
   "cell_type": "markdown",
   "id": "f59e5d82-5742-4c09-8f23-d6fffd915188",
   "metadata": {},
   "source": [
    "#### Stacked Charts"
   ]
  },
  {
   "cell_type": "code",
   "execution_count": 88,
   "id": "00b5cef1-7cff-44cd-a049-c2a1d706f0d3",
   "metadata": {
    "execution": {
     "iopub.execute_input": "2024-05-29T09:59:03.373048Z",
     "iopub.status.busy": "2024-05-29T09:59:03.373048Z",
     "iopub.status.idle": "2024-05-29T09:59:03.554054Z",
     "shell.execute_reply": "2024-05-29T09:59:03.554054Z",
     "shell.execute_reply.started": "2024-05-29T09:59:03.373048Z"
    }
   },
   "outputs": [
    {
     "data": {
      "image/png": "[encoded data removed]",
      "text/plain": [
       "<Figure size 640x480 with 1 Axes>"
      ]
     },
     "metadata": {},
     "output_type": "display_data"
    }
   ],
   "source": [
    "# Memfilter data untuk responden dalam rentang usia 30 hingga 35\n",
    "age_group_df = db_df[(db_df['Age'] >= 30) & (db_df['Age'] <= 35)]\n",
    "\n",
    "# Menghitung median WorkWeekHrs dan CodeRevHrs\n",
    "median_workweekhrs = age_group_df['WorkWeekHrs'].median()\n",
    "median_coderevhrs = age_group_df['CodeRevHrs'].median()\n",
    "\n",
    "# Menyiapkan data untuk chart bertumpuk\n",
    "data = {\n",
    "    'Median WorkWeekHrs': median_workweekhrs,\n",
    "    'Median CodeRevHrs': median_coderevhrs\n",
    "}\n",
    "\n",
    "# Membuat DataFrame dari data\n",
    "stacked_df = pd.DataFrame(data, index=['30-35'])\n",
    "\n",
    "# Membuat chart bertumpuk\n",
    "stacked_df.plot(kind='bar', stacked=True)\n",
    "plt.title('Median WorkWeekHrs and CodeRevHrs for Age Group 30-35')\n",
    "plt.xlabel('Age Group')\n",
    "plt.ylabel('Hours')\n",
    "plt.show()"
   ]
  },
  {
   "cell_type": "markdown",
   "id": "9ca7dc5d-9235-42ba-8688-db609b8f3658",
   "metadata": {},
   "source": [
    "## 4. Comparison"
   ]
  },
  {
   "cell_type": "markdown",
   "id": "768a0906-7608-44a3-bf0c-d38c083049f8",
   "metadata": {},
   "source": [
    "#### Line Chart"
   ]
  },
  {
   "cell_type": "code",
   "execution_count": 94,
   "id": "4a9d768b-bbff-4185-aeb2-2336182201ef",
   "metadata": {
    "execution": {
     "iopub.execute_input": "2024-05-29T10:01:02.249258Z",
     "iopub.status.busy": "2024-05-29T10:01:02.249258Z",
     "iopub.status.idle": "2024-05-29T10:01:02.463871Z",
     "shell.execute_reply": "2024-05-29T10:01:02.463871Z",
     "shell.execute_reply.started": "2024-05-29T10:01:02.249258Z"
    }
   },
   "outputs": [
    {
     "data": {
      "image/png": "[encoded data removed]",
      "text/plain": [
       "<Figure size 1200x600 with 1 Axes>"
      ]
     },
     "metadata": {},
     "output_type": "display_data"
    }
   ],
   "source": [
    "# Memfilter data untuk responden dalam rentang usia 45 hingga 60\n",
    "age_group_df = db_df[(db_df['Age'] >= 45) & (db_df['Age'] <= 60)]\n",
    "\n",
    "# Hitung median ConvertedComp untuk setiap usia dari 45 hingga 60\n",
    "median_converted_comp_by_age = age_group_df.groupby('Age')['ConvertedComp'].median()\n",
    "\n",
    "# Plot median ConvertedComp untuk setiap usia dari 45 hingga 60\n",
    "plt.figure(figsize=(12, 6))\n",
    "plt.plot(median_converted_comp_by_age.index, median_converted_comp_by_age.values, marker='o')\n",
    "plt.title('Median ConvertedComp for Ages 45 to 60')\n",
    "plt.xlabel('Age')\n",
    "plt.ylabel('Median ConvertedComp')\n",
    "plt.grid(True)\n",
    "plt.show()"
   ]
  },
  {
   "cell_type": "markdown",
   "id": "5e5c84fe-d8fb-4d67-b9cb-d306ea970686",
   "metadata": {},
   "source": [
    "#### Bar Chart"
   ]
  },
  {
   "cell_type": "code",
   "execution_count": 84,
   "id": "e1c944f8-6759-4505-a3c8-3f807c71b5ae",
   "metadata": {
    "execution": {
     "iopub.execute_input": "2024-05-29T09:50:06.988643Z",
     "iopub.status.busy": "2024-05-29T09:50:06.988643Z",
     "iopub.status.idle": "2024-05-29T09:50:07.156017Z",
     "shell.execute_reply": "2024-05-29T09:50:07.155018Z",
     "shell.execute_reply.started": "2024-05-29T09:50:06.988643Z"
    }
   },
   "outputs": [
    {
     "data": {
      "image/png": "[encoded data removed]",
      "text/plain": [
       "<Figure size 1000x600 with 1 Axes>"
      ]
     },
     "metadata": {},
     "output_type": "display_data"
    }
   ],
   "source": [
    "# Menghitung jumlah responden untuk setiap kategori dalam kolom MainBranch\n",
    "mainbranch_counts = db_df['MainBranch'].value_counts()\n",
    "\n",
    "# Membuat diagram batang horizontal\n",
    "plt.figure(figsize=(10, 6))\n",
    "mainbranch_counts.plot(kind='barh', color='skyblue')\n",
    "plt.title('Number of Respondents by MainBranch')\n",
    "plt.xlabel('Number of Respondents')\n",
    "plt.ylabel('MainBranch')\n",
    "plt.show()"
   ]
  },
  {
   "cell_type": "markdown",
   "id": "d64f6afc-66cd-44b1-ba8e-098c92f3dd01",
   "metadata": {},
   "source": [
    "Close the database connection."
   ]
  },
  {
   "cell_type": "code",
   "execution_count": 86,
   "id": "d641db08-8766-40e0-badd-59861563a851",
   "metadata": {
    "execution": {
     "iopub.execute_input": "2024-05-29T09:50:56.772987Z",
     "iopub.status.busy": "2024-05-29T09:50:56.771872Z",
     "iopub.status.idle": "2024-05-29T09:50:56.794275Z",
     "shell.execute_reply": "2024-05-29T09:50:56.793253Z",
     "shell.execute_reply.started": "2024-05-29T09:50:56.772987Z"
    }
   },
   "outputs": [
    {
     "name": "stdout",
     "output_type": "stream",
     "text": [
      "connection has been closed\n"
     ]
    }
   ],
   "source": [
    "conn.close()\n",
    "print(\"connection has been closed\")"
   ]
  },
  {
   "cell_type": "markdown",
   "id": "76f62d5d-3370-470c-9b80-77af0c5ecc3b",
   "metadata": {},
   "source": [
    "# Module 5: Dashboard Creation"
   ]
  },
  {
   "cell_type": "markdown",
   "id": "d2e065ae-8bc0-4d58-9e5b-0165614b32c9",
   "metadata": {},
   "source": [
    "## 1. Dashboards"
   ]
  },
  {
   "cell_type": "markdown",
   "id": "70d27478-6652-4575-a78c-9fc4e5d8c9fe",
   "metadata": {
    "execution": {
     "iopub.execute_input": "2024-05-29T10:20:09.247754Z",
     "iopub.status.busy": "2024-05-29T10:20:09.246759Z",
     "iopub.status.idle": "2024-05-29T10:20:09.277779Z",
     "shell.execute_reply": "2024-05-29T10:20:09.275548Z",
     "shell.execute_reply.started": "2024-05-29T10:20:09.247754Z"
    }
   },
   "source": [
    "Assignment Overview\n",
    "In this assignment, you will continue working with the Kaggle survey 2023 data to create a dashboard. You can complete your final dashboard using IBM Cognos Analytics or Google Looker Studio.  In this dashboard, you will create the following:\n",
    "\n",
    " \n",
    "\n",
    "Dashboard Components\n",
    "A. Current Technology Usage Tab\n",
    "Top 10 Languages\n",
    "\n",
    "Visualize the top 10 programming languages respondents have worked with (`LanguageHaveWorkedWith`).\n",
    "\n",
    "Top 10 Databases\n",
    "\n",
    "Visualize the top 10 databases respondents have worked with (`DatabaseHaveWorkedWith`).\n",
    "\n",
    "Platforms\n",
    "\n",
    "Visualize the different platforms respondents have worked with (`PlatformHaveWorkedWith`).\n",
    "\n",
    "Top 10 Web Frameworks\n",
    "\n",
    "Visualize the top 10 web frameworks respondents have worked with (`WebframeHaveWorkedWith`).\n",
    "\n",
    "B. Future Technology Trends Tab\n",
    "Top 10 Languages Desired for the Next Year\n",
    "\n",
    "Visualize the top 10 programming languages respondents desire to learn next year (`LanguageWantToWorkWith`).\n",
    "\n",
    "Top 10 Databases Desired for the Next Year\n",
    "\n",
    "Visualize the top 10 databases respondents desire to learn next year (`DatabaseWantToWorkWith`).\n",
    "\n",
    "Desired Platforms for the Next Year\n",
    "\n",
    "Visualize the platforms respondents desire to work with next year (`PlatformWantToWorkWith`).\n",
    "\n",
    "Top 10 Web Frameworks Desired for the Next Year\n",
    "\n",
    "Visualize the top 10 web frameworks respondents desire to learn next year (`WebframeWantToWorkWith`).\n",
    "\n",
    "C. Demographics Tab\n",
    "Respondent Classified by  Work Experience  \n",
    "\n",
    "Visualize the number of respondents classified by work experience (` WorkExp  `).\n",
    "\n",
    "Respondent Count for Countries\n",
    "\n",
    "Visualize the number of respondents from different countries (`Country`).\n",
    "\n",
    "Respondent Count by Age\n",
    "\n",
    "Visualize the number of respondents in different age groups (`Age`).\n",
    "\n",
    "Respondent Count by Gender and Classified by Education Level\n",
    "\n",
    "Visualize the respondents classified by gender (Gender) and further categorized by their education level (`EdLevel`)."
   ]
  },
  {
   "cell_type": "code",
   "execution_count": null,
   "id": "2a1a4833-1cf4-43b6-a1a7-cd76bd8df8ce",
   "metadata": {},
   "outputs": [],
   "source": [
    "url_demo = \n",
    "\n",
    "m5_demo = 'm5_survey_data_demographics.csv'\n",
    "m5_techno = 'm5_survey_data_technologies_normalised.csv'\n",
    "PL_df.to_excel(PL_File, index=False)\n",
    "print('files has been saved')"
   ]
  },
  {
   "cell_type": "markdown",
   "id": "5e2dece4-105e-4c29-8a36-4d1febffa95f",
   "metadata": {},
   "source": [
    "# Module 6: Presentation of Findings"
   ]
  },
  {
   "cell_type": "markdown",
   "id": "620cd26a-ef0a-454b-8aac-13f079c84d11",
   "metadata": {},
   "source": [
    "## 1. Final Presentation"
   ]
  },
  {
   "cell_type": "code",
   "execution_count": null,
   "id": "864bbff5-831f-4c9d-92b5-eb6bc053e986",
   "metadata": {},
   "outputs": [],
   "source": []
  }
 ],
 "metadata": {
  "kernelspec": {
   "display_name": "Python 3 (ipykernel)",
   "language": "python",
   "name": "python3"
  },
  "language_info": {
   "codemirror_mode": {
    "name": "ipython",
    "version": 3
   },
   "file_extension": ".py",
   "mimetype": "text/x-python",
   "name": "python",
   "nbconvert_exporter": "python",
   "pygments_lexer": "ipython3",
   "version": "3.8.2"
  }
 },
 "nbformat": 4,
 "nbformat_minor": 5
}
